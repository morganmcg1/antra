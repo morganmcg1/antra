{
 "cells": [
  {
   "cell_type": "markdown",
   "metadata": {},
   "source": [
    "# v0.2 - Exp3\n",
    "Same as Exp2, but cleaned Paracrawl dataset from HuggingFace"
   ]
  },
  {
   "cell_type": "code",
   "execution_count": 1,
   "metadata": {},
   "outputs": [],
   "source": [
    "from fastai2.text.all import *\n",
    "from fastai2.callback.all import *\n",
    "from fastai2.basics import *\n",
    "import seaborn as sns\n",
    "\n",
    "from nlp import load_dataset\n",
    "\n",
    "from einops import rearrange\n",
    "import gc\n",
    "import csv"
   ]
  },
  {
   "cell_type": "code",
   "execution_count": 2,
   "metadata": {},
   "outputs": [],
   "source": [
    "path = Path('data/irish/parallel_corpora/paracrawl')\n",
    "fn = 'para_crawl_huggingface_clean_v02_20200723.csv'"
   ]
  },
  {
   "cell_type": "markdown",
   "metadata": {},
   "source": [
    "### Load saved dataset"
   ]
  },
  {
   "cell_type": "code",
   "execution_count": 3,
   "metadata": {
    "scrolled": true
   },
   "outputs": [
    {
     "name": "stdout",
     "output_type": "stream",
     "text": [
      "357399\n"
     ]
    },
    {
     "data": {
      "text/html": [
       "<div>\n",
       "<style scoped>\n",
       "    .dataframe tbody tr th:only-of-type {\n",
       "        vertical-align: middle;\n",
       "    }\n",
       "\n",
       "    .dataframe tbody tr th {\n",
       "        vertical-align: top;\n",
       "    }\n",
       "\n",
       "    .dataframe thead th {\n",
       "        text-align: right;\n",
       "    }\n",
       "</style>\n",
       "<table border=\"1\" class=\"dataframe\">\n",
       "  <thead>\n",
       "    <tr style=\"text-align: right;\">\n",
       "      <th></th>\n",
       "      <th>en</th>\n",
       "      <th>ga</th>\n",
       "      <th>clean</th>\n",
       "    </tr>\n",
       "  </thead>\n",
       "  <tbody>\n",
       "    <tr>\n",
       "      <th>0</th>\n",
       "      <td>Among the French PIM , in 2013, it is only 9 islands that have been chiroptérologiques inventories .</td>\n",
       "      <td>I measc na PIM Fraince, i 2013, tá sé ach 9 oileáin a bhí chiroptérologiques fardail.</td>\n",
       "      <td>True</td>\n",
       "    </tr>\n",
       "    <tr>\n",
       "      <th>1</th>\n",
       "      <td>Among the French PIM, in 2013, it is only 9 islands that have been chiroptérologiques inventories.</td>\n",
       "      <td>I measc na PIM Fraince , i 2013, tá sé ach 9 oileáin a bhí chiroptérologiques fardail .</td>\n",
       "      <td>True</td>\n",
       "    </tr>\n",
       "    <tr>\n",
       "      <th>2</th>\n",
       "      <td>Among the French PIM, in 2013, it is only 9 islands that have been chiroptérologiques inventories.</td>\n",
       "      <td>I measc na PIM Fraince, i 2013, tá sé ach 9 oileáin a bhí chiroptérologiques fardail.</td>\n",
       "      <td>True</td>\n",
       "    </tr>\n",
       "    <tr>\n",
       "      <th>3</th>\n",
       "      <td>As you can see, so get to show off the spacious shapes in 3D (red and blue).</td>\n",
       "      <td>Mar is féidir leat a fheiceáil, a fháil mar sin a thaispeáint as na cruthanna mhór i 3D (dearg agus gorm).</td>\n",
       "      <td>True</td>\n",
       "    </tr>\n",
       "    <tr>\n",
       "      <th>4</th>\n",
       "      <td>Equation Solving – Traditional, simple</td>\n",
       "      <td>Ligningsløsning – Traidisiúnta, simplí</td>\n",
       "      <td>True</td>\n",
       "    </tr>\n",
       "  </tbody>\n",
       "</table>\n",
       "</div>"
      ],
      "text/plain": [
       "                                                                                                     en  \\\n",
       "0  Among the French PIM , in 2013, it is only 9 islands that have been chiroptérologiques inventories .   \n",
       "1    Among the French PIM, in 2013, it is only 9 islands that have been chiroptérologiques inventories.   \n",
       "2    Among the French PIM, in 2013, it is only 9 islands that have been chiroptérologiques inventories.   \n",
       "3                          As you can see, so get to show off the spacious shapes in 3D (red and blue).   \n",
       "4                                                                Equation Solving – Traditional, simple   \n",
       "\n",
       "                                                                                                           ga  \\\n",
       "0                       I measc na PIM Fraince, i 2013, tá sé ach 9 oileáin a bhí chiroptérologiques fardail.   \n",
       "1                     I measc na PIM Fraince , i 2013, tá sé ach 9 oileáin a bhí chiroptérologiques fardail .   \n",
       "2                       I measc na PIM Fraince, i 2013, tá sé ach 9 oileáin a bhí chiroptérologiques fardail.   \n",
       "3  Mar is féidir leat a fheiceáil, a fháil mar sin a thaispeáint as na cruthanna mhór i 3D (dearg agus gorm).   \n",
       "4                                                                      Ligningsløsning – Traidisiúnta, simplí   \n",
       "\n",
       "   clean  \n",
       "0   True  \n",
       "1   True  \n",
       "2   True  \n",
       "3   True  \n",
       "4   True  "
      ]
     },
     "execution_count": 3,
     "metadata": {},
     "output_type": "execute_result"
    }
   ],
   "source": [
    "df=pd.read_csv(path/fn)\n",
    "print(len(df))\n",
    "df.head()"
   ]
  },
  {
   "cell_type": "markdown",
   "metadata": {},
   "source": [
    "# RAISE BUG"
   ]
  },
  {
   "cell_type": "code",
   "execution_count": 4,
   "metadata": {},
   "outputs": [],
   "source": [
    "path = Path('data/irish/parallel_corpora/paracrawl')\n",
    "fn = 'para_crawl_huggingface_clean_v02_20200723.csv'"
   ]
  },
  {
   "cell_type": "code",
   "execution_count": 5,
   "metadata": {
    "scrolled": true
   },
   "outputs": [
    {
     "name": "stderr",
     "output_type": "stream",
     "text": [
      "Using custom data configuration default\n"
     ]
    }
   ],
   "source": [
    "# ds_dict = load_dataset('csv', data_files=str(path/fn),\n",
    "#                   description='en-ga Paracrawl data from HuggingFace, clean for suspect translations',\n",
    "#                       download_mode='force_redownload', version='0.0.2')\n",
    "ds_dict = load_dataset('csv', data_files=str(path/fn),\n",
    "                  description='en-ga Paracrawl data from HuggingFace, clean for suspect translations',\n",
    "                    version='0.0.2')\n",
    "ds=ds_dict['train']"
   ]
  },
  {
   "cell_type": "markdown",
   "metadata": {},
   "source": [
    "Remove columns that were identified as noisy"
   ]
  },
  {
   "cell_type": "code",
   "execution_count": 6,
   "metadata": {
    "scrolled": true
   },
   "outputs": [
    {
     "name": "stdout",
     "output_type": "stream",
     "text": [
      "357399\n",
      "355837\n"
     ]
    }
   ],
   "source": [
    "def is_clean(example): return example['clean']\n",
    "print(len(ds))\n",
    "ds = ds.filter(is_clean)\n",
    "print(len(ds))"
   ]
  },
  {
   "cell_type": "markdown",
   "metadata": {},
   "source": [
    "### Pre-processing\n",
    "\n",
    "**Remove long texts to make things easier**"
   ]
  },
  {
   "cell_type": "code",
   "execution_count": 7,
   "metadata": {},
   "outputs": [],
   "source": [
    "# df['ga_len'] = df['ga'].str.split().str.len()\n",
    "# df['en_len'] = df['en'].str.split().str.len()"
   ]
  },
  {
   "cell_type": "markdown",
   "metadata": {},
   "source": [
    "Get sample lengths"
   ]
  },
  {
   "cell_type": "code",
   "execution_count": 8,
   "metadata": {
    "scrolled": true
   },
   "outputs": [
    {
     "data": {
      "text/plain": [
       "Dataset(schema: {'en': 'string', 'ga': 'string', 'clean': 'bool', 'ga_len': 'int64', 'en_len': 'int64'}, num_rows: 355837)"
      ]
     },
     "execution_count": 8,
     "metadata": {},
     "output_type": "execute_result"
    }
   ],
   "source": [
    "def get_lens(example, lang):\n",
    "    example[f'{lang}_len'] = len(example[lang].split())\n",
    "    return example\n",
    "\n",
    "ds = ds.map(partial(get_lens, lang='ga'))\n",
    "ds = ds.map(partial(get_lens, lang='en'))\n",
    "ds"
   ]
  },
  {
   "cell_type": "code",
   "execution_count": 9,
   "metadata": {},
   "outputs": [
    {
     "data": {
      "text/plain": [
       "(49.0, 47.0)"
      ]
     },
     "execution_count": 9,
     "metadata": {},
     "output_type": "execute_result"
    }
   ],
   "source": [
    "# Word count 90th percentile\n",
    "np.percentile([o for o in ds['ga_len']], 90), np.percentile([o for o in ds['en_len']], 90)"
   ]
  },
  {
   "cell_type": "code",
   "execution_count": 10,
   "metadata": {
    "scrolled": true
   },
   "outputs": [
    {
     "data": {
      "text/plain": [
       "(<matplotlib.axes._subplots.AxesSubplot at 0x7fddc6c4e250>, 18.0)"
      ]
     },
     "execution_count": 10,
     "metadata": {},
     "output_type": "execute_result"
    },
    {
     "data": {
      "image/png": "[encoded data removed]",
      "text/plain": [
       "<Figure size 432x288 with 1 Axes>"
      ]
     },
     "metadata": {
      "needs_background": "light"
     },
     "output_type": "display_data"
    }
   ],
   "source": [
    "sns.distplot(ds['ga_len']), np.median(ds['ga_len'])"
   ]
  },
  {
   "cell_type": "code",
   "execution_count": 11,
   "metadata": {},
   "outputs": [
    {
     "data": {
      "text/plain": [
       "(<matplotlib.axes._subplots.AxesSubplot at 0x7fde1e55cfd0>, 17.0)"
      ]
     },
     "execution_count": 11,
     "metadata": {},
     "output_type": "execute_result"
    },
    {
     "data": {
      "image/png": "[encoded data removed]",
      "text/plain": [
       "<Figure size 432x288 with 1 Axes>"
      ]
     },
     "metadata": {
      "needs_background": "light"
     },
     "output_type": "display_data"
    }
   ],
   "source": [
    "sns.distplot(ds['en_len']), np.median(ds['en_len'])"
   ]
  },
  {
   "cell_type": "code",
   "execution_count": 12,
   "metadata": {},
   "outputs": [
    {
     "name": "stdout",
     "output_type": "stream",
     "text": [
      "355837\n",
      "334244\n"
     ]
    }
   ],
   "source": [
    "def len_filter(example,col,l): \n",
    "    return example[col] <= l\n",
    "\n",
    "print(len(ds))\n",
    "ds = ds.filter(partial(len_filter, col='ga_len', l=60))\n",
    "ds = ds.filter(partial(len_filter, col='en_len', l=60))\n",
    "print(len(ds))"
   ]
  },
  {
   "cell_type": "code",
   "execution_count": 13,
   "metadata": {},
   "outputs": [],
   "source": [
    "# print(f'Removing {len(df.query(\"en_len > 60\"))} EN samples where len was > 60')\n",
    "# print(len(df))\n",
    "# df=df[~df.index.isin(df.query(\"en_len > 60\").index)]\n",
    "# print(len(df))\n",
    "      \n",
    "# print(f'Removing {len(df.query(\"ga_len > 60\"))} FR samples where len was > 60')\n",
    "# print(len(df))\n",
    "# df=df[~df.index.isin(df.query(\"ga_len > 60\").index)]\n",
    "# print(len(df))"
   ]
  },
  {
   "cell_type": "code",
   "execution_count": 14,
   "metadata": {},
   "outputs": [
    {
     "data": {
      "text/plain": [
       "(<matplotlib.axes._subplots.AxesSubplot at 0x7fddf510b750>, 17.0)"
      ]
     },
     "execution_count": 14,
     "metadata": {},
     "output_type": "execute_result"
    },
    {
     "data": {
      "image/png": "[encoded data removed]",
      "text/plain": [
       "<Figure size 432x288 with 1 Axes>"
      ]
     },
     "metadata": {
      "needs_background": "light"
     },
     "output_type": "display_data"
    }
   ],
   "source": [
    "sns.distplot(ds['ga_len']), np.median(ds['ga_len'])"
   ]
  },
  {
   "cell_type": "markdown",
   "metadata": {},
   "source": [
    "**Lowercase everything**\n",
    "\n",
    "NOT Done as it is appliced in the rules below"
   ]
  },
  {
   "cell_type": "code",
   "execution_count": 15,
   "metadata": {},
   "outputs": [],
   "source": [
    "# df['en'] = df['en'].apply(lambda x:x.lower())\n",
    "# df['ga'] = df['ga'].apply(lambda x:x.lower())"
   ]
  },
  {
   "cell_type": "code",
   "execution_count": 16,
   "metadata": {},
   "outputs": [],
   "source": [
    "# def lowercase_all(example, lang):\n",
    "#     example[lang] = example[lang].lower()\n",
    "#     return example\n",
    "\n",
    "# ds = ds.map(partial(lowercase_all, lang='ga'))\n",
    "# ds = ds.map(partial(lowercase_all, lang='en'))\n",
    "# ds['ga'][400:420]"
   ]
  },
  {
   "cell_type": "markdown",
   "metadata": {},
   "source": [
    "Rules used as part of tokenization"
   ]
  },
  {
   "cell_type": "code",
   "execution_count": 17,
   "metadata": {},
   "outputs": [
    {
     "data": {
      "text/plain": [
       "[<function fastai2.text.core.fix_html(x)>,\n",
       " <function fastai2.text.core.replace_rep(t)>,\n",
       " <function fastai2.text.core.replace_wrep(t)>,\n",
       " <function fastai2.text.core.spec_add_spaces(t)>,\n",
       " <function fastai2.text.core.rm_useless_spaces(t)>,\n",
       " <function fastai2.text.core.replace_all_caps(t)>,\n",
       " <function fastai2.text.core.replace_maj(t)>,\n",
       " functools.partial(<function lowercase at 0x7fddf5519cb0>, add_eos=True)]"
      ]
     },
     "execution_count": 17,
     "metadata": {},
     "output_type": "execute_result"
    }
   ],
   "source": [
    "proc_rules=defaults.text_proc_rules[:-1] + [partial(lowercase, add_eos=True)]\n",
    "proc_rules"
   ]
  },
  {
   "cell_type": "markdown",
   "metadata": {},
   "source": [
    "### Get Dataloaders"
   ]
  },
  {
   "cell_type": "markdown",
   "metadata": {},
   "source": [
    "Load vocab to speed up data loading"
   ]
  },
  {
   "cell_type": "code",
   "execution_count": 18,
   "metadata": {},
   "outputs": [
    {
     "data": {
      "text/html": [
       "<div>\n",
       "<style scoped>\n",
       "    .dataframe tbody tr th:only-of-type {\n",
       "        vertical-align: middle;\n",
       "    }\n",
       "\n",
       "    .dataframe tbody tr th {\n",
       "        vertical-align: top;\n",
       "    }\n",
       "\n",
       "    .dataframe thead th {\n",
       "        text-align: right;\n",
       "    }\n",
       "</style>\n",
       "<table border=\"1\" class=\"dataframe\">\n",
       "  <thead>\n",
       "    <tr style=\"text-align: right;\">\n",
       "      <th></th>\n",
       "      <th>en</th>\n",
       "      <th>ga</th>\n",
       "      <th>clean</th>\n",
       "      <th>ga_len</th>\n",
       "      <th>en_len</th>\n",
       "    </tr>\n",
       "  </thead>\n",
       "  <tbody>\n",
       "    <tr>\n",
       "      <th>0</th>\n",
       "      <td>Among the French PIM , in 2013, it is only 9 islands that have been chiroptérologiques inventories .</td>\n",
       "      <td>I measc na PIM Fraince, i 2013, tá sé ach 9 oileáin a bhí chiroptérologiques fardail.</td>\n",
       "      <td>True</td>\n",
       "      <td>16</td>\n",
       "      <td>18</td>\n",
       "    </tr>\n",
       "    <tr>\n",
       "      <th>1</th>\n",
       "      <td>Among the French PIM, in 2013, it is only 9 islands that have been chiroptérologiques inventories.</td>\n",
       "      <td>I measc na PIM Fraince , i 2013, tá sé ach 9 oileáin a bhí chiroptérologiques fardail .</td>\n",
       "      <td>True</td>\n",
       "      <td>18</td>\n",
       "      <td>16</td>\n",
       "    </tr>\n",
       "    <tr>\n",
       "      <th>2</th>\n",
       "      <td>Among the French PIM, in 2013, it is only 9 islands that have been chiroptérologiques inventories.</td>\n",
       "      <td>I measc na PIM Fraince, i 2013, tá sé ach 9 oileáin a bhí chiroptérologiques fardail.</td>\n",
       "      <td>True</td>\n",
       "      <td>16</td>\n",
       "      <td>16</td>\n",
       "    </tr>\n",
       "    <tr>\n",
       "      <th>3</th>\n",
       "      <td>As you can see, so get to show off the spacious shapes in 3D (red and blue).</td>\n",
       "      <td>Mar is féidir leat a fheiceáil, a fháil mar sin a thaispeáint as na cruthanna mhór i 3D (dearg agus gorm).</td>\n",
       "      <td>True</td>\n",
       "      <td>21</td>\n",
       "      <td>17</td>\n",
       "    </tr>\n",
       "    <tr>\n",
       "      <th>4</th>\n",
       "      <td>Equation Solving – Traditional, simple</td>\n",
       "      <td>Ligningsløsning – Traidisiúnta, simplí</td>\n",
       "      <td>True</td>\n",
       "      <td>4</td>\n",
       "      <td>5</td>\n",
       "    </tr>\n",
       "  </tbody>\n",
       "</table>\n",
       "</div>"
      ],
      "text/plain": [
       "                                                                                                     en  \\\n",
       "0  Among the French PIM , in 2013, it is only 9 islands that have been chiroptérologiques inventories .   \n",
       "1    Among the French PIM, in 2013, it is only 9 islands that have been chiroptérologiques inventories.   \n",
       "2    Among the French PIM, in 2013, it is only 9 islands that have been chiroptérologiques inventories.   \n",
       "3                          As you can see, so get to show off the spacious shapes in 3D (red and blue).   \n",
       "4                                                                Equation Solving – Traditional, simple   \n",
       "\n",
       "                                                                                                           ga  \\\n",
       "0                       I measc na PIM Fraince, i 2013, tá sé ach 9 oileáin a bhí chiroptérologiques fardail.   \n",
       "1                     I measc na PIM Fraince , i 2013, tá sé ach 9 oileáin a bhí chiroptérologiques fardail .   \n",
       "2                       I measc na PIM Fraince, i 2013, tá sé ach 9 oileáin a bhí chiroptérologiques fardail.   \n",
       "3  Mar is féidir leat a fheiceáil, a fháil mar sin a thaispeáint as na cruthanna mhór i 3D (dearg agus gorm).   \n",
       "4                                                                      Ligningsløsning – Traidisiúnta, simplí   \n",
       "\n",
       "   clean  ga_len  en_len  \n",
       "0   True      16      18  \n",
       "1   True      18      16  \n",
       "2   True      16      16  \n",
       "3   True      21      17  \n",
       "4   True       4       5  "
      ]
     },
     "execution_count": 18,
     "metadata": {},
     "output_type": "execute_result"
    }
   ],
   "source": [
    "df=ds.data.to_pandas()\n",
    "df.head()"
   ]
  },
  {
   "cell_type": "code",
   "execution_count": 19,
   "metadata": {},
   "outputs": [],
   "source": [
    "#df = df.iloc[:1000]"
   ]
  },
  {
   "cell_type": "code",
   "execution_count": 20,
   "metadata": {
    "scrolled": true
   },
   "outputs": [
    {
     "data": {
      "text/html": [],
      "text/plain": [
       "<IPython.core.display.HTML object>"
      ]
     },
     "metadata": {},
     "output_type": "display_data"
    },
    {
     "name": "stdout",
     "output_type": "stream",
     "text": [
      "hi\n"
     ]
    },
    {
     "data": {
      "text/html": [],
      "text/plain": [
       "<IPython.core.display.HTML object>"
      ]
     },
     "metadata": {},
     "output_type": "display_data"
    },
    {
     "name": "stdout",
     "output_type": "stream",
     "text": [
      "hi\n"
     ]
    }
   ],
   "source": [
    "# at 30k tokens per vocab sometimes this works, sometimes it doesn't\n",
    "\n",
    "# Couldnt process 30k tokens until I added the 'hi' below, it was getting stuck at 94.87%, no idea why\n",
    "@Numericalize\n",
    "def encodes(self, o): \n",
    "    print('hi')\n",
    "    return TensorText(tensor([self.o2i  [o_] for o_ in o]))\n",
    "\n",
    "class floatify_tfm(Transform):\n",
    "    def encodes(self,o): return o.float()\n",
    "    def decodes(self,o): return o.long()\n",
    "\n",
    "max_vocab=30000\n",
    "#splits = ColSplitter()(df) \n",
    "splits = RandomSplitter(valid_pct=0.2, seed=42)(df)\n",
    "\n",
    "tfms = [[Tokenizer.from_df(text_cols='en' , rules=proc_rules), attrgetter(\"text\"), Numericalize(max_vocab=max_vocab)], \n",
    "       [Tokenizer.from_df(text_cols='ga', lang='ga', rules=proc_rules), attrgetter(\"text\"), Numericalize(max_vocab=max_vocab)]]\n",
    "\n",
    "# tfms = [[Tokenizer.from_df(text_cols='en' , rules=proc_rules), attrgetter(\"text\"), \n",
    "#          Numericalize(max_vocab=max_vocab), floatify_tfm], \n",
    "#        [Tokenizer.from_df(text_cols='ga', lang='ga', rules=proc_rules), attrgetter(\"text\"),\n",
    "#         Numericalize(max_vocab=max_vocab), floatify_tfm]]\n",
    "\n",
    "\n",
    "dl = partial(SortedDL, shuffle=True, res=df.ga_len.values)\n",
    "\n",
    "dsets = Datasets(df, tfms, splits=splits, dl_type=dl)\n",
    "\n",
    "# remove the print from Numericalize\n",
    "@Numericalize\n",
    "def encodes(self, o): return TensorText(tensor([self.o2i  [o_] for o_ in o]))"
   ]
  },
  {
   "cell_type": "code",
   "execution_count": 21,
   "metadata": {},
   "outputs": [],
   "source": [
    "# en_vocab=[]\n",
    "# ga_vocab=[]\n",
    "# with open('paracrawl_vocab_en.csv', newline='') as csvfile:\n",
    "#     v_reader = csv.reader(csvfile, delimiter=',')\n",
    "#     for row in v_reader:\n",
    "#         en_vocab.append(row[0])\n",
    "        \n",
    "# with open('paracrawl_vocab_ga.csv', newline='') as csvfile:\n",
    "#     v_reader = csv.reader(csvfile, delimiter=',')\n",
    "#     for row in v_reader:\n",
    "#         ga_vocab.append(row[0])\n",
    "        \n",
    "#len(en_vocab), len(ga_vocab), en_vocab[:10], ga_vocab[:10]"
   ]
  },
  {
   "cell_type": "code",
   "execution_count": 22,
   "metadata": {},
   "outputs": [
    {
     "data": {
      "text/plain": [
       "(334244,\n",
       " ((#267396) [142788,143864,71475,232172,136743,17163,145516,163557,296155,19037...],\n",
       "  (#66848) [255414,148963,186606,40380,28590,6799,259930,188378,286014,4807...]),\n",
       " 24,\n",
       " 23,\n",
       " (TensorText([    2,     8,  1018,     9,     8,  2104,     7,  7176,    11,    16,\n",
       "            821,    11,    50,    23,   189,   165,  3062,    32,    60,    92,\n",
       "          19526,  8919,    14,     3]),\n",
       "  TensorText([    2,    17,   757,    18,     7,  9046,     8,  2425,    10,    17,\n",
       "            832,    10,    58,    43,    82,   194,  4016,     9,   135, 29410,\n",
       "           7653,    14,     3])))"
      ]
     },
     "execution_count": 22,
     "metadata": {},
     "output_type": "execute_result"
    }
   ],
   "source": [
    "len(dsets), splits, len(dsets[2][0]), len(dsets[2][1]), dsets[2]"
   ]
  },
  {
   "cell_type": "code",
   "execution_count": 23,
   "metadata": {
    "scrolled": true
   },
   "outputs": [
    {
     "data": {
      "text/html": [
       "<table border=\"1\" class=\"dataframe\">\n",
       "  <thead>\n",
       "    <tr style=\"text-align: right;\">\n",
       "      <th></th>\n",
       "      <th>text</th>\n",
       "      <th>text_</th>\n",
       "    </tr>\n",
       "  </thead>\n",
       "  <tbody>\n",
       "    <tr>\n",
       "      <th>0</th>\n",
       "      <td>xxbos ( i ) the application of any goods of a kind specified in the xxmaj fourth xxmaj schedule by a person for the purposes of his business and treated as delivered in accordance with section 3 ( 1 ) ( e ) , xxeos xxpad xxpad xxpad xxpad xxpad xxpad xxpad xxpad xxpad xxpad xxpad xxpad xxpad xxpad xxpad xxpad xxpad xxpad xxpad xxpad xxpad xxpad xxpad xxpad xxpad xxpad xxpad xxpad</td>\n",
       "      <td>xxbos ( i ) le duine do bhaint úsáid chun críocha a ghnó as aon earraí de chineál a shonraítear sa xxmaj cheathrú xxmaj sceideal agus a áirítear mar earraí arna seachadadh de réir alt 3 ( 1 ) ( e ) , xxeos xxpad xxpad xxpad xxpad xxpad xxpad xxpad xxpad xxpad xxpad xxpad xxpad xxpad xxpad xxpad xxpad xxpad xxpad xxpad xxpad xxpad xxpad xxpad xxpad xxpad xxpad xxpad xxpad xxpad xxpad xxpad xxpad xxpad</td>\n",
       "    </tr>\n",
       "    <tr>\n",
       "      <th>1</th>\n",
       "      <td>xxbos 16 xxmaj as 2012 | xxmaj author : itrecord | xxmaj no comments yet » xxeos xxpad xxpad xxpad xxpad xxpad xxpad xxpad xxpad xxpad xxpad xxpad xxpad xxpad xxpad xxpad xxpad xxpad xxpad xxpad xxpad xxpad xxpad xxpad xxpad xxpad xxpad xxpad xxpad xxpad xxpad xxpad xxpad xxpad xxpad xxpad xxpad xxpad xxpad xxpad xxpad xxpad xxpad xxpad xxpad xxpad xxpad xxpad xxpad xxpad xxpad xxpad xxpad xxpad xxpad xxpad xxpad</td>\n",
       "      <td>xxbos 16 xxmaj farraige 2012 | údar : itrecord | xxmaj níl aon tráchtaireacht go fóill » xxeos xxpad xxpad xxpad xxpad xxpad xxpad xxpad xxpad xxpad xxpad xxpad xxpad xxpad xxpad xxpad xxpad xxpad xxpad xxpad xxpad xxpad xxpad xxpad xxpad xxpad xxpad xxpad xxpad xxpad xxpad xxpad xxpad xxpad xxpad xxpad xxpad xxpad xxpad xxpad xxpad xxpad xxpad xxpad xxpad xxpad xxpad xxpad xxpad xxpad xxpad xxpad xxpad xxpad xxpad xxpad xxpad xxpad xxpad xxpad</td>\n",
       "    </tr>\n",
       "    <tr>\n",
       "      <th>2</th>\n",
       "      <td>xxbos ( 5 ) ( a ) xxmaj notwithstanding any other provision of the xxmaj tax xxmaj acts , if an allowance or deduction has been given by virtue of this section in respect of any expenditure , then no other allowance or deduction shall be given by virtue of any provision of the xxmaj tax xxmaj acts , including this section , in respect of that expenditure . xxeos xxpad xxpad xxpad</td>\n",
       "      <td>xxbos ( 5 ) ( a ) xxmaj d'ainneoin aon fhorála eile de chuid na nachtanna xxmaj cánach , má tugadh liúntas nó asbhaint de bhua an ailt seo i leith aon chaiteachais , ansin ní thabharfar aon liúntas ná asbhaint eile de bhua aon fhorála de chuid na nachtanna xxmaj cánach , lena n - áirítear an t - alt seo , i leith an chaiteachais sin . xxeos xxpad xxpad xxpad xxpad xxpad xxpad xxpad</td>\n",
       "    </tr>\n",
       "    <tr>\n",
       "      <th>3</th>\n",
       "      <td>xxbos 2 . xxmaj in order to improve the cooperation and effectiveness of the competent authorities in the xxmaj member xxmaj states through the national units with a view to fulfilling the objective set out in xxmaj article 2 ( 1 ) , xxmaj europol shall furthermore have the following additional tasks : xxeos xxpad xxpad xxpad xxpad xxpad xxpad xxpad xxpad xxpad xxpad xxpad xxpad xxpad xxpad xxpad xxpad xxpad xxpad xxpad</td>\n",
       "      <td>xxbos 2 . xxmaj d'fhonn éifeachtúlacht na n - údarás inniúil sna xxmaj ballstáit agus an comhar eatarthu a fheabhsú trí na haonaid náisiúnta d'fhonn an cuspóir atá leagtha amach in xxmaj airteagal 2(1 ) a chomhall , beidh ina theannta sin na feidhmeanna breise seo a leanas ar xxmaj europol : xxeos xxpad xxpad xxpad xxpad xxpad xxpad xxpad xxpad xxpad xxpad xxpad xxpad xxpad xxpad xxpad xxpad xxpad xxpad xxpad xxpad xxpad xxpad xxpad xxpad</td>\n",
       "    </tr>\n",
       "    <tr>\n",
       "      <th>4</th>\n",
       "      <td>xxbos xxmaj free to download ( for ipad only ) – search ‘ tg4 ’ in the xxmaj app xxmaj store . xxeos xxpad xxpad xxpad xxpad xxpad xxpad xxpad xxpad xxpad xxpad xxpad xxpad xxpad xxpad xxpad xxpad xxpad xxpad xxpad xxpad xxpad xxpad xxpad xxpad xxpad xxpad xxpad xxpad xxpad xxpad xxpad xxpad xxpad xxpad xxpad xxpad xxpad xxpad xxpad xxpad xxpad xxpad xxpad xxpad xxpad xxpad xxpad xxpad xxpad xxpad</td>\n",
       "      <td>xxbos xxmaj saor in aisce le íoslódáil ( don ipad amháin ) – cuardaigh ‘ tg4 ’ san xxmaj app xxmaj store . xxeos xxpad xxpad xxpad xxpad xxpad xxpad xxpad xxpad xxpad xxpad xxpad xxpad xxpad xxpad xxpad xxpad xxpad xxpad xxpad xxpad xxpad xxpad xxpad xxpad xxpad xxpad xxpad xxpad xxpad xxpad xxpad xxpad xxpad xxpad xxpad xxpad xxpad xxpad xxpad xxpad xxpad xxpad xxpad xxpad xxpad xxpad xxpad xxpad xxpad xxpad xxpad xxpad xxpad</td>\n",
       "    </tr>\n",
       "    <tr>\n",
       "      <th>5</th>\n",
       "      <td>xxbos ( b ) require the arrested person either to permit a designated registered medical practitioner to take from the arrested person a specimen of his blood or , if the arrested person so opts , to provide for the designated registered medical practitioner a specimen of the arrested person 's urine in accordance with the prescribed procedure . xxeos xxpad xxpad xxpad xxpad xxpad xxpad xxpad xxpad xxpad xxpad xxpad xxpad xxpad</td>\n",
       "      <td>xxbos ( b ) a cheangal ar an duine gafa a cheadú do lia - chleachtóir cláraithe ainmnithe sampla dá chuid fola a thógáil ón duine gafa nó , má roghnaíonn an duine gafa é , sampla d'fhual an duine ghafa a chur ar fáil , de réir an nós imeachta fhorordaithe , don lia - chleachtóir cláraithe ainmnithe . xxeos xxpad xxpad xxpad xxpad xxpad xxpad xxpad xxpad xxpad xxpad xxpad xxpad xxpad xxpad xxpad xxpad</td>\n",
       "    </tr>\n",
       "    <tr>\n",
       "      <th>6</th>\n",
       "      <td>xxbos ( b ) the staff of such other subsidiary ( “ other subsidiary ” ) , if any , of the xxmaj board as the xxmaj board has specified in writing , for the purposes of that day , in respect of the member of staff concerned or class of members of staff concerned , as the case may be . xxeos xxpad xxpad xxpad xxpad xxpad xxpad xxpad xxpad xxpad xxpad</td>\n",
       "      <td>xxbos ( b ) chuig foireann cibé fochuideachta eile ( “ fochuideachta eile ” ) , más ann , den xxmaj bhord a shonróidh an xxmaj bord i scríbhinn , chun críocha an lae sin , i leith an chomhalta foirne lena mbaineann nó i leith na haicme comhaltaí foirne lena mbaineann , de réir mar a bheidh . xxeos xxpad xxpad xxpad xxpad xxpad xxpad xxpad xxpad xxpad xxpad xxpad xxpad xxpad xxpad xxpad xxpad xxpad</td>\n",
       "    </tr>\n",
       "    <tr>\n",
       "      <th>7</th>\n",
       "      <td>xxbos ( a ) stop any vehicle which he or she reasonably suspects is used in the course of employment or self - employment , and xxeos xxpad xxpad xxpad xxpad xxpad xxpad xxpad xxpad xxpad xxpad xxpad xxpad xxpad xxpad xxpad xxpad xxpad xxpad xxpad xxpad xxpad xxpad xxpad xxpad xxpad xxpad xxpad xxpad xxpad xxpad xxpad xxpad xxpad xxpad xxpad xxpad xxpad xxpad xxpad xxpad xxpad xxpad xxpad xxpad xxpad xxpad</td>\n",
       "      <td>xxbos ( a ) aon fheithicil a stopadh a bhfuil amhras réasúnach air nó uirthi go n - úsáidtear í i gcúrsa fostaíochta nó féinfhostaíochta , agus xxeos xxpad xxpad xxpad xxpad xxpad xxpad xxpad xxpad xxpad xxpad xxpad xxpad xxpad xxpad xxpad xxpad xxpad xxpad xxpad xxpad xxpad xxpad xxpad xxpad xxpad xxpad xxpad xxpad xxpad xxpad xxpad xxpad xxpad xxpad xxpad xxpad xxpad xxpad xxpad xxpad xxpad xxpad xxpad xxpad xxpad xxpad xxpad xxpad xxpad</td>\n",
       "    </tr>\n",
       "    <tr>\n",
       "      <th>8</th>\n",
       "      <td>xxbos xxmaj xxunk enables you to select the events you want to capture and specify the data columns from those events . xxeos xxpad xxpad xxpad xxpad xxpad xxpad xxpad xxpad xxpad xxpad xxpad xxpad xxpad xxpad xxpad xxpad xxpad xxpad xxpad xxpad xxpad xxpad xxpad xxpad xxpad xxpad xxpad xxpad xxpad xxpad xxpad xxpad xxpad xxpad xxpad xxpad xxpad xxpad xxpad xxpad xxpad xxpad xxpad xxpad xxpad xxpad xxpad xxpad xxpad xxpad</td>\n",
       "      <td>xxbos xxmaj xxunk chumas a roghnú na himeachtaí is mian leat a ghabháil agus sonróidh sé na colúin sonraí ó na himeachtaí . xxeos xxpad xxpad xxpad xxpad xxpad xxpad xxpad xxpad xxpad xxpad xxpad xxpad xxpad xxpad xxpad xxpad xxpad xxpad xxpad xxpad xxpad xxpad xxpad xxpad xxpad xxpad xxpad xxpad xxpad xxpad xxpad xxpad xxpad xxpad xxpad xxpad xxpad xxpad xxpad xxpad xxpad xxpad xxpad xxpad xxpad xxpad xxpad xxpad xxpad xxpad xxpad xxpad xxpad</td>\n",
       "    </tr>\n",
       "  </tbody>\n",
       "</table>"
      ],
      "text/plain": [
       "<IPython.core.display.HTML object>"
      ]
     },
     "metadata": {},
     "output_type": "display_data"
    }
   ],
   "source": [
    "bs,sl = 32, 512\n",
    "dls = dsets.dataloaders(bs=bs, seq_len=sl, before_batch=partial(pad_input, pad_fields=[0,1]))\n",
    "dls.show_batch()"
   ]
  },
  {
   "cell_type": "markdown",
   "metadata": {},
   "source": [
    "Save vocab to speed up data loading"
   ]
  },
  {
   "cell_type": "code",
   "execution_count": 24,
   "metadata": {},
   "outputs": [],
   "source": [
    "# with open('paracrawl_vocab_en_v0.2_exp2.csv', 'w', newline='') as csvfile:\n",
    "#     v_writer = csv.writer(csvfile, delimiter=',')\n",
    "#     for l in dls.vocab[0]:\n",
    "#         v_writer.writerow([l])\n",
    "        \n",
    "# with open('paracrawl_vocab_ga_v0.2_exp2.csv', 'w', newline='') as csvfile:\n",
    "#     v_writer = csv.writer(csvfile, delimiter=',')\n",
    "#     for l in dls.vocab[1]:\n",
    "#         v_writer.writerow([l])"
   ]
  },
  {
   "cell_type": "code",
   "execution_count": 25,
   "metadata": {
    "scrolled": true
   },
   "outputs": [
    {
     "data": {
      "text/plain": [
       "(334244, 8356, 2089)"
      ]
     },
     "execution_count": 25,
     "metadata": {},
     "output_type": "execute_result"
    }
   ],
   "source": [
    "len(dls.train_ds)+len(dls.valid_ds), len(dls.train), len(dls.valid)"
   ]
  },
  {
   "cell_type": "code",
   "execution_count": 26,
   "metadata": {},
   "outputs": [
    {
     "name": "stdout",
     "output_type": "stream",
     "text": [
      "Vocab lengths are : (22952, 30008)\n"
     ]
    }
   ],
   "source": [
    "print(f'Vocab lengths are : {len(dls.vocab[0]), len(dls.vocab[1])}')"
   ]
  },
  {
   "cell_type": "code",
   "execution_count": 27,
   "metadata": {
    "scrolled": true
   },
   "outputs": [
    {
     "data": {
      "text/plain": [
       "(torch.Size([32, 71]),\n",
       " torch.Size([32, 75]),\n",
       " (TensorText([[  2,  13,  57,  ...,   1,   1,   1],\n",
       "          [  2,  13,  18,  ...,   1,   1,   1],\n",
       "          [  2,  13,  47,  ...,   1,   1,   1],\n",
       "          ...,\n",
       "          [  2,   8, 386,  ...,   1,   1,   1],\n",
       "          [  2,  13,  75,  ...,   1,   1,   1],\n",
       "          [  2,  13,  42,  ...,   1,   1,   1]], device='cuda:0'),\n",
       "  TensorText([[   2,   12,   17,  ...,    1,    1,    1],\n",
       "          [   2,   12,    9,  ...,    1,    1,    1],\n",
       "          [   2,   12,   51,  ...,    1,    1,    1],\n",
       "          ...,\n",
       "          [   2,    8, 6214,  ...,    1,    1,    1],\n",
       "          [   2,   12,   88,  ...,    1,    1,    1],\n",
       "          [   2,   12,   41,  ...,    1,    1,    1]], device='cuda:0')))"
      ]
     },
     "execution_count": 27,
     "metadata": {},
     "output_type": "execute_result"
    }
   ],
   "source": [
    "o=dls.one_batch(); o[0].size(), o[1].size(), o"
   ]
  },
  {
   "cell_type": "markdown",
   "metadata": {},
   "source": [
    "## Transformer model"
   ]
  },
  {
   "cell_type": "code",
   "execution_count": 28,
   "metadata": {},
   "outputs": [],
   "source": [
    "class PositionalEncoding(nn.Module):\n",
    "    \"Encode the position with a sinusoid.\"\n",
    "    def __init__(self, d):\n",
    "        super().__init__()\n",
    "        self.register_buffer('freq', 1 / (10000 ** (torch.arange(0., d, 2.)/d)))\n",
    "    \n",
    "    def forward(self, pos):\n",
    "        #inp = torch.ger(pos, self.freq)\n",
    "        inp = torch.ger(pos, self.freq.float())\n",
    "        enc = torch.cat([inp.sin(), inp.cos()], dim=-1)\n",
    "        return enc"
   ]
  },
  {
   "cell_type": "code",
   "execution_count": 29,
   "metadata": {},
   "outputs": [
    {
     "data": {
      "image/png": "[encoded data removed]",
      "text/plain": [
       "<Figure size 432x288 with 1 Axes>"
      ]
     },
     "metadata": {
      "needs_background": "light"
     },
     "output_type": "display_data"
    }
   ],
   "source": [
    "tst_encoding = PositionalEncoding(20)\n",
    "res = tst_encoding(torch.arange(0,100).float())\n",
    "_, ax = plt.subplots(1,1)\n",
    "for i in range(1,5): ax.plot(res[:,i])"
   ]
  },
  {
   "cell_type": "code",
   "execution_count": 30,
   "metadata": {},
   "outputs": [],
   "source": [
    "class TransformerEmbedding(nn.Module):\n",
    "    \"Embedding + positional encoding + dropout\"\n",
    "    def __init__(self, vocab_sz, emb_sz, inp_p=0.):\n",
    "        super().__init__()\n",
    "        self.emb_sz = emb_sz\n",
    "        self.embed = Embedding(vocab_sz, emb_sz)\n",
    "        self.pos_enc = PositionalEncoding(emb_sz)\n",
    "        self.drop = nn.Dropout(inp_p)\n",
    "    \n",
    "    def forward(self, inp): \n",
    "        #pos = torch.arange(0, inp.size(1), device=inp.device).float()     \n",
    "        pos = torch.arange(0, inp.size(1), device=inp.device).float()     \n",
    "        return self.drop(self.embed(inp) * math.sqrt(self.emb_sz) + self.pos_enc(pos))"
   ]
  },
  {
   "cell_type": "markdown",
   "metadata": {},
   "source": [
    "## PyTorch Transformer Simple"
   ]
  },
  {
   "cell_type": "markdown",
   "metadata": {},
   "source": [
    "Note: [src/tgt/memory]_mask should be filled with float(‘-inf’) for the masked positions and float(0.0) else. These masks ensure that predictions for position i depend only on the unmasked positions j and are applied identically for each sequence in a batch. \n",
    "\n",
    "[src/tgt/memory]_key_padding_mask should be a ByteTensor where True values are positions that should be masked with float(‘-inf’) and False values will be unchanged. This mask ensures that no information will be taken from position i if it is masked, and has a separate mask for each sequence in a batch.\n",
    "\n",
    "attn mask with -inf\n",
    "key_padding mask with True"
   ]
  },
  {
   "cell_type": "markdown",
   "metadata": {},
   "source": [
    "### pt_Transformer"
   ]
  },
  {
   "cell_type": "code",
   "execution_count": 31,
   "metadata": {},
   "outputs": [],
   "source": [
    "def to_half(b):\n",
    "    \"Recursively map lists of tensors in `b ` to FP16.\"\n",
    "    return apply(lambda x: x.half() if torch.is_floating_point(x) else x, b)"
   ]
  },
  {
   "cell_type": "code",
   "execution_count": 32,
   "metadata": {
    "scrolled": true
   },
   "outputs": [],
   "source": [
    "class pt_Transformer(Module):\n",
    "    def __init__(self, src_vcbsz, trg_vcbsz, n_enc_layers=6, n_dec_layers=6, n_heads=8, d_model=256, d_head=32, \n",
    "                 d_inner=1024, p=0.1, bias=True, scale=True, double_drop=True, pad_idx=1, fp16=True):\n",
    "        self.pad_idx = pad_idx\n",
    "        self.enc_tfmr_emb = TransformerEmbedding(src_vcbsz, d_model, p)\n",
    "        self.dec_tfmr_emb = TransformerEmbedding(trg_vcbsz, d_model, 0.)        \n",
    "        self.final = nn.Linear(d_model, trg_vcbsz)\n",
    "        self.fp16 = fp16\n",
    "        # !!!\n",
    "        #self.final.weight = self.dec_tfmr_emb.embed.weight    # !! What does this do?\n",
    "        \n",
    "        self.transformer_model=torch.nn.Transformer(d_model=d_model, nhead=n_heads, num_encoder_layers=n_enc_layers, \n",
    "                                   num_decoder_layers=n_dec_layers, dim_feedforward=d_inner, dropout=p, \n",
    "                                   activation='relu', custom_encoder=None, custom_decoder=None)\n",
    "    \n",
    "    \n",
    "    def forward(self, src, trg, src_mask=None, tgt_mask=None, memory_mask=None, \n",
    "                        src_key_padding_mask=None, tgt_key_padding_mask=None, memory_key_padding_mask=None):\n",
    "        \n",
    "        enc_emb, dec_emb = self.enc_tfmr_emb(src), self.dec_tfmr_emb(trg)\n",
    "        #if self.fp16:\n",
    "        if not isinstance(model.transformer_model.encoder.layers[0].self_attn.out_proj.weight,\n",
    "                          torch.cuda.FloatTensor):\n",
    "            enc_emb=to_half(enc_emb)\n",
    "            dec_emb=to_half(dec_emb)\n",
    "        \n",
    "        src_mask=self.transformer_model.generate_square_subsequent_mask(src.size(1)).cuda()\n",
    "        trg_mask=self.transformer_model.generate_square_subsequent_mask(trg.size(1)).cuda()\n",
    "        \n",
    "        dec_out = self.transformer_model(enc_emb.permute(1,0,2), dec_emb.permute(1,0,2),\n",
    "                                         src_mask=src_mask, tgt_mask=trg_mask, memory_mask=None, \n",
    "                        src_key_padding_mask=None, tgt_key_padding_mask=None, memory_key_padding_mask=None)\n",
    "        \n",
    "        out=self.final(dec_out)\n",
    "        \n",
    "        return out.permute(1,0,2)"
   ]
  },
  {
   "cell_type": "code",
   "execution_count": 33,
   "metadata": {
    "scrolled": true
   },
   "outputs": [],
   "source": [
    "# for name, param in model.transformer_model.encoder.layers[0].self_attn.out_proj.named_parameters():\n",
    "#     print (name)"
   ]
  },
  {
   "cell_type": "markdown",
   "metadata": {},
   "source": [
    "### Metric"
   ]
  },
  {
   "cell_type": "code",
   "execution_count": 34,
   "metadata": {},
   "outputs": [],
   "source": [
    "class CorpusBLEUMetric(Metric):\n",
    "    def __init__(self, vocab_sz=5000, axis=-1):\n",
    "        \"\"\"BLEU Metric calculated over the validation corpus\"\"\"\n",
    "        self.pred_len, self.targ_len, self.corrects, self.counts = 0,0,[0]*4,[0]*4\n",
    "        self.axis, self.vocab_sz = axis, vocab_sz\n",
    "        \n",
    "    def reset(self):\n",
    "        self.pred_len,self.targ_len,self.corrects,self.counts = 0,0,[0]*4,[0]*4\n",
    "        \n",
    "    class NGram():\n",
    "        def __init__(self, ngram, max_n=5000): self.ngram,self.max_n = ngram,max_n\n",
    "        def __eq__(self, other):\n",
    "            if len(self.ngram) != len(other.ngram): return False\n",
    "            return np.all(np.array(self.ngram) == np.array(other.ngram))\n",
    "        def __hash__(self): return int(sum([o * self.max_n**i for i,o in enumerate(self.ngram)]))\n",
    "    \n",
    "    def get_grams(self, x, n, max_n=5000):\n",
    "        return x if n==1 else [self.NGram(x[i:i+n], max_n=max_n) for i in range(len(x)-n+1)]\n",
    "    \n",
    "    def get_correct_ngrams(self, pred, targ, n, max_n=5000):\n",
    "        pred_grams,targ_grams = self.get_grams(pred, n, max_n=max_n),self.get_grams(targ, n, max_n=max_n)\n",
    "        pred_cnt,targ_cnt = Counter(pred_grams),Counter(targ_grams)\n",
    "        return sum([min(c, targ_cnt[g]) for g,c in pred_cnt.items()]),len(pred_grams)\n",
    "        \n",
    "    def accumulate(self, learn):\n",
    "        last_output = learn.pred.argmax(dim=self.axis)\n",
    "        last_target = learn.y\n",
    "        for pred,targ in zip(last_output.cpu().numpy(),last_target.cpu().numpy()):\n",
    "            self.pred_len += len(pred)\n",
    "            self.targ_len += len(targ)\n",
    "            smooth_mteval = 1\n",
    "            for i in range(4):\n",
    "                c,t = self.get_correct_ngrams(pred, targ, i+1, max_n=self.vocab_sz)\n",
    "\n",
    "                if c == 0:\n",
    "                    smooth_mteval *= 2\n",
    "                    c = 1 / smooth_mteval    # exp smoothing, method 3 from http://acl2014.org/acl2014/W14-33/pdf/W14-3346.pdf\n",
    "                \n",
    "                self.corrects[i] += c\n",
    "                self.counts[i]   += t\n",
    "        \n",
    "    @property\n",
    "    def value(self): \n",
    "        if self.counts == 0: return None\n",
    "        elif max(self.corrects) == 0: return 0.0\n",
    "        else:\n",
    "            precs = [c/t for c,t in zip(self.corrects,self.counts)]\n",
    "            len_penalty = math.exp(1 - self.targ_len/self.pred_len) if self.pred_len < self.targ_len else 1\n",
    "            return len_penalty * ((precs[0]*precs[1]*precs[2]*precs[3]) ** 0.25)"
   ]
  },
  {
   "cell_type": "code",
   "execution_count": 35,
   "metadata": {},
   "outputs": [
    {
     "data": {
      "text/plain": [
       "[0.25, 0.4, 0.0]"
      ]
     },
     "execution_count": 35,
     "metadata": {},
     "output_type": "execute_result"
    }
   ],
   "source": [
    "[c/t if t != 0 else 0. for c,t in zip([1,2,3], [4,5,0])]"
   ]
  },
  {
   "cell_type": "markdown",
   "metadata": {},
   "source": [
    "### Callbacks\n",
    "\n",
    "#### Present Input and Target in a single tuple"
   ]
  },
  {
   "cell_type": "code",
   "execution_count": 36,
   "metadata": {},
   "outputs": [],
   "source": [
    "class CombineInputOutputCallback(Callback):\n",
    "    '''Callback to combine the input and target text into self.xb'''\n",
    "    def __init__(self): pass\n",
    "    def begin_batch(self): \n",
    "        self.learn.xb = (self.xb[0], self.yb[0])"
   ]
  },
  {
   "cell_type": "markdown",
   "metadata": {},
   "source": [
    "Shifting and masking of y, from [Annotated Transformer](http://nlp.seas.harvard.edu/2018/04/03/attention.html#training):\n",
    "\n",
    "> We also modify the self-attention sub-layer in the decoder stack to prevent positions from attending to subsequent positions. This masking, combined with fact that the output embeddings are offset by one position, ensures that the predictions for position i can depend only on the known outputs at positions less than i."
   ]
  },
  {
   "cell_type": "markdown",
   "metadata": {},
   "source": [
    "#### Shifting"
   ]
  },
  {
   "cell_type": "markdown",
   "metadata": {},
   "source": [
    "#### Target shift/offset explained\n",
    "\n",
    "**Taken from [@bentrevett's brilliant github repo \"pytorch-seq2seq\" tutorials](https://github.com/bentrevett/pytorch-seq2seq/blob/master/6%20-%20Attention%20is%20All%20You%20Need.ipynb):**\n",
    "\n",
    "As we want our model to predict the <eos> token but not have it be an input into our model we simply slice the <eos> token off the end of the sequence. Thus:\n",
    "\n",
    "$$\\begin{align*}\\text{trg} &= [sos, x_1, x_2, x_3, eos]\\\\\\text{trg[:-1]} &= [sos, x_1, x_2, x_3]\\end{align*}$$\n",
    "\n",
    "$x_i$ denotes **actual** target sequence element. We then feed this into the model to get a predicted sequence that should hopefully predict the <eos> token:\n",
    "\n",
    "$$\\begin{align*}\n",
    "\\text{output} &= [y_1, y_2, y_3, eos]\n",
    "\\end{align*}$$\n",
    "\n",
    "$y_i$ denotes **predicted** target sequence element. We then calculate our loss using the original trg tensor with the <sos> token sliced off the front, leaving the <eos> token:\n",
    "\n",
    "$$\\begin{align*} \\text{output} &= [y_1, y_2, y_3, eos]\\\\ \\text{trg[1:]} &= [x_1, x_2, x_3, eos] \\end{align*}$$\n",
    "\n",
    "We then calculate our losses and update our parameters as is standard.\n",
    "    \n",
    "    \n",
    "We don't want to punish the model for not translating the 'sos' token, but we do need it to predict/define the end of the sentence"
   ]
  },
  {
   "cell_type": "markdown",
   "metadata": {},
   "source": [
    "**RemoveEOSCallback** \n",
    "\n",
    "Cut the *EOS* token token from the **output_x** presented to the model as we are trying to predict the next word. Therefore don't want to model to try anything after the *EOS* token. So the last token given to the model will be the token before *EOS*. This callback is modifies the second element of our learn.xb, (which is the *copied* yb)\n",
    "\n",
    "But this should also ignore padding, as otherwise we'll be just cutting the last padding token and not the EOS"
   ]
  },
  {
   "cell_type": "code",
   "execution_count": 37,
   "metadata": {},
   "outputs": [],
   "source": [
    "class RemoveEOSCallback(Callback):\n",
    "    '''\n",
    "        Shift the target presented to the model during training to remove the \"eos\" token as \n",
    "        we don't want the model to learn to translate EOS. When it sees EOS.\n",
    "        \n",
    "        In practice we actually mask the EOS token as due to batching the last token will often be a <pad> token,\n",
    "        not EOS\n",
    "    '''\n",
    "    def __init__(self, eos_idx): self.eos_idx=eos_idx\n",
    "    def begin_batch(self):        \n",
    "        eos_mask=(self.learn.xb[1]!=self.eos_idx)\n",
    "        sz=torch.tensor(self.learn.xb[1].size())\n",
    "        sz[1]=sz[1]-1\n",
    "        self.learn.xb = (self.learn.xb[0], self.learn.xb[1][eos_mask].view((sz[0],sz[1])))"
   ]
  },
  {
   "cell_type": "markdown",
   "metadata": {},
   "source": [
    "**LossTargetShiftCallback:** Shift the target shown to the loss to exclude the \"eos\" token, as translating \"bos\" is not part of our language translation objective"
   ]
  },
  {
   "cell_type": "code",
   "execution_count": 38,
   "metadata": {},
   "outputs": [],
   "source": [
    "class LossTargetShiftCallback(Callback):\n",
    "    '''\n",
    "        Shift the target shown to the loss to exclude the \"bos\" token as the first token we want predicted\n",
    "        should be an actual word, not the \"bos\" token (as we have already given the model \"bos\" )\n",
    "    '''\n",
    "    def __init__(self): pass\n",
    "    def after_pred(self): \n",
    "        self.learn.yb = (self.learn.yb[0][:,1:],)"
   ]
  },
  {
   "cell_type": "markdown",
   "metadata": {},
   "source": [
    "### Model"
   ]
  },
  {
   "cell_type": "markdown",
   "metadata": {},
   "source": [
    "Transformer size from Annotated Transformer:\n",
    "\n",
    "N=6, d_model=512, d_ff=2048, h=8"
   ]
  },
  {
   "cell_type": "code",
   "execution_count": 39,
   "metadata": {
    "scrolled": true
   },
   "outputs": [],
   "source": [
    "pad_idx=1\n",
    "assert dls.vocab[1][pad_idx] == 'xxpad' \n",
    "n_x_vocab, n_y_vocab = len(dls.vocab[0]), len(dls.vocab[1])\n",
    "d_model=512\n",
    "n_heads=8 #12\n",
    "d_inner=2048  #1024\n",
    "\n",
    "#model = Transformer(n_x_vocab, n_y_vocab, d_model=d_model, n_heads=n_heads, pad_idx=pad_idx)\n",
    "\n",
    "model=pt_Transformer(src_vcbsz=n_x_vocab, trg_vcbsz=n_y_vocab, d_model=d_model, d_inner=d_inner)"
   ]
  },
  {
   "cell_type": "code",
   "execution_count": 40,
   "metadata": {},
   "outputs": [
    {
     "data": {
      "text/plain": [
       "pt_Transformer(\n",
       "  (enc_tfmr_emb): TransformerEmbedding(\n",
       "    (embed): Embedding(22952, 512)\n",
       "    (pos_enc): PositionalEncoding()\n",
       "    (drop): Dropout(p=0.1, inplace=False)\n",
       "  )\n",
       "  (dec_tfmr_emb): TransformerEmbedding(\n",
       "    (embed): Embedding(30008, 512)\n",
       "    (pos_enc): PositionalEncoding()\n",
       "    (drop): Dropout(p=0.0, inplace=False)\n",
       "  )\n",
       "  (final): Linear(in_features=512, out_features=30008, bias=True)\n",
       "  (transformer_model): Transformer(\n",
       "    (encoder): TransformerEncoder(\n",
       "      (layers): ModuleList(\n",
       "        (0): TransformerEncoderLayer(\n",
       "          (self_attn): MultiheadAttention(\n",
       "            (out_proj): Linear(in_features=512, out_features=512, bias=True)\n",
       "          )\n",
       "          (linear1): Linear(in_features=512, out_features=2048, bias=True)\n",
       "          (dropout): Dropout(p=0.1, inplace=False)\n",
       "          (linear2): Linear(in_features=2048, out_features=512, bias=True)\n",
       "          (norm1): LayerNorm((512,), eps=1e-05, elementwise_affine=True)\n",
       "          (norm2): LayerNorm((512,), eps=1e-05, elementwise_affine=True)\n",
       "          (dropout1): Dropout(p=0.1, inplace=False)\n",
       "          (dropout2): Dropout(p=0.1, inplace=False)\n",
       "        )\n",
       "        (1): TransformerEncoderLayer(\n",
       "          (self_attn): MultiheadAttention(\n",
       "            (out_proj): Linear(in_features=512, out_features=512, bias=True)\n",
       "          )\n",
       "          (linear1): Linear(in_features=512, out_features=2048, bias=True)\n",
       "          (dropout): Dropout(p=0.1, inplace=False)\n",
       "          (linear2): Linear(in_features=2048, out_features=512, bias=True)\n",
       "          (norm1): LayerNorm((512,), eps=1e-05, elementwise_affine=True)\n",
       "          (norm2): LayerNorm((512,), eps=1e-05, elementwise_affine=True)\n",
       "          (dropout1): Dropout(p=0.1, inplace=False)\n",
       "          (dropout2): Dropout(p=0.1, inplace=False)\n",
       "        )\n",
       "        (2): TransformerEncoderLayer(\n",
       "          (self_attn): MultiheadAttention(\n",
       "            (out_proj): Linear(in_features=512, out_features=512, bias=True)\n",
       "          )\n",
       "          (linear1): Linear(in_features=512, out_features=2048, bias=True)\n",
       "          (dropout): Dropout(p=0.1, inplace=False)\n",
       "          (linear2): Linear(in_features=2048, out_features=512, bias=True)\n",
       "          (norm1): LayerNorm((512,), eps=1e-05, elementwise_affine=True)\n",
       "          (norm2): LayerNorm((512,), eps=1e-05, elementwise_affine=True)\n",
       "          (dropout1): Dropout(p=0.1, inplace=False)\n",
       "          (dropout2): Dropout(p=0.1, inplace=False)\n",
       "        )\n",
       "        (3): TransformerEncoderLayer(\n",
       "          (self_attn): MultiheadAttention(\n",
       "            (out_proj): Linear(in_features=512, out_features=512, bias=True)\n",
       "          )\n",
       "          (linear1): Linear(in_features=512, out_features=2048, bias=True)\n",
       "          (dropout): Dropout(p=0.1, inplace=False)\n",
       "          (linear2): Linear(in_features=2048, out_features=512, bias=True)\n",
       "          (norm1): LayerNorm((512,), eps=1e-05, elementwise_affine=True)\n",
       "          (norm2): LayerNorm((512,), eps=1e-05, elementwise_affine=True)\n",
       "          (dropout1): Dropout(p=0.1, inplace=False)\n",
       "          (dropout2): Dropout(p=0.1, inplace=False)\n",
       "        )\n",
       "        (4): TransformerEncoderLayer(\n",
       "          (self_attn): MultiheadAttention(\n",
       "            (out_proj): Linear(in_features=512, out_features=512, bias=True)\n",
       "          )\n",
       "          (linear1): Linear(in_features=512, out_features=2048, bias=True)\n",
       "          (dropout): Dropout(p=0.1, inplace=False)\n",
       "          (linear2): Linear(in_features=2048, out_features=512, bias=True)\n",
       "          (norm1): LayerNorm((512,), eps=1e-05, elementwise_affine=True)\n",
       "          (norm2): LayerNorm((512,), eps=1e-05, elementwise_affine=True)\n",
       "          (dropout1): Dropout(p=0.1, inplace=False)\n",
       "          (dropout2): Dropout(p=0.1, inplace=False)\n",
       "        )\n",
       "        (5): TransformerEncoderLayer(\n",
       "          (self_attn): MultiheadAttention(\n",
       "            (out_proj): Linear(in_features=512, out_features=512, bias=True)\n",
       "          )\n",
       "          (linear1): Linear(in_features=512, out_features=2048, bias=True)\n",
       "          (dropout): Dropout(p=0.1, inplace=False)\n",
       "          (linear2): Linear(in_features=2048, out_features=512, bias=True)\n",
       "          (norm1): LayerNorm((512,), eps=1e-05, elementwise_affine=True)\n",
       "          (norm2): LayerNorm((512,), eps=1e-05, elementwise_affine=True)\n",
       "          (dropout1): Dropout(p=0.1, inplace=False)\n",
       "          (dropout2): Dropout(p=0.1, inplace=False)\n",
       "        )\n",
       "      )\n",
       "      (norm): LayerNorm((512,), eps=1e-05, elementwise_affine=True)\n",
       "    )\n",
       "    (decoder): TransformerDecoder(\n",
       "      (layers): ModuleList(\n",
       "        (0): TransformerDecoderLayer(\n",
       "          (self_attn): MultiheadAttention(\n",
       "            (out_proj): Linear(in_features=512, out_features=512, bias=True)\n",
       "          )\n",
       "          (multihead_attn): MultiheadAttention(\n",
       "            (out_proj): Linear(in_features=512, out_features=512, bias=True)\n",
       "          )\n",
       "          (linear1): Linear(in_features=512, out_features=2048, bias=True)\n",
       "          (dropout): Dropout(p=0.1, inplace=False)\n",
       "          (linear2): Linear(in_features=2048, out_features=512, bias=True)\n",
       "          (norm1): LayerNorm((512,), eps=1e-05, elementwise_affine=True)\n",
       "          (norm2): LayerNorm((512,), eps=1e-05, elementwise_affine=True)\n",
       "          (norm3): LayerNorm((512,), eps=1e-05, elementwise_affine=True)\n",
       "          (dropout1): Dropout(p=0.1, inplace=False)\n",
       "          (dropout2): Dropout(p=0.1, inplace=False)\n",
       "          (dropout3): Dropout(p=0.1, inplace=False)\n",
       "        )\n",
       "        (1): TransformerDecoderLayer(\n",
       "          (self_attn): MultiheadAttention(\n",
       "            (out_proj): Linear(in_features=512, out_features=512, bias=True)\n",
       "          )\n",
       "          (multihead_attn): MultiheadAttention(\n",
       "            (out_proj): Linear(in_features=512, out_features=512, bias=True)\n",
       "          )\n",
       "          (linear1): Linear(in_features=512, out_features=2048, bias=True)\n",
       "          (dropout): Dropout(p=0.1, inplace=False)\n",
       "          (linear2): Linear(in_features=2048, out_features=512, bias=True)\n",
       "          (norm1): LayerNorm((512,), eps=1e-05, elementwise_affine=True)\n",
       "          (norm2): LayerNorm((512,), eps=1e-05, elementwise_affine=True)\n",
       "          (norm3): LayerNorm((512,), eps=1e-05, elementwise_affine=True)\n",
       "          (dropout1): Dropout(p=0.1, inplace=False)\n",
       "          (dropout2): Dropout(p=0.1, inplace=False)\n",
       "          (dropout3): Dropout(p=0.1, inplace=False)\n",
       "        )\n",
       "        (2): TransformerDecoderLayer(\n",
       "          (self_attn): MultiheadAttention(\n",
       "            (out_proj): Linear(in_features=512, out_features=512, bias=True)\n",
       "          )\n",
       "          (multihead_attn): MultiheadAttention(\n",
       "            (out_proj): Linear(in_features=512, out_features=512, bias=True)\n",
       "          )\n",
       "          (linear1): Linear(in_features=512, out_features=2048, bias=True)\n",
       "          (dropout): Dropout(p=0.1, inplace=False)\n",
       "          (linear2): Linear(in_features=2048, out_features=512, bias=True)\n",
       "          (norm1): LayerNorm((512,), eps=1e-05, elementwise_affine=True)\n",
       "          (norm2): LayerNorm((512,), eps=1e-05, elementwise_affine=True)\n",
       "          (norm3): LayerNorm((512,), eps=1e-05, elementwise_affine=True)\n",
       "          (dropout1): Dropout(p=0.1, inplace=False)\n",
       "          (dropout2): Dropout(p=0.1, inplace=False)\n",
       "          (dropout3): Dropout(p=0.1, inplace=False)\n",
       "        )\n",
       "        (3): TransformerDecoderLayer(\n",
       "          (self_attn): MultiheadAttention(\n",
       "            (out_proj): Linear(in_features=512, out_features=512, bias=True)\n",
       "          )\n",
       "          (multihead_attn): MultiheadAttention(\n",
       "            (out_proj): Linear(in_features=512, out_features=512, bias=True)\n",
       "          )\n",
       "          (linear1): Linear(in_features=512, out_features=2048, bias=True)\n",
       "          (dropout): Dropout(p=0.1, inplace=False)\n",
       "          (linear2): Linear(in_features=2048, out_features=512, bias=True)\n",
       "          (norm1): LayerNorm((512,), eps=1e-05, elementwise_affine=True)\n",
       "          (norm2): LayerNorm((512,), eps=1e-05, elementwise_affine=True)\n",
       "          (norm3): LayerNorm((512,), eps=1e-05, elementwise_affine=True)\n",
       "          (dropout1): Dropout(p=0.1, inplace=False)\n",
       "          (dropout2): Dropout(p=0.1, inplace=False)\n",
       "          (dropout3): Dropout(p=0.1, inplace=False)\n",
       "        )\n",
       "        (4): TransformerDecoderLayer(\n",
       "          (self_attn): MultiheadAttention(\n",
       "            (out_proj): Linear(in_features=512, out_features=512, bias=True)\n",
       "          )\n",
       "          (multihead_attn): MultiheadAttention(\n",
       "            (out_proj): Linear(in_features=512, out_features=512, bias=True)\n",
       "          )\n",
       "          (linear1): Linear(in_features=512, out_features=2048, bias=True)\n",
       "          (dropout): Dropout(p=0.1, inplace=False)\n",
       "          (linear2): Linear(in_features=2048, out_features=512, bias=True)\n",
       "          (norm1): LayerNorm((512,), eps=1e-05, elementwise_affine=True)\n",
       "          (norm2): LayerNorm((512,), eps=1e-05, elementwise_affine=True)\n",
       "          (norm3): LayerNorm((512,), eps=1e-05, elementwise_affine=True)\n",
       "          (dropout1): Dropout(p=0.1, inplace=False)\n",
       "          (dropout2): Dropout(p=0.1, inplace=False)\n",
       "          (dropout3): Dropout(p=0.1, inplace=False)\n",
       "        )\n",
       "        (5): TransformerDecoderLayer(\n",
       "          (self_attn): MultiheadAttention(\n",
       "            (out_proj): Linear(in_features=512, out_features=512, bias=True)\n",
       "          )\n",
       "          (multihead_attn): MultiheadAttention(\n",
       "            (out_proj): Linear(in_features=512, out_features=512, bias=True)\n",
       "          )\n",
       "          (linear1): Linear(in_features=512, out_features=2048, bias=True)\n",
       "          (dropout): Dropout(p=0.1, inplace=False)\n",
       "          (linear2): Linear(in_features=2048, out_features=512, bias=True)\n",
       "          (norm1): LayerNorm((512,), eps=1e-05, elementwise_affine=True)\n",
       "          (norm2): LayerNorm((512,), eps=1e-05, elementwise_affine=True)\n",
       "          (norm3): LayerNorm((512,), eps=1e-05, elementwise_affine=True)\n",
       "          (dropout1): Dropout(p=0.1, inplace=False)\n",
       "          (dropout2): Dropout(p=0.1, inplace=False)\n",
       "          (dropout3): Dropout(p=0.1, inplace=False)\n",
       "        )\n",
       "      )\n",
       "      (norm): LayerNorm((512,), eps=1e-05, elementwise_affine=True)\n",
       "    )\n",
       "  )\n",
       ")"
      ]
     },
     "execution_count": 40,
     "metadata": {},
     "output_type": "execute_result"
    }
   ],
   "source": [
    "model"
   ]
  },
  {
   "cell_type": "markdown",
   "metadata": {},
   "source": [
    "Kaiming_Normal works terrribly, at least if you apply it to everything except LayerNorm...\n",
    "\n",
    "DistilBERT works ok\n",
    "\n",
    "Could try xavier:\n",
    "\n",
    "```\n",
    "def initialize_weights(m):\n",
    "    if hasattr(m, 'weight') and m.weight.dim() > 1:\n",
    "        nn.init.xavier_uniform_(m.weight.data)\n",
    "\n",
    "model.apply(initialize_weights);\n",
    "```"
   ]
  },
  {
   "cell_type": "markdown",
   "metadata": {},
   "source": [
    "**DistilBERT initialisation**"
   ]
  },
  {
   "cell_type": "code",
   "execution_count": 41,
   "metadata": {},
   "outputs": [],
   "source": [
    "# DistilERT HF init weights https://github.com/huggingface/transformers/blob/31e67dd19f1b3fe2bc9a13f86d814f3f7bba48e4/src/transformers/modeling_distilbert.py\n",
    "\n",
    "def distil_apply_leaf(m, f):\n",
    "    \"Apply `f` to children of `m`.\"\n",
    "    c = m.children()\n",
    "    if isinstance(m, nn.Module): f(m)\n",
    "    for l in c: apply_leaf(l,f)\n",
    "\n",
    "\n",
    "def _distilbert_init_weights(module):\n",
    "    \"\"\" Initialize the weights.\n",
    "    \"\"\"\n",
    "    if isinstance(module, nn.Embedding):\n",
    "        if module.weight.requires_grad:\n",
    "            module.weight.data.normal_(mean=0.0, std=0.02) #std=self.config.initializer_range)\n",
    "    if isinstance(module, nn.Linear):\n",
    "        module.weight.data.normal_(mean=0.0, std=0.02) #self.config.initializer_range)\n",
    "    elif isinstance(module, nn.LayerNorm):\n",
    "        module.bias.data.zero_()\n",
    "        module.weight.data.fill_(1.0)\n",
    "    if isinstance(module, nn.Linear) and module.bias is not None:\n",
    "        module.bias.data.zero_()\n",
    "\n",
    "distil_apply_leaf(model, _distilbert_init_weights)"
   ]
  },
  {
   "cell_type": "code",
   "execution_count": 42,
   "metadata": {},
   "outputs": [
    {
     "name": "stdout",
     "output_type": "stream",
     "text": [
      "The model has 86,650,168 trainable parameters\n"
     ]
    }
   ],
   "source": [
    "def count_parameters(model):\n",
    "    return sum(p.numel() for p in model.parameters() if p.requires_grad)\n",
    "\n",
    "print(f'The model has {count_parameters(model):,} trainable parameters')"
   ]
  },
  {
   "cell_type": "markdown",
   "metadata": {},
   "source": [
    "### Learner"
   ]
  },
  {
   "cell_type": "code",
   "execution_count": 43,
   "metadata": {
    "scrolled": true
   },
   "outputs": [],
   "source": [
    "cbs = [CombineInputOutputCallback, RemoveEOSCallback(eos_idx=3), LossTargetShiftCallback]\n",
    "\n",
    "pad_idx=1\n",
    "assert dls.vocab[1][pad_idx] == 'xxpad' \n",
    "loss_func = CrossEntropyLossFlat(ignore_index=pad_idx)\n",
    "\n",
    "# learn = Learner(dls, model, metrics=[accuracy, Perplexity(), CorpusBLEUMetric(vocab_sz=n_y_vocab)], \n",
    "#                 cbs=cbs, loss_func=loss_func).to_fp16()\n",
    "\n",
    "learn = Learner(dls, model, metrics=[accuracy, Perplexity()],\n",
    "                cbs=cbs, loss_func=loss_func).to_fp16()"
   ]
  },
  {
   "cell_type": "code",
   "execution_count": 44,
   "metadata": {},
   "outputs": [
    {
     "data": {
      "text/plain": [
       "<fastai2.learner.Learner at 0x7fdcc89549d0>"
      ]
     },
     "execution_count": 44,
     "metadata": {},
     "output_type": "execute_result"
    }
   ],
   "source": [
    "learn.load('paracrawl_en_ga_5e_5e-4_v0.2_exp3')"
   ]
  },
  {
   "cell_type": "markdown",
   "metadata": {},
   "source": [
    "# Training"
   ]
  },
  {
   "cell_type": "code",
   "execution_count": 49,
   "metadata": {
    "scrolled": true
   },
   "outputs": [
    {
     "data": {
      "text/html": [],
      "text/plain": [
       "<IPython.core.display.HTML object>"
      ]
     },
     "metadata": {},
     "output_type": "display_data"
    },
    {
     "data": {
      "text/plain": [
       "SuggestedLRs(lr_min=0.09120108485221863, lr_steep=0.7585775852203369)"
      ]
     },
     "execution_count": 49,
     "metadata": {},
     "output_type": "execute_result"
    },
    {
     "data": {
      "image/png": "[encoded data removed]",
      "text/plain": [
       "<Figure size 432x288 with 1 Axes>"
      ]
     },
     "metadata": {
      "needs_background": "light"
     },
     "output_type": "display_data"
    }
   ],
   "source": [
    "learn.lr_find()"
   ]
  },
  {
   "cell_type": "code",
   "execution_count": 50,
   "metadata": {
    "scrolled": true
   },
   "outputs": [
    {
     "data": {
      "text/html": [
       "<table border=\"1\" class=\"dataframe\">\n",
       "  <thead>\n",
       "    <tr style=\"text-align: left;\">\n",
       "      <th>epoch</th>\n",
       "      <th>train_loss</th>\n",
       "      <th>valid_loss</th>\n",
       "      <th>accuracy</th>\n",
       "      <th>perplexity</th>\n",
       "      <th>corpus_bleu</th>\n",
       "      <th>time</th>\n",
       "    </tr>\n",
       "  </thead>\n",
       "  <tbody>\n",
       "    <tr>\n",
       "      <td>0</td>\n",
       "      <td>1.554850</td>\n",
       "      <td>1.546601</td>\n",
       "      <td>0.522055</td>\n",
       "      <td>4.695483</td>\n",
       "      <td>0.356921</td>\n",
       "      <td>15:13</td>\n",
       "    </tr>\n",
       "    <tr>\n",
       "      <td>1</td>\n",
       "      <td>1.138924</td>\n",
       "      <td>1.223197</td>\n",
       "      <td>0.557345</td>\n",
       "      <td>3.398033</td>\n",
       "      <td>0.410255</td>\n",
       "      <td>15:13</td>\n",
       "    </tr>\n",
       "    <tr>\n",
       "      <td>2</td>\n",
       "      <td>0.847548</td>\n",
       "      <td>1.001877</td>\n",
       "      <td>0.587429</td>\n",
       "      <td>2.723388</td>\n",
       "      <td>0.457079</td>\n",
       "      <td>15:20</td>\n",
       "    </tr>\n",
       "    <tr>\n",
       "      <td>3</td>\n",
       "      <td>0.623473</td>\n",
       "      <td>0.859233</td>\n",
       "      <td>0.606302</td>\n",
       "      <td>2.361348</td>\n",
       "      <td>0.489300</td>\n",
       "      <td>15:22</td>\n",
       "    </tr>\n",
       "    <tr>\n",
       "      <td>4</td>\n",
       "      <td>0.549304</td>\n",
       "      <td>0.824682</td>\n",
       "      <td>0.611278</td>\n",
       "      <td>2.281156</td>\n",
       "      <td>0.499069</td>\n",
       "      <td>15:13</td>\n",
       "    </tr>\n",
       "  </tbody>\n",
       "</table>"
      ],
      "text/plain": [
       "<IPython.core.display.HTML object>"
      ]
     },
     "metadata": {},
     "output_type": "display_data"
    }
   ],
   "source": [
    "learn.fit_one_cycle(5, 5e-4, div=5)"
   ]
  },
  {
   "cell_type": "code",
   "execution_count": 51,
   "metadata": {},
   "outputs": [
    {
     "data": {
      "image/png": "[encoded data removed]",
      "text/plain": [
       "<Figure size 432x288 with 1 Axes>"
      ]
     },
     "metadata": {
      "needs_background": "light"
     },
     "output_type": "display_data"
    }
   ],
   "source": [
    "learn.recorder.plot_loss()"
   ]
  },
  {
   "cell_type": "code",
   "execution_count": 52,
   "metadata": {},
   "outputs": [],
   "source": [
    "learn.save('paracrawl_en_ga_5e_5e-4_v0.2_exp3')"
   ]
  },
  {
   "cell_type": "markdown",
   "metadata": {},
   "source": [
    "### Testing"
   ]
  },
  {
   "cell_type": "code",
   "execution_count": 45,
   "metadata": {},
   "outputs": [
    {
     "data": {
      "text/html": [
       "<div>\n",
       "<style scoped>\n",
       "    .dataframe tbody tr th:only-of-type {\n",
       "        vertical-align: middle;\n",
       "    }\n",
       "\n",
       "    .dataframe tbody tr th {\n",
       "        vertical-align: top;\n",
       "    }\n",
       "\n",
       "    .dataframe thead th {\n",
       "        text-align: right;\n",
       "    }\n",
       "</style>\n",
       "<table border=\"1\" class=\"dataframe\">\n",
       "  <thead>\n",
       "    <tr style=\"text-align: right;\">\n",
       "      <th></th>\n",
       "      <th>ga_id</th>\n",
       "      <th>ga</th>\n",
       "      <th>en_id</th>\n",
       "      <th>en</th>\n",
       "      <th>ga_len</th>\n",
       "    </tr>\n",
       "  </thead>\n",
       "  <tbody>\n",
       "    <tr>\n",
       "      <th>0</th>\n",
       "      <td>557291</td>\n",
       "      <td>Cá bhfuil críochfort na mbus?</td>\n",
       "      <td>35406</td>\n",
       "      <td>Where is the bus terminal?</td>\n",
       "      <td>5</td>\n",
       "    </tr>\n",
       "    <tr>\n",
       "      <th>1</th>\n",
       "      <td>557299</td>\n",
       "      <td>Nuair a dhúisigh mé, bhí brón orm.</td>\n",
       "      <td>1361</td>\n",
       "      <td>When I woke up, I was sad.</td>\n",
       "      <td>7</td>\n",
       "    </tr>\n",
       "    <tr>\n",
       "      <th>2</th>\n",
       "      <td>557533</td>\n",
       "      <td>Tosaíonn an t-oideachas sa bhaile.</td>\n",
       "      <td>19122</td>\n",
       "      <td>Education starts at home.</td>\n",
       "      <td>5</td>\n",
       "    </tr>\n",
       "    <tr>\n",
       "      <th>3</th>\n",
       "      <td>557579</td>\n",
       "      <td>Táim i ngrá leat.</td>\n",
       "      <td>1434</td>\n",
       "      <td>I love you.</td>\n",
       "      <td>4</td>\n",
       "    </tr>\n",
       "    <tr>\n",
       "      <th>4</th>\n",
       "      <td>934942</td>\n",
       "      <td>Tá grá agam duit.</td>\n",
       "      <td>1434</td>\n",
       "      <td>I love you.</td>\n",
       "      <td>4</td>\n",
       "    </tr>\n",
       "  </tbody>\n",
       "</table>\n",
       "</div>"
      ],
      "text/plain": [
       "    ga_id                                  ga  en_id  \\\n",
       "0  557291       Cá bhfuil críochfort na mbus?  35406   \n",
       "1  557299  Nuair a dhúisigh mé, bhí brón orm.   1361   \n",
       "2  557533  Tosaíonn an t-oideachas sa bhaile.  19122   \n",
       "3  557579                   Táim i ngrá leat.   1434   \n",
       "4  934942                   Tá grá agam duit.   1434   \n",
       "\n",
       "                           en  ga_len  \n",
       "0  Where is the bus terminal?       5  \n",
       "1  When I woke up, I was sad.       7  \n",
       "2   Education starts at home.       5  \n",
       "3                 I love you.       4  \n",
       "4                 I love you.       4  "
      ]
     },
     "execution_count": 45,
     "metadata": {},
     "output_type": "execute_result"
    }
   ],
   "source": [
    "t_path = Path('data/irish/parallel_corpora/tatoeba')\n",
    "t_fn = 'tatoeba_en-ga.csv'\n",
    "t_df = pd.read_csv(t_path/t_fn)\n",
    "\n",
    "t_df['ga_len'] = t_df.ga.str.split().str.len()\n",
    "t_df.head()"
   ]
  },
  {
   "cell_type": "code",
   "execution_count": 205,
   "metadata": {
    "scrolled": true
   },
   "outputs": [],
   "source": [
    "# # at 30k tokens per vocab sometimes this works, sometimes it doesn't\n",
    "\n",
    "# # Couldnt process 30k tokens until I added the 'hi' below, it was getting stuck at 94.87%, no idea why\n",
    "# @Numericalize\n",
    "# def encodes(self, o): \n",
    "#     print('hi')\n",
    "#     return TensorText(tensor([self.o2i  [o_] for o_ in o]))\n",
    "\n",
    "# class floatify_tfm(Transform):\n",
    "#     def encodes(self,o): return o.float()\n",
    "#     def decodes(self,o): return o.long()\n",
    "\n",
    "# max_vocab=30000\n",
    "# #splits = ColSplitter()(df) \n",
    "# #splits = RandomSplitter(valid_pct=0.2, seed=42)(t_df)\n",
    "# splits = [list(range(len(t_df))),list(range(len(t_df)))]\n",
    "\n",
    "# # tfms = [[Tokenizer.from_df(text_cols='en' , rules=proc_rules), attrgetter(\"text\"), \n",
    "# #          Numericalize(max_vocab=max_vocab, vocab=dls.vocab[0])], \n",
    "# #        [Tokenizer.from_df(text_cols='ga', lang='ga', rules=proc_rules), attrgetter(\"text\"), \n",
    "# #         Numericalize(max_vocab=max_vocab, vocab=dls.vocab[1])]]\n",
    "\n",
    "# tfms = [[Tokenizer.from_df(text_cols='en' , rules=proc_rules), attrgetter(\"text\"), \n",
    "#          Numericalize(max_vocab=max_vocab, vocab=dls.vocab[0])],[]] \n",
    "\n",
    "# #t_dl = partial(SortedDL, shuffle=True, res=t_df.ga_len.values)\n",
    "\n",
    "# t_dsets = Datasets(t_df, tfms, splits=splits, dl_type=SortedDL)\n",
    "\n",
    "# # remove the print from Numericalize\n",
    "# @Numericalize\n",
    "# def encodes(self, o): return TensorText(tensor([self.o2i  [o_] for o_ in o]))\n",
    "\n",
    "# # Create Dataloaders\n",
    "# #t_dls = t_dsets.dataloaders(bs=bs, seq_len=sl, before_batch=partial(pad_input, pad_fields=[0,1]))\n",
    "# t_dls = t_dsets.dataloaders(bs=bs, seq_len=sl, before_batch=pad_input) # partial(pad_input, pad_fields=[0]))\n",
    "# t_dls.show_batch()"
   ]
  },
  {
   "cell_type": "code",
   "execution_count": null,
   "metadata": {},
   "outputs": [],
   "source": [
    "# learn.dls.test_dl = t_dls.valid\n",
    "# def act_fn(x): return L(F.softmax(o, dim=-1) for o in x)\n",
    "# o = learn.get_preds(dl=t_dls.valid, act=act_fn)"
   ]
  },
  {
   "cell_type": "code",
   "execution_count": null,
   "metadata": {},
   "outputs": [],
   "source": [
    "def process_trans(trans):\n",
    "    trans_ls=[]\n",
    "    for s in trans: \n",
    "        #print(s)\n",
    "        tmp = s.replace('xxbos','')\n",
    "        tmp = tmp.replace('xxeos','')\n",
    "        tmp = tmp.replace(' .','.')\n",
    "        tmp = tmp.replace(' ,',',')\n",
    "        tmp = tmp.replace(' ?','?')\n",
    "        tmp = tmp.replace(' !','!')\n",
    "        #print(tmp[0])\n",
    "        if tmp.endswith('. '): tmp=tmp[:-1]\n",
    "        if tmp.endswith('? '): tmp=tmp[:-1]\n",
    "        if tmp.endswith('! '): tmp=tmp[:-1]\n",
    "        \n",
    "        for spec in ['xxmaj ', 'xxup ']:\n",
    "            found=[]\n",
    "            for m in re.finditer(spec, tmp):\n",
    "                found.append(m.start())\n",
    "\n",
    "            for f in found:\n",
    "                m = tmp.find(spec)\n",
    "                if m != -1:   \n",
    "                    ml = m+len(spec)\n",
    "                    if m != 0:\n",
    "                        tmp = tmp[:ml] + tmp[ml].upper() + tmp[ml+1:]\n",
    "                        tmp = tmp[:m] + tmp[ml:]\n",
    "                    else: \n",
    "                        tmp = tmp[ml].upper() + tmp[ml+1:]\n",
    "                        tmp = tmp[ml:]\n",
    "        \n",
    "        # Remove space at start\n",
    "        if tmp[0] == ' ': tmp = tmp[1:]\n",
    "            \n",
    "        # Uppercase start of sentence\n",
    "        #tmp = tmp[0].upper() + tmp[1:]\n",
    "            \n",
    "        trans_ls.append(tmp)\n",
    "    return trans_ls"
   ]
  },
  {
   "cell_type": "markdown",
   "metadata": {},
   "source": [
    "Generate translations"
   ]
  },
  {
   "cell_type": "code",
   "execution_count": 187,
   "metadata": {},
   "outputs": [
    {
     "data": {
      "text/plain": [
       "'xxbos xxup tá mé réidh don deireadh seachtaine ! xxeos'"
      ]
     },
     "execution_count": 187,
     "metadata": {},
     "output_type": "execute_result"
    }
   ],
   "source": [
    "generate(learn.model, \"I'm ready for the weekend!\", dls.vocab[1])"
   ]
  },
  {
   "cell_type": "code",
   "execution_count": 98,
   "metadata": {
    "scrolled": true
   },
   "outputs": [
    {
     "data": {
      "text/plain": [
       "['xxbos xxmaj an bhfuil an críochfort bus ? xxeos',\n",
       " 'xxbos xxmaj nuair a xxunk mé suas , bhí mé brónach . xxeos',\n",
       " 'xxbos xxmaj tosaíonn xxmaj oideachas sa bhaile . xxeos',\n",
       " 'xxbos xxmaj grá i tú . xxeos',\n",
       " 'xxbos xxmaj grá i tú . xxeos',\n",
       " 'xxbos xxup tá mé i ngrá le tú . xxeos',\n",
       " 'xxbos xxmaj glan ár seomra ranga tar éis na scoile . xxeos',\n",
       " 'xxbos xxmaj nach bhfuil muid ag comhlíonadh roimh ? xxeos',\n",
       " 'xxbos xxmaj nach bhfuil muid ag comhlíonadh roimh ? xxeos',\n",
       " 'xxbos xxmaj féach mé do cat sa ghairdín . xxeos',\n",
       " 'xxbos xxmaj go raibh maith go raibh maith agat ! xxeos',\n",
       " 'xxbos xxmaj go raibh maith go raibh maith agat ! xxeos',\n",
       " 'xxbos xxmaj go raibh maith go raibh maith agat ! xxeos',\n",
       " 'xxbos xxmaj gach na leabhair seo tá siad mianach . xxeos',\n",
       " 'xxbos xxup ná déan dhá rud ag am . xxeos',\n",
       " 'xxbos xxmaj beidh sé ag scríobh litir . xxeos',\n",
       " 'xxbos xxmaj londain , an caipiteal xxmaj shasana , ar an xxmaj xxunk . xxeos',\n",
       " 'xxbos xxmaj stop sé ag léamh leabhar . xxeos',\n",
       " 'xxbos xxmaj ba mhaith liom labhairt le do uncail . xxeos',\n",
       " 'xxbos xxmaj an bhfuil aon rud a deoch sa cuisneoir ? xxeos',\n",
       " 'xxbos xxmaj is féidir liom léamh go héasca xxmaj spáinnis go héasca . xxeos',\n",
       " 'xxbos xxmaj fuair bás xxmaj xxunk dhá bhliain ó shin . xxeos',\n",
       " 'xxbos xxmaj déan dom cupán i cupán caife . xxeos',\n",
       " 'xxbos xxmaj is leabhar sin dá gcuid xxunk . xxeos',\n",
       " 'xxbos xxup tá sé ag iarraidh ar xxunk . xxeos',\n",
       " 'xxbos xxup ná lig aon duine isteach sa seomra . xxeos',\n",
       " 'xxbos xxup tá mé xxunk . xxeos',\n",
       " 'xxbos xxup tá mé tuirseach . xxeos',\n",
       " 'xxbos xxmaj beidh mé ag imirt leadóige an tráthnóna . xxeos',\n",
       " 'xxbos xxmaj cuir an gunna ar an tábla . xxeos',\n",
       " 'xxbos xxmaj bhí sé in ann a léamh ar an leabhar . xxeos',\n",
       " 'xxbos xxmaj mo athair agus máthair bhfuil feirme mór ann . xxeos',\n",
       " 'xxbos xxup tá a xxunk xxunk liath . xxeos',\n",
       " 'xxbos xxup ní mór duit na ceisteanna seo a fhreagairt . xxeos',\n",
       " 'xxbos xxmaj an bhfuil tú tuirseach ? xxeos',\n",
       " 'xxbos xxmaj xxunk grá . xxeos',\n",
       " 'xxbos xxmaj agus anois ? xxeos',\n",
       " 'xxbos xxmaj xxunk mo lámh mo lámh . xxeos',\n",
       " 'xxbos xxmaj chuaigh siad go dtí an xxunk ag inné bus inné . xxeos',\n",
       " 'xxbos xxmaj chonaic muid scannán greannmhar xxup dé xxmaj domhnaigh seo caite . xxeos',\n",
       " 'xxbos xxup tá mé trí mhac . xxmaj ceann amháin i nua - eabhrac , ach tá na daoine eile i xxmaj londain . xxeos',\n",
       " 'xxbos xxmaj foilsíodh an chéad eagrán deich mbliana ó shin . xxeos',\n",
       " 'xxbos xxmaj is xxmaj veinéis cathair ar uisce . xxeos',\n",
       " 'xxbos xxup tá sé eagla ar a athair . xxeos',\n",
       " 'xxbos xxup ní mór dúinn pholaitíocht ar leith ó reiligiún . xxeos',\n",
       " 'xxbos xxmaj beidh sí ag teacht go luath . xxeos',\n",
       " 'xxbos xxmaj beidh sí teacht gan mhoill . xxeos',\n",
       " 'xxbos xxmaj rinne sé rud an - xxunk xxunk . xxeos',\n",
       " 'xxbos ó , cad é seo ? xxeos',\n",
       " 'xxbos xxup tá mé níos mó álainn ná tú . xxeos',\n",
       " 'xxbos xxup tá mé níos mó álainn ná tú . xxeos',\n",
       " 'xxbos xxmaj an bhfuil xxmaj béarla labhartha i gceanada ? xxeos',\n",
       " 'xxbos xxmaj tús i amárach . xxeos',\n",
       " 'xxbos xxmaj maireachtáil mé san óstán . xxeos',\n",
       " 'xxbos xxup tá sé i xxmaj tóiceo . xxeos',\n",
       " \"xxbos xxmaj d'fhág sé xxmaj tóiceo do xxmaj xxunk . xxeos\",\n",
       " 'xxbos xxmaj is xxmaj tóiceo cathair an - mhór . xxeos',\n",
       " 'xxbos xxup tá sé do leabhar . xxeos',\n",
       " 'xxbos xxup tá sé do leabhar . xxeos',\n",
       " 'xxbos xxup tá sé ró - bheag . xxeos',\n",
       " \"xxbos xxmaj d'fhan sí ag óstán . xxeos\",\n",
       " 'xxbos xxmaj conas a lán gluaisteáin a bhfuil tú ? xxeos',\n",
       " 'xxbos xxmaj táimid nuachtán a ghlacadh . xxeos',\n",
       " 'xxbos xxup ní gach duine xxmaj béarla cosúil le iasc agus sliseanna . xxeos',\n",
       " 'xxbos xxup ní deoch alcól deoch . xxeos',\n",
       " 'xxbos xxup tá a fhios aige an chathair go maith . xxeos',\n",
       " 'xxbos xxmaj dia dia dia dia duit ! xxeos',\n",
       " 'xxbos xxmaj is é mo dheartháir anois san xxmaj astráil . xxeos',\n",
       " 'xxbos xxmaj seacht dollar , le do thoil . xxeos',\n",
       " 'xxbos xxmaj mo uncail thug sé a láthair . xxeos',\n",
       " 'xxbos xxmaj thug an múinteoir dúinn a lán de na obair bhaile . xxeos',\n",
       " 'xxbos xxmaj cad atá á déanamh agat ? xxeos',\n",
       " 'xxbos xxup ná rith sa seomra seo . xxeos',\n",
       " 'xxbos xxmaj is é mo theach in aice an stáisiún . xxeos',\n",
       " 'xxbos xxmaj tiomáint go sábháilte . xxeos',\n",
       " 'xxbos xxmaj beidh mé a bheith xxunk an tráthnóna . xxeos',\n",
       " 'xxbos xxup tá sí ina iníon a bhfuil a ainm xxmaj máire . xxeos',\n",
       " 'xxbos xxup tá sé an - sásta ! xxeos',\n",
       " 'xxbos xxmaj íoctha mé cúig dollar don leabhar . xxeos',\n",
       " 'xxbos xxup tá siad dhá iníonacha . xxeos',\n",
       " 'xxbos xxmaj ba mhaith liom a ghlacadh seo donn cheangal . xxeos',\n",
       " 'xxbos xxmaj is xxmaj páras ar chaipiteal na xxmaj fraince . xxeos',\n",
       " 'xxbos xxup ní xxmaj caint sa leabharlann a cheadaítear . xxeos',\n",
       " 'xxbos xxup tá tú faoi bhun trí cupáin cupáin de caife . xxeos',\n",
       " 'xxbos xxup tá mé go maith . xxeos',\n",
       " 'xxbos xxmaj éin ar tréad xxunk le chéile . xxeos',\n",
       " 'xxbos xxmaj aithníonn xxunk amháin xxunk eile . xxeos',\n",
       " 'xxbos xxmaj tógann sé ar cheann a fhios a ceann . xxeos',\n",
       " 'xxbos xxup tá mé ag dul go dtí an siopa . xxeos',\n",
       " 'xxbos xxmaj smaointe xxmaj dath codlata xxunk glas xxunk . xxeos',\n",
       " \"xxbos xxmaj an bhfuil tú deich mbliana d'aois ? xxeos\",\n",
       " 'xxbos xxmaj bhí na páistí ag imirt sa pháirc . xxeos',\n",
       " 'xxbos xxup tá mé sa chlub leadóige . xxeos',\n",
       " 'xxbos xxup tá . xxup tá . xxeos',\n",
       " 'xxbos xxup tá sé . xxeos',\n",
       " 'xxbos xxmaj thóg siad fháil ar fud an bhfeirm . xxeos',\n",
       " 'xxbos xxmaj bhí sí bróga xxunk ar . xxeos',\n",
       " 'xxbos xxmaj conas sean atá tú ? xxeos',\n",
       " 'xxbos xxmaj is xxmaj amstardam an chathair caipitil na hísiltíre . xxeos',\n",
       " 'xxbos xxup tá tú xxunk . xxeos',\n",
       " 'xxbos xxmaj na laethanta atá ag fáil níos faide agus níos faide . xxeos',\n",
       " 'xxbos xxup ní gá duit teacht chuig an oifig ar an xxmaj satharn . xxeos',\n",
       " 'xxbos xxmaj is é an oighear an - tiubh . xxeos',\n",
       " 'xxbos xxmaj nuair a chuaigh xxmaj máire isteach an seomra , xxmaj jack stop go tobann ag caint . xxeos',\n",
       " 'xxbos xxmaj téann mé go dtí xxunk uair sa tseachtain . xxeos',\n",
       " 'xxbos xxup tá an post - oifig suite i lár an bhaile . xxeos',\n",
       " 'xxbos xxmaj bhí mé ar teachtadh an chomhbheart ach amháin go raibh an halla fuar . xxeos',\n",
       " 'xxbos xxmaj an bhfuil tú ag cruinniú duine éigin anseo ? xxeos',\n",
       " 'xxbos xxup tá mé breoite . xxeos',\n",
       " 'xxbos xxup tá mé breoite . xxeos',\n",
       " 'xxbos xxmaj níl sé xxunk eolaíocht xxunk . xxeos',\n",
       " 'xxbos xxmaj tar ar xxmaj aghaidh agus cúnamh dom . xxeos',\n",
       " 'xxbos xxmaj fuair sí i tacsaí . xxeos',\n",
       " 'xxbos xxmaj fuair mé amach as an tacsaí . xxeos',\n",
       " 'xxbos xxmaj bhí timpiste . xxeos',\n",
       " 'xxbos xxup ní bheidh mé eagla . xxeos',\n",
       " 'xxbos xxup tá mé eagla . xxeos',\n",
       " 'xxbos xxup tá mé eagla nach bhfuil muid i xxmaj xxunk níos mó , dúirt xxmaj paul . xxeos',\n",
       " 'xxbos xxup tá mé eagla nach bhfuil muid i xxmaj xxunk níos mó , dúirt xxmaj paul . xxeos',\n",
       " 'xxbos xxup tá mé eagla ar an bus . xxeos',\n",
       " 'xxbos xxup tá mé ina gcónaí in xxmaj albain . xxeos',\n",
       " 'xxbos xxup tá sé seo éasca . xxeos',\n",
       " 'xxbos xxup tá sé seo deacair . xxeos',\n",
       " 'xxbos xxmaj is é an fear a fheiceann mé an - airde . xxeos',\n",
       " 'xxbos xxmaj an fear a fheiceáil go bhfuil an - ard ar airde . xxeos',\n",
       " 'xxbos xxmaj an raibh an leabhar a léamh go bhfuair tú an duais ? xxeos',\n",
       " 'xxbos xxmaj beidh mé cóip a thabhairt do dhuine ar bith a iarrann sé air . xxeos',\n",
       " 'xxbos xxmaj beidh mé ag tacaíocht a thabhairt do dhuine ar bith ar gach duine a iarrann sé dom . xxeos',\n",
       " 'xxbos xxmaj bhí cónaí mé sa teach mo athair tógtha . xxeos',\n",
       " 'xxbos xxmaj beidh mé a thabhairt duit go alt airteagal . xxeos',\n",
       " 'xxbos xxmaj beidh mé a thabhairt duit an t - alt i scríobh mé ar an ábhar sin . xxeos',\n",
       " 'xxbos xxmaj ghearradh sé leis an scian . xxeos',\n",
       " 'xxbos xxmaj ghearradh sé leis an scian gur ghlac sé mar láthair óna dheartháir a fuair sé . xxeos',\n",
       " 'xxbos xxmaj ghearradh sé leis an scian gur fuair sé mar bhronntanas as a dheartháir . xxeos',\n",
       " 'xxbos xxmaj cheannaigh siad teach i xxmaj chonamara bliain anuas . xxeos',\n",
       " 'xxbos xxmaj cheannaigh siad teach an bhliain seo caite san áit ina bhfuil muid ag dul ar saoire . xxeos',\n",
       " 'xxbos xxmaj an bhean a bhfuil an doras ina dhiaidh sin ag obair don stát - sheirbhís anois . xxeos',\n",
       " 'xxbos xxup tá fear ar an doras ag iarraidh a labhairt leat . xxeos',\n",
       " 'xxbos xxup tá fear ar an doras ag iarraidh a labhairt leat . xxeos',\n",
       " 'xxbos xxup tá fear ar an doras ag iarraidh labhairt leat . xxeos',\n",
       " 'xxbos xxmaj chonaic sé cara sean seachtain seo caite nach raibh sé le feiceáil i mblianta . xxeos',\n",
       " 'xxbos xxmaj seachtain anuas chonaic sé cara sean nach raibh sé le feiceáil i mblianta . xxeos',\n",
       " 'xxbos xxmaj shíl mé chonaic mé duine éigin ann . xxeos',\n",
       " 'xxbos xxmaj shíl mé go chonaic mé go raibh duine éigin ann . xxeos',\n",
       " 'xxbos xxmaj is xxmaj xxunk an duine a cheap mé . xxeos',\n",
       " 'xxbos xxmaj is xxmaj cláraitheoir na xxmaj guy a cheap mé mé . xxeos',\n",
       " 'xxbos xxup tá sé ag déanamh rud éigin ann . xxeos',\n",
       " 'xxbos xxup tá siad ag déanamh rud éigin nó eile anseo . xxeos',\n",
       " 'xxbos xxmaj is maith liom an pictiúr a fheiceann mé ann . xxeos',\n",
       " 'xxbos xxmaj is maith liom an pictiúr tá mé ag faire anois . xxeos',\n",
       " 'xxbos xxmaj an mbeidh tú an obair nach raibh xxmaj xxunk a dhéanamh ? xxeos',\n",
       " \"xxbos xxmaj na daoine a d'fhág inné ó xxmaj albain . xxeos\",\n",
       " 'xxbos xxup ní chuireann sí cosúil leis an mbia a dhéanann xxmaj xxunk . xxeos',\n",
       " 'xxbos xxup ní chuireann sí cosúil leis an mbia a dhéanann xxmaj xxunk . xxeos',\n",
       " 'xxbos xxmaj déanann xxmaj xxunk an bia gur fearr liom . xxeos',\n",
       " 'xxbos xxmaj is maith liom an bia a dhéanann xxmaj xxunk fearr . xxeos',\n",
       " 'xxbos xxup ní dhéanann sí taitneamh as an mbia a dhéanann xxmaj xxunk as a cuid . xxeos',\n",
       " 'xxbos xxmaj an sagart a labhraíonn xxmaj fraince a bheith anseo ina dhiaidh seachtain amach romhainn . xxeos',\n",
       " 'xxbos xxmaj chomh maith leis sin pósta an fear a fuair duais an chéad . xxeos',\n",
       " 'xxbos xxmaj is xxmaj xxunk an duine a xxunk an obair . xxeos',\n",
       " 'xxbos xxmaj is xxmaj xxunk dócha an ceann a bheidh an obair a chríochnú . xxeos',\n",
       " 'xxbos xxup ní féidir liom tuiscint a fháil ar na ceisteanna a iarrann an múinteoir . xxeos',\n",
       " 'xxbos xxup ní féidir liom tuiscint a fháil ar na ceisteanna go leagann an múinteoir . xxeos',\n",
       " 'xxbos xxmaj cheannaigh mé leabhar a bheidh an - suimiúil . xxeos',\n",
       " 'xxbos xxmaj cad a bheidh ag tarlú ar an xxmaj déardaoin ? xxeos',\n",
       " 'xxbos xxmaj cad a dhéanann tú i xxmaj londain ? xxeos',\n",
       " 'xxbos xxup cé nach raibh anseo ? xxeos',\n",
       " 'xxbos xxmaj cad nach raibh a cheannach aige ? xxeos',\n",
       " 'xxbos xxmaj cén ceann a dhéanann fearr leat ? xxeos',\n",
       " 'xxbos xxmaj cén ceann acu a dhéanann fearr leat ? xxeos',\n",
       " 'xxbos xxmaj cén bia a dhéanann fearr leat ? xxeos',\n",
       " 'xxbos xxmaj cad é do bhia is fearr is féidir ? xxeos',\n",
       " 'xxbos xxmaj cén daoine a bheidh anseo ? xxeos',\n",
       " 'xxbos xxup cé atá ag dul a bheith anseo ? xxeos',\n",
       " 'xxbos xxup cé a bhí ag caint le bean a ? xxeos',\n",
       " 'xxbos xxup cé a bhí tú ag caint le ? xxeos',\n",
       " 'xxbos xxmaj nuair a bhí sé anseo roimhe ? xxeos',\n",
       " 'xxbos xxmaj nuair a bheidh an t - am deireanach a bhí sé anseo ? xxeos',\n",
       " 'xxbos xxmaj nuair a bheidh tú ag teacht ar ais ? xxeos',\n",
       " 'xxbos xxmaj cén uair a thagann tú ar ais ? xxeos',\n",
       " 'xxbos xxmaj cén fhad a bheidh siad fanacht ? xxeos',\n",
       " 'xxbos xxmaj conas is minic a dhéanann tú a fheiceáil ? xxeos',\n",
       " 'xxbos xxmaj conas a oibríonn an obair ag dul ? xxeos',\n",
       " 'xxbos xxmaj conas atá an obair ag dul ar aghaidh ? xxeos',\n",
       " 'xxbos xxmaj conas a bhí an oíche ? xxeos',\n",
       " 'xxbos xxmaj cad a bheidh tú a ól ? xxeos',\n",
       " 'xxbos xxmaj cad a bheidh tú deoch ? xxeos',\n",
       " 'xxbos xxmaj cad a bheidh tú a ól ? xxeos',\n",
       " 'xxbos xxup cé acu sin ? xxeos',\n",
       " 'xxbos xxmaj cén nuachtán a bheadh fearr leat ? xxeos',\n",
       " 'xxbos xxmaj cad a bheadh nuachtán ba fearr leat ? xxeos',\n",
       " 'xxbos xxup cé a bhfuil cónaí sa teach sin ? xxeos',\n",
       " 'xxbos xxup cé a bhfuil cónaí sa teach seo ? xxeos',\n",
       " 'xxbos xxup cé acu a rinne scannán a fheiceann tú ? xxeos',\n",
       " 'xxbos xxmaj cén scannán a rinne xxunk fheiceáil ? xxeos',\n",
       " 'xxbos a bhfuil a bhia seo ? xxeos',\n",
       " 'xxbos xxup cé leis an bia seo a bheith ar úinéireacht acu ? xxeos',\n",
       " 'xxbos xxmaj cad a dhéanann sí sa samhradh ? xxeos',\n",
       " 'xxbos xxmaj cén chaoi a raibh tú é ? xxeos',\n",
       " 'xxbos xxup cé a fheiceann tú ag an xxunk ? xxeos',\n",
       " 'xxbos xxmaj cheannaigh mé carr i xxmaj 1909 inné inné . xxeos',\n",
       " 'xxbos xxmaj cheannaigh mé carr i xxmaj 1909 inné inné . xxeos',\n",
       " 'xxbos xxmaj is carr a cheannaigh mé i xxunk xxmaj inné . xxeos',\n",
       " 'xxbos xxup tá sé i xxmaj 1909 go cheannaigh mé inné . xxeos',\n",
       " 'xxbos xxmaj beidh mé chaitheamh ar an gúna gorm gúna . xxeos',\n",
       " 'xxbos xxmaj beidh mé chaitheamh ar an gúna gorm gúna . xxeos',\n",
       " 'xxbos xxmaj beidh mé chaitheamh ar an gúna gorm gúna . xxeos',\n",
       " 'xxbos xxup tá sé do pháistí a bhí déanach . xxeos',\n",
       " 'xxbos xxmaj beidh muid ag fágáil amárach amárach . xxeos',\n",
       " 'xxbos xxmaj cheannaigh mé an carr . xxeos',\n",
       " 'xxbos xxmaj bhí mé ag caint le mo theaghlach . xxeos',\n",
       " 'xxbos xxmaj is é an xxunk a dhéanamh . xxeos',\n",
       " 'xxbos xxmaj bhris sé an fhuinneog . xxeos',\n",
       " 'xxbos xxmaj beidh tú titim ! xxeos',\n",
       " 'xxbos xxmaj is é an bhfíric , bhris sé an fhuinneog . xxeos',\n",
       " 'xxbos xxup tá tú ag dul i ndáiríre a thagann ! xxeos',\n",
       " 'xxbos xxmaj cad a dúirt sé go raibh sé sásta go raibh sé sásta . xxeos',\n",
       " 'xxbos xxmaj cad a chonaic tú a bhí aighneacht aighneacht seachtainiúil . xxeos',\n",
       " 'xxbos xxmaj an ceann a rinne sé xxunk . xxeos',\n",
       " 'xxbos xxmaj an ceann a rinne sé xxunk . xxeos',\n",
       " 'xxbos xxmaj cad a bhí siad briseadh an fhuinneog . xxeos',\n",
       " 'xxbos xxmaj cad is féidir liom a dhéanamh glan an seomra . xxeos',\n",
       " 'xxbos xxmaj cad is féidir liom a dhéanamh : xxmaj beidh mé glan an seomra . xxeos',\n",
       " 'xxbos xxmaj an mbeidh tú ag teacht i ndáiríre ? xxeos',\n",
       " 'xxbos xxmaj an bhfuil sé xxmaj xxunk go bhfuil ag obair ? xxeos',\n",
       " 'xxbos xxmaj an bhfuil tú ag obair ? xxeos',\n",
       " 'xxbos xxmaj an bhfuil sé tú a cheannach ar an mbia ? xxeos',\n",
       " 'xxbos xxmaj an raibh siad ag teacht inniu ? xxeos',\n",
       " 'xxbos xxup tá sé iriseoir . xxeos',\n",
       " 'xxbos xxmaj is xxmaj sleachta xxmaj iontaobhas mo dheartháir . xxeos',\n",
       " 'xxbos xxmaj is xxmaj inné nuair a cheannaigh mé carr . xxeos',\n",
       " 'xxbos xxmaj is carr a cheannaigh mé . xxeos',\n",
       " 'xxbos xxmaj cad ba mhaith liom anois uachtar reoite . xxeos',\n",
       " 'xxbos xxmaj beidh tú ag briseadh do xxunk ! xxeos',\n",
       " 'xxbos xxmaj is é mo dheartháir ollamh . xxeos',\n",
       " 'xxbos xxmaj bhuail mé le xxmaj xxunk sa xxmaj spáinn . xxeos',\n",
       " 'xxbos xxup tá sé amárach go bhfuil tú ag fágáil , nach bhfuil sé ? xxeos',\n",
       " 'xxbos xxup tá airgead xxmaj xxunk . xxeos',\n",
       " 'xxbos xxup ní raibh sé dom go ith an píosa deiridh de císte . xxeos',\n",
       " 'xxbos xxup tá sé lá álainn . xxeos',\n",
       " 'xxbos xxmaj beidh muid ag saoire ag ocht a chlog . xxeos',\n",
       " 'xxbos xxmaj chonaic mé xxmaj xxunk ag an leabharlann , ní xxmaj xxunk . xxeos',\n",
       " 'xxbos xxmaj is é sin an teach a fanacht mé i . xxeos',\n",
       " 'xxbos xxmaj is é sin an bhean fanacht siad le . xxeos',\n",
       " 'xxbos xxmaj is iad siúd na leanaí a bheidh tú a thabhairt ar an leabhar a thabhairt . xxeos',\n",
       " 'xxbos xxup cé hiad na daoine a chonaic mé léi ? xxeos',\n",
       " 'xxbos xxmaj is é an fear go mbeidh tú a fháil ar litir ó lá saoire anois . xxeos',\n",
       " 'xxbos xxmaj féach mé na páistí a bhí fuar . xxeos',\n",
       " 'xxbos xxmaj an é sin an bhean a fhios ag an freagra ? xxeos',\n",
       " 'xxbos xxmaj sin an fear a fuair bás a bhanchéile . xxeos',\n",
       " 'xxbos xxmaj sin an bhean a bhfuil a mac breoite . xxeos',\n",
       " 'xxbos xxmaj sin an bhean a bhfuil a mac breoite . xxeos',\n",
       " \"xxbos xxmaj sin an teach d'fhan mé i . xxeos\",\n",
       " \"xxbos xxmaj sin an bhean d'fhan siad le . xxeos\",\n",
       " 'xxbos xxmaj is iad siúd a thug tú na páistí an leabhar a . xxeos',\n",
       " 'xxbos xxmaj iad siúd iad siúd a bhfuil a charr a dheisiú mé . xxeos',\n",
       " 'xxbos xxmaj sin an teach a bhí cónaí orthu i . xxeos',\n",
       " 'xxbos xxmaj sin an bhean fuair mé teachtaireacht ó . xxeos',\n",
       " 'xxbos xxmaj is é an carr xxmaj brian . xxeos',\n",
       " 'xxbos xxup cé acu teach fanacht tú i ? xxeos',\n",
       " 'xxbos xxup cé a dhéanann bean fanacht leat ? xxeos',\n",
       " 'xxbos xxmaj cén múinteoirí a bhí tú ag caint ? xxeos',\n",
       " 'xxbos xxup cé a rinne cathaoirleach tú an leabhar ar ? xxeos',\n",
       " 'xxbos xxup cé a mac bhean na ndaoine breoite ? xxeos',\n",
       " 'xxbos xxup cé a dhéanann tú fanacht le ? xxeos',\n",
       " 'xxbos xxmaj cén t - a dtabharfaidh tú an leabhar ? xxeos',\n",
       " 'xxbos xxmaj cad a bhí tú ag caint faoi ? xxeos',\n",
       " 'xxbos a bhfuil a leabhar anseo ? xxeos',\n",
       " 'xxbos a bhfuil sé ? xxeos',\n",
       " 'xxbos xxmaj conas a rinne sé é ? xxeos',\n",
       " 'xxbos xxmaj conas a dhéanann tú é sin ? xxeos',\n",
       " 'xxbos xxmaj cén fáth go bhfuil siad anseo ? xxeos',\n",
       " 'xxbos xxmaj cén uair a bheidh sé anseo ? xxeos',\n",
       " 'xxbos xxmaj más rud é go raibh tú ar an oíche deireanach ? xxeos',\n",
       " 'xxbos xxmaj beidh mé le chéile amárach . xxeos',\n",
       " 'xxbos xxmaj fíneáil . xxmaj más rud é ? xxeos',\n",
       " 'xxbos xxup cé acu teach cónaí orthu i ? xxeos',\n",
       " 'xxbos xxmaj gortaítear sé i ndáiríre é féin . xxeos',\n",
       " 'xxbos xxmaj an raibh tú ag siúl ón bus ? xxeos',\n",
       " 'xxbos xxmaj bláthanna dhíoltar ann . xxeos',\n",
       " 'xxbos xxmaj is xxmaj fraincis labhartha san xxmaj eilvéis . xxeos',\n",
       " 'xxbos xxup ní xxunk i bhfad xxunk a bhí ann . xxeos',\n",
       " 'xxbos xxmaj an bhfuil xxmaj gearmáinis labhartha freisin ? xxeos',\n",
       " 'xxbos xxmaj deir siad go bhfuil sé te anseo . xxeos',\n",
       " 'xxbos xxmaj deir siad go bhfuil sé te anseo . xxeos',\n",
       " 'xxbos xxup tá sé sin a bheith te anseo . xxeos',\n",
       " 'xxbos xxmaj faigheann siad suas go luath sa teach seo . xxeos',\n",
       " 'xxbos xxmaj beidh an cárta - imirt anocht . xxeos',\n",
       " 'xxbos xxup ní mór amháin dul abhaile . xxeos',\n",
       " 'xxbos xxmaj bhí xxmaj innéacs gortaithe i timpiste . xxeos',\n",
       " 'xxbos xxmaj níor xxunk aon duine eile a bhí gortaithe . xxeos',\n",
       " 'xxbos xxmaj an gloine fuair briste . xxeos',\n",
       " 'xxbos xxmaj cuireadh freagra ar an gceist . xxeos',\n",
       " 'xxbos xxup ní bhfuarthas é . xxeos',\n",
       " 'xxbos xxmaj aon duine a chuaigh ann . xxeos',\n",
       " 'xxbos xxmaj aon duine a chuaigh ann . xxeos',\n",
       " 'xxbos xxmaj aon duine a chuaigh ann . xxeos',\n",
       " 'xxbos xxmaj an raibh sí le feiceáil ? xxeos',\n",
       " 'xxbos i mo thuairimse , go chuaigh duine éigin ann . xxeos',\n",
       " 'xxbos xxup ná raibh siad sásta ? xxeos',\n",
       " 'xxbos xxmaj daoine xxup tá saibhir anseo . xxeos',\n",
       " 'xxbos xxmaj an bhfuil daoine compordach ? xxmaj uimh . xxeos',\n",
       " 'xxbos xxmaj rugadh mé i xxmaj meiriceá . xxeos',\n",
       " 'xxbos xxmaj rugadh í i xxmaj sasana . xxeos',\n",
       " 'xxbos xxmaj is féidir liom é a dhéanamh . xxeos',\n",
       " 'xxbos xxmaj is féidir é a dhéanamh . xxeos',\n",
       " 'xxbos xxmaj ba chóir duit an obair a chríochnú . xxeos',\n",
       " 'xxbos xxmaj ba chóir an obair a bheith críochnaithe . xxeos',\n",
       " 'xxbos xxup ní mór dúinn níos mó . xxeos',\n",
       " 'xxbos xxmaj níos mó ag teastáil . xxeos',\n",
       " \"xxbos xxmaj d'éirigh i obair . xxeos\",\n",
       " 'xxbos xxmaj bhí an obair rathúil . xxeos',\n",
       " 'xxbos xxmaj xxunk xxmaj xxunk fuair bás xxmaj xxunk bhliain seo caite . xxeos',\n",
       " 'xxbos xxmaj dealraíonn sé dom go mbeidh siad déanach . xxeos',\n",
       " 'xxbos xxmaj rugadh xxmaj damáiste i 1985 . xxeos',\n",
       " 'xxbos xxmaj rugadh xxunk i 1985 . xxeos',\n",
       " 'xxbos xxup ní bheidh duine a chloisteáil ceol i bhfad sa teach teach cónaithe sin . xxeos',\n",
       " 'xxbos xxmaj fuair a athair bás . xxeos',\n",
       " 'xxbos xxmaj bhí sé xxunk . xxeos',\n",
       " 'xxbos xxmaj mo chuid airgid a bhí goidte . xxeos',\n",
       " 'xxbos xxmaj beidh tú a maraíodh ! xxeos',\n",
       " 'xxbos xxmaj ghearradh siad ar ais níos mó gach bliain . xxeos',\n",
       " 'xxbos xxmaj níor chóir amháin a rá focail olc . xxeos',\n",
       " 'xxbos xxup ná raibh aon rud a rinneadh faoin ? xxeos',\n",
       " 'xxbos xxmaj beidh tú a thabhairt ar an tuarascáil nuair a bhíonn sé scríofa . xxeos',\n",
       " 'xxbos xxup tá xxmaj xxunk cúramach . xxeos',\n",
       " 'xxbos xxmaj rinne sí an obair go cúramach . xxeos',\n",
       " 'xxbos xxmaj is é an carr mall . xxeos',\n",
       " 'xxbos xxup tá tú ag tiomáint go mall . xxeos',\n",
       " 'xxbos xxmaj labhair sí xxunk . xxeos',\n",
       " 'xxbos xxup tá siad annamh dul ann . xxeos',\n",
       " 'xxbos xxmaj beidh mé ag déanamh an obair amárach amárach . xxeos',\n",
       " 'xxbos xxmaj cuir na málaí os cionn ann . xxeos',\n",
       " 'xxbos xxmaj bhí sneachta againn le haghaidh an mhí anuas . xxeos',\n",
       " 'xxbos xxmaj tháinig sé ar meán oíche . xxeos',\n",
       " 'xxbos xxmaj chuaigh sí go xxmaj sasana bliain ó shin . xxeos',\n",
       " 'xxbos xxup tá siad taobh istigh . xxeos',\n",
       " 'xxbos xxmaj don mhí anuas , bhí againn nach raibh aon sneachta ar chor ar bith . xxeos',\n",
       " 'xxbos xxmaj thar i bpáras labhraíonn siad xxmaj fraincis . xxeos',\n",
       " 'xxbos xxmaj beidh mé a fheiceáil tú anocht . xxeos',\n",
       " 'xxbos xxmaj rinne sí é go cúramach . xxeos',\n",
       " 'xxbos xxmaj beidh mé a fheiceáil níos déanaí . xxeos',\n",
       " 'xxbos xxmaj níl aon áit cosúil baile . xxeos',\n",
       " 'xxbos xxmaj xxunk xxmaj xxunk is ea an t - éileamh xxunk maith . xxeos',\n",
       " 'xxbos xxmaj bhí xxmaj inné te . xxeos',\n",
       " 'xxbos xxmaj beidh sé sneachta amárach . xxeos',\n",
       " 'xxbos xxmaj cén chaoi a bhfuil an aimsir lá atá inniu ann ? xxeos',\n",
       " 'xxbos xxmaj is é an ghrian shining . xxeos',\n",
       " 'xxbos xxmaj sin maith a chloisteáil ! xxeos',\n",
       " 'xxbos xxup tá sé xxunk . xxeos',\n",
       " 'xxbos xxup tá sé xxunk . xxeos',\n",
       " 'xxbos xxmaj itheann mé go minic xxunk . xxeos',\n",
       " 'xxbos xxmaj itheann mé go minic xxunk . xxeos',\n",
       " 'xxbos xxup tá tú fáilte . xxeos',\n",
       " 'xxbos xxmaj xxunk ! xxeos',\n",
       " 'xxbos xxmaj xxunk xxmaj is é an xxunk faoi láthair an xxunk sa domhan . xxeos',\n",
       " 'xxbos xxmaj maidin maith ! xxeos',\n",
       " 'xxbos xxmaj scríobhann sé litir . xxeos',\n",
       " 'xxbos xxmaj fhreagair xxmaj xxunk go raibh sé leithscéal leithscéal . xxeos',\n",
       " 'xxbos xxmaj bhí an fear ag ithe arán . xxeos',\n",
       " 'xxbos xxup tá sé fuar . xxeos',\n",
       " 'xxbos xxup tá sé te . xxeos',\n",
       " 'xxbos xxup tá sé an - tirim . xxeos',\n",
       " 'xxbos xxup tá sé an - dorcha . xxeos',\n",
       " 'xxbos xxup tá sé an - dorcha . xxeos',\n",
       " 'xxbos xxup ní fhéadfadh mé xxmaj muinín xxmaj coitianta . xxeos',\n",
       " 'xxbos xxmaj an bhfuil do xxunk sa bhaile ? xxeos',\n",
       " 'xxbos xxmaj is é an leabhar ar an tábla . xxeos',\n",
       " 'xxbos xxmaj is é seo mo ríomhaire . xxeos',\n",
       " 'xxbos xxmaj is é mo ainm xxmaj xxunk . xxeos',\n",
       " 'xxbos xxmaj is é mo ainm xxmaj xxunk . xxeos',\n",
       " 'xxbos xxup tá mé ón xxmaj tuirc . xxeos',\n",
       " 'xxbos xxup tá mé óg . xxeos',\n",
       " 'xxbos xxmaj níl aon ní a dhéanamh agam ! xxeos',\n",
       " 'xxbos xxmaj níl aon ní a dhéanamh agam ! xxeos',\n",
       " 'xxbos xxup tá mé dhá cat . xxeos',\n",
       " 'xxbos xxup tá sí álainn . xxeos',\n",
       " 'xxbos xxmaj níl sí ghránna . xxeos',\n",
       " 'xxbos xxmaj níl sí ghránna . xxeos',\n",
       " 'xxbos xxmaj níl sí ghránna . xxeos',\n",
       " \"xxbos xxmaj níl mé d'aois . xxeos\",\n",
       " 'xxbos xxup tá mé anseo . xxeos',\n",
       " 'xxbos xxmaj níl mé breoite . xxeos',\n",
       " 'xxbos i gcás an t - óstán ? xxeos',\n",
       " 'xxbos xxmaj an bhfuil sí álainn ? xxeos',\n",
       " 'xxbos xxup tá mé sásta . xxeos',\n",
       " 'xxbos xxup tá tú brónach . xxeos',\n",
       " 'xxbos xxup tá sé eagla . xxeos',\n",
       " 'xxbos xxmaj fuair mé leabhar . xxeos',\n",
       " 'xxbos xxup tá leabhar agam . xxeos',\n",
       " 'xxbos xxmaj an bhfuil tú an leabhar ? xxeos',\n",
       " 'xxbos xxmaj an bhfuil tú an leabhar ? xxeos',\n",
       " 'xxbos i mo thuairimse , dá bhrí sin tá mé . xxeos',\n",
       " 'xxbos xxmaj is domhan eile is féidir . xxeos',\n",
       " 'xxbos xxmaj is é an cat faoin tábla . xxeos',\n",
       " 'xxbos xxmaj ceann , dhá , trí , ceithre , cúig , cúig , sé , seacht , ocht , ocht , naoi , deich , deich . xxeos',\n",
       " 'xxbos xxmaj ceann , dhá , trí , ceithre , cúig , cúig , sé , seacht , ocht , ocht , naoi , deich , deich . xxeos',\n",
       " 'xxbos xxmaj cad a dhéanann staidéar xxmaj xxunk ? xxeos',\n",
       " 'xxbos xxmaj níl mé dochtúir . xxeos',\n",
       " 'xxbos xxup tá mé bean . xxeos',\n",
       " 'xxbos xxmaj is fear mé . xxeos',\n",
       " 'xxbos xxup tá mé fear . xxeos',\n",
       " 'xxbos xxmaj beidh an teach seo ann . xxeos',\n",
       " 'xxbos xxmaj ba mhaith linn é . xxeos',\n",
       " \"xxbos xxmaj conas sean - tá tú ? - tá mé fiche - trí bliana d'aois . xxeos\",\n",
       " 'xxbos xxmaj níl sé ceist éasca . xxeos',\n",
       " 'xxbos xxmaj ba mhaith leo a chomhlíonadh tú . xxeos',\n",
       " 'xxbos xxmaj an bhfuil mé do chara ? xxeos',\n",
       " 'xxbos xxmaj an bhfuil mé do chara ? xxeos',\n",
       " 'xxbos xxup ní féidir liom a dhéanamh can . xxeos',\n",
       " 'xxbos xxmaj is é an leabhar ar an scairbh . xxeos',\n",
       " 'xxbos xxmaj níl mé ina duine olc . xxeos',\n",
       " 'xxbos xxmaj níl mé duine maith . xxeos',\n",
       " 'xxbos xxup tá mé ocras ! xxeos',\n",
       " 'xxbos xxmaj an bhfuil mé nach álainn ? xxeos',\n",
       " 'xxbos xxmaj is bean álainn í sí . xxeos',\n",
       " 'xxbos xxmaj an bhfuil tú dúr ? xxeos',\n",
       " 'xxbos xxup tá an tábla bán . xxeos',\n",
       " 'xxbos xxup tá an tábla bán . xxeos',\n",
       " 'xxbos xxmaj is é mo ainm xxmaj xxunk . xxeos',\n",
       " 'xxbos xxmaj an bhfuil leabhar agat ? xxeos',\n",
       " 'xxbos xxup tá mé eagla ar airde . xxeos',\n",
       " 'xxbos xxmaj bhí mé múinteoir . xxeos',\n",
       " 'xxbos xxmaj an bhfuil xxmaj gaeilge labhairt leat ? xxeos',\n",
       " 'xxbos xxup tá mé xxmaj gaeilge . xxeos',\n",
       " 'xxbos xxmaj labhairt mé xxmaj gaeilge . xxeos',\n",
       " 'xxbos xxmaj níl mé ag labhairt na xxmaj gaeilge . xxeos',\n",
       " 'xxbos xxmaj is madra mór é . xxeos',\n",
       " 'xxbos xxmaj is é seo mo leabhar . xxeos',\n",
       " 'xxbos xxup tá mé ag scríobh leabhar . xxeos',\n",
       " 'xxbos xxup tá mé ag scríobh leabhar . xxeos',\n",
       " 'xxbos xxmaj níl mé ag iarraidh dul chun scoil . xxeos',\n",
       " 'xxbos xxmaj níl mé ag iarraidh dul chun scoil . xxeos',\n",
       " 'xxbos xxmaj ba mhaith liom beoir eile . xxeos',\n",
       " 'xxbos xxmaj ba mhaith liom buíochas eile beoir . xxeos',\n",
       " 'xxbos xxmaj níl sé seo éisc . xxeos',\n",
       " 'xxbos xxmaj is xxmaj xxunk xxmaj xxunk cathair álainn . xxeos',\n",
       " 'xxbos xxup tá xxunk ar an tábla . xxeos',\n",
       " 'xxbos xxmaj beidh mé dul ann ag xxunk . xxeos',\n",
       " 'xxbos xxmaj beidh mé dul ann ag xxunk . xxeos',\n",
       " 'xxbos xxup tá mé na xxmaj rúise . xxeos',\n",
       " 'xxbos xxmaj is iasc é seo . xxeos',\n",
       " 'xxbos xxup tá mé xxmaj sínis . xxeos',\n",
       " 'xxbos xxmaj beidh mé ithe an fheoil . xxeos',\n",
       " 'xxbos xxup tá mé ag ithe an fheoil . xxeos',\n",
       " 'xxbos xxmaj chuaigh mé go xxmaj londain . xxeos',\n",
       " 'xxbos xxmaj chuaigh muid go xxmaj londain . xxeos',\n",
       " 'xxbos xxup tá mé ag foghlaim na xxmaj gaeilge . xxeos',\n",
       " 'xxbos xxup tá mé ag foghlaim na xxmaj gaeilge . xxeos',\n",
       " 'xxbos xxmaj is é an t - arán xxunk . xxeos',\n",
       " 'xxbos xxup tá mé ina duine maith . xxeos',\n",
       " 'xxbos xxup tá mé ina duine olc . xxeos',\n",
       " 'xxbos xxup tá mé tart . xxeos',\n",
       " 'xxbos xxup tá mé uisce óil toisc go bhfuil mé tart . xxeos',\n",
       " 'xxbos xxup tá mé ag ithe torthaí toisc go bhfuil mé ocras . xxeos',\n",
       " 'xxbos xxup tá mé ocras . xxup tá mé feargach . xxeos',\n",
       " 'xxbos xxmaj ithe mé toisc go bhfuil mé ocras . xxeos',\n",
       " 'xxbos xxup tá an cluiche éasca . xxeos',\n",
       " 'xxbos xxup tá an cluiche éasca . xxeos',\n",
       " 'xxbos xxup tá an cluiche éasca . xxeos',\n",
       " 'xxbos xxmaj is maith leis an obair sa ghairdín . xxeos',\n",
       " 'xxbos xxmaj is maith liom teangacha ! xxeos',\n",
       " 'xxbos xxmaj níl mé cosúil le cathracha móra mór . xxeos',\n",
       " 'xxbos xxmaj an dteastaíonn uait siúcra ? xxeos',\n",
       " 'xxbos xxup tá a cuid gruaige fada . xxeos',\n",
       " 'xxbos xxmaj is xxunk maith é . xxeos',\n",
       " 'xxbos xxup tá mé ó xxmaj kiótó . xxeos',\n",
       " 'xxbos xxmaj an bhfuil sé xxmaj béarla labhairt ? xxeos',\n",
       " 'xxbos xxmaj an bhfuil léarscáil agat ? xxeos',\n",
       " 'xxbos xxmaj ba mhaith liom a deoch rud éigin . xxeos',\n",
       " 'xxbos xxmaj ba mhaith liom a deoch rud éigin a deoch . xxeos',\n",
       " 'xxbos xxmaj cad é an t - am atá sé anois ? \" tá sé deich a chlog . \" xxeos',\n",
       " 'xxbos xxup tá sé ar cheann a chlog . xxeos',\n",
       " 'xxbos xxup tá sé seacht a chlog . xxeos',\n",
       " 'xxbos xxup tá sé dhá a chlog . xxeos',\n",
       " 'xxbos xxup tá sé cúig a chlog . xxeos',\n",
       " 'xxbos xxmaj ceithre a chlog is ceithre a chlog . xxeos',\n",
       " 'xxbos xxup tá sé trí a chlog . xxeos',\n",
       " 'xxbos xxup sé a sé a chlog sé a sé . xxeos',\n",
       " 'xxbos xxup tá sé ocht a chlog . xxeos',\n",
       " 'xxbos xxup tá naoi a naoi a chlog . xxeos',\n",
       " 'xxbos xxup tá sé deich a chlog . xxeos',\n",
       " 'xxbos xxup tá sé aon a haon déag a chlog . xxeos',\n",
       " 'xxbos xxup tá sé dhá a dó déag a chlog . xxeos',\n",
       " 'xxbos xxmaj ba mhaith liom a cheannach rud éigin a ithe . xxeos',\n",
       " 'xxbos xxmaj ba mhaith liom buíochas a ithe . xxeos',\n",
       " 'xxbos xxmaj ba mhaith liom buíochas a ithe anois . xxeos',\n",
       " 'xxbos xxmaj is é do chara anseo . xxeos',\n",
       " 'xxbos xxmaj bhí sí a bheith ina n - iompar amhránaí . xxeos',\n",
       " 'xxbos xxmaj bhí mé ag obair sa mhonarcha . xxeos',\n",
       " 'xxbos xxup tá mé ag ithe apple apple . xxeos',\n",
       " 'xxbos xxmaj chonaic mé madra . xxeos',\n",
       " 'xxbos xxmaj is iriseoir mé iriseoir . xxeos',\n",
       " 'xxbos xxup tá mé iriseoir . xxeos',\n",
       " 'xxbos xxmaj ba mhaith liom a bheith ina iriseoir . xxeos',\n",
       " 'xxbos xxmaj ba mhaith liom a bheith ina xxunk . xxeos',\n",
       " 'xxbos xxup tá mé xxunk . xxeos',\n",
       " 'xxbos xxmaj maireachtáil saol mé . xxeos',\n",
       " 'xxbos xxup tá mé feargach . xxeos',\n",
       " 'xxbos xxmaj bhain mé úsáid as a ithe xxunk . xxeos',\n",
       " 'xxbos xxmaj bhain mé úsáid as a ithe xxunk . xxeos',\n",
       " \"xxbos xxmaj d'oibrigh mé sa mhonarcha sa mhonarcha . xxeos\",\n",
       " 'xxbos xxmaj níl an rud beo . xxeos',\n",
       " 'xxbos xxup tá an rud beo . xxeos',\n",
       " 'xxbos xxup tá mé teach mór . xxeos',\n",
       " 'xxbos xxup tá teach agam . xxeos',\n",
       " 'xxbos xxup tá teach gorm . xxeos',\n",
       " 'xxbos xxup tá teach dearg agam . xxeos',\n",
       " 'xxbos xxup tá teach glas agam . xxeos',\n",
       " 'xxbos xxup tá teach glas xxunk . xxeos',\n",
       " 'xxbos xxup tá madra mór . xxeos',\n",
       " 'xxbos xxmaj is é an cat bán faoi an crann . xxeos',\n",
       " 'xxbos xxup tá mé faoin crann . xxeos',\n",
       " 'xxbos xxmaj is teanga álainn xxmaj gaeilge . xxeos',\n",
       " 'xxbos xxmaj is teanga álainn xxmaj gaeilge . xxeos',\n",
       " 'xxbos xxup tá tú cailín álainn cailín . xxeos',\n",
       " 'xxbos xxmaj níl mé ag cuimhneamh ar na liricí . xxeos',\n",
       " 'xxbos xxup tá go leor cairde . xxeos',\n",
       " 'xxbos xxup tá mé dhá iníonacha . xxeos',\n",
       " 'xxbos xxup tá dhá mhac xxunk . xxeos',\n",
       " 'xxbos xxmaj an bhfuil a fhios agat ? xxeos',\n",
       " 'xxbos xxmaj ba mhaith liom dul go dtí scoil . xxeos',\n",
       " 'xxbos xxmaj beidh mé chaitheamh xxunk chaitheamh . xxeos',\n",
       " 'xxbos xxup tá mé ag caitheamh xxunk . xxeos',\n",
       " 'xxbos xxmaj scríobh sí litir . xxeos',\n",
       " 'xxbos xxmaj an bhfuil tú réidh ? xxeos',\n",
       " 'xxbos xxmaj an bhfuil tú réidh don turas ? xxeos',\n",
       " 'xxbos xxmaj an bhfuil tú réidh a eitilt ? xxeos',\n",
       " 'xxbos xxmaj an bhfuil tú réidh do xxmaj oíche xxmaj oíche ? xxeos',\n",
       " 'xxbos xxmaj an bhfuil tú réidh a imirt ? xxeos',\n",
       " 'xxbos xxmaj an bhfuil tú réidh a ithe ? xxeos',\n",
       " 'xxbos xxmaj an bhfuil tú réidh chun dul ? xxeos',\n",
       " 'xxbos xxmaj an bhfuil tú réidh le haghaidh dinnéar ? xxeos',\n",
       " 'xxbos xxup tá mé chun dul . xxeos',\n",
       " 'xxbos xxup tá mé chun dul . xxeos',\n",
       " 'xxbos xxup tá mé chun dul anois . xxmaj fodhlí ! xxeos',\n",
       " 'xxbos xxup tá mé chun dul abhaile anois . xxeos',\n",
       " 'xxbos xxup tá mé i scríbhinn litir . xxeos',\n",
       " 'xxbos xxup tá tú eagla . xxeos',\n",
       " 'xxbos xxup tá tú státchiste státchiste státchiste . xxeos',\n",
       " 'xxbos xxup tá mé ag imirt sa ghairdín . xxeos',\n",
       " 'xxbos xxup bí cúramach . xxeos',\n",
       " 'xxbos xxmaj cúram a ghlacadh ! xxeos',\n",
       " 'xxbos xxmaj cúramach ! ! xxeos',\n",
       " 'xxbos xxmaj cúramach ! ! xxeos',\n",
       " 'xxbos xxup ná xxunk ! xxeos',\n",
       " 'xxbos xxup ná xxunk ! xxeos',\n",
       " 'xxbos xxmaj is teanga amháin riamh go leor . xxeos',\n",
       " 'xxbos xxup tá mé snámha san fharraige . xxeos',\n",
       " 'xxbos xxmaj níl mé ag dul a bheith ag obair . xxeos',\n",
       " 'xxbos xxmaj is féidir leat a rá go xxmaj raidió xxmaj tom féin . xxeos',\n",
       " 'xxbos xxmaj is é an mac bhean an duine sin breoite . xxeos',\n",
       " 'xxbos xxunk raibh sé . xxeos',\n",
       " 'xxbos xxunk é an ceann a rinne é . xxeos',\n",
       " 'xxbos xxmaj fuair mé an t - airgead . xxeos',\n",
       " 'xxbos xxmaj fuair mé an t - airgead . xxeos',\n",
       " 'xxbos xxmaj is é an fear faoi an crann . xxeos',\n",
       " 'xxbos xxmaj níl an bhean álainn . xxeos',\n",
       " 'xxbos xxmaj is é xxmaj baile átha xxmaj cliath caipiteal na héireann . xxeos',\n",
       " 'xxbos xxmaj beidh mé ag dul go héirinn . xxeos',\n",
       " 'xxbos xxmaj beidh tú ag dul go héirinn . xxeos',\n",
       " 'xxbos xxmaj beidh muid ag dul go héirinn . xxeos',\n",
       " 'xxbos xxmaj rachaidh siad go héirinn . xxeos',\n",
       " 'xxbos xxmaj beidh sí ag dul go héirinn . xxeos',\n",
       " 'xxbos xxmaj rachaidh sé go héirinn . xxeos',\n",
       " 'xxbos xxup tá xxmaj gaeilge ag foghlaim na xxmaj gaeilge . xxeos',\n",
       " 'xxbos xxmaj is é an foirgneamh ard ard ar airde . xxeos',\n",
       " 'xxbos xxup tá an t - uisce glan glan . xxeos',\n",
       " 'xxbos xxup tá an t - uisce te . xxeos',\n",
       " 'xxbos xxup tá an caife fuar fuar . xxeos',\n",
       " 'xxbos xxmaj is é an oíche dorcha . xxeos',\n",
       " 'xxbos xxmaj is é mo madra glan glan . xxeos',\n",
       " 'xxbos xxmaj is é mo madra an - glan . xxeos',\n",
       " 'xxbos xxup ní gá dúinn a bheith ina iníon . xxeos',\n",
       " 'xxbos xxmaj is é an fear ard ar airde . xxeos',\n",
       " 'xxbos xxmaj ba mhaith liom a scríobh leabhar . xxeos',\n",
       " 'xxbos xxmaj ba mhaith liom a scríobh leabhar . xxeos',\n",
       " 'xxbos xxmaj chuaigh siad ar aghaidh ar an xxmaj aigéan xxmaj atlantach . xxeos',\n",
       " 'xxbos xxup ní bheidh an bunreacht nua réiteach ar na fadhbanna na éigipt . xxeos',\n",
       " 'xxbos xxup tá sé go maith . xxeos',\n",
       " 'xxbos xxmaj bhí sé ídithe . xxeos',\n",
       " 'xxbos xxmaj bhí sé ídithe . xxeos',\n",
       " 'xxbos xxmaj is é seo an teach ina rugadh mé . xxeos',\n",
       " 'xxbos xxup tá an teach mór . xxeos',\n",
       " 'xxbos xxup tá an teach mór . xxeos',\n",
       " 'xxbos xxmaj is é seo an tús a chur le ré nua . xxeos',\n",
       " 'xxbos xxmaj cén áit a bhfuil xxmaj xxunk ? xxeos',\n",
       " 'xxbos xxmaj bhí sí ag iompar clainne cheana féin . xxeos',\n",
       " 'xxbos xxup tá cáis ithe agam . xxeos',\n",
       " 'xxbos xxmaj xxunk siad . xxeos',\n",
       " 'xxbos xxmaj is iad na héin xxunk . xxeos',\n",
       " 'xxbos xxmaj níl mé ag glacadh le tú . xxeos',\n",
       " 'xxbos xxup tá sí xxunk . xxeos',\n",
       " 'xxbos xxmaj is é an leon an rí an xxunk an bhratach . xxeos',\n",
       " 'xxbos xxup tá mé ag obair . xxeos',\n",
       " 'xxbos xxup tá mé ag ithe . xxeos',\n",
       " 'xxbos xxup tá mé ag ithe rís anois . xxeos',\n",
       " 'xxbos xxmaj nuair a thabhairt mé bia do na mbocht , glaoch siad dom naomh . xxmaj nuair a iarraidh mé cén fáth nach bhfuil aon bhia , glaoch siad dom a bheith ina xxunk . xxeos',\n",
       " 'xxbos xxmaj is é an cailín álainn . xxeos',\n",
       " 'xxbos xxmaj ba mhaith leat iarratas a dhéanamh ar an bpost sin . xxeos',\n",
       " 'xxbos xxup ní chuireann sé stopadh . xxeos',\n",
       " 'xxbos xxup tá a fhios agam conas a bheith ag brath ar xxunk . xxeos',\n",
       " 'xxbos xxup tá an crann in ann fás . xxeos',\n",
       " 'xxbos xxmaj cén fáth a raibh tú ag dul ann ? xxeos',\n",
       " 'xxbos xxmaj nuair a bhí tú inné ? xxeos',\n",
       " 'xxbos xxmaj thug mé an t - airgead don bhean . xxeos',\n",
       " 'xxbos xxmaj bhí sí sa bhaile ag an deireadh seachtaine . xxeos',\n",
       " \"xxbos xxmaj stop an bhean agus d'fhéach sé air . xxeos\",\n",
       " 'xxbos xxup tá sé an - fuar lá atá inniu ann . xxeos',\n",
       " 'xxbos xxmaj nach bhfuil sásta sásta ? xxeos',\n",
       " 'xxbos xxmaj nach bhfuil tú sásta ? xxeos',\n",
       " 'xxbos xxmaj is féidir leat a insint xxmaj raidió féin . xxeos',\n",
       " 'xxbos xxup ní féidir leat a mharú féin trí do anáil a shealbhú . xxeos',\n",
       " 'xxbos xxup tá mé uisce óil sa cistine . xxeos',\n",
       " 'xxbos xxmaj níl , xxmaj níl mé múinteoir . xxup tá mé ach mac léinn amháin . xxeos',\n",
       " 'xxbos xxmaj níl mé xxunk . xxeos',\n",
       " 'xxbos xxmaj is é an fear láidir . xxeos',\n",
       " 'xxbos xxmaj is é an fear láidir . xxeos',\n",
       " 'xxbos xxup tá go leor leabhar agam . xxeos',\n",
       " 'xxbos xxmaj sreabhadh gach rud . xxeos',\n",
       " 'xxbos xxup tá mé pósta agus tá beirt leanaí ann . xxeos',\n",
       " 'xxbos xxmaj léigh mé a leabhar . xxeos',\n",
       " 'xxbos xxmaj sin tús mór le tús mór ! xxeos',\n",
       " 'xxbos xxmaj bhí an bille déanach do scoil mar is gnách . xxeos',\n",
       " 'xxbos xxmaj beidh do bhás a xxunk . xxeos',\n",
       " 'xxbos xxmaj is xxmaj neiptiún an t - ochtú phláinéid den chóras gréine . xxeos',\n",
       " 'xxbos xxup tá sí ag léamh . xxeos',\n",
       " 'xxbos xxmaj níl mé cosúil léi . xxeos',\n",
       " 'xxbos xxmaj is é an ghrian ard . xxeos',\n",
       " 'xxbos xxmaj níl sé seo le chéile . xxeos',\n",
       " 'xxbos xxup ní raibh sé ina chomhtheacht le chéile . xxeos',\n",
       " 'xxbos xxup ní raibh sé ina chomhtheacht le chéile . xxeos',\n",
       " 'xxbos xxup ní féidir liom tuiscint a fháil ar an dán seo . xxeos',\n",
       " 'xxbos xxmaj bhí sé xxunk sé mhac xxunk . xxeos',\n",
       " 'xxbos xxmaj thit xxmaj peter i ghrá leis an cailín . xxeos',\n",
       " 'xxbos xxup tá mé cócaireacht . xxeos',\n",
       " 'xxbos xxup tá tú cócaireacht . xxeos',\n",
       " 'xxbos xxup tá tú cócaireacht . xxeos',\n",
       " 'xxbos xxup tá sé cócaireacht . xxeos',\n",
       " 'xxbos xxup tá sí cócaireacht . xxeos',\n",
       " 'xxbos xxmaj táimid cócaireacht . xxeos',\n",
       " 'xxbos xxup tá siad cócaireacht . xxeos',\n",
       " 'xxbos xxup tá siad ag léamh leabhar . xxeos',\n",
       " 'xxbos xxup tá siad ag rith gan bróga . xxeos',\n",
       " 'xxbos xxmaj ceathrú xxmaj ceathrú xxmaj iúil ! xxeos',\n",
       " 'xxbos xxmaj ceathrú xxmaj ceathrú xxmaj iúil ! xxeos',\n",
       " 'xxbos xxup tá mé ag dul ar ais abhaile . xxeos',\n",
       " 'xxbos xxmaj is féinmharú gníomh xxunk . xxeos',\n",
       " 'xxbos xxup tá mé deartháir níos sine . xxeos',\n",
       " 'xxbos xxup tá mé ag léamh an leabhar seo . xxeos',\n",
       " 'xxbos xxup tá mé ag léamh an nuachtán . xxeos',\n",
       " 'xxbos xxup tá mé ag léamh litir . xxeos',\n",
       " 'xxbos xxup tá mé ag léamh . xxeos',\n",
       " 'xxbos xxup tá tú ag léamh . xxeos',\n",
       " 'xxbos xxup tá tú ag léamh . xxeos',\n",
       " 'xxbos xxup tá sé ag léamh . xxeos',\n",
       " 'xxbos xxmaj táimid ag léamh . xxeos',\n",
       " 'xxbos xxup tá siad ag léamh a leabhar . xxeos',\n",
       " 'xxbos xxup tá siad i scríbhinn . xxeos',\n",
       " 'xxbos xxmaj táimid ag scríobh . xxeos',\n",
       " 'xxbos xxup tá a fhios agam go bhfuil leabhar agat scríobh leabhar . xxeos',\n",
       " 'xxbos xxup tá tú ag scríobh . xxeos',\n",
       " 'xxbos xxup tá tú ag scríobh . xxeos',\n",
       " 'xxbos xxup tá sé i scríbhinn leabhar . xxeos',\n",
       " 'xxbos xxup tá sé i scríbhinn . xxeos',\n",
       " 'xxbos xxup tá sí i scríbhinn leabhar . xxeos',\n",
       " 'xxbos xxup tá sí i scríbhinn aici a dialann . xxeos',\n",
       " 'xxbos xxup tá sí i scríbhinn . xxeos',\n",
       " 'xxbos xxup tá mé cócaireacht anois . xxeos',\n",
       " 'xxbos xxup tá tú cócaireacht anois . xxeos',\n",
       " 'xxbos xxup tá sé cócaireacht anois . xxeos',\n",
       " 'xxbos xxup tá sí cócaireacht anois . xxeos',\n",
       " 'xxbos xxmaj táimid cócaireacht anois . xxeos',\n",
       " 'xxbos xxup tá siad cócaireacht anois . xxeos',\n",
       " 'xxbos xxup tá mé ag ithe ceapaire . xxeos',\n",
       " 'xxbos xxup tá mé bainne ól . xxeos',\n",
       " 'xxbos xxup tá an bainne géar géar . xxeos',\n",
       " 'xxbos xxmaj táim chun dul go dtí leaba . xxeos',\n",
       " 'xxbos xxmaj táim chun dul go dtí an banc . xxeos',\n",
       " 'xxbos xxmaj sa chás go bhfuil muid anois ? xxeos',\n",
       " 'xxbos xxup tá sé xxunk . xxeos',\n",
       " 'xxbos xxup tá sí bláthanna dearg . xxeos',\n",
       " 'xxbos xxmaj is é an seomra dorcha . xxeos',\n",
       " 'xxbos xxmaj is é an buachaill caol . xxeos',\n",
       " 'xxbos xxmaj is é an tolg compordach . xxeos',\n",
       " 'xxbos xxmaj is é an poll ar fud an poll ar fud an leathan . xxeos',\n",
       " 'xxbos xxmaj is é an poll caol . xxeos',\n",
       " 'xxbos xxmaj is é an cluiche leadránach . xxeos',\n",
       " 'xxbos xxmaj is é an phasfhocal gearr . xxeos',\n",
       " 'xxbos xxup tá an chathair beag . xxeos',\n",
       " 'xxbos xxup tá an chathair mór . xxeos',\n",
       " 'xxbos xxup tá an teach te . xxeos',\n",
       " 'xxbos xxup tá an bosca trom . xxeos',\n",
       " 'xxbos xxup tá an bus mall . xxeos',\n",
       " \"xxbos xxmaj is é an leabhar d'aois . xxeos\",\n",
       " 'xxbos xxmaj is é an leabhar nua . xxeos',\n",
       " 'xxbos xxup tá mé ag faire teilifíse . xxeos',\n",
       " 'xxbos xxup tá mé ag faire teilifíse an teilifís anois . xxeos',\n",
       " 'xxbos xxmaj an bhfuil tú go maith ar leadóige ? xxeos',\n",
       " 'xxbos xxmaj an bhfuil tú go maith ar matamaitic ? xxeos',\n",
       " 'xxbos xxup tá feabhas tagtha ar an aimsir . xxeos',\n",
       " 'xxbos xxmaj cad atá tú ag lorg ? xxeos',\n",
       " 'xxbos xxmaj cad é suas le leat ? xxeos',\n",
       " 'xxbos xxmaj beidh mé ag obair . xxeos',\n",
       " 'xxbos xxmaj níl an capall bán . xxeos',\n",
       " 'xxbos xxmaj ba mhaith liom a ól le tae . xxeos',\n",
       " 'xxbos xxmaj is deonach . xxmaj is mé deonach . xxeos',\n",
       " 'xxbos xxup tá mé deonach . xxeos',\n",
       " 'xxbos xxup tá sí ag dul go dtí an ospidéal . xxeos',\n",
       " 'xxbos xxmaj is xxmaj laidineach teanga marbh teanga marbh . xxeos',\n",
       " 'xxbos xxup tá sé do locht féin . xxeos',\n",
       " 'xxbos xxmaj níl mé xxunk . xxeos',\n",
       " 'xxbos xxmaj chuir mé le go leor de na haistriúcháin . xxeos',\n",
       " 'xxbos xxmaj rinne tú earráid . xxeos',\n",
       " 'xxbos xxup tá sé xxunk mar sin . xxeos',\n",
       " 'xxbos xxmaj níl mé do namhaid . xxeos',\n",
       " 'xxbos xxmaj bhí sé an - bheag . xxeos',\n",
       " 'xxbos xxmaj is ospidéal é seo . xxeos',\n",
       " 'xxbos xxmaj is ospidéal é seo . xxeos',\n",
       " 'xxbos xxmaj is é an xxmaj béarla teanga an domhain . xxeos',\n",
       " 'xxbos xxmaj an bhfuil an leabhar seo do leabhar ? xxeos',\n",
       " 'xxbos xxmaj go xxunk feoil agus iasc do dhíol . xxeos',\n",
       " 'xxbos xxmaj an bhfuil airgead agat ? xxeos',\n",
       " 'xxbos xxmaj níl a fhios agam go bhfuil . xxeos',\n",
       " 'xxbos xxup ní xxunk xxmaj xxunk úsáid bainne . xxeos',\n",
       " 'xxbos xxmaj na páistí a úsáideann siúcra . xxeos',\n",
       " 'xxbos xxmaj níl arán go leor . xxeos',\n",
       " 'xxbos xxmaj ba mhaith liom taisteal ag xxunk . xxeos',\n",
       " 'xxbos úsáideann mo chara siúcra . xxeos',\n",
       " 'xxbos xxmaj níl mo chara úsáid bainne . xxeos',\n",
       " 'xxbos xxup tá a fhios agat go leor rudaí . xxeos',\n",
       " 'xxbos xxmaj is xxmaj xxunk xxmaj xxunk an caipiteal na xxmaj airgintín . xxeos',\n",
       " 'xxbos xxmaj cónaí air i síocháin . xxeos',\n",
       " 'xxbos xxmaj an féidir liom teagmháil a dhéanamh leat ? xxeos',\n",
       " 'xxbos xxup tá tú xxmaj xxunk cara xxmaj xxunk . xxeos',\n",
       " 'xxbos xxup tá tú lucht créachtaithe . xxeos',\n",
       " 'xxbos xxup tá tú lucht créachtaithe . xxeos',\n",
       " 'xxbos xxup tá an leabhar nua . xxeos',\n",
       " 'xxbos xxmaj bhí siad ocras . xxeos',\n",
       " 'xxbos xxmaj níl an saol xxunk . xxup má chailleadh tú do xxunk ag meán oíche , tá tú ar meisce . xxeos',\n",
       " 'xxbos xxup ní raibh mo bhean chéile bás . xxeos',\n",
       " 'xxbos xxup ní raibh mo fearchéile bás . xxeos',\n",
       " 'xxbos xxmaj beidh mé ag féachaint ar teilifís . xxeos',\n",
       " 'xxbos xxmaj cad é an tuarastal íosta san xxmaj astráil ? xxeos',\n",
       " 'xxbos xxmaj conas is do chara ? xxeos',\n",
       " 'xxbos xxmaj chuaigh sé go dtí an scoil . xxeos',\n",
       " 'xxbos xxup tá an teach glan . xxeos',\n",
       " 'xxbos xxmaj is é seo an stíl ! xxeos',\n",
       " 'xxbos xxmaj is xxmaj sleachta mo chara is fearr . xxeos',\n",
       " 'xxbos xxmaj maraíodh sé é féin . xxeos',\n",
       " 'xxbos xxup tá sé ag ithe . xxeos',\n",
       " 'xxbos xxmaj fáilte go ifreann ! xxeos',\n",
       " 'xxbos xxmaj is féidir le leanbh ar bith a dhéanamh go bhfuil . xxeos',\n",
       " 'xxbos xxmaj bhí xxmaj xxunk xxmaj iontaobhas xxunk . xxeos',\n",
       " 'xxbos xxup tá an bláth dearg . xxeos',\n",
       " 'xxbos xxup ní xxmaj cat cosúil le madraí . xxeos',\n",
       " 'xxbos xxmaj labhraíonn xxmaj conradh xxmaj casino ró - tapa . xxeos',\n",
       " 'xxbos xxup tá mé i xxmaj xxunk . xxeos',\n",
       " 'xxbos xxup tá mé i xxmaj xxunk . xxeos',\n",
       " 'xxbos xxmaj is é an xxunk bán . xxeos',\n",
       " 'xxbos xxmaj daoine a fhoghlaim ó thaithí . xxeos',\n",
       " 'xxbos xxup ní dhéanann tú gúna féin . xxeos',\n",
       " 'xxbos xxup ní raibh sé daor . xxeos',\n",
       " 'xxbos xxmaj obair mé ag mo chara siopa . xxeos',\n",
       " 'xxbos xxmaj obair mé ag mo chara siopa . xxeos',\n",
       " 'xxbos xxup tá mé leithscéal , ní féidir liom cabhrú leat . xxeos',\n",
       " 'xxbos xxup tá mé leithscéal , ní féidir liom cabhrú leat . xxeos',\n",
       " 'xxbos xxmaj an bhfuil grá agat mo deirfiúr ? xxeos',\n",
       " 'xxbos xxmaj is féidir leat teacht . xxeos',\n",
       " 'xxbos xxup tá leabharlann ag an scoil . xxeos',\n",
       " 'xxbos xxmaj an bhfuil leabharlann ag an scoil ? xxeos',\n",
       " 'xxbos xxmaj féach leat foirfe . xxeos',\n",
       " 'xxbos xxup ná oscailt do leabhar . xxeos',\n",
       " 'xxbos xxmaj mhaith liom ithe . xxeos',\n",
       " 'xxbos xxup tá sé an - deas . xxeos',\n",
       " 'xxbos xxmaj is xxmaj xxunk cailín álainn cailín . xxeos',\n",
       " 'xxbos xxmaj saol xxmaj xxunk i xxmaj xxunk . xxeos',\n",
       " 'xxbos xxmaj bhí xxmaj muirear xxmaj muirear ag éisteacht le ceol . xxeos',\n",
       " 'xxbos xxmaj bhí ionadh ionadh . xxeos',\n",
       " 'xxbos xxmaj bhí a xxmaj béarla níos fearr ná mianach . xxeos',\n",
       " 'xxbos xxmaj is é an bia maith . xxeos',\n",
       " 'xxbos xxmaj níl an bia maith . xxeos',\n",
       " 'xxbos xxmaj fostaithe mé xxmaj raidió xxmaj fruilithe . xxeos',\n",
       " 'xxbos xxmaj xxunk breá xxunk sicín . xxeos',\n",
       " 'xxbos xxup tá a ainm xxmaj xxunk . xxeos',\n",
       " 'xxbos xxmaj bhí mé feicthe riamh le feiceáil é . xxeos',\n",
       " 'xxbos xxmaj beidh mé feoil xxunk . xxeos',\n",
       " 'xxbos xxup tá an t - uisce glas . xxeos',\n",
       " 'xxbos xxup ná breathnú ar xxmaj raidió xxmaj sleachta . xxmaj féach ar dom . xxeos',\n",
       " 'xxbos xxmaj féach ar dom agus éisteacht liom . xxeos',\n",
       " 'xxbos xxmaj níl an leabhar scríofa i mbéarla . xxeos',\n",
       " 'xxbos xxmaj an bhfuil mo xxunk ? xxeos',\n",
       " 'xxbos xxmaj ba chóir duit iarracht é . xxeos',\n",
       " 'xxbos xxmaj an ndearna tú iarracht é fós ? xxeos',\n",
       " 'xxbos xxmaj ba mhaith liom labhairt xxmaj xxunk . xxeos',\n",
       " 'xxbos xxmaj is xxmaj ceol grá . xxeos',\n",
       " 'xxbos xxmaj níl a fhios agam . xxeos',\n",
       " 'xxbos xxmaj níl a fhios agam . xxeos',\n",
       " 'xxbos xxup tá mé ag éisteacht leis an amhrán . xxeos',\n",
       " 'xxbos xxmaj hi ! xxmaj conas atá tú ? xxeos',\n",
       " 'xxbos xxmaj hi ! xxmaj conas atá tú ? xxeos',\n",
       " 'xxbos xxmaj féadfaidh sé a bheith saibhir , ach tá sé xxunk . xxeos',\n",
       " 'xxbos xxmaj an bhfuil tú a ithe rís i do thír ? xxeos',\n",
       " 'xxbos xxup tá tú aingeal ! xxeos',\n",
       " 'xxbos xxmaj an bhfuil an neamhdhleathach ? xxeos',\n",
       " 'xxbos xxmaj iompú mé an ríomhaire amach . xxeos',\n",
       " 'xxbos xxup ní féidir liom tuiscint a fháil ar do cheist . xxeos',\n",
       " 'xxbos xxup ní féidir liom tuiscint a fháil ar do cheist . xxeos',\n",
       " 'xxbos xxup tá sé ag foghlaim xxmaj béarla . xxeos',\n",
       " 'xxbos xxmaj cad é a fhoghlaim sé ? xxeos',\n",
       " 'xxbos xxmaj xxunk é an - tuirseach ag an am . xxeos',\n",
       " 'xxbos xxmaj is scoil í sin . xxeos',\n",
       " 'xxbos xxmaj is teilifíse é seo . xxeos',\n",
       " 'xxbos xxmaj is é seo an fón póca fón póca . xxeos',\n",
       " 'xxbos xxmaj cad é do náisiúntacht ? xxeos',\n",
       " 'xxbos xxmaj xxunk úsáid a bheith gar cairde . xxeos',\n",
       " 'xxbos xxmaj grá i cócaireacht mé cócaireacht . xxeos',\n",
       " 'xxbos xxmaj is é sin álainn . xxeos',\n",
       " 'xxbos xxmaj sin álainn . xxeos',\n",
       " 'xxbos xxmaj cosúil mé an tsín . xxeos',\n",
       " 'xxbos xxup tá mé xxmaj xxunk xxmaj xxunk . xxeos',\n",
       " 'xxbos xxmaj is é mo ainm xxmaj john . xxeos',\n",
       " 'xxbos xxmaj is é mo ainm xxmaj john . xxeos',\n",
       " 'xxbos xxup tá mé i bpáras . xxeos',\n",
       " 'xxbos xxup tá mé i bpáras . xxeos',\n",
       " 'xxbos xxmaj níl mé xxmaj cheanada . xxeos',\n",
       " 'xxbos xxmaj an bhfuil sé xxmaj xxunk ? xxeos',\n",
       " 'xxbos xxup ní xxmaj chen xxmaj xxunk . xxeos',\n",
       " 'xxbos xxmaj cosnaíonn sé 2 euro . xxeos',\n",
       " 'xxbos xxmaj is xxmaj john buachaill mór . xxeos',\n",
       " 'xxbos xxmaj is xxmaj john buachaill mór . xxeos',\n",
       " 'xxbos xxup tá sé xxmaj xxunk . xxeos',\n",
       " 'xxbos xxmaj nuair a bheidh xxmaj bainistíocht xxmaj céime dul go xxmaj xxunk ? xxeos',\n",
       " 'xxbos xxmaj nuair is xxmaj mary ? xxeos',\n",
       " 'xxbos xxmaj cad atá tú ag ithe ? xxeos',\n",
       " 'xxbos xxmaj cad atá tú ag ithe ? xxeos',\n",
       " 'xxbos xxmaj labhairt liom leat . xxeos',\n",
       " 'xxbos xxmaj labhairt liom leat . xxeos',\n",
       " 'xxbos xxmaj dhíol mé leis seo a duit . xxeos',\n",
       " 'xxbos xxmaj is é an madra álainn . xxeos',\n",
       " 'xxbos xxmaj john chuaigh go dtí an siopa . xxeos',\n",
       " 'xxbos xxmaj sin smaoineamh maith . xxup tá mé ag dul a dhéanamh go . xxeos',\n",
       " 'xxbos xxmaj is é mo dath is fearr leat dearg . xxeos',\n",
       " 'xxbos xxup tá a hainm fíor - lisa . xxeos',\n",
       " 'xxbos xxmaj is féidir le duine ar bith páirt a ghlacadh . xxeos',\n",
       " 'xxbos xxmaj xxunk agus xxmaj mary nach bhfuil ag iarraidh leanaí . xxeos',\n",
       " 'xxbos xxup tá sé ach a shocrú sealadach . xxeos',\n",
       " 'xxbos xxmaj xxunk sí go maith . xxeos',\n",
       " 'xxbos xxmaj is féidir liom a thaispeáint duit na pictiúir . xxeos',\n",
       " 'xxbos xxup tá siad ag labhairt na xxmaj gaeilge . xxeos',\n",
       " 'xxbos xxmaj níl an phianbhreith úsáideach . xxeos',\n",
       " 'xxbos xxup tá an phianbhreith úsáideach . xxeos',\n",
       " 'xxbos xxmaj staidéar mé xxmaj sínis i xxmaj beijing . xxeos',\n",
       " 'xxbos xxmaj thaitin xxmaj thaitin ainmhithe . xxeos',\n",
       " 'xxbos xxmaj díoladh na xxunk amach . xxeos',\n",
       " 'xxbos xxup tá a fhios aige xxmaj spáinnis . xxeos',\n",
       " 'xxbos xxup tá a fhios aici xxmaj spáinnis . xxeos',\n",
       " 'xxbos xxup ní mór dom a glan mo fiacla . xxeos',\n",
       " 'xxbos xxmaj cheannaigh mé xxunk dearg . xxeos',\n",
       " 'xxbos xxup cé a bhí xxmaj xxunk xxmaj lisa ? xxeos',\n",
       " 'xxbos xxmaj níl aon airgead sa lá atá inniu ann . xxeos',\n",
       " 'xxbos xxmaj bhí mé i bpáras . xxeos',\n",
       " 'xxbos xxmaj bhí mé go dtí an xxmaj róimh . xxeos',\n",
       " 'xxbos xxmaj nuair a xxunk xxmaj xxunk xxmaj xxunk ? xxeos',\n",
       " 'xxbos xxmaj xxunk xxmaj is dearg . xxeos',\n",
       " 'xxbos xxmaj níl mé ithe freastal xxunk . xxeos',\n",
       " 'xxbos xxup tá an t - uachtarán reatha naimhde go leor . xxeos',\n",
       " 'xxbos xxup tá mé cat bán . xxeos',\n",
       " 'xxbos xxmaj is féidir liom dul an tseachtain seo chugainn . xxeos',\n",
       " 'xxbos xxmaj níl a fhios agam na xxmaj rúise . xxeos',\n",
       " 'xxbos xxmaj grá i di agus breá léi dom . xxeos',\n",
       " 'xxbos xxmaj cheannaigh mé teach . xxeos',\n",
       " 'xxbos xxmaj an bhfuil tú múinteoir ? \" tá , tá mé . \" xxeos',\n",
       " 'xxbos xxup tá nua - eabhrac ina chathair mór . xxeos',\n",
       " 'xxbos xxup tá a fhios aige an chathair seo go han - mhaith . xxeos',\n",
       " \"xxbos xxmaj d'fhan an buachaill adh . xxeos\",\n",
       " 'xxbos xxup tá an xxmaj béarla deacair a fhoghlaim . xxeos',\n",
       " 'xxbos xxup tá an xxmaj béarla deacair a fhoghlaim . xxeos',\n",
       " 'xxbos xxup tá mé mac . xxeos',\n",
       " 'xxbos xxup cé hiad na daoine sin ? xxeos',\n",
       " 'xxbos xxmaj an bhfuil a fhios xxmaj xxunk tá tú ag teacht ? xxeos',\n",
       " 'xxbos xxmaj chonaic mé a bheith ag forghníomhú a xxunk . xxeos',\n",
       " 'xxbos xxmaj cén áit a raibh tú a fheiceáil ? xxeos',\n",
       " 'xxbos xxup tá sé teagaisc dom . xxeos',\n",
       " 'xxbos xxup tá sí teagasc dom . xxeos',\n",
       " 'xxbos xxup ná ní rá a ainm . xxeos',\n",
       " 'xxbos xxmaj bhí xxmaj máire dúirt xxmaj máire sásta . xxeos',\n",
       " 'xxbos xxmaj níl mé cosúil le leanaí olc . xxeos',\n",
       " 'xxbos xxmaj beidh sí ina mhúinteoir . xxeos',\n",
       " 'xxbos xxmaj léann sí . xxeos',\n",
       " 'xxbos xxmaj bhí xxmaj muinín ag labhairt xxmaj mary . xxeos',\n",
       " 'xxbos xxmaj fuair sé bás inné . xxeos',\n",
       " 'xxbos xxmaj táimid fiachmhúchta . xxeos',\n",
       " 'xxbos xxmaj níl mé labhairt xxmaj sualainnis . xxeos',\n",
       " 'xxbos xxmaj beidh sí ag obair . xxeos',\n",
       " 'xxbos xxmaj tuigim leat dom . xxeos',\n",
       " 'xxbos xxmaj tuigim leat dom . xxeos',\n",
       " 'xxbos xxmaj déileálann sé dom cosúil le a daor . xxeos',\n",
       " 'xxbos xxmaj is é seo an téacsleabhar maith . xxeos',\n",
       " 'xxbos xxmaj is é seo an déileáil go maith . xxeos',\n",
       " 'xxbos xxmaj is teach maith é seo . xxeos',\n",
       " 'xxbos xxmaj is é seo an ceamara maith . xxeos',\n",
       " 'xxbos xxmaj is foclóir maith é seo . xxeos',\n",
       " 'xxbos xxmaj is ceist mhaith é seo . xxeos',\n",
       " 'xxbos xxmaj níl a fhios agam dó . xxeos',\n",
       " 'xxbos xxmaj níl a fhios agam go fóill . xxeos',\n",
       " 'xxbos xxmaj níl , níl a fhios agam . xxeos',\n",
       " 'xxbos xxmaj níl a fhios agam agat . xxeos',\n",
       " 'xxbos xxmaj níl a fhios agam aon rud . xxeos',\n",
       " 'xxbos xxmaj níl a fhios agam a. xxeos',\n",
       " 'xxbos xxmaj níl a fhios agam iad . xxeos',\n",
       " 'xxbos xxmaj níl a fhios agam xxmaj béarla . xxeos',\n",
       " 'xxbos xxmaj níl a fhios agam cén fáth . xxeos',\n",
       " 'xxbos xxmaj níl a fhios agam xxmaj xxunk xxmaj xxunk . xxeos',\n",
       " 'xxbos xxmaj níl a fhios agam go díreach . xxeos',\n",
       " 'xxbos xxmaj níl a fhios agam xxmaj gearmáinis . xxeos',\n",
       " 'xxbos xxmaj níl a fhios agam xxmaj fraincis . xxeos',\n",
       " 'xxbos xxup tá leanaí acu . xxeos',\n",
       " 'xxbos xxup tá mé sa bhaile . xxeos',\n",
       " 'xxbos xxmaj níl a fhios agam conas a bheith ag brath . xxeos',\n",
       " 'xxbos xxmaj ba mhaith liom gur beag xxunk mé . xxeos',\n",
       " 'xxbos xxmaj ith mé xxunk ag xxunk ar xxunk . xxeos',\n",
       " 'xxbos xxmaj is xxmaj sláinte níos fearr ná saibhreas . xxeos',\n",
       " 'xxbos xxup tá an ní seo an - práinneach . xxeos',\n",
       " 'xxbos xxup tá an t - ábhar an - tábhachtach . xxeos',\n",
       " 'xxbos xxmaj chlúdach do chosa le blaincéad . xxeos',\n",
       " 'xxbos xxmaj an raibh tú a fheiceáil mo athair ? xxeos',\n",
       " 'xxbos xxmaj an raibh tú a fheiceáil mo ceamara ? xxeos',\n",
       " 'xxbos xxmaj an raibh tú a fheiceáil mo mháthair ? xxeos',\n",
       " 'xxbos xxmaj an raibh tú a fheiceáil mo deirfiúr ? xxeos',\n",
       " 'xxbos xxmaj an raibh tú a fheiceáil mo dheartháir ? xxeos',\n",
       " 'xxbos xxmaj an raibh tú a fheiceáil mo madra ? xxeos',\n",
       " 'xxbos xxmaj an raibh a fheiceann tú mo cat ? xxeos',\n",
       " 'xxbos xxmaj an raibh tú a fheiceáil mo mhac ? xxeos',\n",
       " 'xxbos xxmaj an raibh tú a fheiceáil mo iníon ? xxeos',\n",
       " 'xxbos xxmaj an raibh tú a fheiceáil mo uncail ? xxeos',\n",
       " 'xxbos xxmaj an raibh tú a fheiceáil mo aintín ? xxeos',\n",
       " 'xxbos xxmaj cad é xxmaj xxunk ag déanamh ? xxeos',\n",
       " 'xxbos xxmaj cad é xxmaj xxunk ag déanamh ? xxeos',\n",
       " 'xxbos xxmaj cad é xxmaj xxunk ag déanamh ? xxeos',\n",
       " 'xxbos xxmaj cad é xxmaj xxunk ag déanamh ? xxeos',\n",
       " 'xxbos xxmaj cad é xxmaj xxunk ag déanamh ? xxeos',\n",
       " 'xxbos xxmaj cad é xxmaj xxunk ag déanamh ? xxeos',\n",
       " 'xxbos xxmaj más é an ospidéal ? xxeos',\n",
       " 'xxbos xxmaj más rud é an t - ospidéal ? xxeos',\n",
       " 'xxbos xxmaj táimid ag cogadh . xxeos',\n",
       " 'xxbos xxmaj táimid ag cogadh . xxeos',\n",
       " 'xxbos xxmaj táimid ag cogadh . xxeos',\n",
       " 'xxbos xxmaj tháinig tú ar ais . xxeos',\n",
       " 'xxbos xxmaj tháinig tú ar ais . xxeos',\n",
       " 'xxbos xxmaj is é mo dheartháir níos láidre ná dom . xxeos',\n",
       " 'xxbos xxmaj níl , xxmaj níl mé dúr . xxeos',\n",
       " 'xxbos xxmaj an raibh tú ina n - aonar ? xxeos',\n",
       " 'xxbos xxmaj an raibh tú ina n - aonar ? xxeos',\n",
       " 'xxbos xxup tá mé ag dul go dtí mo seanmháthair curtha in aghaidh . xxeos',\n",
       " 'xxbos xxmaj bhí sé cosúil le aisling . xxeos',\n",
       " 'xxbos xxup tá mé a cheannach bláthanna do mo xxunk . xxeos',\n",
       " 'xxbos xxup tá an madra ag codlata sa charr . xxeos',\n",
       " 'xxbos xxmaj ith muid bricfeasta seacht . xxeos',\n",
       " 'xxbos xxmaj cén áit a bhfuil an post - oifig post ? xxeos',\n",
       " 'xxbos xxmaj conas a aimsir ? xxeos',\n",
       " 'xxbos xxmaj níl mé ag ticéad . xxeos',\n",
       " 'xxbos xxmaj níl mé carr a bheith agat . xxeos',\n",
       " 'xxbos xxmaj níl mé ag bosca . xxeos',\n",
       " 'xxbos xxmaj níl mé ag rothar rothar . xxeos',\n",
       " 'xxbos xxmaj níl mé ag xxunk . xxeos',\n",
       " 'xxbos xxmaj níl mé ag deirfiúr . xxeos',\n",
       " 'xxbos xxmaj níl mé deartháir a dhéanamh . xxeos',\n",
       " 'xxbos xxmaj níl mé a bheith cat . xxeos',\n",
       " 'xxbos xxmaj níl mé ag teaghlach . xxeos',\n",
       " 'xxbos xxmaj níl mé a bheith xxunk . xxeos',\n",
       " 'xxbos xxmaj níl mé ag madra . xxeos',\n",
       " 'xxbos xxmaj níl mé a bheith xxunk . xxeos',\n",
       " 'xxbos xxmaj níl rogha agam . xxeos',\n",
       " 'xxbos xxmaj níl aon rogha agam . xxeos',\n",
       " 'xxbos xxmaj fuair mé aon rogha . xxeos',\n",
       " 'xxbos xxmaj níl aon rogha eile agam . xxeos',\n",
       " 'xxbos xxmaj níl mé a bheith xxunk . xxeos',\n",
       " 'xxbos xxmaj níl mé a bheith xxunk . xxeos',\n",
       " 'xxbos xxmaj níl mé a bheith xxunk . xxeos',\n",
       " 'xxbos xxmaj níl mé ag xxunk . xxeos',\n",
       " 'xxbos xxmaj níl mé teach a bheith . xxeos',\n",
       " 'xxbos xxmaj níl mé eochair . xxeos',\n",
       " 'xxbos xxmaj níl mé ag pas . xxeos',\n",
       " 'xxbos xxmaj níl plean agam . xxeos',\n",
       " 'xxbos xxmaj níl mé a bhfuil tattoo . xxeos',\n",
       " 'xxbos xxmaj níl mé ag arm tine . xxeos',\n",
       " 'xxbos xxmaj níl mé ag xxunk . xxeos',\n",
       " 'xxbos xxmaj níl mé a bheith teileafón . xxeos',\n",
       " 'xxbos xxmaj níl mé ag scian . xxeos',\n",
       " 'xxbos xxmaj níl mé ag banchéile . xxeos',\n",
       " 'xxbos xxmaj níl freagra agam a fhreagairt . xxeos',\n",
       " 'xxbos xxmaj níl mé ag ceapadh . xxeos',\n",
       " 'xxbos xxmaj níl mé ag ceapadh . xxeos',\n",
       " 'xxbos xxup tá mé aisling . xxeos',\n",
       " 'xxbos xxup tá mé xxunk . xxeos',\n",
       " 'xxbos xxup tá mé ag teaghlach . xxeos',\n",
       " 'xxbos xxup tá mé carr . xxeos',\n",
       " 'xxbos xxup tá mé ríomhaire . xxeos',\n",
       " 'xxbos xxmaj is ríomhaire mé féin . xxeos',\n",
       " ...]"
      ]
     },
     "execution_count": 98,
     "metadata": {},
     "output_type": "execute_result"
    }
   ],
   "source": [
    "trans_ls=[]\n",
    "for e in t_df.en.values:\n",
    "    trans_ls.append(generate(learn.model, e, dls.vocab[1]))\n",
    "    \n",
    "trans_ls[:5]"
   ]
  },
  {
   "cell_type": "code",
   "execution_count": 182,
   "metadata": {},
   "outputs": [],
   "source": [
    "f=open('tatoeba_raw_translations_20200724.txt','w')\n",
    "for ele in trans_ls:\n",
    "    f.write(ele+'\\n')\n",
    "f.close()"
   ]
  },
  {
   "cell_type": "markdown",
   "metadata": {},
   "source": [
    "Process translations"
   ]
  },
  {
   "cell_type": "code",
   "execution_count": 183,
   "metadata": {
    "scrolled": true
   },
   "outputs": [
    {
     "data": {
      "text/plain": [
       "['An bhfuil an críochfort bus?',\n",
       " 'Nuair a xxunk mé suas, bhí mé brónach.',\n",
       " 'Tosaíonn Oideachas sa bhaile.',\n",
       " 'Grá i tú.',\n",
       " 'Grá i tú.',\n",
       " 'Tá mé i ngrá le tú.',\n",
       " 'Glan ár seomra ranga tar éis na scoile.',\n",
       " 'Nach bhfuil muid ag comhlíonadh roimh?']"
      ]
     },
     "execution_count": 183,
     "metadata": {},
     "output_type": "execute_result"
    }
   ],
   "source": [
    "t_final = process_trans(trans_ls)\n",
    "t_final[:8]"
   ]
  },
  {
   "cell_type": "code",
   "execution_count": null,
   "metadata": {},
   "outputs": [],
   "source": [
    "f=open('tatoeba_processed_translations_20200724.txt','w')\n",
    "for ele in t_final:\n",
    "    f.write(ele+'\\n')\n",
    "f.close()"
   ]
  },
  {
   "cell_type": "code",
   "execution_count": 185,
   "metadata": {},
   "outputs": [],
   "source": [
    "t_df['translation'] = t_final\n",
    "t_df.to_csv('tatoeba_with_translation_20200724.csv')"
   ]
  },
  {
   "cell_type": "code",
   "execution_count": 186,
   "metadata": {},
   "outputs": [
    {
     "data": {
      "text/html": [
       "<div>\n",
       "<style scoped>\n",
       "    .dataframe tbody tr th:only-of-type {\n",
       "        vertical-align: middle;\n",
       "    }\n",
       "\n",
       "    .dataframe tbody tr th {\n",
       "        vertical-align: top;\n",
       "    }\n",
       "\n",
       "    .dataframe thead th {\n",
       "        text-align: right;\n",
       "    }\n",
       "</style>\n",
       "<table border=\"1\" class=\"dataframe\">\n",
       "  <thead>\n",
       "    <tr style=\"text-align: right;\">\n",
       "      <th></th>\n",
       "      <th>ga</th>\n",
       "      <th>translation</th>\n",
       "    </tr>\n",
       "  </thead>\n",
       "  <tbody>\n",
       "    <tr>\n",
       "      <th>332</th>\n",
       "      <td>Cuir na málaí ansiúd.</td>\n",
       "      <td>Cuir na málaí os cionn ann.</td>\n",
       "    </tr>\n",
       "    <tr>\n",
       "      <th>203</th>\n",
       "      <td>Is i nDoire a cheannaigh mé carr inné.</td>\n",
       "      <td>Tá sé i 1909 go cheannaigh mé inné.</td>\n",
       "    </tr>\n",
       "    <tr>\n",
       "      <th>376</th>\n",
       "      <td>Tá sí go hálainn.</td>\n",
       "      <td>Tá sí álainn.</td>\n",
       "    </tr>\n",
       "    <tr>\n",
       "      <th>180</th>\n",
       "      <td>Cén fhad a fhanfas siad?</td>\n",
       "      <td>Cén fhad a bheidh siad fanacht?</td>\n",
       "    </tr>\n",
       "    <tr>\n",
       "      <th>1966</th>\n",
       "      <td>Is maith liom do ríomhaire.</td>\n",
       "      <td>Is mian liom do ríomhaire.</td>\n",
       "    </tr>\n",
       "    <tr>\n",
       "      <th>440</th>\n",
       "      <td>Is Rúiseach mé.</td>\n",
       "      <td>Tá mé na Rúise.</td>\n",
       "    </tr>\n",
       "    <tr>\n",
       "      <th>1473</th>\n",
       "      <td>Níl sí ag freagairt an fón ach oiread.</td>\n",
       "      <td>Níl sí ag freagairt freagra ar an teileafón ceachtar.</td>\n",
       "    </tr>\n",
       "    <tr>\n",
       "      <th>1350</th>\n",
       "      <td>Is aoibheann liom do bhlas Gearmánach.</td>\n",
       "      <td>Grá i do xxunk Gearmáinis.</td>\n",
       "    </tr>\n",
       "    <tr>\n",
       "      <th>422</th>\n",
       "      <td>Ba mhúinteoir mé.</td>\n",
       "      <td>Bhí mé múinteoir.</td>\n",
       "    </tr>\n",
       "    <tr>\n",
       "      <th>120</th>\n",
       "      <td>Tá mé i mo chónaí in Albain.</td>\n",
       "      <td>Tá mé ina gcónaí in Albain.</td>\n",
       "    </tr>\n",
       "    <tr>\n",
       "      <th>242</th>\n",
       "      <td>Sin é an teach a bhfanaim ann.</td>\n",
       "      <td>Is é sin an teach a fanacht mé i.</td>\n",
       "    </tr>\n",
       "    <tr>\n",
       "      <th>175</th>\n",
       "      <td>Cén bhean a bhí ag caint leat?</td>\n",
       "      <td>Cé a bhí tú ag caint le?</td>\n",
       "    </tr>\n",
       "    <tr>\n",
       "      <th>1907</th>\n",
       "      <td>Tá Meg ag bualadh druma.</td>\n",
       "      <td>Xxunk Is xxunk dréacht.</td>\n",
       "    </tr>\n",
       "    <tr>\n",
       "      <th>1515</th>\n",
       "      <td>Cad is ainm duit?</td>\n",
       "      <td>Cad é do ainm?</td>\n",
       "    </tr>\n",
       "    <tr>\n",
       "      <th>215</th>\n",
       "      <td>Is amhlaidh a thitfidh tú!</td>\n",
       "      <td>Tá tú ag dul i ndáiríre a thagann!</td>\n",
       "    </tr>\n",
       "    <tr>\n",
       "      <th>1032</th>\n",
       "      <td>Tá aithne agam ar an gcailín sin.</td>\n",
       "      <td>Tá a fhios agam go cailín.</td>\n",
       "    </tr>\n",
       "    <tr>\n",
       "      <th>961</th>\n",
       "      <td>Níl ticéad agam.</td>\n",
       "      <td>Níl mé ag ticéad.</td>\n",
       "    </tr>\n",
       "    <tr>\n",
       "      <th>1875</th>\n",
       "      <td>Ritheann tú.</td>\n",
       "      <td>Ritheann tú.</td>\n",
       "    </tr>\n",
       "    <tr>\n",
       "      <th>1365</th>\n",
       "      <td>Bhí mé díomách sin.</td>\n",
       "      <td>Bhí mé díomá amhlaidh.</td>\n",
       "    </tr>\n",
       "    <tr>\n",
       "      <th>902</th>\n",
       "      <td>Is foclóir maith é seo.</td>\n",
       "      <td>Is foclóir maith é seo.</td>\n",
       "    </tr>\n",
       "  </tbody>\n",
       "</table>\n",
       "</div>"
      ],
      "text/plain": [
       "                                          ga  \\\n",
       "332                    Cuir na málaí ansiúd.   \n",
       "203   Is i nDoire a cheannaigh mé carr inné.   \n",
       "376                        Tá sí go hálainn.   \n",
       "180                 Cén fhad a fhanfas siad?   \n",
       "1966             Is maith liom do ríomhaire.   \n",
       "440                          Is Rúiseach mé.   \n",
       "1473  Níl sí ag freagairt an fón ach oiread.   \n",
       "1350  Is aoibheann liom do bhlas Gearmánach.   \n",
       "422                        Ba mhúinteoir mé.   \n",
       "120             Tá mé i mo chónaí in Albain.   \n",
       "242           Sin é an teach a bhfanaim ann.   \n",
       "175           Cén bhean a bhí ag caint leat?   \n",
       "1907                Tá Meg ag bualadh druma.   \n",
       "1515                       Cad is ainm duit?   \n",
       "215               Is amhlaidh a thitfidh tú!   \n",
       "1032       Tá aithne agam ar an gcailín sin.   \n",
       "961                         Níl ticéad agam.   \n",
       "1875                            Ritheann tú.   \n",
       "1365                     Bhí mé díomách sin.   \n",
       "902                  Is foclóir maith é seo.   \n",
       "\n",
       "                                                translation  \n",
       "332                             Cuir na málaí os cionn ann.  \n",
       "203                     Tá sé i 1909 go cheannaigh mé inné.  \n",
       "376                                           Tá sí álainn.  \n",
       "180                         Cén fhad a bheidh siad fanacht?  \n",
       "1966                             Is mian liom do ríomhaire.  \n",
       "440                                         Tá mé na Rúise.  \n",
       "1473  Níl sí ag freagairt freagra ar an teileafón ceachtar.  \n",
       "1350                             Grá i do xxunk Gearmáinis.  \n",
       "422                                       Bhí mé múinteoir.  \n",
       "120                             Tá mé ina gcónaí in Albain.  \n",
       "242                       Is é sin an teach a fanacht mé i.  \n",
       "175                                Cé a bhí tú ag caint le?  \n",
       "1907                                Xxunk Is xxunk dréacht.  \n",
       "1515                                         Cad é do ainm?  \n",
       "215                      Tá tú ag dul i ndáiríre a thagann!  \n",
       "1032                             Tá a fhios agam go cailín.  \n",
       "961                                       Níl mé ag ticéad.  \n",
       "1875                                           Ritheann tú.  \n",
       "1365                                 Bhí mé díomá amhlaidh.  \n",
       "902                                 Is foclóir maith é seo.  "
      ]
     },
     "execution_count": 186,
     "metadata": {},
     "output_type": "execute_result"
    }
   ],
   "source": [
    "t_df[['ga','translation']].sample(20)"
   ]
  },
  {
   "cell_type": "markdown",
   "metadata": {},
   "source": [
    "## SacreBLEU"
   ]
  },
  {
   "cell_type": "code",
   "execution_count": 189,
   "metadata": {},
   "outputs": [
    {
     "name": "stdout",
     "output_type": "stream",
     "text": [
      "Collecting sacrebleu\n",
      "  Using cached sacrebleu-1.4.12-py3-none-any.whl (54 kB)\n",
      "Collecting mecab-python3==0.996.5\n",
      "  Downloading mecab_python3-0.996.5-cp37-cp37m-manylinux2010_x86_64.whl (17.1 MB)\n",
      "\u001b[K     |████████████████████████████████| 17.1 MB 18.5 MB/s eta 0:00:01   |██████████████▌                 | 7.7 MB 5.3 MB/s eta 0:00:02     |██████████████████████████▏     | 13.9 MB 5.3 MB/s eta 0:00:01\n",
      "\u001b[?25hCollecting portalocker\n",
      "  Using cached portalocker-1.7.1-py2.py3-none-any.whl (10 kB)\n",
      "Installing collected packages: mecab-python3, portalocker, sacrebleu\n",
      "Successfully installed mecab-python3-0.996.5 portalocker-1.7.1 sacrebleu-1.4.12\n"
     ]
    }
   ],
   "source": [
    "!pip install sacrebleu"
   ]
  },
  {
   "cell_type": "code",
   "execution_count": 201,
   "metadata": {},
   "outputs": [
    {
     "data": {
      "text/plain": [
       "['Cá bhfuil críochfort na mbus?',\n",
       " 'Nuair a dhúisigh mé, bhí brón orm.',\n",
       " 'Tosaíonn an t-oideachas sa bhaile.',\n",
       " 'Táim i ngrá leat.',\n",
       " 'Tá grá agam duit.']"
      ]
     },
     "execution_count": 201,
     "metadata": {},
     "output_type": "execute_result"
    }
   ],
   "source": [
    "len(t_df.ga.values.tolist()), len(t_df.translation.values.tolist())\n",
    "\n",
    "t_df.ga.values.tolist()[:5]"
   ]
  },
  {
   "cell_type": "code",
   "execution_count": 204,
   "metadata": {
    "scrolled": true
   },
   "outputs": [
    {
     "name": "stdout",
     "output_type": "stream",
     "text": [
      "24.814271180356315\n"
     ]
    }
   ],
   "source": [
    "import sacrebleu\n",
    "\n",
    "refs = [t_df.ga.values.tolist()]\n",
    "sys = t_df.translation.values.tolist()\n",
    "\n",
    "bleu = sacrebleu.corpus_bleu(sys, refs)\n",
    "print(bleu.score)"
   ]
  },
  {
   "cell_type": "markdown",
   "metadata": {},
   "source": [
    "## 5e results"
   ]
  },
  {
   "cell_type": "code",
   "execution_count": 97,
   "metadata": {},
   "outputs": [],
   "source": [
    "def generate(model, sentence, vocab):\n",
    "    #model = torch.load('output/transformer.pth')\n",
    "#     lang_model = spacy.load('en')\n",
    "#     with open('data/processed/en/freq_list.pkl', 'rb') as f:\n",
    "#         en_freq_list = pickle.load(f)\n",
    "#     with open('data/processed/fr/freq_list.pkl', 'rb') as f:\n",
    "#         fr_freq_list = pickle.load(f)\n",
    "    #sentence = input('Please enter your english sentence: ')\n",
    "    #sentence = tokenize(sentence, en_freq_list, lang_model)\n",
    "    \n",
    "    model=model.eval()\n",
    "    \n",
    "    sentence=learn.dls.tokenizer[0][1].encodes(sentence)\n",
    "    sentence=learn.dls.numericalize[0].encodes(sentence)\n",
    "    \n",
    "    translated_sentence = [2] # xxbos\n",
    "    #translated_sentence = [fr_freq_list['[SOS]']]\n",
    "    i = 0\n",
    "    while int(translated_sentence[-1]) != 3 and i < 75:   # xxeos\n",
    "    #while int(translated_sentence[-1]) != fr_freq_list['[EOS]'] and i < 15:\n",
    "        #output = forward_model(model, sentence, translated_sentence).to('cuda')\n",
    "        output = forward_model(model, sentence, translated_sentence).cuda()\n",
    "        values, indices = torch.topk(output, 5)\n",
    "        translated_sentence.append(int(indices[-1][0]))\n",
    "        i+=1\n",
    "\n",
    "    detok_translated_sentence=detokenize(translated_sentence, vocab)\n",
    "    #print(' '.join(detok_translated_sentence))\n",
    "    return ' '.join(detok_translated_sentence)\n",
    "    \n",
    "\n",
    "def forward_model(model, src, tgt):\n",
    "    src = torch.as_tensor(src).unsqueeze(0).long().cuda()\n",
    "    tgt = torch.as_tensor(tgt).unsqueeze(0).cuda()\n",
    "    tgt_mask = gen_nopeek_mask(tgt.shape[1]).cuda()\n",
    "    src = to_half(src)\n",
    "    tgt = to_half(tgt)\n",
    "    output = model.forward(src, tgt, tgt_mask=tgt_mask, src_key_padding_mask=None, tgt_key_padding_mask=None, memory_key_padding_mask=None)\n",
    "\n",
    "    #return output.squeeze(0).to('cpu')\n",
    "    return output.squeeze(0).detach()\n",
    "\n",
    "\n",
    "# def tokenize(sentence, freq_list, lang_model):\n",
    "#     punctuation = ['(', ')', ':', '\"', ' ']\n",
    "\n",
    "#     sentence = sentence.lower()\n",
    "#     sentence = [tok.text for tok in lang_model.tokenizer(sentence) if tok.text not in punctuation]\n",
    "#     return [freq_list[word] if word in freq_list else freq_list['[OOV]'] for word in sentence]\n",
    "\n",
    "\n",
    "def detokenize(sentence, vocab):\n",
    "    #freq_list = {v: k for k, v in freq_list.items()}\n",
    "    return [vocab[token] for token in sentence]\n",
    "    #return [freq_list[token] for token in sentence]\n",
    "# def detokenize(sentence, freq_list):\n",
    "#     freq_list = {v: k for k, v in freq_list.items()}\n",
    "#     return [freq_list[token] for token in sentence]\n",
    "\n",
    "\n",
    "def gen_nopeek_mask(length):\n",
    "    mask = rearrange(torch.triu(torch.ones(length, length)) == 1, 'h w -> w h')\n",
    "    mask = mask.float().masked_fill(mask == 0, float('-inf')).masked_fill(mask == 1, float(0.0))\n",
    "    return mask"
   ]
  },
  {
   "cell_type": "code",
   "execution_count": 54,
   "metadata": {
    "scrolled": true
   },
   "outputs": [
    {
     "name": "stdout",
     "output_type": "stream",
     "text": [
      "xxbos dia dia duit , conas atá tú ? xxeos\n"
     ]
    }
   ],
   "source": [
    "generate(learn.model, \"hello, how are you?\", dls.vocab[1])"
   ]
  },
  {
   "cell_type": "code",
   "execution_count": 55,
   "metadata": {},
   "outputs": [
    {
     "name": "stdout",
     "output_type": "stream",
     "text": [
      "xxbos xxmaj an féidir leat a insint dúinn i gcás go bhfuil an stáisiún bus le do thoil ? xxeos\n"
     ]
    }
   ],
   "source": [
    "generate(learn.model, \"Can you tell we where the bus station is please?\", dls.vocab[1])"
   ]
  },
  {
   "cell_type": "code",
   "execution_count": 56,
   "metadata": {},
   "outputs": [
    {
     "name": "stdout",
     "output_type": "stream",
     "text": [
      "xxbos xxmaj inné xxunk sé , ach amárach beidh an - xxunk xxmaj xxunk xxeos\n"
     ]
    }
   ],
   "source": [
    "generate(learn.model, \"Yesterday it rained, but tomorrow will be very sunny\", dls.vocab[1])"
   ]
  },
  {
   "cell_type": "code",
   "execution_count": 57,
   "metadata": {},
   "outputs": [
    {
     "name": "stdout",
     "output_type": "stream",
     "text": [
      "xxbos xxmaj bhí mé lá mór , xxmaj is é mo aistritheoir ag obair xxeos\n"
     ]
    }
   ],
   "source": [
    "generate(learn.model, \"I had a great day, my translator is working\", dls.vocab[1])"
   ]
  },
  {
   "cell_type": "code",
   "execution_count": 58,
   "metadata": {},
   "outputs": [
    {
     "name": "stdout",
     "output_type": "stream",
     "text": [
      "xxbos xxmaj mar sin , tá sé seo scéal ar fad faoi conas mo thuairimse , smeach xxunk síos , mar sin mhaith liom a ghlacadh nóiméad díreach suí ceart go bhfuil , beidh mé go léir faoi conas a tháinig mé an xxunk úr xxeos\n"
     ]
    }
   ],
   "source": [
    "generate(learn.model, \"So this is a story all about how my lift got flip turned \\\n",
    "upside down, so I'd like to take a minute just sit right there, I'll you all about how I became the fresh prince\\\n",
    "of belair\", dls.vocab[1])"
   ]
  },
  {
   "cell_type": "code",
   "execution_count": 59,
   "metadata": {},
   "outputs": [
    {
     "name": "stdout",
     "output_type": "stream",
     "text": [
      "xxbos xxmaj madra xxeos\n"
     ]
    }
   ],
   "source": [
    "generate(learn.model, \"dog\", dls.vocab[1])"
   ]
  },
  {
   "cell_type": "code",
   "execution_count": 60,
   "metadata": {},
   "outputs": [
    {
     "name": "stdout",
     "output_type": "stream",
     "text": [
      "xxbos cat cat cat xxeos\n"
     ]
    }
   ],
   "source": [
    "generate(learn.model, \"cat\", dls.vocab[1])"
   ]
  },
  {
   "cell_type": "code",
   "execution_count": 61,
   "metadata": {},
   "outputs": [
    {
     "name": "stdout",
     "output_type": "stream",
     "text": [
      "xxbos crann crann xxeos\n"
     ]
    }
   ],
   "source": [
    "generate(learn.model, \"tree\", dls.vocab[1])"
   ]
  },
  {
   "cell_type": "code",
   "execution_count": 62,
   "metadata": {},
   "outputs": [
    {
     "name": "stdout",
     "output_type": "stream",
     "text": [
      "xxbos foirgneamh tógála xxeos\n"
     ]
    }
   ],
   "source": [
    "generate(learn.model, \"building\", dls.vocab[1])"
   ]
  },
  {
   "cell_type": "code",
   "execution_count": 63,
   "metadata": {},
   "outputs": [
    {
     "name": "stdout",
     "output_type": "stream",
     "text": [
      "xxbos cathair cathair cathair cathair xxeos\n"
     ]
    }
   ],
   "source": [
    "generate(learn.model, \"city\", dls.vocab[1])"
   ]
  },
  {
   "cell_type": "code",
   "execution_count": 64,
   "metadata": {},
   "outputs": [
    {
     "name": "stdout",
     "output_type": "stream",
     "text": [
      "xxbos bean xxeos\n"
     ]
    }
   ],
   "source": [
    "generate(learn.model, \"woman\", dls.vocab[1])"
   ]
  },
  {
   "cell_type": "code",
   "execution_count": 65,
   "metadata": {},
   "outputs": [
    {
     "name": "stdout",
     "output_type": "stream",
     "text": [
      "xxbos fear xxeos\n"
     ]
    }
   ],
   "source": [
    "generate(learn.model, \"man\", dls.vocab[1])"
   ]
  },
  {
   "cell_type": "code",
   "execution_count": 66,
   "metadata": {},
   "outputs": [
    {
     "name": "stdout",
     "output_type": "stream",
     "text": [
      "xxbos seacláide xxeos\n"
     ]
    }
   ],
   "source": [
    "generate(learn.model, \"chocolate\", dls.vocab[1])"
   ]
  },
  {
   "cell_type": "code",
   "execution_count": 67,
   "metadata": {},
   "outputs": [
    {
     "name": "stdout",
     "output_type": "stream",
     "text": [
      "xxbos spásárthach spásárthach xxeos\n"
     ]
    }
   ],
   "source": [
    "generate(learn.model, \"spaceship\", dls.vocab[1])"
   ]
  },
  {
   "cell_type": "code",
   "execution_count": null,
   "metadata": {},
   "outputs": [],
   "source": []
  },
  {
   "cell_type": "code",
   "execution_count": null,
   "metadata": {},
   "outputs": [],
   "source": [
    "# https://forums.fast.ai/t/fastai-v2-text/53529/334\n",
    "from fastai2.text.all import *\n",
    "\n",
    "defaults.device = torch.device('cpu')\n",
    "path = Path('.')\n",
    "learner = load_learner(\"./export.pkl\")\n",
    "\n",
    "f = open(\"/tmp/test.txt\", \"r\")\n",
    "test_file_contents = f.read()\n",
    "\n",
    "_, _, losses = learner.predict(test_file_contents)\n",
    "cats = [learner.dls.categorize.decode(i) for i in range(len(losses))]\n",
    "\n",
    "predictions = sorted(\n",
    "    zip(cats, map(float, losses)),\n",
    "    key=lambda p: p[1],\n",
    "    reverse=True\n",
    ")\n",
    "print(predictions)\n",
    "\n",
    "# OR\n",
    "\n",
    "items = pd.read_csv(\"/tmp/test.txt\", sep = '\\t')\n",
    "test_dl = learner.dls.test_dl(items.values)\n",
    "\n",
    "learner.get_preds(dl=test_dl, with_decoded=False)"
   ]
  },
  {
   "cell_type": "code",
   "execution_count": null,
   "metadata": {},
   "outputs": [],
   "source": []
  }
 ],
 "metadata": {
  "kernelspec": {
   "display_name": "Python 3",
   "language": "python",
   "name": "python3"
  },
  "language_info": {
   "codemirror_mode": {
    "name": "ipython",
    "version": 3
   },
   "file_extension": ".py",
   "mimetype": "text/x-python",
   "name": "python",
   "nbconvert_exporter": "python",
   "pygments_lexer": "ipython3",
   "version": "3.7.6"
  }
 },
 "nbformat": 4,
 "nbformat_minor": 2
}
