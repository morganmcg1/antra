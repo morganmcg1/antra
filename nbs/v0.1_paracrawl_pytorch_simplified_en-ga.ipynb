{
 "cells": [
  {
   "cell_type": "markdown",
   "metadata": {},
   "source": [
    "Taken from fastai NLP \"8-translation-transformer\"\n",
    "\n",
    "FastText embeddings: https://fasttext.cc/docs/en/crawl-vectors.html"
   ]
  },
  {
   "cell_type": "code",
   "execution_count": 35,
   "metadata": {},
   "outputs": [],
   "source": [
    "from fastai2.text.all import *\n",
    "from fastai2.callback.all import *\n",
    "from fastai2.basics import *\n",
    "import seaborn as sns\n",
    "\n",
    "from einops import rearrange\n",
    "import gc"
   ]
  },
  {
   "cell_type": "code",
   "execution_count": 36,
   "metadata": {},
   "outputs": [
    {
     "data": {
      "text/plain": [
       "((#4) [Path('data/irish/crosslang/en-ga-crosslang.zip'),Path('data/irish/crosslang/paracrawl_cleaned_en-ga.csv'),Path('data/irish/crosslang/paracrawl.ga'),Path('data/irish/crosslang/paracrawl.en')],\n",
       " Path('data/irish/crosslang'))"
      ]
     },
     "execution_count": 36,
     "metadata": {},
     "output_type": "execute_result"
    }
   ],
   "source": [
    "path = Path('data/irish/crosslang')\n",
    "path.ls(), path"
   ]
  },
  {
   "cell_type": "code",
   "execution_count": 37,
   "metadata": {},
   "outputs": [],
   "source": [
    "# ga = pd.read_csv(path/'paracrawl.ga', error_bad_lines=False, sep='\\n\\n', header=None, engine='python')\n",
    "# en = pd.read_csv(path/'paracrawl.en', error_bad_lines=False, sep='\\n\\n', header=None, engine='python')\n",
    "# len(ga), len(en)"
   ]
  },
  {
   "cell_type": "code",
   "execution_count": 38,
   "metadata": {},
   "outputs": [],
   "source": [
    "#ga.iloc[7569,:], en.iloc[7569,:]"
   ]
  },
  {
   "cell_type": "code",
   "execution_count": 39,
   "metadata": {},
   "outputs": [],
   "source": [
    "# para=pd.concat([ga, en], axis=1)\n",
    "# para.columns=['ga','en']\n",
    "# para.head()"
   ]
  },
  {
   "cell_type": "code",
   "execution_count": 40,
   "metadata": {},
   "outputs": [],
   "source": [
    "# def remove_non_ascii(text):\n",
    "#     return ''.join(i for i in text if ord(i)<128)\n",
    "\n",
    "# p2 = pd.DataFrame()\n",
    "# p2['ga'] = para['ga'].apply(remove_non_ascii)\n",
    "# p2['en'] = para['en'].apply(remove_non_ascii)\n",
    "# len(p2)"
   ]
  },
  {
   "cell_type": "code",
   "execution_count": 41,
   "metadata": {},
   "outputs": [],
   "source": [
    "#p2.sample(20)"
   ]
  },
  {
   "cell_type": "code",
   "execution_count": 42,
   "metadata": {},
   "outputs": [],
   "source": [
    "# print(len(p2))\n",
    "# p2 = p2[p2.ga.str.len() > 30].copy()\n",
    "# print(len(p2))"
   ]
  },
  {
   "cell_type": "code",
   "execution_count": 43,
   "metadata": {},
   "outputs": [],
   "source": [
    "# # Remove porn\n",
    "# print(len(p2))\n",
    "# p2 = p2[~p2.en.str.contains('porn')].copy()\n",
    "# p2 = p2[~p2.en.str.contains('Porn')].copy()\n",
    "# p2 = p2[~p2.en.str.contains('HD Video')].copy()\n",
    "# p2 = p2[~p2.en.str.contains(' sex video')].copy()\n",
    "# p2 = p2[~p2.en.str.contains(' Orgy ')].copy()\n",
    "# p2 = p2[~p2.en.str.contains(' Squirting ')].copy()\n",
    "# p2 = p2[~p2.en.str.contains(' sex Party ')].copy()\n",
    "# p2 = p2[~p2.en.str.contains(' car sex ')].copy()\n",
    "# p2 = p2[~p2.en.str.contains(' Threesome ')].copy()\n",
    "# p2 = p2[~p2.en.str.contains(' threesome ')].copy()\n",
    "# p2 = p2[~p2.en.str.contains(' fucking ')].copy()\n",
    "# p2 = p2[~p2.en.str.contains(' cock sucking ')].copy()\n",
    "# p2 = p2[~p2.en.str.contains(' has sex ')].copy()\n",
    "# p2 = p2[~p2.en.str.contains(' sucking ')].copy()\n",
    "# p2 = p2[~p2.en.str.contains(' sex with ')].copy()\n",
    "# p2 = p2[~p2.en.str.contains(' sex toy')].copy()\n",
    "# p2 = p2[~p2.en.str.contains(' public sex')].copy()\n",
    "# p2 = p2[~p2.en.str.contains(' teen sex ')].copy()\n",
    "# p2 = p2[~p2.en.str.contains(' oral sex ')].copy()\n",
    "# p2 = p2[~p2.en.str.contains(' Oral sex ')].copy()\n",
    "# p2 = p2[~p2.en.str.contains(' loves sex ')].copy()\n",
    "# p2 = p2[~p2.en.str.contains(' anal sex ')].copy()\n",
    "# p2 = p2[~p2.en.str.contains(' hard sex ')].copy()\n",
    "# p2 = p2[~p2.en.str.contains(' live sex ')].copy()\n",
    "# p2 = p2[~p2.en.str.contains(' big ass ')].copy()\n",
    "# p2 = p2[~p2.en.str.contains(' sex games ')].copy()\n",
    "# p2 = p2[~p2.en.str.contains(' sex partner ')].copy()\n",
    "# p2 = p2[~p2.en.str.contains(' video sex ')].copy()\n",
    "# p2 = p2[~p2.en.str.contains(' sex Mature')].copy()\n",
    "# p2 = p2[~p2.en.str.contains(' Group sex')].copy()\n",
    "# p2 = p2[~p2.en.str.contains(' sex hypertension')].copy()\n",
    "# p2 = p2[~(p2.en.str.contains('sex') & p2.en.str.contains('HD'))].copy()\n",
    "# p2 = p2[~(p2.en.str.contains(' sex ') & p2.en.str.contains(' video '))].copy()\n",
    "# p2 = p2[~(p2.en.str.contains(' sex ') & p2.en.str.contains(' cam '))].copy()\n",
    "# p2 = p2[~(p2.en.str.contains(' sex ') & p2.en.str.contains(' cum '))].copy()\n",
    "# p2 = p2[~(p2.en.str.contains(' sex ') & p2.en.str.contains('Cum '))].copy()\n",
    "# p2 = p2[~(p2.en.str.contains(' sex ') & p2.en.str.contains(' handjob '))].copy()\n",
    "# p2 = p2[~(p2.en.str.contains(' sex ') & p2.en.str.contains(' hardcore '))].copy()\n",
    "# p2 = p2[~(p2.en.str.contains(' sex ') & p2.en.str.contains(' Hardcore '))].copy()\n",
    "# p2 = p2[~(p2.en.str.contains(' sex ') & p2.en.str.contains(' incest '))].copy()\n",
    "# p2 = p2[~(p2.en.str.contains(' sex ') & p2.en.str.contains(' pics '))].copy()\n",
    "# p2 = p2[~(p2.en.str.contains(' sex ') & p2.en.str.contains(' homemade '))].copy()\n",
    "# p2 = p2[~p2.en.str.contains(' tits ')].copy()\n",
    "# p2 = p2[~p2.en.str.contains(' Tits ')].copy()\n",
    "# p2 = p2[~p2.en.str.contains(' sex stories ')].copy()\n",
    "# p2 = p2[~p2.en.str.contains(' Fucks ')].copy()\n",
    "# p2 = p2[~p2.en.str.contains(' fucks ')].copy()\n",
    "# p2 = p2[~p2.en.str.contains(' sex chat ')].copy()\n",
    "# p2 = p2[~p2.en.str.contains(' young sex ')].copy()\n",
    "# p2 = p2[~p2.en.str.contains('SexTape')].copy()\n",
    "# p2 = p2[~p2.en.str.contains(' sex tape ')].copy()\n",
    "# p2 = p2[~p2.en.str.contains('Anal sex ')].copy()\n",
    "# print(len(p2))\n",
    "# p2.reset_index(inplace=True, drop=True)"
   ]
  },
  {
   "cell_type": "markdown",
   "metadata": {},
   "source": [
    "Create validation set "
   ]
  },
  {
   "cell_type": "code",
   "execution_count": 44,
   "metadata": {},
   "outputs": [],
   "source": [
    "# p2['is_valid'] = False\n",
    "\n",
    "# idxs=p2.index.values    \n",
    "# np.random.shuffle(idxs)  \n",
    "\n",
    "# n=int(len(idxs)*0.2)\n",
    "# val_splt=idxs[:n]\n",
    "# p2.loc[val_splt,'is_valid']=True\n",
    "\n",
    "# len(p2), p2.is_valid.sum()"
   ]
  },
  {
   "cell_type": "markdown",
   "metadata": {},
   "source": [
    "Get sample lengths"
   ]
  },
  {
   "cell_type": "code",
   "execution_count": 45,
   "metadata": {},
   "outputs": [],
   "source": [
    "# p2['ga_len'] = p2['ga'].str.split().str.len()\n",
    "# p2['en_len'] = p2['en'].str.split().str.len()"
   ]
  },
  {
   "cell_type": "code",
   "execution_count": 46,
   "metadata": {},
   "outputs": [],
   "source": [
    "# import seaborn as sns\n",
    "# sns.distplot(p2['ga_len'].values), np.median(p2['ga_len'])"
   ]
  },
  {
   "cell_type": "code",
   "execution_count": 47,
   "metadata": {},
   "outputs": [],
   "source": [
    "# sns.distplot(p2['en_len'].values), np.median(p2['en_len'])"
   ]
  },
  {
   "cell_type": "code",
   "execution_count": 48,
   "metadata": {},
   "outputs": [],
   "source": [
    "#p2.to_csv(path/'paracrawl_cleaned_en-ga.csv', index=False)"
   ]
  },
  {
   "cell_type": "markdown",
   "metadata": {},
   "source": [
    "### Load saved dataset"
   ]
  },
  {
   "cell_type": "code",
   "execution_count": 49,
   "metadata": {
    "scrolled": true
   },
   "outputs": [
    {
     "name": "stdout",
     "output_type": "stream",
     "text": [
      "717739\n"
     ]
    },
    {
     "data": {
      "text/html": [
       "<div>\n",
       "<style scoped>\n",
       "    .dataframe tbody tr th:only-of-type {\n",
       "        vertical-align: middle;\n",
       "    }\n",
       "\n",
       "    .dataframe tbody tr th {\n",
       "        vertical-align: top;\n",
       "    }\n",
       "\n",
       "    .dataframe thead th {\n",
       "        text-align: right;\n",
       "    }\n",
       "</style>\n",
       "<table border=\"1\" class=\"dataframe\">\n",
       "  <thead>\n",
       "    <tr style=\"text-align: right;\">\n",
       "      <th></th>\n",
       "      <th>ga</th>\n",
       "      <th>en</th>\n",
       "      <th>is_valid</th>\n",
       "      <th>ga_len</th>\n",
       "      <th>en_len</th>\n",
       "    </tr>\n",
       "  </thead>\n",
       "  <tbody>\n",
       "    <tr>\n",
       "      <td>0</td>\n",
       "      <td>d'fhonn go raibh maith agat litreacha Grianghraif Teagmhil Naisc</td>\n",
       "      <td>order thanks letters photos Contact Links</td>\n",
       "      <td>False</td>\n",
       "      <td>9</td>\n",
       "      <td>6</td>\n",
       "    </tr>\n",
       "    <tr>\n",
       "      <td>1</td>\n",
       "      <td>Ingus &amp; Oleg NGO \"Ord\" go raibh maith Ingus agus Oleg do na fionnachtana agus aistreoidh s chuig an reburial na tais de dh saighdiir an Airm Dearg.</td>\n",
       "      <td>Ingus &amp; Oleg NGO \"Order\" thank Ingus and Oleg for the discovery and transfer to the reburial of the remains of two soldiers of the Red Army.</td>\n",
       "      <td>False</td>\n",
       "      <td>28</td>\n",
       "      <td>27</td>\n",
       "    </tr>\n",
       "    <tr>\n",
       "      <td>2</td>\n",
       "      <td>RenarsP Poibl eagra ocht \"Ord\" mbu ochas lenr gcomhghleaca -  sideoir RenarsP, a bhrath agus chun cnaimh i dh saighdiir Gearmnach. Saighdiir a tharchur chuig an reburial an reilig na Gearmine.</td>\n",
       "      <td>RenarsP Public organization \"Order\" thanks to our colleague - Users RenarsP, for the detection of and assistance in the exhumation of a German soldier. Soldiers referred to the reburial of the German cemetery.</td>\n",
       "      <td>False</td>\n",
       "      <td>31</td>\n",
       "      <td>33</td>\n",
       "    </tr>\n",
       "    <tr>\n",
       "      <td>3</td>\n",
       "      <td>Vasjabar Biedrba \"Ordenis\" a bhu ochas leis an sideoir Vasjabar, le haghaidh faisnise faoi na thngthas ar iarsma na saighdiir an Airm Dearg agus Wehrmacht, aistr odh baill \"Br u kapu komiteja\", mekl anas vienba LEENDA agus biedrba \"Ordenis\".</td>\n",
       "      <td>Vasjabar Biedrba \"Ordenis\" thanks to the user Vasjabar, for information about the discovered remains of soldiers of the Red Army and Wehrmacht, transferred members \"Br u kapu komiteja\", mekl anas vienba LEENDA and biedrba \"Ordenis\".</td>\n",
       "      <td>True</td>\n",
       "      <td>39</td>\n",
       "      <td>35</td>\n",
       "    </tr>\n",
       "    <tr>\n",
       "      <td>4</td>\n",
       "      <td>Biedrba \"Ordenis\" a bhu ochas leis an Vasjabar sideoir a bhrath agus a aistri chuig an reburial de na hiarsma na foirne blir Il-2 947  ionsa Eitl ochta Reisimint p olta Laoch an Aontais Shivadaigh, Major George Chernoff Gerasimovich agus arrow Garda Sisearach Sirsint Strelkova Stepan Vasilyevich. Biedrba \"Ordenis\" a bhu ochas leis an sideoir Vasjabar a bhrath agus a aistri chuig an reburial ar iarsma an trir saighdiir an Wehrmacht.</td>\n",
       "      <td>Biedrba \"Ordenis\" thanks to the user Vasjabar for the detection and transfer to the reburial of the remains of the crew fragments Il-2 947 th Attack Aviation Regiment pilots Hero of the Soviet Union, Major George Chernoff Gerasimovich and arrow Guards Junior Sergeant Strelkova Stepan Vasilyevich. Biedrba \"Ordenis\" thanks to the user Vasjabar for the detection and transfer to the reburial of the remains of three soldiers the Wehrmacht.</td>\n",
       "      <td>False</td>\n",
       "      <td>71</td>\n",
       "      <td>69</td>\n",
       "    </tr>\n",
       "  </tbody>\n",
       "</table>\n",
       "</div>"
      ],
      "text/plain": [
       "                                                                                                                                                                                                                                                                                                                                                                                                                                                    ga  \\\n",
       "0                                                                                                                                                                                                                                                                                                                                                                                     d'fhonn go raibh maith agat litreacha Grianghraif Teagmhil Naisc   \n",
       "1                                                                                                                                                                                                                                                                                                  Ingus & Oleg NGO \"Ord\" go raibh maith Ingus agus Oleg do na fionnachtana agus aistreoidh s chuig an reburial na tais de dh saighdiir an Airm Dearg.   \n",
       "2                                                                                                                                                                                                                                                     RenarsP Poibl eagra ocht \"Ord\" mbu ochas lenr gcomhghleaca -  sideoir RenarsP, a bhrath agus chun cnaimh i dh saighdiir Gearmnach. Saighdiir a tharchur chuig an reburial an reilig na Gearmine.   \n",
       "3                                                                                                                                                                                                    Vasjabar Biedrba \"Ordenis\" a bhu ochas leis an sideoir Vasjabar, le haghaidh faisnise faoi na thngthas ar iarsma na saighdiir an Airm Dearg agus Wehrmacht, aistr odh baill \"Br u kapu komiteja\", mekl anas vienba LEENDA agus biedrba \"Ordenis\".   \n",
       "4  Biedrba \"Ordenis\" a bhu ochas leis an Vasjabar sideoir a bhrath agus a aistri chuig an reburial de na hiarsma na foirne blir Il-2 947  ionsa Eitl ochta Reisimint p olta Laoch an Aontais Shivadaigh, Major George Chernoff Gerasimovich agus arrow Garda Sisearach Sirsint Strelkova Stepan Vasilyevich. Biedrba \"Ordenis\" a bhu ochas leis an sideoir Vasjabar a bhrath agus a aistri chuig an reburial ar iarsma an trir saighdiir an Wehrmacht.   \n",
       "\n",
       "                                                                                                                                                                                                                                                                                                                                                                                                                                                       en  \\\n",
       "0                                                                                                                                                                                                                                                                                                                                                                                                               order thanks letters photos Contact Links   \n",
       "1                                                                                                                                                                                                                                                                                                            Ingus & Oleg NGO \"Order\" thank Ingus and Oleg for the discovery and transfer to the reburial of the remains of two soldiers of the Red Army.   \n",
       "2                                                                                                                                                                                                                                       RenarsP Public organization \"Order\" thanks to our colleague - Users RenarsP, for the detection of and assistance in the exhumation of a German soldier. Soldiers referred to the reburial of the German cemetery.   \n",
       "3                                                                                                                                                                                                                Vasjabar Biedrba \"Ordenis\" thanks to the user Vasjabar, for information about the discovered remains of soldiers of the Red Army and Wehrmacht, transferred members \"Br u kapu komiteja\", mekl anas vienba LEENDA and biedrba \"Ordenis\".   \n",
       "4  Biedrba \"Ordenis\" thanks to the user Vasjabar for the detection and transfer to the reburial of the remains of the crew fragments Il-2 947 th Attack Aviation Regiment pilots Hero of the Soviet Union, Major George Chernoff Gerasimovich and arrow Guards Junior Sergeant Strelkova Stepan Vasilyevich. Biedrba \"Ordenis\" thanks to the user Vasjabar for the detection and transfer to the reburial of the remains of three soldiers the Wehrmacht.   \n",
       "\n",
       "   is_valid  ga_len  en_len  \n",
       "0     False       9       6  \n",
       "1     False      28      27  \n",
       "2     False      31      33  \n",
       "3      True      39      35  \n",
       "4     False      71      69  "
      ]
     },
     "execution_count": 49,
     "metadata": {},
     "output_type": "execute_result"
    }
   ],
   "source": [
    "df=pd.read_csv(path/'paracrawl_cleaned_en-ga.csv')\n",
    "print(len(df))\n",
    "df.head()"
   ]
  },
  {
   "cell_type": "code",
   "execution_count": 50,
   "metadata": {},
   "outputs": [
    {
     "name": "stdout",
     "output_type": "stream",
     "text": [
      "Median length is: 18.0\n"
     ]
    },
    {
     "data": {
      "image/png": "[encoded data removed]",
      "text/plain": [
       "<Figure size 432x288 with 1 Axes>"
      ]
     },
     "metadata": {
      "needs_background": "light"
     },
     "output_type": "display_data"
    }
   ],
   "source": [
    "sns.distplot(df['ga_len'].values)\n",
    "print(f'Median length is: {np.median(df[\"ga_len\"])}')"
   ]
  },
  {
   "cell_type": "code",
   "execution_count": 51,
   "metadata": {},
   "outputs": [
    {
     "name": "stdout",
     "output_type": "stream",
     "text": [
      "Median length is: 18.0\n"
     ]
    },
    {
     "data": {
      "image/png": "[encoded data removed]",
      "text/plain": [
       "<Figure size 432x288 with 1 Axes>"
      ]
     },
     "metadata": {
      "needs_background": "light"
     },
     "output_type": "display_data"
    }
   ],
   "source": [
    "import seaborn as sns\n",
    "sns.distplot(df['en_len'].values)\n",
    "print(f'Median length is: {np.median(df[\"en_len\"])}')"
   ]
  },
  {
   "cell_type": "markdown",
   "metadata": {},
   "source": [
    "### Pre-processing\n",
    "\n",
    "**Remove long texts to make things easier**"
   ]
  },
  {
   "cell_type": "code",
   "execution_count": 52,
   "metadata": {},
   "outputs": [
    {
     "data": {
      "text/plain": [
       "(52.0, 53.0)"
      ]
     },
     "execution_count": 52,
     "metadata": {},
     "output_type": "execute_result"
    }
   ],
   "source": [
    "# Word count 90th percentile\n",
    "np.percentile([o for o in df.en_len.values], 90), np.percentile([o for o in df.ga_len.values], 90)"
   ]
  },
  {
   "cell_type": "code",
   "execution_count": 53,
   "metadata": {},
   "outputs": [
    {
     "name": "stdout",
     "output_type": "stream",
     "text": [
      "Removing 45779 EN samples where len was > 60\n",
      "717739\n",
      "671960\n",
      "Removing 10378 FR samples where len was > 60\n",
      "671960\n",
      "661582\n"
     ]
    }
   ],
   "source": [
    "print(f'Removing {len(df.query(\"en_len > 60\"))} EN samples where len was > 60')\n",
    "print(len(df))\n",
    "df=df[~df.index.isin(df.query(\"en_len > 60\").index)]\n",
    "print(len(df))\n",
    "      \n",
    "print(f'Removing {len(df.query(\"ga_len > 60\"))} FR samples where len was > 60')\n",
    "print(len(df))\n",
    "df=df[~df.index.isin(df.query(\"ga_len > 60\").index)]\n",
    "print(len(df))"
   ]
  },
  {
   "cell_type": "code",
   "execution_count": 54,
   "metadata": {},
   "outputs": [
    {
     "data": {
      "text/plain": [
       "(<matplotlib.axes._subplots.AxesSubplot at 0x7f27e10614d0>, 16.0)"
      ]
     },
     "execution_count": 54,
     "metadata": {},
     "output_type": "execute_result"
    },
    {
     "data": {
      "image/png": "[encoded data removed]",
      "text/plain": [
       "<Figure size 432x288 with 1 Axes>"
      ]
     },
     "metadata": {
      "needs_background": "light"
     },
     "output_type": "display_data"
    }
   ],
   "source": [
    "sns.distplot(df['en_len'].values), np.median(df['en_len'])"
   ]
  },
  {
   "cell_type": "markdown",
   "metadata": {},
   "source": [
    "**Lowercase everything**"
   ]
  },
  {
   "cell_type": "code",
   "execution_count": 55,
   "metadata": {},
   "outputs": [],
   "source": [
    "df['en'] = df['en'].apply(lambda x:x.lower())\n",
    "df['ga'] = df['ga'].apply(lambda x:x.lower())"
   ]
  },
  {
   "cell_type": "markdown",
   "metadata": {},
   "source": [
    "Rules used as part of tokenization"
   ]
  },
  {
   "cell_type": "code",
   "execution_count": 56,
   "metadata": {},
   "outputs": [
    {
     "data": {
      "text/plain": [
       "[<function fastai2.text.core.fix_html(x)>,\n",
       " <function fastai2.text.core.replace_rep(t)>,\n",
       " <function fastai2.text.core.replace_wrep(t)>,\n",
       " <function fastai2.text.core.spec_add_spaces(t)>,\n",
       " <function fastai2.text.core.rm_useless_spaces(t)>,\n",
       " <function fastai2.text.core.replace_all_caps(t)>,\n",
       " <function fastai2.text.core.replace_maj(t)>,\n",
       " functools.partial(<function lowercase at 0x7f284366c680>, add_eos=True)]"
      ]
     },
     "execution_count": 56,
     "metadata": {},
     "output_type": "execute_result"
    }
   ],
   "source": [
    "proc_rules=defaults.text_proc_rules[:-1] + [partial(lowercase, add_eos=True)]\n",
    "proc_rules"
   ]
  },
  {
   "cell_type": "markdown",
   "metadata": {},
   "source": [
    "### Get Dataloaders"
   ]
  },
  {
   "cell_type": "markdown",
   "metadata": {},
   "source": [
    "Load vocab to speed up data loading"
   ]
  },
  {
   "cell_type": "code",
   "execution_count": 57,
   "metadata": {},
   "outputs": [],
   "source": [
    "import csv\n",
    "en_vocab=[]\n",
    "ga_vocab=[]\n",
    "with open('paracrawl_vocab_en.csv', newline='') as csvfile:\n",
    "    v_reader = csv.reader(csvfile, delimiter=',')\n",
    "    for row in v_reader:\n",
    "        en_vocab.append(row[0])\n",
    "        \n",
    "with open('paracrawl_vocab_ga.csv', newline='') as csvfile:\n",
    "    v_reader = csv.reader(csvfile, delimiter=',')\n",
    "    for row in v_reader:\n",
    "        ga_vocab.append(row[0])\n",
    "        \n",
    "#len(en_vocab), len(ga_vocab), en_vocab[:10], ga_vocab[:10]"
   ]
  },
  {
   "cell_type": "code",
   "execution_count": 58,
   "metadata": {},
   "outputs": [
    {
     "data": {
      "text/html": [],
      "text/plain": [
       "<IPython.core.display.HTML object>"
      ]
     },
     "metadata": {},
     "output_type": "display_data"
    },
    {
     "data": {
      "text/html": [],
      "text/plain": [
       "<IPython.core.display.HTML object>"
      ]
     },
     "metadata": {},
     "output_type": "display_data"
    }
   ],
   "source": [
    "splits = ColSplitter()(df) \n",
    "\n",
    "tfms = [[Tokenizer.from_df(text_cols='en' , rules=proc_rules), attrgetter(\"text\"), Numericalize(max_vocab=20000)], \n",
    "       [Tokenizer.from_df(text_cols='ga', lang='ga', rules=proc_rules), attrgetter(\"text\"), Numericalize(max_vocab=20000)]]\n",
    "\n",
    "dl = partial(SortedDL, shuffle=True)\n",
    "\n",
    "dsets = Datasets(df, tfms, splits=splits, dl_type=dl)"
   ]
  },
  {
   "cell_type": "code",
   "execution_count": 59,
   "metadata": {},
   "outputs": [
    {
     "data": {
      "text/plain": [
       "(661582,\n",
       " ((#529252) [0,1,2,6,7,10,11,12,13,14...],\n",
       "  (#132330) [3,4,5,8,9,22,24,25,29,31...]),\n",
       " 40,\n",
       " 38,\n",
       " (TensorText([    2,     0,   151,  3839,   141,    70,   141,  2027,    13,   166,\n",
       "          12697,    24,  1645,     0,    10,    20,     9,  6356,    11,    16,\n",
       "            677,    17,     9,     0,    11,    18,  2607,  3677,    12,  2922,\n",
       "            193,    13,     9,     0,    11,     9,  2607,  7649,    12,     3]),\n",
       "  TensorText([    2,     0,   342,  9565,   955,    69,   116,    69,     0,     0,\n",
       "           3023,     0,    20,  1525,     0,     9,    10,  4005,    14,    33,\n",
       "           2972,    18,   193,  2569, 15045,    12,  2569,    10,  2062,   194,\n",
       "             11,     0,    11,  5022,    19,  4321,    12,     3])))"
      ]
     },
     "execution_count": 59,
     "metadata": {},
     "output_type": "execute_result"
    }
   ],
   "source": [
    "len(dsets), splits, len(dsets[2][0]), len(dsets[2][1]), dsets[2]"
   ]
  },
  {
   "cell_type": "code",
   "execution_count": 60,
   "metadata": {
    "scrolled": true
   },
   "outputs": [
    {
     "data": {
      "text/html": [
       "<table border=\"1\" class=\"dataframe\">\n",
       "  <thead>\n",
       "    <tr style=\"text-align: right;\">\n",
       "      <th></th>\n",
       "      <th>text</th>\n",
       "      <th>text_</th>\n",
       "    </tr>\n",
       "  </thead>\n",
       "  <tbody>\n",
       "    <tr>\n",
       "      <th>0</th>\n",
       "      <td>xxbos this deferred tax asset not recognised comprises a deferred tax asset in relation to the net pension deficit recognised of xxunk , xxrep 3 0 ( 2008 : xxunk ) , timing differences on business restructuring , xxunk , xxrep 3 0 ( 2008 : xxunk , xxrep 3 0 ) , tax losses forward not utilised , xxunk , xxrep 3 0 ( 2008 : xxunk , xxrep 3 0 ) , offset by other timing differences of xxunk , xxrep 3 0 ( 2008 : xxunk , xxrep 3 0 ) . xxeos</td>\n",
       "      <td>xxbos t an tscmhainn cnacha iarchurtha nach bhfuil aitheanta comhdhanta de shcmhainn cnach iarchurtha i ndil le glan - easnamh pinsin aitheanta de xxunk , xxrep 3 0 ( 2008 : xxunk ) , de xxunk xxunk ar athstruchtr gn , xxunk , xxrep 3 0 ( 2008 : xxunk , xxrep 3 0 ) , na caillteanais chnach ar aghaidh nr sideadh , xxunk , xxrep 3 0 ( 2008 : xxunk , xxrep 3 0 ) , t xxunk ag difrochta xxunk de xxunk , xxrep 3 0 ( 2008 : xxunk , xxrep 3 0 ) . xxeos</td>\n",
       "    </tr>\n",
       "    <tr>\n",
       "      <th>1</th>\n",
       "      <td>xxbos 5 . ( 1 ) the agency shall , at such times as , and in respect of every period to which , subsection ( 2 ) of this section relates , draw up and submit to the minister for his approval , given by him after consultation with the minister for finance , a programme outlining the agency 's projected activities ( in this section referred to as a strategic plan ) . xxeos xxpad xxpad xxpad xxpad xxpad xxpad xxpad xxpad xxpad xxpad xxpad xxpad xxpad xxpad xxpad xxpad xxpad xxpad xxpad xxpad</td>\n",
       "      <td>xxbos 5 . ( 1 ) danfaidh an ghnomhaireacht , cib trth , agus i leith gach trimhse , lena mbaineann fo - alt ( 2 ) den alt seo , clr ina leagfar amach gnomhaochta ramh - mheasta na gnomhaireachta ( d ngairtear plean straitiseach san alt seo ) a tharraingt suas agus a chur faoi bhrid an aire le go gceadidh s tar is d dul i gcomhairle leis an aire airgeadais . xxeos xxpad xxpad xxpad xxpad xxpad xxpad xxpad xxpad xxpad xxpad xxpad xxpad xxpad xxpad xxpad xxpad xxpad xxpad xxpad xxpad xxpad xxpad xxpad xxpad xxpad</td>\n",
       "    </tr>\n",
       "    <tr>\n",
       "      <th>2</th>\n",
       "      <td>xxbos [ ga ] ( a ) the doing , before the passing of this act , by the former disciplinary committee or the registrar , in purported exercise of the powers purported to have been conferred on them or him by section 18 or 21 of the principal act , of any act , being an act purported to have been authorised to be done by such section , [ ga ] xxeos xxpad xxpad xxpad xxpad xxpad xxpad xxpad xxpad xxpad xxpad xxpad xxpad xxpad xxpad xxpad xxpad xxpad xxpad xxpad xxpad xxpad xxpad</td>\n",
       "      <td>xxbos ( a ) danamh aon ghnmh , roimh an acht seo a rith , ag an sean - choiste araonachta n ag an xxunk , i bhfeidhmi airbheartaithe na gcumhachta a xxunk a tugadh dibh n d le halt 18 n 21 den phromh - acht , is gnomh ar xxunk a bheith daraithe a dhanamh leis an alt sin , xxeos xxpad xxpad xxpad xxpad xxpad xxpad xxpad xxpad xxpad xxpad xxpad xxpad xxpad xxpad xxpad xxpad xxpad xxpad xxpad xxpad xxpad xxpad xxpad xxpad xxpad xxpad xxpad xxpad xxpad xxpad xxpad xxpad xxpad xxpad xxpad xxpad xxpad xxpad</td>\n",
       "    </tr>\n",
       "    <tr>\n",
       "      <th>3</th>\n",
       "      <td>xxbos details of courses across a range of career clusters will be available from business , administration , ict , finance , social care , nursing , health care , animal care , tourism and tour guiding , sport , law , art and photography , tv , film and radio production , to xxunk , wind turbine maintenance , overhead lines , fibre installation , motor mechanics , welding and cad . xxeos xxpad xxpad xxpad xxpad xxpad xxpad xxpad xxpad xxpad xxpad xxpad xxpad xxpad xxpad xxpad xxpad xxpad xxpad xxpad xxpad xxpad xxpad</td>\n",
       "      <td>xxbos beidh sonra ar fil faoi rimse gairmeacha , leithid gn , riarachn , romhaireacht , airgeadas , obair shisialta , xxunk , cram slinte , cram ainmhithe , turasireacht agus turasireacht treoraithe , sprt , dl , ealan agus grianghrafadireacht , tv , liri sca xxrep 3 n agus raidi , gearradh cloch , cothabhil tuirbn gaoithe , lnte xxunk , suiteil xxunk , xxunk , xxunk agus cad . xxeos xxpad xxpad xxpad xxpad xxpad xxpad xxpad xxpad xxpad xxpad xxpad xxpad xxpad xxpad xxpad xxpad xxpad xxpad xxpad xxpad xxpad xxpad xxpad xxpad xxpad xxpad xxpad xxpad xxpad</td>\n",
       "    </tr>\n",
       "    <tr>\n",
       "      <th>4</th>\n",
       "      <td>xxbos ( 2 ) for the purpose of subsection ( 1 ) the authority shall , with persons ( multiplex contractors ) enter into contracts ( multiplex contracts ) under which the multiplex contractors have , subject to this part , the right and duty to establish , maintain and operate a multiplex in the area specified in the multiplex contract and in accordance with the terms of the contract . xxeos xxpad xxpad xxpad xxpad xxpad xxpad xxpad xxpad xxpad xxpad xxpad xxpad xxpad xxpad xxpad xxpad xxpad xxpad xxpad xxpad xxpad xxpad xxpad xxpad</td>\n",
       "      <td>xxbos ( 2 ) chun crche fho - alt ( 1 ) danfaidh an tdars , conartha ( conartha ilphlacs ) le daoine ( conraitheoir ilphlacs ) faoina mbeidh ceart ag na conraitheoir ilphlacs agus dualgas orthu , faoi rir na coda seo , ilphlacs a bhun , a chothabhil agus a oibri sa limistar a bheidh sonraithe sa chonradh ilphlacs agus de rir tharma an chonartha . xxeos xxpad xxpad xxpad xxpad xxpad xxpad xxpad xxpad xxpad xxpad xxpad xxpad xxpad xxpad xxpad xxpad xxpad xxpad xxpad xxpad xxpad xxpad xxpad xxpad xxpad xxpad xxpad xxpad xxpad xxpad xxpad xxpad</td>\n",
       "    </tr>\n",
       "    <tr>\n",
       "      <th>5</th>\n",
       "      <td>xxbos ( xxunk a request is made under subparagraph ( xxrep 3 i ) or ( xxunk ) , failure or refusal by the organisation of whom the request is made to select the number of candidates specified in the request shall not preclude the appointment as a member of a person who was selected in relation to that appointment either by the organisation or by any other organisation . xxeos xxpad xxpad xxpad xxpad xxpad xxpad xxpad xxpad xxpad xxpad xxpad xxpad xxpad xxpad xxpad xxpad xxpad xxpad xxpad xxpad xxpad xxpad xxpad xxpad xxpad</td>\n",
       "      <td>xxbos ( v ) i gcs go ndanfar iarraidh faoi fhomhr ( xxrep 3 i ) n ( xxunk ) , agus gur mhainnigh n gur dhiltaigh an eagraocht ar a ndantar an iarraidh an lon iarrthir a bheidh sonraithe san iarraidh a roghn , n choiscfidh s sin duine a bheidh roghnaithe ag an eagraocht n ag aon eagraocht eile i ndil leis an gceapachn sin a cheapadh mar chomhalta . xxeos xxpad xxpad xxpad xxpad xxpad xxpad xxpad xxpad xxpad xxpad xxpad xxpad xxpad xxpad xxpad xxpad xxpad xxpad xxpad xxpad xxpad xxpad xxpad xxpad xxpad xxpad xxpad xxpad</td>\n",
       "    </tr>\n",
       "    <tr>\n",
       "      <th>6</th>\n",
       "      <td>xxbos ( 3 ) any person making the statement and affidavit shall be allowed , and shall be paid by the receiver ( or his successor ) out of his receipts , such costs and expenses incurred in and about the preparation and making of the statement and affidavit as the receiver ( or his successor ) may consider reasonable , subject to an appeal to the court . xxeos xxpad xxpad xxpad xxpad xxpad xxpad xxpad xxpad xxpad xxpad xxpad xxpad xxpad xxpad xxpad xxpad xxpad xxpad xxpad xxpad xxpad xxpad xxpad xxpad xxpad xxpad</td>\n",
       "      <td>xxbos ( 3 ) aon duine a dhanfaidh an riteas agus an mhionnscrbhinn , ceadfar d , agus ocfaidh an glacadir ( n a chomharba ) leis as a fhltais , cib costais agus caiteachais faoina ndeachthas , chun agus i dtaobh an riteas agus an mhionnscrbhinn a ullmh agus a dhanamh , a mheasfaidh an glacadir ( n a chomharba ) a bheith rasnach , faoi rir achomhairc chun na cirte . xxeos xxpad xxpad xxpad xxpad xxpad xxpad xxpad xxpad xxpad xxpad xxpad xxpad xxpad xxpad xxpad xxpad xxpad xxpad xxpad xxpad xxpad xxpad xxpad xxpad xxpad xxpad xxpad</td>\n",
       "    </tr>\n",
       "    <tr>\n",
       "      <th>7</th>\n",
       "      <td>xxbos ( b ) where there is an interval between the end of the basis period for one year of assessment and the basis period for the next year of assessment , then , unless the second - mentioned year of assessment is the year of the permanent discontinuance of the trade , the interval shall be deemed to be part of the second basis period , and xxeos xxpad xxpad xxpad xxpad xxpad xxpad xxpad xxpad xxpad xxpad xxpad xxpad xxpad xxpad xxpad xxpad xxpad xxpad xxpad xxpad xxpad xxpad xxpad xxpad xxpad xxpad xxpad</td>\n",
       "      <td>xxbos ( b ) m bhonn eatramh idir deireadh na bonn - trimhse do bhliain mheasnachta irithe agus an bhonn - trimhse don bhliain mheasnachta ina dhiaidh sin , ansin , murab an dara bliain mheasnachta a luaitear bliain na trdla a bhuanscor , go measfar gur cuid den dara bonn - trimhse an t - eatramh , agus xxeos xxpad xxpad xxpad xxpad xxpad xxpad xxpad xxpad xxpad xxpad xxpad xxpad xxpad xxpad xxpad xxpad xxpad xxpad xxpad xxpad xxpad xxpad xxpad xxpad xxpad xxpad xxpad xxpad xxpad xxpad xxpad xxpad xxpad xxpad xxpad xxpad xxpad xxpad xxpad xxpad xxpad</td>\n",
       "    </tr>\n",
       "    <tr>\n",
       "      <th>8</th>\n",
       "      <td>xxbos ( 2 ) a person guilty of an offence under section 6 , 12 , 19 , 27 or 28 ( 4 ) of the principal act shall , in lieu of the penalty specified in the section concerned , be liable on summary conviction to a fine not exceeding 1 , xxrep 3 0 or imprisonment for a term not exceeding 6 months or both . xxeos xxpad xxpad xxpad xxpad xxpad xxpad xxpad xxpad xxpad xxpad xxpad xxpad xxpad xxpad xxpad xxpad xxpad xxpad xxpad xxpad xxpad xxpad xxpad xxpad xxpad xxpad xxpad</td>\n",
       "      <td>xxbos ( 2 ) aon duine a bheidh ciontach i gcion faoi alt 6 , 12 , 19 , 27 n 28 ( 4 ) den phromh - acht , dlfear ar a chiont go hachomair , fneil nach m n 1 , xxrep 3 0 n prosnacht ar feadh tarma nach faide n 6 mh , n iad araon , a chur air , in ionad an phionis a shonratear san alt lena mbaineann . xxeos xxpad xxpad xxpad xxpad xxpad xxpad xxpad xxpad xxpad xxpad xxpad xxpad xxpad xxpad xxpad xxpad xxpad xxpad xxpad xxpad xxpad xxpad xxpad xxpad</td>\n",
       "    </tr>\n",
       "  </tbody>\n",
       "</table>"
      ],
      "text/plain": [
       "<IPython.core.display.HTML object>"
      ]
     },
     "metadata": {},
     "output_type": "display_data"
    }
   ],
   "source": [
    "bs,sl = 48, 108\n",
    "dls = dsets.dataloaders(bs=bs, seq_len=sl, before_batch=partial(pad_input, pad_fields=[0,1]))\n",
    "dls.show_batch()"
   ]
  },
  {
   "cell_type": "markdown",
   "metadata": {},
   "source": [
    "Save vocab to speed up data loading"
   ]
  },
  {
   "cell_type": "code",
   "execution_count": 61,
   "metadata": {},
   "outputs": [],
   "source": [
    "# import csv\n",
    "\n",
    "# with open('paracrawl_vocab_en.csv', 'w', newline='') as csvfile:\n",
    "#     v_writer = csv.writer(csvfile, delimiter=',')\n",
    "#     for l in dls.vocab[0]:\n",
    "#         v_writer.writerow([l])\n",
    "        \n",
    "# with open('paracrawl_vocab_ga.csv', 'w', newline='') as csvfile:\n",
    "#     v_writer = csv.writer(csvfile, delimiter=',')\n",
    "#     for l in dls.vocab[1]:\n",
    "#         v_writer.writerow([l])"
   ]
  },
  {
   "cell_type": "code",
   "execution_count": 62,
   "metadata": {},
   "outputs": [
    {
     "data": {
      "text/plain": [
       "(661582, 11026, 2757)"
      ]
     },
     "execution_count": 62,
     "metadata": {},
     "output_type": "execute_result"
    }
   ],
   "source": [
    "len(dls.train_ds)+len(dls.valid_ds), len(dls.train), len(dls.valid)"
   ]
  },
  {
   "cell_type": "code",
   "execution_count": 63,
   "metadata": {},
   "outputs": [
    {
     "name": "stdout",
     "output_type": "stream",
     "text": [
      "Vocab lengths are : (20008, 20008)\n"
     ]
    }
   ],
   "source": [
    "print(f'Vocab lengths are : {len(dls.vocab[0]), len(dls.vocab[1])}')"
   ]
  },
  {
   "cell_type": "code",
   "execution_count": 64,
   "metadata": {},
   "outputs": [
    {
     "data": {
      "text/plain": [
       "(torch.Size([48, 96]),\n",
       " torch.Size([48, 101]),\n",
       " (TensorText([[   2,   25, 6265,  ...,   14,   12,    3],\n",
       "          [   2,   90,   12,  ...,    1,    1,    1],\n",
       "          [   2,   15,  113,  ...,    1,    1,    1],\n",
       "          ...,\n",
       "          [   2,   15,   41,  ...,    1,    1,    1],\n",
       "          [   2,   15,   74,  ...,    1,    1,    1],\n",
       "          [   2,   15,   74,  ...,    1,    1,    1]], device='cuda:0'),\n",
       "  TensorText([[  2,  31,  11,  ...,  15,  12,   3],\n",
       "          [  2, 108,  12,  ...,   1,   1,   1],\n",
       "          [  2,  13, 130,  ...,   1,   1,   1],\n",
       "          ...,\n",
       "          [  2,  13,  43,  ...,   1,   1,   1],\n",
       "          [  2,  13,  87,  ...,   1,   1,   1],\n",
       "          [  2,  13,  87,  ...,   1,   1,   1]], device='cuda:0')))"
      ]
     },
     "execution_count": 64,
     "metadata": {},
     "output_type": "execute_result"
    }
   ],
   "source": [
    "o=dls.one_batch(); o[0].size(), o[1].size(), o"
   ]
  },
  {
   "cell_type": "markdown",
   "metadata": {},
   "source": [
    "## Transformer model"
   ]
  },
  {
   "cell_type": "markdown",
   "metadata": {},
   "source": [
    "### Positional Embeddings"
   ]
  },
  {
   "cell_type": "markdown",
   "metadata": {},
   "source": [
    "The input and output embeddings are traditional PyTorch embeddings (and we can use pretrained vectors if we want to). The transformer model isn't a recurrent one, so it has no idea of the relative positions of the words. To help it with that, they had to the input embeddings a positional encoding which is cosine of a certain frequency:"
   ]
  },
  {
   "cell_type": "code",
   "execution_count": 65,
   "metadata": {},
   "outputs": [],
   "source": [
    "class PositionalEncoding(nn.Module):\n",
    "    \"Encode the position with a sinusoid.\"\n",
    "    def __init__(self, d):\n",
    "        super().__init__()\n",
    "        self.register_buffer('freq', 1 / (10000 ** (torch.arange(0., d, 2.)/d)))\n",
    "    \n",
    "    def forward(self, pos):\n",
    "        inp = torch.ger(pos, self.freq)\n",
    "        enc = torch.cat([inp.sin(), inp.cos()], dim=-1)\n",
    "        return enc"
   ]
  },
  {
   "cell_type": "code",
   "execution_count": 66,
   "metadata": {},
   "outputs": [
    {
     "data": {
      "image/png": "[encoded data removed]",
      "text/plain": [
       "<Figure size 432x288 with 1 Axes>"
      ]
     },
     "metadata": {
      "needs_background": "light"
     },
     "output_type": "display_data"
    }
   ],
   "source": [
    "tst_encoding = PositionalEncoding(20)\n",
    "res = tst_encoding(torch.arange(0,100).float())\n",
    "_, ax = plt.subplots(1,1)\n",
    "for i in range(1,5): ax.plot(res[:,i])"
   ]
  },
  {
   "cell_type": "code",
   "execution_count": 67,
   "metadata": {},
   "outputs": [],
   "source": [
    "class TransformerEmbedding(nn.Module):\n",
    "    \"Embedding + positional encoding + dropout\"\n",
    "    def __init__(self, vocab_sz, emb_sz, inp_p=0.):\n",
    "        super().__init__()\n",
    "        self.emb_sz = emb_sz\n",
    "        self.embed = Embedding(vocab_sz, emb_sz)\n",
    "        self.pos_enc = PositionalEncoding(emb_sz)\n",
    "        self.drop = nn.Dropout(inp_p)\n",
    "    \n",
    "    def forward(self, inp): \n",
    "        pos = torch.arange(0, inp.size(1), device=inp.device).float()        \n",
    "        return self.drop(self.embed(inp) * math.sqrt(self.emb_sz) + self.pos_enc(pos))"
   ]
  },
  {
   "cell_type": "markdown",
   "metadata": {},
   "source": [
    "## PyTorch Transformer Simple"
   ]
  },
  {
   "cell_type": "markdown",
   "metadata": {},
   "source": [
    "Note: [src/tgt/memory]_mask should be filled with float(‘-inf’) for the masked positions and float(0.0) else. These masks ensure that predictions for position i depend only on the unmasked positions j and are applied identically for each sequence in a batch. \n",
    "\n",
    "[src/tgt/memory]_key_padding_mask should be a ByteTensor where True values are positions that should be masked with float(‘-inf’) and False values will be unchanged. This mask ensures that no information will be taken from position i if it is masked, and has a separate mask for each sequence in a batch.\n",
    "\n",
    "attn mask with -inf\n",
    "key_padding mask with True"
   ]
  },
  {
   "cell_type": "markdown",
   "metadata": {},
   "source": [
    "### pt_Pos_Embeddings "
   ]
  },
  {
   "cell_type": "code",
   "execution_count": 68,
   "metadata": {},
   "outputs": [],
   "source": [
    "# class PositionalEncoding(nn.Module):\n",
    "#     \"Encode the position with a sinusoid.\"\n",
    "#     def __init__(self, d):\n",
    "#         super().__init__()\n",
    "#         self.register_buffer('freq', 1 / (10000 ** (torch.arange(0., d, 2.)/d)))\n",
    "    \n",
    "#     def forward(self, pos):\n",
    "#         inp = torch.ger(pos, self.freq)\n",
    "#         enc = torch.cat([inp.sin(), inp.cos()], dim=-1)\n",
    "#         return enc"
   ]
  },
  {
   "cell_type": "code",
   "execution_count": 69,
   "metadata": {},
   "outputs": [],
   "source": [
    "# class TransformerEmbedding(nn.Module):\n",
    "#     \"Embedding + positional encoding + dropout\"\n",
    "#     def __init__(self, vocab_sz, emb_sz, inp_p=0.):\n",
    "#         super().__init__()\n",
    "#         self.emb_sz = emb_sz\n",
    "#         self.embed = Embedding(vocab_sz, emb_sz)\n",
    "#         self.pos_enc = PositionalEncoding(emb_sz)\n",
    "#         self.drop = nn.Dropout(inp_p)\n",
    "    \n",
    "#     def forward(self, inp): \n",
    "#         pos = torch.arange(0, inp.size(1), device=inp.device).float()        \n",
    "#         return self.drop(self.embed(inp) * math.sqrt(self.emb_sz) + self.pos_enc(pos))"
   ]
  },
  {
   "cell_type": "markdown",
   "metadata": {},
   "source": [
    "Annotated Transformer:\n",
    "- Does dropout on everything, after summing pos bit\n",
    "- Scaling is done\n",
    "\n",
    "```\n",
    "class PositionalEncoding(nn.Module):\n",
    "    \"Implement the PE function.\"\n",
    "    def __init__(self, d_model, dropout, max_len=5000):\n",
    "        super(PositionalEncoding, self).__init__()\n",
    "        self.dropout = nn.Dropout(p=dropout)\n",
    "        \n",
    "        # Compute the positional encodings once in log space.\n",
    "        pe = torch.zeros(max_len, d_model)\n",
    "        position = torch.arange(0, max_len).unsqueeze(1)\n",
    "        div_term = torch.exp(torch.arange(0, d_model, 2) *\n",
    "                             -(math.log(10000.0) / d_model))\n",
    "        pe[:, 0::2] = torch.sin(position * div_term)\n",
    "        pe[:, 1::2] = torch.cos(position * div_term)\n",
    "        pe = pe.unsqueeze(0)\n",
    "        self.register_buffer('pe', pe)\n",
    "        \n",
    "    def forward(self, x):\n",
    "        x = x + Variable(self.pe[:, :x.size(1)], \n",
    "                         requires_grad=False)\n",
    "        return self.dropout(x)\n",
    "```\n"
   ]
  },
  {
   "cell_type": "code",
   "execution_count": 70,
   "metadata": {},
   "outputs": [],
   "source": [
    "class pt_PositionalEncoding(nn.Module):\n",
    "\n",
    "    def __init__(self, d_model, dropout=0.1, max_len=5000):\n",
    "        super(pt_PositionalEncoding, self).__init__()\n",
    "        self.dropout = nn.Dropout(p=dropout)\n",
    "\n",
    "        pe = torch.zeros(max_len, d_model)\n",
    "        position = torch.arange(0, max_len, dtype=torch.float).unsqueeze(1)\n",
    "        div_term = torch.exp(torch.arange(0, d_model, 2).float() * (-math.log(10000.0) / d_model))\n",
    "        pe[:, 0::2] = torch.sin(position * div_term)\n",
    "        pe[:, 1::2] = torch.cos(position * div_term)\n",
    "        pe = pe.unsqueeze(0).transpose(0, 1)\n",
    "        self.register_buffer('pe', pe)\n",
    "\n",
    "    def forward(self, x):\n",
    "        x = x + self.pe[:x.size(0), :]\n",
    "        return self.dropout(x)"
   ]
  },
  {
   "cell_type": "markdown",
   "metadata": {},
   "source": [
    "### pt_Transformer"
   ]
  },
  {
   "cell_type": "code",
   "execution_count": 71,
   "metadata": {
    "scrolled": true
   },
   "outputs": [],
   "source": [
    "class pt_Transformer(Module):\n",
    "    def __init__(self, src_vcbsz, trg_vcbsz, n_enc_layers=6, n_dec_layers=6, n_heads=8, d_model=256, d_head=32, \n",
    "                 d_inner=1024, p=0.1, bias=True, scale=True, double_drop=True, pad_idx=1):\n",
    "        self.pad_idx = pad_idx\n",
    "        self.enc_tfmr_emb = TransformerEmbedding(src_vcbsz, d_model, p)\n",
    "        self.dec_tfmr_emb = TransformerEmbedding(trg_vcbsz, d_model, 0.)        \n",
    "        self.final = nn.Linear(d_model, trg_vcbsz)\n",
    "        \n",
    "        # !!!\n",
    "        #self.final.weight = self.dec_tfmr_emb.embed.weight    # !! What does this do?\n",
    "        \n",
    "        self.transformer_model=torch.nn.Transformer(d_model=d_model, nhead=n_heads, num_encoder_layers=n_enc_layers, \n",
    "                                   num_decoder_layers=n_dec_layers, dim_feedforward=d_inner, dropout=p, \n",
    "                                   activation='relu', custom_encoder=None, custom_decoder=None)\n",
    "    \n",
    "    \n",
    "    def forward(self, src, trg, src_mask=None, tgt_mask=None, memory_mask=None, \n",
    "                        src_key_padding_mask=None, tgt_key_padding_mask=None, memory_key_padding_mask=None):\n",
    "        \n",
    "        enc_emb, dec_emb = self.enc_tfmr_emb(src), self.dec_tfmr_emb(trg)\n",
    "        \n",
    "        src_mask=self.transformer_model.generate_square_subsequent_mask(src.size(1)).cuda()\n",
    "        trg_mask=self.transformer_model.generate_square_subsequent_mask(trg.size(1)).cuda()\n",
    "        \n",
    "        dec_out = self.transformer_model(enc_emb.permute(1,0,2), dec_emb.permute(1,0,2),\n",
    "                                         src_mask=src_mask, tgt_mask=trg_mask, memory_mask=None, \n",
    "                        src_key_padding_mask=None, tgt_key_padding_mask=None, memory_key_padding_mask=None)\n",
    "        \n",
    "        out=self.final(dec_out)\n",
    "        \n",
    "        return out.permute(1,0,2)"
   ]
  },
  {
   "cell_type": "markdown",
   "metadata": {},
   "source": [
    "### Metric"
   ]
  },
  {
   "cell_type": "code",
   "execution_count": 72,
   "metadata": {},
   "outputs": [],
   "source": [
    "class CorpusBLEUMetric(Metric):\n",
    "    def __init__(self, vocab_sz=5000, axis=-1):\n",
    "        \"\"\"BLEU Metric calculated over the validation corpus\"\"\"\n",
    "        self.pred_len, self.targ_len, self.corrects, self.counts = 0,0,[0]*4,[0]*4\n",
    "        self.axis, self.vocab_sz = axis, vocab_sz\n",
    "        \n",
    "    def reset(self):\n",
    "        self.pred_len,self.targ_len,self.corrects,self.counts = 0,0,[0]*4,[0]*4\n",
    "        \n",
    "    class NGram():\n",
    "        def __init__(self, ngram, max_n=5000): self.ngram,self.max_n = ngram,max_n\n",
    "        def __eq__(self, other):\n",
    "            if len(self.ngram) != len(other.ngram): return False\n",
    "            return np.all(np.array(self.ngram) == np.array(other.ngram))\n",
    "        def __hash__(self): return int(sum([o * self.max_n**i for i,o in enumerate(self.ngram)]))\n",
    "    \n",
    "    def get_grams(self, x, n, max_n=5000):\n",
    "        return x if n==1 else [self.NGram(x[i:i+n], max_n=max_n) for i in range(len(x)-n+1)]\n",
    "    \n",
    "    def get_correct_ngrams(self, pred, targ, n, max_n=5000):\n",
    "        pred_grams,targ_grams = self.get_grams(pred, n, max_n=max_n),self.get_grams(targ, n, max_n=max_n)\n",
    "        pred_cnt,targ_cnt = Counter(pred_grams),Counter(targ_grams)\n",
    "        return sum([min(c, targ_cnt[g]) for g,c in pred_cnt.items()]),len(pred_grams)\n",
    "        \n",
    "    def accumulate(self, learn):\n",
    "        last_output = learn.pred.argmax(dim=self.axis)\n",
    "        last_target = learn.y\n",
    "        for pred,targ in zip(last_output.cpu().numpy(),last_target.cpu().numpy()):\n",
    "            self.pred_len += len(pred)\n",
    "            self.targ_len += len(targ)\n",
    "            for i in range(4):\n",
    "                c,t = self.get_correct_ngrams(pred, targ, i+1, max_n=self.vocab_sz)\n",
    "                self.corrects[i] += c\n",
    "                self.counts[i]   += t\n",
    "        \n",
    "    @property\n",
    "    def value(self): \n",
    "        if self.counts == 0: return None\n",
    "        else:\n",
    "            precs = [c/t for c,t in zip(self.corrects,self.counts)]\n",
    "            len_penalty = exp(1 - self.targ_len/self.pred_len) if self.pred_len < self.targ_len else 1\n",
    "            return len_penalty * ((precs[0]*precs[1]*precs[2]*precs[3]) ** 0.25)"
   ]
  },
  {
   "cell_type": "markdown",
   "metadata": {},
   "source": [
    "### Callbacks\n",
    "\n",
    "#### Present Input and Target in a single tuple"
   ]
  },
  {
   "cell_type": "code",
   "execution_count": 73,
   "metadata": {},
   "outputs": [],
   "source": [
    "class CombineInputOutputCallback(Callback):\n",
    "    '''Callback to combine the input and target text into self.xb'''\n",
    "    def __init__(self): pass\n",
    "    def begin_batch(self): \n",
    "        self.learn.xb = (self.xb[0], self.yb[0])"
   ]
  },
  {
   "cell_type": "markdown",
   "metadata": {},
   "source": [
    "Shifting and masking of y, from [Annotated Transformer](http://nlp.seas.harvard.edu/2018/04/03/attention.html#training):\n",
    "\n",
    "> We also modify the self-attention sub-layer in the decoder stack to prevent positions from attending to subsequent positions. This masking, combined with fact that the output embeddings are offset by one position, ensures that the predictions for position i can depend only on the known outputs at positions less than i."
   ]
  },
  {
   "cell_type": "markdown",
   "metadata": {},
   "source": [
    "#### Shifting"
   ]
  },
  {
   "cell_type": "markdown",
   "metadata": {},
   "source": [
    "#### Target shift/offset explained\n",
    "\n",
    "**Taken from [@bentrevett's brilliant github repo \"pytorch-seq2seq\" tutorials](https://github.com/bentrevett/pytorch-seq2seq/blob/master/6%20-%20Attention%20is%20All%20You%20Need.ipynb):**\n",
    "\n",
    "As we want our model to predict the <eos> token but not have it be an input into our model we simply slice the <eos> token off the end of the sequence. Thus:\n",
    "\n",
    "$$\\begin{align*}\\text{trg} &= [sos, x_1, x_2, x_3, eos]\\\\\\text{trg[:-1]} &= [sos, x_1, x_2, x_3]\\end{align*}$$\n",
    "\n",
    "$x_i$ denotes **actual** target sequence element. We then feed this into the model to get a predicted sequence that should hopefully predict the <eos> token:\n",
    "\n",
    "$$\\begin{align*}\n",
    "\\text{output} &= [y_1, y_2, y_3, eos]\n",
    "\\end{align*}$$\n",
    "\n",
    "$y_i$ denotes **predicted** target sequence element. We then calculate our loss using the original trg tensor with the <sos> token sliced off the front, leaving the <eos> token:\n",
    "\n",
    "$$\\begin{align*} \\text{output} &= [y_1, y_2, y_3, eos]\\\\ \\text{trg[1:]} &= [x_1, x_2, x_3, eos] \\end{align*}$$\n",
    "\n",
    "We then calculate our losses and update our parameters as is standard.\n",
    "    \n",
    "    \n",
    "We don't want to punish the model for not translating the 'sos' token, but we do need it to predict/define the end of the sentence"
   ]
  },
  {
   "cell_type": "markdown",
   "metadata": {},
   "source": [
    "**RemoveEOSCallback** \n",
    "\n",
    "Cut the *EOS* token token from the **output_x** presented to the model as we are trying to predict the next word. Therefore don't want to model to try anything after the *EOS* token. So the last token given to the model will be the token before *EOS*. This callback is modifies the second element of our learn.xb, (which is the *copied* yb)\n",
    "\n",
    "But this should also ignore padding, as otherwise we'll be just cutting the last padding token and not the EOS"
   ]
  },
  {
   "cell_type": "code",
   "execution_count": 74,
   "metadata": {},
   "outputs": [],
   "source": [
    "class RemoveEOSCallback(Callback):\n",
    "    '''\n",
    "        Shift the target presented to the model during training to remove the \"eos\" token as \n",
    "        we don't want the model to learn to translate EOS. When it sees EOS.\n",
    "        \n",
    "        In practice we actually mask the EOS token as due to batching the last token will often be a <pad> token,\n",
    "        not EOS\n",
    "    '''\n",
    "    def __init__(self, eos_idx): self.eos_idx=eos_idx\n",
    "    def begin_batch(self):        \n",
    "        eos_mask=(self.learn.xb[1]!=self.eos_idx)\n",
    "        sz=torch.tensor(self.learn.xb[1].size())\n",
    "        sz[1]=sz[1]-1\n",
    "        self.learn.xb = (self.learn.xb[0], self.learn.xb[1][eos_mask].view((sz[0],sz[1])))"
   ]
  },
  {
   "cell_type": "markdown",
   "metadata": {},
   "source": [
    "**LossTargetShiftCallback:** Shift the target shown to the loss to exclude the \"eos\" token, as translating \"bos\" is not part of our language translation objective"
   ]
  },
  {
   "cell_type": "code",
   "execution_count": 75,
   "metadata": {},
   "outputs": [],
   "source": [
    "class LossTargetShiftCallback(Callback):\n",
    "    '''\n",
    "        Shift the target shown to the loss to exclude the \"bos\" token as the first token we want predicted\n",
    "        should be an actual word, not the \"bos\" token (as we have already given the model \"bos\" )\n",
    "    '''\n",
    "    def __init__(self): pass\n",
    "    def after_pred(self): \n",
    "        self.learn.yb = (self.learn.yb[0][:,1:],)"
   ]
  },
  {
   "cell_type": "markdown",
   "metadata": {},
   "source": [
    "### Model"
   ]
  },
  {
   "cell_type": "markdown",
   "metadata": {},
   "source": [
    "Transformer size from Annotated Transformer:\n",
    "\n",
    "N=6, d_model=512, d_ff=2048, h=8"
   ]
  },
  {
   "cell_type": "code",
   "execution_count": 76,
   "metadata": {
    "scrolled": true
   },
   "outputs": [],
   "source": [
    "pad_idx=1\n",
    "assert dls.vocab[1][pad_idx] == 'xxpad' \n",
    "n_x_vocab, n_y_vocab = len(dls.vocab[0]), len(dls.vocab[1])\n",
    "d_model=512\n",
    "n_heads=8 #12\n",
    "d_inner=2048  #1024\n",
    "\n",
    "#model = Transformer(n_x_vocab, n_y_vocab, d_model=d_model, n_heads=n_heads, pad_idx=pad_idx)\n",
    "\n",
    "model=pt_Transformer(src_vcbsz=n_x_vocab, trg_vcbsz=n_y_vocab, d_model=d_model, d_inner=d_inner)"
   ]
  },
  {
   "cell_type": "code",
   "execution_count": 77,
   "metadata": {},
   "outputs": [
    {
     "data": {
      "text/plain": [
       "pt_Transformer(\n",
       "  (enc_tfmr_emb): TransformerEmbedding(\n",
       "    (embed): Embedding(20008, 512)\n",
       "    (pos_enc): PositionalEncoding()\n",
       "    (drop): Dropout(p=0.1, inplace=False)\n",
       "  )\n",
       "  (dec_tfmr_emb): TransformerEmbedding(\n",
       "    (embed): Embedding(20008, 512)\n",
       "    (pos_enc): PositionalEncoding()\n",
       "    (drop): Dropout(p=0.0, inplace=False)\n",
       "  )\n",
       "  (final): Linear(in_features=512, out_features=20008, bias=True)\n",
       "  (transformer_model): Transformer(\n",
       "    (encoder): TransformerEncoder(\n",
       "      (layers): ModuleList(\n",
       "        (0): TransformerEncoderLayer(\n",
       "          (self_attn): MultiheadAttention(\n",
       "            (out_proj): Linear(in_features=512, out_features=512, bias=True)\n",
       "          )\n",
       "          (linear1): Linear(in_features=512, out_features=2048, bias=True)\n",
       "          (dropout): Dropout(p=0.1, inplace=False)\n",
       "          (linear2): Linear(in_features=2048, out_features=512, bias=True)\n",
       "          (norm1): LayerNorm((512,), eps=1e-05, elementwise_affine=True)\n",
       "          (norm2): LayerNorm((512,), eps=1e-05, elementwise_affine=True)\n",
       "          (dropout1): Dropout(p=0.1, inplace=False)\n",
       "          (dropout2): Dropout(p=0.1, inplace=False)\n",
       "        )\n",
       "        (1): TransformerEncoderLayer(\n",
       "          (self_attn): MultiheadAttention(\n",
       "            (out_proj): Linear(in_features=512, out_features=512, bias=True)\n",
       "          )\n",
       "          (linear1): Linear(in_features=512, out_features=2048, bias=True)\n",
       "          (dropout): Dropout(p=0.1, inplace=False)\n",
       "          (linear2): Linear(in_features=2048, out_features=512, bias=True)\n",
       "          (norm1): LayerNorm((512,), eps=1e-05, elementwise_affine=True)\n",
       "          (norm2): LayerNorm((512,), eps=1e-05, elementwise_affine=True)\n",
       "          (dropout1): Dropout(p=0.1, inplace=False)\n",
       "          (dropout2): Dropout(p=0.1, inplace=False)\n",
       "        )\n",
       "        (2): TransformerEncoderLayer(\n",
       "          (self_attn): MultiheadAttention(\n",
       "            (out_proj): Linear(in_features=512, out_features=512, bias=True)\n",
       "          )\n",
       "          (linear1): Linear(in_features=512, out_features=2048, bias=True)\n",
       "          (dropout): Dropout(p=0.1, inplace=False)\n",
       "          (linear2): Linear(in_features=2048, out_features=512, bias=True)\n",
       "          (norm1): LayerNorm((512,), eps=1e-05, elementwise_affine=True)\n",
       "          (norm2): LayerNorm((512,), eps=1e-05, elementwise_affine=True)\n",
       "          (dropout1): Dropout(p=0.1, inplace=False)\n",
       "          (dropout2): Dropout(p=0.1, inplace=False)\n",
       "        )\n",
       "        (3): TransformerEncoderLayer(\n",
       "          (self_attn): MultiheadAttention(\n",
       "            (out_proj): Linear(in_features=512, out_features=512, bias=True)\n",
       "          )\n",
       "          (linear1): Linear(in_features=512, out_features=2048, bias=True)\n",
       "          (dropout): Dropout(p=0.1, inplace=False)\n",
       "          (linear2): Linear(in_features=2048, out_features=512, bias=True)\n",
       "          (norm1): LayerNorm((512,), eps=1e-05, elementwise_affine=True)\n",
       "          (norm2): LayerNorm((512,), eps=1e-05, elementwise_affine=True)\n",
       "          (dropout1): Dropout(p=0.1, inplace=False)\n",
       "          (dropout2): Dropout(p=0.1, inplace=False)\n",
       "        )\n",
       "        (4): TransformerEncoderLayer(\n",
       "          (self_attn): MultiheadAttention(\n",
       "            (out_proj): Linear(in_features=512, out_features=512, bias=True)\n",
       "          )\n",
       "          (linear1): Linear(in_features=512, out_features=2048, bias=True)\n",
       "          (dropout): Dropout(p=0.1, inplace=False)\n",
       "          (linear2): Linear(in_features=2048, out_features=512, bias=True)\n",
       "          (norm1): LayerNorm((512,), eps=1e-05, elementwise_affine=True)\n",
       "          (norm2): LayerNorm((512,), eps=1e-05, elementwise_affine=True)\n",
       "          (dropout1): Dropout(p=0.1, inplace=False)\n",
       "          (dropout2): Dropout(p=0.1, inplace=False)\n",
       "        )\n",
       "        (5): TransformerEncoderLayer(\n",
       "          (self_attn): MultiheadAttention(\n",
       "            (out_proj): Linear(in_features=512, out_features=512, bias=True)\n",
       "          )\n",
       "          (linear1): Linear(in_features=512, out_features=2048, bias=True)\n",
       "          (dropout): Dropout(p=0.1, inplace=False)\n",
       "          (linear2): Linear(in_features=2048, out_features=512, bias=True)\n",
       "          (norm1): LayerNorm((512,), eps=1e-05, elementwise_affine=True)\n",
       "          (norm2): LayerNorm((512,), eps=1e-05, elementwise_affine=True)\n",
       "          (dropout1): Dropout(p=0.1, inplace=False)\n",
       "          (dropout2): Dropout(p=0.1, inplace=False)\n",
       "        )\n",
       "      )\n",
       "      (norm): LayerNorm((512,), eps=1e-05, elementwise_affine=True)\n",
       "    )\n",
       "    (decoder): TransformerDecoder(\n",
       "      (layers): ModuleList(\n",
       "        (0): TransformerDecoderLayer(\n",
       "          (self_attn): MultiheadAttention(\n",
       "            (out_proj): Linear(in_features=512, out_features=512, bias=True)\n",
       "          )\n",
       "          (multihead_attn): MultiheadAttention(\n",
       "            (out_proj): Linear(in_features=512, out_features=512, bias=True)\n",
       "          )\n",
       "          (linear1): Linear(in_features=512, out_features=2048, bias=True)\n",
       "          (dropout): Dropout(p=0.1, inplace=False)\n",
       "          (linear2): Linear(in_features=2048, out_features=512, bias=True)\n",
       "          (norm1): LayerNorm((512,), eps=1e-05, elementwise_affine=True)\n",
       "          (norm2): LayerNorm((512,), eps=1e-05, elementwise_affine=True)\n",
       "          (norm3): LayerNorm((512,), eps=1e-05, elementwise_affine=True)\n",
       "          (dropout1): Dropout(p=0.1, inplace=False)\n",
       "          (dropout2): Dropout(p=0.1, inplace=False)\n",
       "          (dropout3): Dropout(p=0.1, inplace=False)\n",
       "        )\n",
       "        (1): TransformerDecoderLayer(\n",
       "          (self_attn): MultiheadAttention(\n",
       "            (out_proj): Linear(in_features=512, out_features=512, bias=True)\n",
       "          )\n",
       "          (multihead_attn): MultiheadAttention(\n",
       "            (out_proj): Linear(in_features=512, out_features=512, bias=True)\n",
       "          )\n",
       "          (linear1): Linear(in_features=512, out_features=2048, bias=True)\n",
       "          (dropout): Dropout(p=0.1, inplace=False)\n",
       "          (linear2): Linear(in_features=2048, out_features=512, bias=True)\n",
       "          (norm1): LayerNorm((512,), eps=1e-05, elementwise_affine=True)\n",
       "          (norm2): LayerNorm((512,), eps=1e-05, elementwise_affine=True)\n",
       "          (norm3): LayerNorm((512,), eps=1e-05, elementwise_affine=True)\n",
       "          (dropout1): Dropout(p=0.1, inplace=False)\n",
       "          (dropout2): Dropout(p=0.1, inplace=False)\n",
       "          (dropout3): Dropout(p=0.1, inplace=False)\n",
       "        )\n",
       "        (2): TransformerDecoderLayer(\n",
       "          (self_attn): MultiheadAttention(\n",
       "            (out_proj): Linear(in_features=512, out_features=512, bias=True)\n",
       "          )\n",
       "          (multihead_attn): MultiheadAttention(\n",
       "            (out_proj): Linear(in_features=512, out_features=512, bias=True)\n",
       "          )\n",
       "          (linear1): Linear(in_features=512, out_features=2048, bias=True)\n",
       "          (dropout): Dropout(p=0.1, inplace=False)\n",
       "          (linear2): Linear(in_features=2048, out_features=512, bias=True)\n",
       "          (norm1): LayerNorm((512,), eps=1e-05, elementwise_affine=True)\n",
       "          (norm2): LayerNorm((512,), eps=1e-05, elementwise_affine=True)\n",
       "          (norm3): LayerNorm((512,), eps=1e-05, elementwise_affine=True)\n",
       "          (dropout1): Dropout(p=0.1, inplace=False)\n",
       "          (dropout2): Dropout(p=0.1, inplace=False)\n",
       "          (dropout3): Dropout(p=0.1, inplace=False)\n",
       "        )\n",
       "        (3): TransformerDecoderLayer(\n",
       "          (self_attn): MultiheadAttention(\n",
       "            (out_proj): Linear(in_features=512, out_features=512, bias=True)\n",
       "          )\n",
       "          (multihead_attn): MultiheadAttention(\n",
       "            (out_proj): Linear(in_features=512, out_features=512, bias=True)\n",
       "          )\n",
       "          (linear1): Linear(in_features=512, out_features=2048, bias=True)\n",
       "          (dropout): Dropout(p=0.1, inplace=False)\n",
       "          (linear2): Linear(in_features=2048, out_features=512, bias=True)\n",
       "          (norm1): LayerNorm((512,), eps=1e-05, elementwise_affine=True)\n",
       "          (norm2): LayerNorm((512,), eps=1e-05, elementwise_affine=True)\n",
       "          (norm3): LayerNorm((512,), eps=1e-05, elementwise_affine=True)\n",
       "          (dropout1): Dropout(p=0.1, inplace=False)\n",
       "          (dropout2): Dropout(p=0.1, inplace=False)\n",
       "          (dropout3): Dropout(p=0.1, inplace=False)\n",
       "        )\n",
       "        (4): TransformerDecoderLayer(\n",
       "          (self_attn): MultiheadAttention(\n",
       "            (out_proj): Linear(in_features=512, out_features=512, bias=True)\n",
       "          )\n",
       "          (multihead_attn): MultiheadAttention(\n",
       "            (out_proj): Linear(in_features=512, out_features=512, bias=True)\n",
       "          )\n",
       "          (linear1): Linear(in_features=512, out_features=2048, bias=True)\n",
       "          (dropout): Dropout(p=0.1, inplace=False)\n",
       "          (linear2): Linear(in_features=2048, out_features=512, bias=True)\n",
       "          (norm1): LayerNorm((512,), eps=1e-05, elementwise_affine=True)\n",
       "          (norm2): LayerNorm((512,), eps=1e-05, elementwise_affine=True)\n",
       "          (norm3): LayerNorm((512,), eps=1e-05, elementwise_affine=True)\n",
       "          (dropout1): Dropout(p=0.1, inplace=False)\n",
       "          (dropout2): Dropout(p=0.1, inplace=False)\n",
       "          (dropout3): Dropout(p=0.1, inplace=False)\n",
       "        )\n",
       "        (5): TransformerDecoderLayer(\n",
       "          (self_attn): MultiheadAttention(\n",
       "            (out_proj): Linear(in_features=512, out_features=512, bias=True)\n",
       "          )\n",
       "          (multihead_attn): MultiheadAttention(\n",
       "            (out_proj): Linear(in_features=512, out_features=512, bias=True)\n",
       "          )\n",
       "          (linear1): Linear(in_features=512, out_features=2048, bias=True)\n",
       "          (dropout): Dropout(p=0.1, inplace=False)\n",
       "          (linear2): Linear(in_features=2048, out_features=512, bias=True)\n",
       "          (norm1): LayerNorm((512,), eps=1e-05, elementwise_affine=True)\n",
       "          (norm2): LayerNorm((512,), eps=1e-05, elementwise_affine=True)\n",
       "          (norm3): LayerNorm((512,), eps=1e-05, elementwise_affine=True)\n",
       "          (dropout1): Dropout(p=0.1, inplace=False)\n",
       "          (dropout2): Dropout(p=0.1, inplace=False)\n",
       "          (dropout3): Dropout(p=0.1, inplace=False)\n",
       "        )\n",
       "      )\n",
       "      (norm): LayerNorm((512,), eps=1e-05, elementwise_affine=True)\n",
       "    )\n",
       "  )\n",
       ")"
      ]
     },
     "execution_count": 77,
     "metadata": {},
     "output_type": "execute_result"
    }
   ],
   "source": [
    "model"
   ]
  },
  {
   "cell_type": "markdown",
   "metadata": {},
   "source": [
    "Kaiming_Normal works terrribly, at least if you apply it to everything except LayerNorm...\n",
    "\n",
    "DistilBERT works ok\n",
    "\n",
    "Could try xavier:\n",
    "\n",
    "```\n",
    "def initialize_weights(m):\n",
    "    if hasattr(m, 'weight') and m.weight.dim() > 1:\n",
    "        nn.init.xavier_uniform_(m.weight.data)\n",
    "\n",
    "model.apply(initialize_weights);\n",
    "```"
   ]
  },
  {
   "cell_type": "markdown",
   "metadata": {},
   "source": [
    "DistilBERT initialisation:"
   ]
  },
  {
   "cell_type": "code",
   "execution_count": 78,
   "metadata": {},
   "outputs": [],
   "source": [
    "# DistilERT HF init weights https://github.com/huggingface/transformers/blob/31e67dd19f1b3fe2bc9a13f86d814f3f7bba48e4/src/transformers/modeling_distilbert.py\n",
    "\n",
    "def distil_apply_leaf(m, f):\n",
    "    \"Apply `f` to children of `m`.\"\n",
    "    c = m.children()\n",
    "    if isinstance(m, nn.Module): f(m)\n",
    "    for l in c: apply_leaf(l,f)\n",
    "\n",
    "\n",
    "def _distilbert_init_weights(module):\n",
    "    \"\"\" Initialize the weights.\n",
    "    \"\"\"\n",
    "    if isinstance(module, nn.Embedding):\n",
    "        if module.weight.requires_grad:\n",
    "            module.weight.data.normal_(mean=0.0, std=0.02) #std=self.config.initializer_range)\n",
    "    if isinstance(module, nn.Linear):\n",
    "        module.weight.data.normal_(mean=0.0, std=0.02) #self.config.initializer_range)\n",
    "    elif isinstance(module, nn.LayerNorm):\n",
    "        module.bias.data.zero_()\n",
    "        module.weight.data.fill_(1.0)\n",
    "    if isinstance(module, nn.Linear) and module.bias is not None:\n",
    "        module.bias.data.zero_()\n",
    "\n",
    "distil_apply_leaf(model, _distilbert_init_weights)"
   ]
  },
  {
   "cell_type": "code",
   "execution_count": 79,
   "metadata": {},
   "outputs": [
    {
     "name": "stdout",
     "output_type": "stream",
     "text": [
      "The model has 74,892,840 trainable parameters\n"
     ]
    }
   ],
   "source": [
    "def count_parameters(model):\n",
    "    return sum(p.numel() for p in model.parameters() if p.requires_grad)\n",
    "\n",
    "print(f'The model has {count_parameters(model):,} trainable parameters')"
   ]
  },
  {
   "cell_type": "markdown",
   "metadata": {},
   "source": [
    "### Learner"
   ]
  },
  {
   "cell_type": "code",
   "execution_count": 80,
   "metadata": {
    "scrolled": true
   },
   "outputs": [],
   "source": [
    "cbs = [CombineInputOutputCallback, RemoveEOSCallback(eos_idx=3), LossTargetShiftCallback]\n",
    "\n",
    "pad_idx=1\n",
    "assert dls.vocab[1][pad_idx] == 'xxpad' \n",
    "loss_func = CrossEntropyLossFlat(ignore_index=pad_idx)\n",
    "\n",
    "learn = Learner(dls, model, metrics=[accuracy, Perplexity(), CorpusBLEUMetric(vocab_sz=n_y_vocab)], \n",
    "                cbs=cbs, loss_func=loss_func)"
   ]
  },
  {
   "cell_type": "code",
   "execution_count": 81,
   "metadata": {},
   "outputs": [],
   "source": [
    "#learn.load('paracrawl_en_ga_5e_5e-4')"
   ]
  },
  {
   "cell_type": "markdown",
   "metadata": {},
   "source": [
    "# Training"
   ]
  },
  {
   "cell_type": "code",
   "execution_count": 49,
   "metadata": {
    "scrolled": true
   },
   "outputs": [
    {
     "data": {
      "text/html": [],
      "text/plain": [
       "<IPython.core.display.HTML object>"
      ]
     },
     "metadata": {},
     "output_type": "display_data"
    },
    {
     "data": {
      "text/plain": [
       "SuggestedLRs(lr_min=0.002754228748381138, lr_steep=0.0012022644514217973)"
      ]
     },
     "execution_count": 49,
     "metadata": {},
     "output_type": "execute_result"
    },
    {
     "data": {
      "image/png": "[encoded data removed]",
      "text/plain": [
       "<Figure size 432x288 with 1 Axes>"
      ]
     },
     "metadata": {
      "needs_background": "light"
     },
     "output_type": "display_data"
    }
   ],
   "source": [
    "learn.lr_find()"
   ]
  },
  {
   "cell_type": "markdown",
   "metadata": {},
   "source": [
    "## 5e Run"
   ]
  },
  {
   "cell_type": "code",
   "execution_count": 47,
   "metadata": {
    "scrolled": true
   },
   "outputs": [
    {
     "data": {
      "text/html": [
       "<table border=\"1\" class=\"dataframe\">\n",
       "  <thead>\n",
       "    <tr style=\"text-align: left;\">\n",
       "      <th>epoch</th>\n",
       "      <th>train_loss</th>\n",
       "      <th>valid_loss</th>\n",
       "      <th>accuracy</th>\n",
       "      <th>perplexity</th>\n",
       "      <th>corpus_bleu</th>\n",
       "      <th>time</th>\n",
       "    </tr>\n",
       "  </thead>\n",
       "  <tbody>\n",
       "    <tr>\n",
       "      <td>0</td>\n",
       "      <td>1.653487</td>\n",
       "      <td>1.684406</td>\n",
       "      <td>0.479604</td>\n",
       "      <td>5.389246</td>\n",
       "      <td>0.310178</td>\n",
       "      <td>24:02</td>\n",
       "    </tr>\n",
       "    <tr>\n",
       "      <td>1</td>\n",
       "      <td>1.302716</td>\n",
       "      <td>1.293889</td>\n",
       "      <td>0.524035</td>\n",
       "      <td>3.646941</td>\n",
       "      <td>0.370828</td>\n",
       "      <td>24:00</td>\n",
       "    </tr>\n",
       "    <tr>\n",
       "      <td>2</td>\n",
       "      <td>0.956889</td>\n",
       "      <td>1.114578</td>\n",
       "      <td>0.547175</td>\n",
       "      <td>3.048281</td>\n",
       "      <td>0.405713</td>\n",
       "      <td>24:04</td>\n",
       "    </tr>\n",
       "    <tr>\n",
       "      <td>3</td>\n",
       "      <td>0.745926</td>\n",
       "      <td>0.990513</td>\n",
       "      <td>0.564060</td>\n",
       "      <td>2.692616</td>\n",
       "      <td>0.432489</td>\n",
       "      <td>24:22</td>\n",
       "    </tr>\n",
       "    <tr>\n",
       "      <td>4</td>\n",
       "      <td>0.719075</td>\n",
       "      <td>0.947289</td>\n",
       "      <td>0.569523</td>\n",
       "      <td>2.578710</td>\n",
       "      <td>0.441353</td>\n",
       "      <td>24:01</td>\n",
       "    </tr>\n",
       "  </tbody>\n",
       "</table>"
      ],
      "text/plain": [
       "<IPython.core.display.HTML object>"
      ]
     },
     "metadata": {},
     "output_type": "display_data"
    }
   ],
   "source": [
    "# 5e, PT Transformer, distilbert init, Adam, distilbert init\n",
    "# CONCLUSION: \n",
    "learn.fit_one_cycle(5, 5e-4, div=5)"
   ]
  },
  {
   "cell_type": "code",
   "execution_count": 48,
   "metadata": {},
   "outputs": [],
   "source": [
    "learn.save('paracrawl_en_ga_5e_5e-4')"
   ]
  },
  {
   "cell_type": "code",
   "execution_count": 56,
   "metadata": {},
   "outputs": [],
   "source": [
    "learn.export(fname='paracrawl_en_ga_5e_5e-4_learner.pkl')"
   ]
  },
  {
   "cell_type": "markdown",
   "metadata": {},
   "source": [
    "## Generation"
   ]
  },
  {
   "cell_type": "code",
   "execution_count": 49,
   "metadata": {},
   "outputs": [],
   "source": [
    "def generate(model, sentence, vocab):\n",
    "    #model = torch.load('output/transformer.pth')\n",
    "#     lang_model = spacy.load('en')\n",
    "#     with open('data/processed/en/freq_list.pkl', 'rb') as f:\n",
    "#         en_freq_list = pickle.load(f)\n",
    "#     with open('data/processed/fr/freq_list.pkl', 'rb') as f:\n",
    "#         fr_freq_list = pickle.load(f)\n",
    "    #sentence = input('Please enter your english sentence: ')\n",
    "    #sentence = tokenize(sentence, en_freq_list, lang_model)\n",
    "    \n",
    "    model=model.eval()\n",
    "    \n",
    "    sentence=learn.dls.tokenizer[0][1].encodes(sentence)\n",
    "    sentence=learn.dls.numericalize[0].encodes(sentence)\n",
    "    \n",
    "    translated_sentence = [2] # xxbos\n",
    "    #translated_sentence = [fr_freq_list['[SOS]']]\n",
    "    i = 0\n",
    "    while int(translated_sentence[-1]) != 3 and i < 75:   # xxeos\n",
    "    #while int(translated_sentence[-1]) != fr_freq_list['[EOS]'] and i < 15:\n",
    "        #output = forward_model(model, sentence, translated_sentence).to('cuda')\n",
    "        output = forward_model(model, sentence, translated_sentence).cuda()\n",
    "        values, indices = torch.topk(output, 5)\n",
    "        translated_sentence.append(int(indices[-1][0]))\n",
    "        i+=1\n",
    "\n",
    "    detok_translated_sentence=detokenize(translated_sentence, vocab)\n",
    "    print(' '.join(detok_translated_sentence))\n",
    "    \n",
    "\n",
    "def forward_model(model, src, tgt):\n",
    "    src = torch.as_tensor(src).unsqueeze(0).long().cuda()\n",
    "    tgt = torch.as_tensor(tgt).unsqueeze(0).cuda()\n",
    "    tgt_mask = gen_nopeek_mask(tgt.shape[1]).cuda()\n",
    "    output = model.forward(src, tgt, tgt_mask=tgt_mask, src_key_padding_mask=None, tgt_key_padding_mask=None, memory_key_padding_mask=None)\n",
    "\n",
    "    #return output.squeeze(0).to('cpu')\n",
    "    return output.squeeze(0).detach()\n",
    "\n",
    "\n",
    "# def tokenize(sentence, freq_list, lang_model):\n",
    "#     punctuation = ['(', ')', ':', '\"', ' ']\n",
    "\n",
    "#     sentence = sentence.lower()\n",
    "#     sentence = [tok.text for tok in lang_model.tokenizer(sentence) if tok.text not in punctuation]\n",
    "#     return [freq_list[word] if word in freq_list else freq_list['[OOV]'] for word in sentence]\n",
    "\n",
    "\n",
    "def detokenize(sentence, vocab):\n",
    "    #freq_list = {v: k for k, v in freq_list.items()}\n",
    "    return [vocab[token] for token in sentence]\n",
    "    #return [freq_list[token] for token in sentence]\n",
    "# def detokenize(sentence, freq_list):\n",
    "#     freq_list = {v: k for k, v in freq_list.items()}\n",
    "#     return [freq_list[token] for token in sentence]\n",
    "\n",
    "\n",
    "def gen_nopeek_mask(length):\n",
    "    mask = rearrange(torch.triu(torch.ones(length, length)) == 1, 'h w -> w h')\n",
    "    mask = mask.float().masked_fill(mask == 0, float('-inf')).masked_fill(mask == 1, float(0.0))\n",
    "    return mask"
   ]
  },
  {
   "cell_type": "markdown",
   "metadata": {},
   "source": [
    "## 5e results"
   ]
  },
  {
   "cell_type": "code",
   "execution_count": 50,
   "metadata": {},
   "outputs": [
    {
     "name": "stdout",
     "output_type": "stream",
     "text": [
      "xxbos dia duit , conas a bhfuil t ? xxeos\n"
     ]
    }
   ],
   "source": [
    "generate(learn.model, \"hello, how are you?\", dls.vocab[1])"
   ]
  },
  {
   "cell_type": "code",
   "execution_count": 51,
   "metadata": {},
   "outputs": [
    {
     "name": "stdout",
     "output_type": "stream",
     "text": [
      "xxbos is fidir xxunk insint duit nuair a bhonn an stisin bus le do thoil ? xxeos\n"
     ]
    }
   ],
   "source": [
    "generate(learn.model, \"Can you tell we where the bus station is please?\", dls.vocab[1])"
   ]
  },
  {
   "cell_type": "code",
   "execution_count": 52,
   "metadata": {},
   "outputs": [
    {
     "name": "stdout",
     "output_type": "stream",
     "text": [
      "xxbos xxunk inn xxunk s , ach beidh amrach a bheith an - xxunk xxeos\n"
     ]
    }
   ],
   "source": [
    "generate(learn.model, \"Yesterday it rained, but tomorrow will be very sunny\", dls.vocab[1])"
   ]
  },
  {
   "cell_type": "code",
   "execution_count": 53,
   "metadata": {},
   "outputs": [
    {
     "name": "stdout",
     "output_type": "stream",
     "text": [
      "xxbos bh m l iontach , t mo aistritheoir ag obair xxeos\n"
     ]
    }
   ],
   "source": [
    "generate(learn.model, \"I had a great day, my translator is working\", dls.vocab[1])"
   ]
  },
  {
   "cell_type": "code",
   "execution_count": 54,
   "metadata": {},
   "outputs": [
    {
     "name": "stdout",
     "output_type": "stream",
     "text": [
      "xxbos xxunk mar sin is seo an scal ar fad faoi conas a fuair mo ardaitheoir smeach xxunk sos , mar sin xxunk ba mhaith liom a ghlacadh nimad ach su ceart ann , xxunk m go mbainfidh t go lir faoi conas a thinig m an xxunk r xxunk xxeos\n"
     ]
    }
   ],
   "source": [
    "generate(learn.model, \"So this is a story all about how my lift got flip turned \\\n",
    "upside down, so I'd like to take a minute just sit right there, I'll you all about how I became the fresh prince\\\n",
    "of belair\", dls.vocab[1])"
   ]
  },
  {
   "cell_type": "code",
   "execution_count": 58,
   "metadata": {},
   "outputs": [
    {
     "name": "stdout",
     "output_type": "stream",
     "text": [
      "xxbos madra xxeos\n"
     ]
    }
   ],
   "source": [
    "generate(learn.model, \"dog\", dls.vocab[1])"
   ]
  },
  {
   "cell_type": "code",
   "execution_count": 59,
   "metadata": {},
   "outputs": [
    {
     "name": "stdout",
     "output_type": "stream",
     "text": [
      "xxbos cat cat xxeos\n"
     ]
    }
   ],
   "source": [
    "generate(learn.model, \"cat\", dls.vocab[1])"
   ]
  },
  {
   "cell_type": "code",
   "execution_count": 60,
   "metadata": {},
   "outputs": [
    {
     "name": "stdout",
     "output_type": "stream",
     "text": [
      "xxbos crann xxeos\n"
     ]
    }
   ],
   "source": [
    "generate(learn.model, \"tree\", dls.vocab[1])"
   ]
  },
  {
   "cell_type": "code",
   "execution_count": 61,
   "metadata": {},
   "outputs": [
    {
     "name": "stdout",
     "output_type": "stream",
     "text": [
      "xxbos foirgneamh xxeos\n"
     ]
    }
   ],
   "source": [
    "generate(learn.model, \"building\", dls.vocab[1])"
   ]
  },
  {
   "cell_type": "code",
   "execution_count": 62,
   "metadata": {},
   "outputs": [
    {
     "name": "stdout",
     "output_type": "stream",
     "text": [
      "xxbos cathair na mart xxeos\n"
     ]
    }
   ],
   "source": [
    "generate(learn.model, \"city\", dls.vocab[1])"
   ]
  },
  {
   "cell_type": "code",
   "execution_count": 63,
   "metadata": {},
   "outputs": [
    {
     "name": "stdout",
     "output_type": "stream",
     "text": [
      "xxbos bean xxeos\n"
     ]
    }
   ],
   "source": [
    "generate(learn.model, \"woman\", dls.vocab[1])"
   ]
  },
  {
   "cell_type": "code",
   "execution_count": 65,
   "metadata": {},
   "outputs": [
    {
     "name": "stdout",
     "output_type": "stream",
     "text": [
      "xxbos fear xxeos\n"
     ]
    }
   ],
   "source": [
    "generate(learn.model, \"man\", dls.vocab[1])"
   ]
  },
  {
   "cell_type": "code",
   "execution_count": 64,
   "metadata": {},
   "outputs": [
    {
     "name": "stdout",
     "output_type": "stream",
     "text": [
      "xxbos seaclid seaclid seaclid xxeos\n"
     ]
    }
   ],
   "source": [
    "generate(learn.model, \"chocolate\", dls.vocab[1])"
   ]
  },
  {
   "cell_type": "code",
   "execution_count": 66,
   "metadata": {},
   "outputs": [
    {
     "name": "stdout",
     "output_type": "stream",
     "text": [
      "xxbos spsrthach spsrthach xxeos\n"
     ]
    }
   ],
   "source": [
    "generate(learn.model, \"spaceship\", dls.vocab[1])"
   ]
  },
  {
   "cell_type": "markdown",
   "metadata": {},
   "source": [
    "## 20e Run"
   ]
  },
  {
   "cell_type": "code",
   "execution_count": 50,
   "metadata": {
    "scrolled": true
   },
   "outputs": [
    {
     "data": {
      "text/html": [
       "<table border=\"1\" class=\"dataframe\">\n",
       "  <thead>\n",
       "    <tr style=\"text-align: left;\">\n",
       "      <th>epoch</th>\n",
       "      <th>train_loss</th>\n",
       "      <th>valid_loss</th>\n",
       "      <th>accuracy</th>\n",
       "      <th>perplexity</th>\n",
       "      <th>corpus_bleu</th>\n",
       "      <th>time</th>\n",
       "    </tr>\n",
       "  </thead>\n",
       "  <tbody>\n",
       "    <tr>\n",
       "      <td>0</td>\n",
       "      <td>1.636746</td>\n",
       "      <td>1.624053</td>\n",
       "      <td>0.490452</td>\n",
       "      <td>5.073614</td>\n",
       "      <td>0.324452</td>\n",
       "      <td>22:39</td>\n",
       "    </tr>\n",
       "    <tr>\n",
       "      <td>1</td>\n",
       "      <td>1.260920</td>\n",
       "      <td>1.325647</td>\n",
       "      <td>0.520619</td>\n",
       "      <td>3.764619</td>\n",
       "      <td>0.366522</td>\n",
       "      <td>22:41</td>\n",
       "    </tr>\n",
       "    <tr>\n",
       "      <td>2</td>\n",
       "      <td>1.232290</td>\n",
       "      <td>1.289559</td>\n",
       "      <td>0.525144</td>\n",
       "      <td>3.631185</td>\n",
       "      <td>0.372480</td>\n",
       "      <td>23:00</td>\n",
       "    </tr>\n",
       "    <tr>\n",
       "      <td>3</td>\n",
       "      <td>1.171967</td>\n",
       "      <td>1.256577</td>\n",
       "      <td>0.530127</td>\n",
       "      <td>3.513375</td>\n",
       "      <td>0.378737</td>\n",
       "      <td>23:07</td>\n",
       "    </tr>\n",
       "    <tr>\n",
       "      <td>4</td>\n",
       "      <td>1.081539</td>\n",
       "      <td>1.233820</td>\n",
       "      <td>0.534953</td>\n",
       "      <td>3.434322</td>\n",
       "      <td>0.385957</td>\n",
       "      <td>22:55</td>\n",
       "    </tr>\n",
       "    <tr>\n",
       "      <td>5</td>\n",
       "      <td>1.021572</td>\n",
       "      <td>1.175043</td>\n",
       "      <td>0.540957</td>\n",
       "      <td>3.238282</td>\n",
       "      <td>0.395813</td>\n",
       "      <td>22:44</td>\n",
       "    </tr>\n",
       "    <tr>\n",
       "      <td>6</td>\n",
       "      <td>0.962378</td>\n",
       "      <td>1.145241</td>\n",
       "      <td>0.546696</td>\n",
       "      <td>3.143200</td>\n",
       "      <td>0.404170</td>\n",
       "      <td>23:03</td>\n",
       "    </tr>\n",
       "    <tr>\n",
       "      <td>7</td>\n",
       "      <td>0.893671</td>\n",
       "      <td>1.105928</td>\n",
       "      <td>0.551453</td>\n",
       "      <td>3.022028</td>\n",
       "      <td>0.412557</td>\n",
       "      <td>22:47</td>\n",
       "    </tr>\n",
       "    <tr>\n",
       "      <td>8</td>\n",
       "      <td>0.868382</td>\n",
       "      <td>1.097856</td>\n",
       "      <td>0.555033</td>\n",
       "      <td>2.997732</td>\n",
       "      <td>0.419388</td>\n",
       "      <td>22:56</td>\n",
       "    </tr>\n",
       "    <tr>\n",
       "      <td>9</td>\n",
       "      <td>0.788918</td>\n",
       "      <td>1.052471</td>\n",
       "      <td>0.559421</td>\n",
       "      <td>2.864722</td>\n",
       "      <td>0.425994</td>\n",
       "      <td>22:58</td>\n",
       "    </tr>\n",
       "    <tr>\n",
       "      <td>10</td>\n",
       "      <td>0.758427</td>\n",
       "      <td>1.036332</td>\n",
       "      <td>0.563508</td>\n",
       "      <td>2.818857</td>\n",
       "      <td>0.434115</td>\n",
       "      <td>22:56</td>\n",
       "    </tr>\n",
       "    <tr>\n",
       "      <td>11</td>\n",
       "      <td>0.669327</td>\n",
       "      <td>1.013294</td>\n",
       "      <td>0.567820</td>\n",
       "      <td>2.754659</td>\n",
       "      <td>0.441266</td>\n",
       "      <td>22:44</td>\n",
       "    </tr>\n",
       "    <tr>\n",
       "      <td>12</td>\n",
       "      <td>0.626715</td>\n",
       "      <td>0.991485</td>\n",
       "      <td>0.570923</td>\n",
       "      <td>2.695234</td>\n",
       "      <td>0.446708</td>\n",
       "      <td>23:04</td>\n",
       "    </tr>\n",
       "    <tr>\n",
       "      <td>13</td>\n",
       "      <td>0.566517</td>\n",
       "      <td>0.978313</td>\n",
       "      <td>0.574124</td>\n",
       "      <td>2.659965</td>\n",
       "      <td>0.452433</td>\n",
       "      <td>22:44</td>\n",
       "    </tr>\n",
       "    <tr>\n",
       "      <td>14</td>\n",
       "      <td>0.507054</td>\n",
       "      <td>0.965194</td>\n",
       "      <td>0.576859</td>\n",
       "      <td>2.625298</td>\n",
       "      <td>0.457781</td>\n",
       "      <td>22:51</td>\n",
       "    </tr>\n",
       "    <tr>\n",
       "      <td>15</td>\n",
       "      <td>0.447324</td>\n",
       "      <td>0.957567</td>\n",
       "      <td>0.578481</td>\n",
       "      <td>2.605351</td>\n",
       "      <td>0.461081</td>\n",
       "      <td>22:59</td>\n",
       "    </tr>\n",
       "    <tr>\n",
       "      <td>16</td>\n",
       "      <td>0.431767</td>\n",
       "      <td>0.949662</td>\n",
       "      <td>0.580543</td>\n",
       "      <td>2.584836</td>\n",
       "      <td>0.464802</td>\n",
       "      <td>23:04</td>\n",
       "    </tr>\n",
       "    <tr>\n",
       "      <td>17</td>\n",
       "      <td>0.389824</td>\n",
       "      <td>0.945533</td>\n",
       "      <td>0.581630</td>\n",
       "      <td>2.574185</td>\n",
       "      <td>0.467092</td>\n",
       "      <td>22:59</td>\n",
       "    </tr>\n",
       "    <tr>\n",
       "      <td>18</td>\n",
       "      <td>0.409436</td>\n",
       "      <td>0.943619</td>\n",
       "      <td>0.582277</td>\n",
       "      <td>2.569263</td>\n",
       "      <td>0.468281</td>\n",
       "      <td>22:59</td>\n",
       "    </tr>\n",
       "    <tr>\n",
       "      <td>19</td>\n",
       "      <td>0.389287</td>\n",
       "      <td>0.942813</td>\n",
       "      <td>0.582419</td>\n",
       "      <td>2.567193</td>\n",
       "      <td>0.468552</td>\n",
       "      <td>23:05</td>\n",
       "    </tr>\n",
       "  </tbody>\n",
       "</table>"
      ],
      "text/plain": [
       "<IPython.core.display.HTML object>"
      ]
     },
     "metadata": {},
     "output_type": "display_data"
    }
   ],
   "source": [
    "# 20e, added shuffle to sorteddl, PT Transformer, distilbert init, Adam, distilbert init\n",
    "# CONCLUSION: \n",
    "learn.fit_one_cycle(20, 5e-4, div=5)"
   ]
  },
  {
   "cell_type": "code",
   "execution_count": 51,
   "metadata": {},
   "outputs": [],
   "source": [
    "learn.save('paracrawl_en_ga_20e_5e-4')"
   ]
  },
  {
   "cell_type": "code",
   "execution_count": 52,
   "metadata": {},
   "outputs": [],
   "source": [
    "learn.export(fname='paracrawl_en_ga_20e_5e-4_learner.pkl')"
   ]
  },
  {
   "cell_type": "markdown",
   "metadata": {},
   "source": [
    "## Generation"
   ]
  },
  {
   "cell_type": "code",
   "execution_count": 53,
   "metadata": {},
   "outputs": [],
   "source": [
    "def generate(model, sentence, vocab):\n",
    "    #model = torch.load('output/transformer.pth')\n",
    "#     lang_model = spacy.load('en')\n",
    "#     with open('data/processed/en/freq_list.pkl', 'rb') as f:\n",
    "#         en_freq_list = pickle.load(f)\n",
    "#     with open('data/processed/fr/freq_list.pkl', 'rb') as f:\n",
    "#         fr_freq_list = pickle.load(f)\n",
    "    #sentence = input('Please enter your english sentence: ')\n",
    "    #sentence = tokenize(sentence, en_freq_list, lang_model)\n",
    "    \n",
    "    model=model.eval()\n",
    "    \n",
    "    sentence=learn.dls.tokenizer[0][1].encodes(sentence)\n",
    "    sentence=learn.dls.numericalize[0].encodes(sentence)\n",
    "    \n",
    "    translated_sentence = [2] # xxbos\n",
    "    #translated_sentence = [fr_freq_list['[SOS]']]\n",
    "    i = 0\n",
    "    while int(translated_sentence[-1]) != 3 and i < 75:   # xxeos\n",
    "    #while int(translated_sentence[-1]) != fr_freq_list['[EOS]'] and i < 15:\n",
    "        #output = forward_model(model, sentence, translated_sentence).to('cuda')\n",
    "        output = forward_model(model, sentence, translated_sentence).cuda()\n",
    "        values, indices = torch.topk(output, 5)\n",
    "        translated_sentence.append(int(indices[-1][0]))\n",
    "        i+=1\n",
    "\n",
    "    detok_translated_sentence=detokenize(translated_sentence, vocab)\n",
    "    print(' '.join(detok_translated_sentence))\n",
    "    \n",
    "\n",
    "def forward_model(model, src, tgt):\n",
    "    src = torch.as_tensor(src).unsqueeze(0).long().cuda()\n",
    "    tgt = torch.as_tensor(tgt).unsqueeze(0).cuda()\n",
    "    tgt_mask = gen_nopeek_mask(tgt.shape[1]).cuda()\n",
    "    output = model.forward(src, tgt, tgt_mask=tgt_mask, src_key_padding_mask=None, tgt_key_padding_mask=None, memory_key_padding_mask=None)\n",
    "\n",
    "    #return output.squeeze(0).to('cpu')\n",
    "    return output.squeeze(0).detach()\n",
    "\n",
    "\n",
    "# def tokenize(sentence, freq_list, lang_model):\n",
    "#     punctuation = ['(', ')', ':', '\"', ' ']\n",
    "\n",
    "#     sentence = sentence.lower()\n",
    "#     sentence = [tok.text for tok in lang_model.tokenizer(sentence) if tok.text not in punctuation]\n",
    "#     return [freq_list[word] if word in freq_list else freq_list['[OOV]'] for word in sentence]\n",
    "\n",
    "\n",
    "def detokenize(sentence, vocab):\n",
    "    #freq_list = {v: k for k, v in freq_list.items()}\n",
    "    return [vocab[token] for token in sentence]\n",
    "    #return [freq_list[token] for token in sentence]\n",
    "# def detokenize(sentence, freq_list):\n",
    "#     freq_list = {v: k for k, v in freq_list.items()}\n",
    "#     return [freq_list[token] for token in sentence]\n",
    "\n",
    "\n",
    "def gen_nopeek_mask(length):\n",
    "    mask = rearrange(torch.triu(torch.ones(length, length)) == 1, 'h w -> w h')\n",
    "    mask = mask.float().masked_fill(mask == 0, float('-inf')).masked_fill(mask == 1, float(0.0))\n",
    "    return mask"
   ]
  },
  {
   "cell_type": "markdown",
   "metadata": {},
   "source": [
    "## 20e results"
   ]
  },
  {
   "cell_type": "code",
   "execution_count": 54,
   "metadata": {},
   "outputs": [
    {
     "name": "stdout",
     "output_type": "stream",
     "text": [
      "xxbos dia duit , conas a bhfuil t ? xxeos\n"
     ]
    }
   ],
   "source": [
    "generate(learn.model, \"hello, how are you?\", dls.vocab[1])"
   ]
  },
  {
   "cell_type": "code",
   "execution_count": 55,
   "metadata": {},
   "outputs": [
    {
     "name": "stdout",
     "output_type": "stream",
     "text": [
      "xxbos xxunk an fidir leat insint dinn c bhfuil an stisin bus le do thoil ? xxeos\n"
     ]
    }
   ],
   "source": [
    "generate(learn.model, \"Can you tell we where the bus station is please?\", dls.vocab[1])"
   ]
  },
  {
   "cell_type": "code",
   "execution_count": 56,
   "metadata": {},
   "outputs": [
    {
     "name": "stdout",
     "output_type": "stream",
     "text": [
      "xxbos xxunk inn xxunk s , ach beidh amrach a bheith an - xxunk xxeos\n"
     ]
    }
   ],
   "source": [
    "generate(learn.model, \"Yesterday it rained, but tomorrow will be very sunny\", dls.vocab[1])"
   ]
  },
  {
   "cell_type": "code",
   "execution_count": 57,
   "metadata": {},
   "outputs": [
    {
     "name": "stdout",
     "output_type": "stream",
     "text": [
      "xxbos bh m l mr , t mo aistritheoir ag obair xxeos\n"
     ]
    }
   ],
   "source": [
    "generate(learn.model, \"I had a great day, my translator is working\", dls.vocab[1])"
   ]
  },
  {
   "cell_type": "code",
   "execution_count": 58,
   "metadata": {},
   "outputs": [
    {
     "name": "stdout",
     "output_type": "stream",
     "text": [
      "xxbos xxunk mar sin t an scal faoi conas a fuair mo ardaitheoir smeach xxunk sos , mar sin xxunk ba mhaith liom a ghlacadh nimad ach su ceart ann , xxunk beidh m go lir faoi conas a thinig m an xxunk r xxunk xxeos\n"
     ]
    }
   ],
   "source": [
    "generate(learn.model, \"So this is a story all about how my lift got flip turned \\\n",
    "upside down, so I'd like to take a minute just sit right there, I'll you all about how I became the fresh prince\\\n",
    "of belair\", dls.vocab[1])"
   ]
  },
  {
   "cell_type": "code",
   "execution_count": 59,
   "metadata": {},
   "outputs": [
    {
     "name": "stdout",
     "output_type": "stream",
     "text": [
      "xxbos madra xxeos\n"
     ]
    }
   ],
   "source": [
    "generate(learn.model, \"dog\", dls.vocab[1])"
   ]
  },
  {
   "cell_type": "code",
   "execution_count": 60,
   "metadata": {},
   "outputs": [
    {
     "name": "stdout",
     "output_type": "stream",
     "text": [
      "xxbos cat xxeos\n"
     ]
    }
   ],
   "source": [
    "generate(learn.model, \"cat\", dls.vocab[1])"
   ]
  },
  {
   "cell_type": "code",
   "execution_count": 61,
   "metadata": {},
   "outputs": [
    {
     "name": "stdout",
     "output_type": "stream",
     "text": [
      "xxbos crann xxeos\n"
     ]
    }
   ],
   "source": [
    "generate(learn.model, \"tree\", dls.vocab[1])"
   ]
  },
  {
   "cell_type": "code",
   "execution_count": 62,
   "metadata": {},
   "outputs": [
    {
     "name": "stdout",
     "output_type": "stream",
     "text": [
      "xxbos foirgneamh xxeos\n"
     ]
    }
   ],
   "source": [
    "generate(learn.model, \"building\", dls.vocab[1])"
   ]
  },
  {
   "cell_type": "code",
   "execution_count": 63,
   "metadata": {},
   "outputs": [
    {
     "name": "stdout",
     "output_type": "stream",
     "text": [
      "xxbos cathair xxeos\n"
     ]
    }
   ],
   "source": [
    "generate(learn.model, \"city\", dls.vocab[1])"
   ]
  },
  {
   "cell_type": "code",
   "execution_count": 64,
   "metadata": {},
   "outputs": [
    {
     "name": "stdout",
     "output_type": "stream",
     "text": [
      "xxbos bean xxeos\n"
     ]
    }
   ],
   "source": [
    "generate(learn.model, \"woman\", dls.vocab[1])"
   ]
  },
  {
   "cell_type": "code",
   "execution_count": 65,
   "metadata": {},
   "outputs": [
    {
     "name": "stdout",
     "output_type": "stream",
     "text": [
      "xxbos fear xxeos\n"
     ]
    }
   ],
   "source": [
    "generate(learn.model, \"man\", dls.vocab[1])"
   ]
  },
  {
   "cell_type": "code",
   "execution_count": 66,
   "metadata": {},
   "outputs": [
    {
     "name": "stdout",
     "output_type": "stream",
     "text": [
      "xxbos seaclid xxeos\n"
     ]
    }
   ],
   "source": [
    "generate(learn.model, \"chocolate\", dls.vocab[1])"
   ]
  },
  {
   "cell_type": "code",
   "execution_count": 67,
   "metadata": {},
   "outputs": [
    {
     "name": "stdout",
     "output_type": "stream",
     "text": [
      "xxbos spsrthach xxeos\n"
     ]
    }
   ],
   "source": [
    "generate(learn.model, \"spaceship\", dls.vocab[1])"
   ]
  },
  {
   "cell_type": "markdown",
   "metadata": {},
   "source": [
    "## Alternative generation"
   ]
  },
  {
   "cell_type": "code",
   "execution_count": null,
   "metadata": {},
   "outputs": [],
   "source": [
    "# https://forums.fast.ai/t/fastai-v2-text/53529/334\n",
    "from fastai2.text.all import *\n",
    "\n",
    "defaults.device = torch.device('cpu')\n",
    "path = Path('.')\n",
    "learner = load_learner(\"./export.pkl\")\n",
    "\n",
    "f = open(\"/tmp/test.txt\", \"r\")\n",
    "test_file_contents = f.read()\n",
    "\n",
    "_, _, losses = learner.predict(test_file_contents)\n",
    "cats = [learner.dls.categorize.decode(i) for i in range(len(losses))]\n",
    "\n",
    "predictions = sorted(\n",
    "    zip(cats, map(float, losses)),\n",
    "    key=lambda p: p[1],\n",
    "    reverse=True\n",
    ")\n",
    "print(predictions)\n",
    "\n",
    "# OR\n",
    "\n",
    "items = pd.read_csv(\"/tmp/test.txt\", sep = '\\t')\n",
    "test_dl = learner.dls.test_dl(items.values)\n",
    "\n",
    "learner.get_preds(dl=test_dl, with_decoded=False)"
   ]
  },
  {
   "cell_type": "code",
   "execution_count": null,
   "metadata": {},
   "outputs": [],
   "source": []
  }
 ],
 "metadata": {
  "kernelspec": {
   "display_name": "Python 3",
   "language": "python",
   "name": "python3"
  },
  "language_info": {
   "codemirror_mode": {
    "name": "ipython",
    "version": 3
   },
   "file_extension": ".py",
   "mimetype": "text/x-python",
   "name": "python",
   "nbconvert_exporter": "python",
   "pygments_lexer": "ipython3",
   "version": "3.7.4"
  }
 },
 "nbformat": 4,
 "nbformat_minor": 2
}
