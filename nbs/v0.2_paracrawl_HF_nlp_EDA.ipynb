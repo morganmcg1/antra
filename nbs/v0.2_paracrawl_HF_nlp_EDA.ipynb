{
 "cells": [
  {
   "cell_type": "code",
   "execution_count": 73,
   "metadata": {},
   "outputs": [],
   "source": [
    "#hide\n",
    "from fastai2.text.all import *\n",
    "from fastai2.basics import *\n",
    "from fastprogress.fastprogress import progress_bar\n",
    "\n",
    "import seaborn as sns\n",
    "from transformers import XLMRobertaModel, XLMRobertaTokenizer\n",
    "\n",
    "from nlp import load_dataset\n",
    "\n",
    "from bokeh.layouts import grid\n",
    "from bokeh.models import ColumnDataSource \n",
    "from bokeh.models.widgets.tables import DataTable, TableColumn\n",
    "from bokeh.plotting import figure\n",
    "from bokeh.io import show, output_notebook\n",
    "from bokeh.palettes import d3\n",
    "\n",
    "import umap\n",
    "import umap.plot\n",
    "import nmslib\n",
    "\n",
    "from sklearn.metrics.pairwise import cosine_similarity\n",
    "from datetime import date\n",
    "import gc"
   ]
  },
  {
   "cell_type": "code",
   "execution_count": 58,
   "metadata": {},
   "outputs": [],
   "source": [
    "#hide\n",
    "today = date.today()"
   ]
  },
  {
   "cell_type": "code",
   "execution_count": 42,
   "metadata": {},
   "outputs": [],
   "source": [
    "para = load_dataset('para_crawl', 'enga')"
   ]
  },
  {
   "cell_type": "code",
   "execution_count": 43,
   "metadata": {},
   "outputs": [
    {
     "data": {
      "text/plain": [
       "357399"
      ]
     },
     "execution_count": 43,
     "metadata": {},
     "output_type": "execute_result"
    }
   ],
   "source": [
    "def extract_lang(lang, ds):\n",
    "    txt=[]\n",
    "    for t in ds['train']['translation']: txt.append(t[lang])\n",
    "    return txt\n",
    "\n",
    "en = extract_lang('en', para)\n",
    "ga = extract_lang('ga', para)\n",
    "\n",
    "df = pd.DataFrame(data={'en':en, 'ga':ga})\n",
    "len(df)"
   ]
  },
  {
   "cell_type": "code",
   "execution_count": 44,
   "metadata": {
    "scrolled": true
   },
   "outputs": [
    {
     "name": "stdout",
     "output_type": "stream",
     "text": [
      "Dataset has : 357395 rows\n"
     ]
    },
    {
     "data": {
      "text/html": [
       "<div>\n",
       "<style scoped>\n",
       "    .dataframe tbody tr th:only-of-type {\n",
       "        vertical-align: middle;\n",
       "    }\n",
       "\n",
       "    .dataframe tbody tr th {\n",
       "        vertical-align: top;\n",
       "    }\n",
       "\n",
       "    .dataframe thead th {\n",
       "        text-align: right;\n",
       "    }\n",
       "</style>\n",
       "<table border=\"1\" class=\"dataframe\">\n",
       "  <thead>\n",
       "    <tr style=\"text-align: right;\">\n",
       "      <th></th>\n",
       "      <th>en</th>\n",
       "      <th>ga</th>\n",
       "      <th>noise_type</th>\n",
       "    </tr>\n",
       "  </thead>\n",
       "  <tbody>\n",
       "    <tr>\n",
       "      <th>0</th>\n",
       "      <td>among the french pim , in 2013, it is only 9 islands that have been chiroptérologiques inventories .</td>\n",
       "      <td>i measc na pim fraince, i 2013, tá sé ach 9 oileáin a bhí chiroptérologiques fardail.</td>\n",
       "      <td>na</td>\n",
       "    </tr>\n",
       "    <tr>\n",
       "      <th>1</th>\n",
       "      <td>among the french pim, in 2013, it is only 9 islands that have been chiroptérologiques inventories.</td>\n",
       "      <td>i measc na pim fraince , i 2013, tá sé ach 9 oileáin a bhí chiroptérologiques fardail .</td>\n",
       "      <td>na</td>\n",
       "    </tr>\n",
       "    <tr>\n",
       "      <th>2</th>\n",
       "      <td>among the french pim, in 2013, it is only 9 islands that have been chiroptérologiques inventories.</td>\n",
       "      <td>i measc na pim fraince, i 2013, tá sé ach 9 oileáin a bhí chiroptérologiques fardail.</td>\n",
       "      <td>na</td>\n",
       "    </tr>\n",
       "  </tbody>\n",
       "</table>\n",
       "</div>"
      ],
      "text/plain": [
       "                                                                                                     en  \\\n",
       "0  among the french pim , in 2013, it is only 9 islands that have been chiroptérologiques inventories .   \n",
       "1    among the french pim, in 2013, it is only 9 islands that have been chiroptérologiques inventories.   \n",
       "2    among the french pim, in 2013, it is only 9 islands that have been chiroptérologiques inventories.   \n",
       "\n",
       "                                                                                        ga  \\\n",
       "0    i measc na pim fraince, i 2013, tá sé ach 9 oileáin a bhí chiroptérologiques fardail.   \n",
       "1  i measc na pim fraince , i 2013, tá sé ach 9 oileáin a bhí chiroptérologiques fardail .   \n",
       "2    i measc na pim fraince, i 2013, tá sé ach 9 oileáin a bhí chiroptérologiques fardail.   \n",
       "\n",
       "  noise_type  \n",
       "0         na  \n",
       "1         na  \n",
       "2         na  "
      ]
     },
     "execution_count": 44,
     "metadata": {},
     "output_type": "execute_result"
    }
   ],
   "source": [
    "# #hide\n",
    "# path = Path('data/irish/crosslang')\n",
    "# ga = pd.read_csv(path/'paracrawl.ga', error_bad_lines=False, sep='\\n\\n', header=None, engine='python')\n",
    "# en = pd.read_csv(path/'paracrawl.en', error_bad_lines=False, sep='\\n\\n', header=None, engine='python')\n",
    "# df=pd.concat([ga, en], axis=1)\n",
    "# df.columns=['ga','en']\n",
    "# df.reset_index(inplace=True, drop=True)\n",
    "\n",
    "df.drop_duplicates(inplace=True)\n",
    "df.reset_index(inplace=True, drop=True)\n",
    "\n",
    "# Lowercase\n",
    "df.ga = df.ga.str.lower()\n",
    "df.en = df.en.str.lower()\n",
    "\n",
    "# Label noisey samples\n",
    "df['noise_type'] = 'na'\n",
    "noise_dict = {'sex':'sex','lighting':'lighting','и':'cyrillic', 'л':'cyrillic', 'з':'cyrillic'}\n",
    "for key in noise_dict: df.loc[df.en.str.contains(key), 'noise_type'] = noise_dict[key]\n",
    "\n",
    "print(f'Dataset has : {len(df)} rows')\n",
    "df.head(3)"
   ]
  },
  {
   "cell_type": "code",
   "execution_count": 36,
   "metadata": {},
   "outputs": [
    {
     "name": "stdout",
     "output_type": "stream",
     "text": [
      "Dataset has : 356537 rows\n",
      "\n",
      "[en] : \"can you say that.\n",
      "\n",
      "[ga] : \"an féidir leat a rá go bhfuil.\n"
     ]
    }
   ],
   "source": [
    "#hide_input\n",
    "print(f'Dataset has : {len(df)} rows')\n",
    "print()\n",
    "print(f'[en] : {df.en.values[50]}')\n",
    "print()\n",
    "print(f'[ga] : {df.ga.values[50]}')"
   ]
  },
  {
   "cell_type": "code",
   "execution_count": 30,
   "metadata": {
    "scrolled": true
   },
   "outputs": [
    {
     "data": {
      "application/vnd.jupyter.widget-view+json": {
       "model_id": "3dbb3e1d8ceb4dbc8aa867eec7b90544",
       "version_major": 2,
       "version_minor": 0
      },
      "text/plain": [
       "HBox(children=(FloatProgress(value=0.0, description='Downloading', max=2244861551.0, style=ProgressStyle(descr…"
      ]
     },
     "metadata": {},
     "output_type": "display_data"
    },
    {
     "name": "stdout",
     "output_type": "stream",
     "text": [
      "\n"
     ]
    }
   ],
   "source": [
    "#hide\n",
    "model = XLMRobertaModel.from_pretrained('xlm-roberta-large')\n",
    "model.cuda()\n",
    "tokenizer = XLMRobertaTokenizer.from_pretrained('xlm-roberta-base')\n",
    "pad_idx=tokenizer.pad_token_id"
   ]
  },
  {
   "cell_type": "markdown",
   "metadata": {},
   "source": [
    "#### Create our Dataloader\n",
    "\n",
    "As part of setting up our dataloader we'll need to define our:\n",
    "- Tokenizer Transform, which is a wrapper around the HuggingFace tokenizer \n",
    "- Function to add padding to each sample so that we can batch our samples\n",
    "- Function to create a padding mask so that our model doesn't attend over the padding tokens"
   ]
  },
  {
   "cell_type": "code",
   "execution_count": 31,
   "metadata": {},
   "outputs": [],
   "source": [
    "# hide\n",
    "#Tokenizer:\n",
    "class TransformersTokenizer(Transform):\n",
    "    def __init__(self, tokenizer): self.tokenizer = tokenizer\n",
    "    def encodes(self, x): return torch.tensor((self.tokenizer.encode(x, add_special_tokens=True))) \n",
    "    def decodes(self, x): return TitledStr(self.tokenizer.decode(x.cpu().numpy()))\n",
    "\n",
    "# Padding function:\n",
    "def my_pad_input(samples, pad_idx=1, pad_fields=0, pad_first=False):\n",
    "    max_len_l = max([len(s) for s in samples])\n",
    "    def _f(x):\n",
    "        pad =  x.new_zeros(max_len_l-x.shape[0])+pad_idx\n",
    "        x1 = torch.cat([pad, x] if pad_first else [x, pad])\n",
    "        return retain_type(x1, x)\n",
    "    outp=[]\n",
    "    for s in samples: outp.append(_f(s))\n",
    "    return outp   \n",
    "\n",
    "# Padding mask\n",
    "def pad_mask(o):\n",
    "    '0 for masked tokens, else 1'\n",
    "    return (o != pad_idx)*1"
   ]
  },
  {
   "cell_type": "markdown",
   "metadata": {},
   "source": [
    "Now we are ready to create our dataloader so that we can quickly iterate through our samples. I'm using fastai here, however you could also use either a PyTorch or Tensorflow dataloader here, the rest of this notebook doesn't have a fastai dependency.\n",
    "\n",
    "To start, we'll look at a random sample of 40,000 samples, about 5% of our data. Remember we are only retrieving embeddings for our English samples for now."
   ]
  },
  {
   "cell_type": "code",
   "execution_count": 53,
   "metadata": {
    "scrolled": true
   },
   "outputs": [
    {
     "name": "stdout",
     "output_type": "stream",
     "text": [
      "[255130  26179 125247 241473  32753   3853  46217 310057 201400  86220]\n"
     ]
    },
    {
     "data": {
      "text/html": [
       "<div>\n",
       "<style scoped>\n",
       "    .dataframe tbody tr th:only-of-type {\n",
       "        vertical-align: middle;\n",
       "    }\n",
       "\n",
       "    .dataframe tbody tr th {\n",
       "        vertical-align: top;\n",
       "    }\n",
       "\n",
       "    .dataframe thead th {\n",
       "        text-align: right;\n",
       "    }\n",
       "</style>\n",
       "<table border=\"1\" class=\"dataframe\">\n",
       "  <thead>\n",
       "    <tr style=\"text-align: right;\">\n",
       "      <th></th>\n",
       "      <th>main_index</th>\n",
       "      <th>en</th>\n",
       "      <th>ga</th>\n",
       "      <th>noise_type</th>\n",
       "    </tr>\n",
       "  </thead>\n",
       "  <tbody>\n",
       "    <tr>\n",
       "      <th>0</th>\n",
       "      <td>255130</td>\n",
       "      <td>new ecological stuff are not only free from pesticide, they contain 60% more fibre, minerals, vitamins, they are the best for children.</td>\n",
       "      <td>nach bhfuil bia orgánach bhith ach saor ó lotnaidicídí, go bhfuil iontu snáithín 60% níos mó, mianraí, vitimíní, tá siad an chuid is fearr do pháistí.</td>\n",
       "      <td>na</td>\n",
       "    </tr>\n",
       "    <tr>\n",
       "      <th>1</th>\n",
       "      <td>26179</td>\n",
       "      <td>(3) the minister for communications, marine and natural resources shall not sell, exchange, surrender or otherwise dispose of all or any of the capital stock in the board held by him or her without the prior consent of the minister for finance.”.</td>\n",
       "      <td>(3) ní dhéanfaidh an taire cumarsáide, mara agus acmhainní nádúrtha an stoc caipitiúil go léir sa bhord atá ar seilbh aige nó aici, ná aon chuid de, a dhíol, a mhalartú, a ghéilleadh nó a dhiúscairt ar shlí eile gan toiliú a fháil roimh ré ón aire airgeadais.”.</td>\n",
       "      <td>na</td>\n",
       "    </tr>\n",
       "    <tr>\n",
       "      <th>2</th>\n",
       "      <td>125247</td>\n",
       "      <td>(ii) as to the matters mentioned in section 59 (2)(b),</td>\n",
       "      <td>(ii) maidir leis na nithe a luaitear in alt 59 (2)(b),</td>\n",
       "      <td>na</td>\n",
       "    </tr>\n",
       "  </tbody>\n",
       "</table>\n",
       "</div>"
      ],
      "text/plain": [
       "   main_index  \\\n",
       "0      255130   \n",
       "1       26179   \n",
       "2      125247   \n",
       "\n",
       "                                                                                                                                                                                                                                                       en  \\\n",
       "0                                                                                                                 new ecological stuff are not only free from pesticide, they contain 60% more fibre, minerals, vitamins, they are the best for children.   \n",
       "1  (3) the minister for communications, marine and natural resources shall not sell, exchange, surrender or otherwise dispose of all or any of the capital stock in the board held by him or her without the prior consent of the minister for finance.”.   \n",
       "2                                                                                                                                                                                                  (ii) as to the matters mentioned in section 59 (2)(b),   \n",
       "\n",
       "                                                                                                                                                                                                                                                                      ga  \\\n",
       "0                                                                                                                 nach bhfuil bia orgánach bhith ach saor ó lotnaidicídí, go bhfuil iontu snáithín 60% níos mó, mianraí, vitimíní, tá siad an chuid is fearr do pháistí.   \n",
       "1  (3) ní dhéanfaidh an taire cumarsáide, mara agus acmhainní nádúrtha an stoc caipitiúil go léir sa bhord atá ar seilbh aige nó aici, ná aon chuid de, a dhíol, a mhalartú, a ghéilleadh nó a dhiúscairt ar shlí eile gan toiliú a fháil roimh ré ón aire airgeadais.”.   \n",
       "2                                                                                                                                                                                                                 (ii) maidir leis na nithe a luaitear in alt 59 (2)(b),   \n",
       "\n",
       "  noise_type  \n",
       "0         na  \n",
       "1         na  \n",
       "2         na  "
      ]
     },
     "execution_count": 53,
     "metadata": {},
     "output_type": "execute_result"
    }
   ],
   "source": [
    "#hide\n",
    "n_samples=40000\n",
    "lang='en'\n",
    "np.random.seed(42) \n",
    "rand_idxs = np.random.choice(len(df), n_samples, replace=False)\n",
    "samp = df.iloc[rand_idxs].copy()\n",
    "samp.reset_index(inplace=True, drop=False)\n",
    "samp.columns = ['main_index', 'en', 'ga', 'noise_type']\n",
    "samp_texts = samp[lang].values\n",
    "all_texts = df[lang].values\n",
    "print(rand_idxs[:10])\n",
    "samp.head(3)"
   ]
  },
  {
   "cell_type": "code",
   "execution_count": 54,
   "metadata": {
    "scrolled": true
   },
   "outputs": [],
   "source": [
    "#hide\n",
    "bs,sl = 256,1024\n",
    "\n",
    "def get_dls(texts, bs=256, sl=1024, show=True):\n",
    "    splits = [list(range(len(texts))),list(range(bs))]\n",
    "    tls = TfmdLists(texts, TransformersTokenizer(tokenizer), splits=splits , dl_type=TfmdDL)\n",
    "    dls = tls.dataloaders(bs=bs, seq_len=sl, before_batch=my_pad_input, shuffle_train=False)\n",
    "    if show==True: dls.show_batch(max_n=1)\n",
    "    return dls"
   ]
  },
  {
   "cell_type": "markdown",
   "metadata": {},
   "source": [
    "You can see the English sample below, including the special tokens `< s >` and `< /s >` used by XLM-R to denote the start and end of the sequence. You can also see all the padding needed for this sample."
   ]
  },
  {
   "cell_type": "code",
   "execution_count": 55,
   "metadata": {
    "scrolled": true
   },
   "outputs": [
    {
     "name": "stdout",
     "output_type": "stream",
     "text": [
      "<s> new ecological stuff are not only free from pesticide, they contain 60% more fibre, minerals, vitamins, they are the best for children.</s><pad><pad><pad><pad><pad><pad><pad><pad><pad><pad><pad><pad><pad><pad><pad><pad><pad><pad><pad><pad><pad><pad><pad><pad><pad><pad><pad><pad><pad><pad><pad><pad><pad><pad><pad><pad><pad><pad><pad><pad><pad><pad><pad><pad><pad><pad><pad><pad><pad><pad><pad><pad><pad><pad><pad><pad><pad><pad><pad><pad><pad><pad><pad><pad><pad><pad><pad><pad><pad><pad><pad><pad><pad><pad><pad><pad><pad><pad><pad><pad><pad><pad><pad><pad><pad><pad><pad><pad><pad><pad><pad><pad><pad><pad><pad><pad><pad><pad><pad><pad><pad><pad><pad><pad><pad><pad><pad><pad><pad><pad><pad>\n"
     ]
    }
   ],
   "source": [
    "samp_dls = get_dls(samp_texts, bs, sl, show=True)"
   ]
  },
  {
   "cell_type": "markdown",
   "metadata": {},
   "source": [
    "## Grab the Embeddings\n",
    "Now we're ready to retrieve our embeddings from the pretrained multi-lingual model. We do this by simply passing our samples to the model and saving the output activations from the last layer of the model. From this we can generate an embedding of size (40000, 1024) which we can then pass to our dimensionality reduction algorithm. \n",
    "\n",
    "Processing 40k samples with UMAP takes about 5 minutes. After a little testing with `n_neighbors` and `min_dist` I found the defaults work quite well although its always worth playing around with the parameters and distance metric used."
   ]
  },
  {
   "cell_type": "code",
   "execution_count": 56,
   "metadata": {
    "scrolled": true
   },
   "outputs": [],
   "source": [
    "#hide\n",
    "def get_text_embeddings(model, dls, emb_nm=None, n_files=1):\n",
    "    '''\n",
    "        Grab logits from model and save embedding file, optionally save across multiple files\n",
    "        n_files : number of files to save the embeddings too, incase they cannot all fit in memory'\n",
    "    ''' \n",
    "    with torch.no_grad():\n",
    "        model.eval() \n",
    "        f_split_interval = int(len(dls.train)/n_files)+1\n",
    "        new_file=False\n",
    "        file_count=0\n",
    "        for i, o in enumerate(progress_bar(dls.train)):\n",
    "            # Extract\n",
    "            mask = pad_mask(o)\n",
    "            _, tmp=model(o, attention_mask=mask)  \n",
    "            \n",
    "            # Store\n",
    "            if i == 0: \n",
    "                embs = tmp\n",
    "            elif new_file:\n",
    "                embs = tmp\n",
    "                new_file=False\n",
    "            else: \n",
    "                embs = torch.cat([embs,tmp])\n",
    "            \n",
    "            # Save\n",
    "            if n_files>1:\n",
    "                if (i > 0) & (i % (f_split_interval) == 0): \n",
    "                    torch.save(embs, emb_nm + f'_{file_count}')\n",
    "                    print(f'Embedding file {file_count} saved')\n",
    "                    file_count+=1\n",
    "                    del embs\n",
    "                    gc.collect()\n",
    "                    new_file=True\n",
    "                elif i == len(dls.train)-1: \n",
    "                    torch.save(embs, emb_nm + f'_{file_count}')\n",
    "                    new_file=True\n",
    "                    print(f'Embedding file {file_count} saved')\n",
    "            elif (n_files==1) & (i == len(dls.train)-1):\n",
    "                torch.save(embs, emb_nm)\n",
    "                \n",
    "        # RELOAD SAVED EMBEDDING FILES IF n_files>1\n",
    "        if n_files>1:\n",
    "            del model\n",
    "            torch.cuda.empty_cache()\n",
    "            gc.collect()\n",
    "            for j in range(0,n_files):\n",
    "                if j==0: embs = torch.load(emb_nm + f'_{int(j):.0f}')\n",
    "                else:\n",
    "                    tmp = torch.load(emb_nm + f'_{int(j):.0f}')\n",
    "                    embs = torch.cat([embs,tmp])\n",
    "            torch.save(embs, emb_nm+'_full')\n",
    "\n",
    "        print(f'Embedding tensor(s) saved here: \"{emb_nm}\", full tensor size is : {embs.size()}')\n",
    "    return embs"
   ]
  },
  {
   "cell_type": "code",
   "execution_count": 60,
   "metadata": {
    "scrolled": true
   },
   "outputs": [
    {
     "data": {
      "text/html": [
       "\n",
       "    <div>\n",
       "        <style>\n",
       "            /* Turns off some styling */\n",
       "            progress {\n",
       "                /* gets rid of default border in Firefox and Opera. */\n",
       "                border: none;\n",
       "                /* Needs to be in here for Safari polyfill so background images work as expected. */\n",
       "                background-size: auto;\n",
       "            }\n",
       "            .progress-bar-interrupted, .progress-bar-interrupted::-webkit-progress-bar {\n",
       "                background: #F44336;\n",
       "            }\n",
       "        </style>\n",
       "      <progress value='157' class='' max='157', style='width:300px; height:20px; vertical-align: middle;'></progress>\n",
       "      100.00% [157/157 06:19<00:00]\n",
       "    </div>\n",
       "    "
      ],
      "text/plain": [
       "<IPython.core.display.HTML object>"
      ]
     },
     "metadata": {},
     "output_type": "display_data"
    },
    {
     "name": "stdout",
     "output_type": "stream",
     "text": [
      "Embedding tensor(s) saved here: \"models/xlm-r_large_embs_en_samp_2020-07-22\", full tensor size is : torch.Size([40000, 1024])\n"
     ]
    }
   ],
   "source": [
    "#hide\n",
    "samp_emb_nm = f'models/xlm-r_large_embs_en_samp_{today}'\n",
    "samp_embs = get_text_embeddings(model, samp_dls, emb_nm=samp_emb_nm, n_files=1)\n",
    "samp_embs=samp_embs.to('cpu')\n",
    "\n",
    "#samp_embs = torch.load('models/xlm-r_large_embs_en_samp_2020-06-29').to('cpu')"
   ]
  },
  {
   "cell_type": "markdown",
   "metadata": {},
   "source": [
    "**Scaling your Embeddings**\n",
    "\n",
    "One thing to consider might be whether you should scale your embeddings. The embeddings used here had mean 0 and standard deviation of 0.5, normalising them to (0,1) didn't seem to have much of an impact on the UMAP visualisation so it is not done here. Scikit-Learn has a [wide variety of scaling functions](https://scikit-learn.org/stable/modules/preprocessing.html) if you do need to scale your data."
   ]
  },
  {
   "cell_type": "code",
   "execution_count": 11,
   "metadata": {},
   "outputs": [],
   "source": [
    "#hide\n",
    "# std=samp_embs.std()\n",
    "# m=samp_embs.mean()\n",
    "\n",
    "# scaled_embs = (samp_embs - m)/std\n",
    "# scaled_embs.mean(), scaled_embs.std()\n",
    "\n",
    "# scaled_mapper = umap.UMAP(random_state=42).fit(scaled_embs.cpu().numpy())\n",
    "# scaled_p = umap.plot.interactive(scaled_mapper, hover_data=samp, point_size=2, labels=samp.noise_type)\n",
    "# output_notebook()\n",
    "# show(scaled_p)"
   ]
  },
  {
   "cell_type": "markdown",
   "metadata": {},
   "source": [
    "## Remove similar samples from the entire dataset\n",
    "We will remove items by:\n",
    "\n",
    "1. Visually **identifying** similar noisey embeddings\n",
    "\n",
    "2. Taking the **average of these embeddings**\n",
    "\n",
    "3. Calculating a **distance** between this average embedding and all of the embeddings in our entire dataset\n",
    "\n",
    "3. Removing embeddings that are within a certain distance to the average embeddings"
   ]
  },
  {
   "cell_type": "markdown",
   "metadata": {},
   "source": [
    "## Visualise: Dimensionality Reduction with UMAP"
   ]
  },
  {
   "cell_type": "markdown",
   "metadata": {},
   "source": [
    "First we use umap to reduce the embedding space to 2 dimensions using **UMAP**, then we plot the embedding usingthe **Bokeh** visualisation library, which enables us to dynamically select different regions of interest, enabling us to interactively explore our dataset"
   ]
  },
  {
   "cell_type": "code",
   "execution_count": 61,
   "metadata": {},
   "outputs": [],
   "source": [
    "samp_mapper = umap.UMAP(random_state=42).fit(samp_embs.cpu().numpy())"
   ]
  },
  {
   "cell_type": "code",
   "execution_count": 62,
   "metadata": {},
   "outputs": [
    {
     "data": {
      "text/html": [
       "\n",
       "    <div class=\"bk-root\">\n",
       "        <a href=\"https://bokeh.org\" target=\"_blank\" class=\"bk-logo bk-logo-small bk-logo-notebook\"></a>\n",
       "        <span id=\"1001\">Loading BokehJS ...</span>\n",
       "    </div>"
      ]
     },
     "metadata": {},
     "output_type": "display_data"
    },
    {
     "data": {
      "application/javascript": [
       "\n",
       "(function(root) {\n",
       "  function now() {\n",
       "    return new Date();\n",
       "  }\n",
       "\n",
       "  var force = true;\n",
       "\n",
       "  if (typeof root._bokeh_onload_callbacks === \"undefined\" || force === true) {\n",
       "    root._bokeh_onload_callbacks = [];\n",
       "    root._bokeh_is_loading = undefined;\n",
       "  }\n",
       "\n",
       "  var JS_MIME_TYPE = 'application/javascript';\n",
       "  var HTML_MIME_TYPE = 'text/html';\n",
       "  var EXEC_MIME_TYPE = 'application/vnd.bokehjs_exec.v0+json';\n",
       "  var CLASS_NAME = 'output_bokeh rendered_html';\n",
       "\n",
       "  /**\n",
       "   * Render data to the DOM node\n",
       "   */\n",
       "  function render(props, node) {\n",
       "    var script = document.createElement(\"script\");\n",
       "    node.appendChild(script);\n",
       "  }\n",
       "\n",
       "  /**\n",
       "   * Handle when an output is cleared or removed\n",
       "   */\n",
       "  function handleClearOutput(event, handle) {\n",
       "    var cell = handle.cell;\n",
       "\n",
       "    var id = cell.output_area._bokeh_element_id;\n",
       "    var server_id = cell.output_area._bokeh_server_id;\n",
       "    // Clean up Bokeh references\n",
       "    if (id != null && id in Bokeh.index) {\n",
       "      Bokeh.index[id].model.document.clear();\n",
       "      delete Bokeh.index[id];\n",
       "    }\n",
       "\n",
       "    if (server_id !== undefined) {\n",
       "      // Clean up Bokeh references\n",
       "      var cmd = \"from bokeh.io.state import curstate; print(curstate().uuid_to_server['\" + server_id + \"'].get_sessions()[0].document.roots[0]._id)\";\n",
       "      cell.notebook.kernel.execute(cmd, {\n",
       "        iopub: {\n",
       "          output: function(msg) {\n",
       "            var id = msg.content.text.trim();\n",
       "            if (id in Bokeh.index) {\n",
       "              Bokeh.index[id].model.document.clear();\n",
       "              delete Bokeh.index[id];\n",
       "            }\n",
       "          }\n",
       "        }\n",
       "      });\n",
       "      // Destroy server and session\n",
       "      var cmd = \"import bokeh.io.notebook as ion; ion.destroy_server('\" + server_id + \"')\";\n",
       "      cell.notebook.kernel.execute(cmd);\n",
       "    }\n",
       "  }\n",
       "\n",
       "  /**\n",
       "   * Handle when a new output is added\n",
       "   */\n",
       "  function handleAddOutput(event, handle) {\n",
       "    var output_area = handle.output_area;\n",
       "    var output = handle.output;\n",
       "\n",
       "    // limit handleAddOutput to display_data with EXEC_MIME_TYPE content only\n",
       "    if ((output.output_type != \"display_data\") || (!output.data.hasOwnProperty(EXEC_MIME_TYPE))) {\n",
       "      return\n",
       "    }\n",
       "\n",
       "    var toinsert = output_area.element.find(\".\" + CLASS_NAME.split(' ')[0]);\n",
       "\n",
       "    if (output.metadata[EXEC_MIME_TYPE][\"id\"] !== undefined) {\n",
       "      toinsert[toinsert.length - 1].firstChild.textContent = output.data[JS_MIME_TYPE];\n",
       "      // store reference to embed id on output_area\n",
       "      output_area._bokeh_element_id = output.metadata[EXEC_MIME_TYPE][\"id\"];\n",
       "    }\n",
       "    if (output.metadata[EXEC_MIME_TYPE][\"server_id\"] !== undefined) {\n",
       "      var bk_div = document.createElement(\"div\");\n",
       "      bk_div.innerHTML = output.data[HTML_MIME_TYPE];\n",
       "      var script_attrs = bk_div.children[0].attributes;\n",
       "      for (var i = 0; i < script_attrs.length; i++) {\n",
       "        toinsert[toinsert.length - 1].firstChild.setAttribute(script_attrs[i].name, script_attrs[i].value);\n",
       "        toinsert[toinsert.length - 1].firstChild.textContent = bk_div.children[0].textContent\n",
       "      }\n",
       "      // store reference to server id on output_area\n",
       "      output_area._bokeh_server_id = output.metadata[EXEC_MIME_TYPE][\"server_id\"];\n",
       "    }\n",
       "  }\n",
       "\n",
       "  function register_renderer(events, OutputArea) {\n",
       "\n",
       "    function append_mime(data, metadata, element) {\n",
       "      // create a DOM node to render to\n",
       "      var toinsert = this.create_output_subarea(\n",
       "        metadata,\n",
       "        CLASS_NAME,\n",
       "        EXEC_MIME_TYPE\n",
       "      );\n",
       "      this.keyboard_manager.register_events(toinsert);\n",
       "      // Render to node\n",
       "      var props = {data: data, metadata: metadata[EXEC_MIME_TYPE]};\n",
       "      render(props, toinsert[toinsert.length - 1]);\n",
       "      element.append(toinsert);\n",
       "      return toinsert\n",
       "    }\n",
       "\n",
       "    /* Handle when an output is cleared or removed */\n",
       "    events.on('clear_output.CodeCell', handleClearOutput);\n",
       "    events.on('delete.Cell', handleClearOutput);\n",
       "\n",
       "    /* Handle when a new output is added */\n",
       "    events.on('output_added.OutputArea', handleAddOutput);\n",
       "\n",
       "    /**\n",
       "     * Register the mime type and append_mime function with output_area\n",
       "     */\n",
       "    OutputArea.prototype.register_mime_type(EXEC_MIME_TYPE, append_mime, {\n",
       "      /* Is output safe? */\n",
       "      safe: true,\n",
       "      /* Index of renderer in `output_area.display_order` */\n",
       "      index: 0\n",
       "    });\n",
       "  }\n",
       "\n",
       "  // register the mime type if in Jupyter Notebook environment and previously unregistered\n",
       "  if (root.Jupyter !== undefined) {\n",
       "    var events = require('base/js/events');\n",
       "    var OutputArea = require('notebook/js/outputarea').OutputArea;\n",
       "\n",
       "    if (OutputArea.prototype.mime_types().indexOf(EXEC_MIME_TYPE) == -1) {\n",
       "      register_renderer(events, OutputArea);\n",
       "    }\n",
       "  }\n",
       "\n",
       "  \n",
       "  if (typeof (root._bokeh_timeout) === \"undefined\" || force === true) {\n",
       "    root._bokeh_timeout = Date.now() + 5000;\n",
       "    root._bokeh_failed_load = false;\n",
       "  }\n",
       "\n",
       "  var NB_LOAD_WARNING = {'data': {'text/html':\n",
       "     \"<div style='background-color: #fdd'>\\n\"+\n",
       "     \"<p>\\n\"+\n",
       "     \"BokehJS does not appear to have successfully loaded. If loading BokehJS from CDN, this \\n\"+\n",
       "     \"may be due to a slow or bad network connection. Possible fixes:\\n\"+\n",
       "     \"</p>\\n\"+\n",
       "     \"<ul>\\n\"+\n",
       "     \"<li>re-rerun `output_notebook()` to attempt to load from CDN again, or</li>\\n\"+\n",
       "     \"<li>use INLINE resources instead, as so:</li>\\n\"+\n",
       "     \"</ul>\\n\"+\n",
       "     \"<code>\\n\"+\n",
       "     \"from bokeh.resources import INLINE\\n\"+\n",
       "     \"output_notebook(resources=INLINE)\\n\"+\n",
       "     \"</code>\\n\"+\n",
       "     \"</div>\"}};\n",
       "\n",
       "  function display_loaded() {\n",
       "    var el = document.getElementById(\"1001\");\n",
       "    if (el != null) {\n",
       "      el.textContent = \"BokehJS is loading...\";\n",
       "    }\n",
       "    if (root.Bokeh !== undefined) {\n",
       "      if (el != null) {\n",
       "        el.textContent = \"BokehJS \" + root.Bokeh.version + \" successfully loaded.\";\n",
       "      }\n",
       "    } else if (Date.now() < root._bokeh_timeout) {\n",
       "      setTimeout(display_loaded, 100)\n",
       "    }\n",
       "  }\n",
       "\n",
       "\n",
       "  function run_callbacks() {\n",
       "    try {\n",
       "      root._bokeh_onload_callbacks.forEach(function(callback) {\n",
       "        if (callback != null)\n",
       "          callback();\n",
       "      });\n",
       "    } finally {\n",
       "      delete root._bokeh_onload_callbacks\n",
       "    }\n",
       "    console.debug(\"Bokeh: all callbacks have finished\");\n",
       "  }\n",
       "\n",
       "  function load_libs(css_urls, js_urls, callback) {\n",
       "    if (css_urls == null) css_urls = [];\n",
       "    if (js_urls == null) js_urls = [];\n",
       "\n",
       "    root._bokeh_onload_callbacks.push(callback);\n",
       "    if (root._bokeh_is_loading > 0) {\n",
       "      console.debug(\"Bokeh: BokehJS is being loaded, scheduling callback at\", now());\n",
       "      return null;\n",
       "    }\n",
       "    if (js_urls == null || js_urls.length === 0) {\n",
       "      run_callbacks();\n",
       "      return null;\n",
       "    }\n",
       "    console.debug(\"Bokeh: BokehJS not loaded, scheduling load and callback at\", now());\n",
       "    root._bokeh_is_loading = css_urls.length + js_urls.length;\n",
       "\n",
       "    function on_load() {\n",
       "      root._bokeh_is_loading--;\n",
       "      if (root._bokeh_is_loading === 0) {\n",
       "        console.debug(\"Bokeh: all BokehJS libraries/stylesheets loaded\");\n",
       "        run_callbacks()\n",
       "      }\n",
       "    }\n",
       "\n",
       "    function on_error() {\n",
       "      console.error(\"failed to load \" + url);\n",
       "    }\n",
       "\n",
       "    for (var i = 0; i < css_urls.length; i++) {\n",
       "      var url = css_urls[i];\n",
       "      const element = document.createElement(\"link\");\n",
       "      element.onload = on_load;\n",
       "      element.onerror = on_error;\n",
       "      element.rel = \"stylesheet\";\n",
       "      element.type = \"text/css\";\n",
       "      element.href = url;\n",
       "      console.debug(\"Bokeh: injecting link tag for BokehJS stylesheet: \", url);\n",
       "      document.body.appendChild(element);\n",
       "    }\n",
       "\n",
       "    const hashes = {\"https://cdn.bokeh.org/bokeh/release/bokeh-2.1.1.min.js\": \"kLr4fYcqcSpbuI95brIH3vnnYCquzzSxHPU6XGQCIkQRGJwhg0StNbj1eegrHs12\", \"https://cdn.bokeh.org/bokeh/release/bokeh-widgets-2.1.1.min.js\": \"xIGPmVtaOm+z0BqfSOMn4lOR6ciex448GIKG4eE61LsAvmGj48XcMQZtKcE/UXZe\", \"https://cdn.bokeh.org/bokeh/release/bokeh-tables-2.1.1.min.js\": \"Dc9u1wF/0zApGIWoBbH77iWEHtdmkuYWG839Uzmv8y8yBLXebjO9ZnERsde5Ln/P\", \"https://cdn.bokeh.org/bokeh/release/bokeh-gl-2.1.1.min.js\": \"cT9JaBz7GiRXdENrJLZNSC6eMNF3nh3fa5fTF51Svp+ukxPdwcU5kGXGPBgDCa2j\"};\n",
       "\n",
       "    for (var i = 0; i < js_urls.length; i++) {\n",
       "      var url = js_urls[i];\n",
       "      var element = document.createElement('script');\n",
       "      element.onload = on_load;\n",
       "      element.onerror = on_error;\n",
       "      element.async = false;\n",
       "      element.src = url;\n",
       "      if (url in hashes) {\n",
       "        element.crossOrigin = \"anonymous\";\n",
       "        element.integrity = \"sha384-\" + hashes[url];\n",
       "      }\n",
       "      console.debug(\"Bokeh: injecting script tag for BokehJS library: \", url);\n",
       "      document.head.appendChild(element);\n",
       "    }\n",
       "  };\n",
       "\n",
       "  function inject_raw_css(css) {\n",
       "    const element = document.createElement(\"style\");\n",
       "    element.appendChild(document.createTextNode(css));\n",
       "    document.body.appendChild(element);\n",
       "  }\n",
       "\n",
       "  \n",
       "  var js_urls = [\"https://cdn.bokeh.org/bokeh/release/bokeh-2.1.1.min.js\", \"https://cdn.bokeh.org/bokeh/release/bokeh-widgets-2.1.1.min.js\", \"https://cdn.bokeh.org/bokeh/release/bokeh-tables-2.1.1.min.js\", \"https://cdn.bokeh.org/bokeh/release/bokeh-gl-2.1.1.min.js\", \"https://unpkg.com/@holoviz/panel@^0.9.5/dist/panel.min.js\"];\n",
       "  var css_urls = [];\n",
       "  \n",
       "\n",
       "  var inline_js = [\n",
       "    function(Bokeh) {\n",
       "      inject_raw_css(\"table.panel-df {\\n    margin-left: auto;\\n    margin-right: auto;\\n    border: none;\\n    border-collapse: collapse;\\n    border-spacing: 0;\\n    color: black;\\n    font-size: 12px;\\n    table-layout: fixed;\\n    width: 100%;\\n}\\n\\n.panel-df tr, th, td {\\n    text-align: right;\\n    vertical-align: middle;\\n    padding: 0.5em 0.5em !important;\\n    line-height: normal;\\n    white-space: normal;\\n    max-width: none;\\n    border: none;\\n}\\n\\n.panel-df tbody {\\n    display: table-row-group;\\n    vertical-align: middle;\\n    border-color: inherit;\\n}\\n\\n.panel-df tbody tr:nth-child(odd) {\\n    background: #f5f5f5;\\n}\\n\\n.panel-df thead {\\n    border-bottom: 1px solid black;\\n    vertical-align: bottom;\\n}\\n\\n.panel-df tr:hover {\\n    background: lightblue !important;\\n    cursor: pointer;\\n}\\n\");\n",
       "    },\n",
       "    function(Bokeh) {\n",
       "      inject_raw_css(\".codehilite .hll { background-color: #ffffcc }\\n.codehilite  { background: #f8f8f8; }\\n.codehilite .c { color: #408080; font-style: italic } /* Comment */\\n.codehilite .err { border: 1px solid #FF0000 } /* Error */\\n.codehilite .k { color: #008000; font-weight: bold } /* Keyword */\\n.codehilite .o { color: #666666 } /* Operator */\\n.codehilite .ch { color: #408080; font-style: italic } /* Comment.Hashbang */\\n.codehilite .cm { color: #408080; font-style: italic } /* Comment.Multiline */\\n.codehilite .cp { color: #BC7A00 } /* Comment.Preproc */\\n.codehilite .cpf { color: #408080; font-style: italic } /* Comment.PreprocFile */\\n.codehilite .c1 { color: #408080; font-style: italic } /* Comment.Single */\\n.codehilite .cs { color: #408080; font-style: italic } /* Comment.Special */\\n.codehilite .gd { color: #A00000 } /* Generic.Deleted */\\n.codehilite .ge { font-style: italic } /* Generic.Emph */\\n.codehilite .gr { color: #FF0000 } /* Generic.Error */\\n.codehilite .gh { color: #000080; font-weight: bold } /* Generic.Heading */\\n.codehilite .gi { color: #00A000 } /* Generic.Inserted */\\n.codehilite .go { color: #888888 } /* Generic.Output */\\n.codehilite .gp { color: #000080; font-weight: bold } /* Generic.Prompt */\\n.codehilite .gs { font-weight: bold } /* Generic.Strong */\\n.codehilite .gu { color: #800080; font-weight: bold } /* Generic.Subheading */\\n.codehilite .gt { color: #0044DD } /* Generic.Traceback */\\n.codehilite .kc { color: #008000; font-weight: bold } /* Keyword.Constant */\\n.codehilite .kd { color: #008000; font-weight: bold } /* Keyword.Declaration */\\n.codehilite .kn { color: #008000; font-weight: bold } /* Keyword.Namespace */\\n.codehilite .kp { color: #008000 } /* Keyword.Pseudo */\\n.codehilite .kr { color: #008000; font-weight: bold } /* Keyword.Reserved */\\n.codehilite .kt { color: #B00040 } /* Keyword.Type */\\n.codehilite .m { color: #666666 } /* Literal.Number */\\n.codehilite .s { color: #BA2121 } /* Literal.String */\\n.codehilite .na { color: #7D9029 } /* Name.Attribute */\\n.codehilite .nb { color: #008000 } /* Name.Builtin */\\n.codehilite .nc { color: #0000FF; font-weight: bold } /* Name.Class */\\n.codehilite .no { color: #880000 } /* Name.Constant */\\n.codehilite .nd { color: #AA22FF } /* Name.Decorator */\\n.codehilite .ni { color: #999999; font-weight: bold } /* Name.Entity */\\n.codehilite .ne { color: #D2413A; font-weight: bold } /* Name.Exception */\\n.codehilite .nf { color: #0000FF } /* Name.Function */\\n.codehilite .nl { color: #A0A000 } /* Name.Label */\\n.codehilite .nn { color: #0000FF; font-weight: bold } /* Name.Namespace */\\n.codehilite .nt { color: #008000; font-weight: bold } /* Name.Tag */\\n.codehilite .nv { color: #19177C } /* Name.Variable */\\n.codehilite .ow { color: #AA22FF; font-weight: bold } /* Operator.Word */\\n.codehilite .w { color: #bbbbbb } /* Text.Whitespace */\\n.codehilite .mb { color: #666666 } /* Literal.Number.Bin */\\n.codehilite .mf { color: #666666 } /* Literal.Number.Float */\\n.codehilite .mh { color: #666666 } /* Literal.Number.Hex */\\n.codehilite .mi { color: #666666 } /* Literal.Number.Integer */\\n.codehilite .mo { color: #666666 } /* Literal.Number.Oct */\\n.codehilite .sa { color: #BA2121 } /* Literal.String.Affix */\\n.codehilite .sb { color: #BA2121 } /* Literal.String.Backtick */\\n.codehilite .sc { color: #BA2121 } /* Literal.String.Char */\\n.codehilite .dl { color: #BA2121 } /* Literal.String.Delimiter */\\n.codehilite .sd { color: #BA2121; font-style: italic } /* Literal.String.Doc */\\n.codehilite .s2 { color: #BA2121 } /* Literal.String.Double */\\n.codehilite .se { color: #BB6622; font-weight: bold } /* Literal.String.Escape */\\n.codehilite .sh { color: #BA2121 } /* Literal.String.Heredoc */\\n.codehilite .si { color: #BB6688; font-weight: bold } /* Literal.String.Interpol */\\n.codehilite .sx { color: #008000 } /* Literal.String.Other */\\n.codehilite .sr { color: #BB6688 } /* Literal.String.Regex */\\n.codehilite .s1 { color: #BA2121 } /* Literal.String.Single */\\n.codehilite .ss { color: #19177C } /* Literal.String.Symbol */\\n.codehilite .bp { color: #008000 } /* Name.Builtin.Pseudo */\\n.codehilite .fm { color: #0000FF } /* Name.Function.Magic */\\n.codehilite .vc { color: #19177C } /* Name.Variable.Class */\\n.codehilite .vg { color: #19177C } /* Name.Variable.Global */\\n.codehilite .vi { color: #19177C } /* Name.Variable.Instance */\\n.codehilite .vm { color: #19177C } /* Name.Variable.Magic */\\n.codehilite .il { color: #666666 } /* Literal.Number.Integer.Long */\\n\\n.markdown h1 { margin-block-start: 0.34em }\\n.markdown h2 { margin-block-start: 0.42em }\\n.markdown h3 { margin-block-start: 0.5em }\\n.markdown h4 { margin-block-start: 0.67em }\\n.markdown h5 { margin-block-start: 0.84em }\\n.markdown h6 { margin-block-start: 1.17em }\\n.markdown ul { padding-inline-start: 2em }\\n.markdown ol { padding-inline-start: 2em }\\n.markdown strong { font-weight: 600 }\\n.markdown a { color: -webkit-link }\\n.markdown a { color: -moz-hyperlinkText }\\n\");\n",
       "    },\n",
       "    function(Bokeh) {\n",
       "      inject_raw_css(\".widget-box {\\n\\tmin-height: 20px;\\n\\tbackground-color: #f5f5f5;\\n\\tborder: 1px solid #e3e3e3 !important;\\n\\tborder-radius: 4px;\\n\\t-webkit-box-shadow: inset 0 1px 1px rgba(0,0,0,.05);\\n\\tbox-shadow: inset 0 1px 1px rgba(0,0,0,.05);\\n\\toverflow-x: hidden;\\n\\toverflow-y: hidden;\\n}\\n\\n.scrollable {\\n  overflow: scroll;\\n}\\n\\nprogress {\\n\\tappearance: none;\\n\\t-moz-appearance: none;\\n\\t-webkit-appearance: none;\\n\\n\\tborder: none;\\n\\theight: 20px;\\n\\tbackground-color: whiteSmoke;\\n\\tborder-radius: 3px;\\n\\tbox-shadow: 0 2px 3px rgba(0,0,0,.5) inset;\\n\\tcolor: royalblue;\\n\\tposition: relative;\\n\\tmargin: 0 0 1.5em;\\n}\\n\\nprogress[value]::-webkit-progress-bar {\\n\\tbackground-color: whiteSmoke;\\n\\tborder-radius: 3px;\\n\\tbox-shadow: 0 2px 3px rgba(0,0,0,.5) inset;\\n}\\n\\nprogress[value]::-webkit-progress-value {\\n\\tposition: relative;\\n\\n\\tbackground-size: 35px 20px, 100% 100%, 100% 100%;\\n\\tborder-radius:3px;\\n}\\n\\nprogress.active:not([value])::before {\\n\\tbackground-position: 10%;\\n\\tanimation-name: stripes;\\n\\tanimation-duration: 3s;\\n\\tanimation-timing-function: linear;\\n\\tanimation-iteration-count: infinite;\\n}\\n\\nprogress[value]::-moz-progress-bar {\\n\\tbackground-size: 35px 20px, 100% 100%, 100% 100%;\\n\\tborder-radius:3px;\\n}\\n\\nprogress:not([value])::-moz-progress-bar {\\n\\tborder-radius:3px;\\n\\tbackground:\\n\\tlinear-gradient(-45deg, transparent 33%, rgba(0, 0, 0, 0.2) 33%, rgba(0, 0, 0, 0.2) 66%, transparent 66%) left/2.5em 1.5em;\\n\\n}\\n\\nprogress.active:not([value])::-moz-progress-bar {\\n\\tbackground-position: 10%;\\n\\tanimation-name: stripes;\\n\\tanimation-duration: 3s;\\n\\tanimation-timing-function: linear;\\n\\tanimation-iteration-count: infinite;\\n}\\n\\nprogress.active:not([value])::-webkit-progress-bar {\\n\\tbackground-position: 10%;\\n\\tanimation-name: stripes;\\n\\tanimation-duration: 3s;\\n\\tanimation-timing-function: linear;\\n\\tanimation-iteration-count: infinite;\\n}\\n\\nprogress.primary[value]::-webkit-progress-value { background-color: #007bff; }\\nprogress.primary:not([value])::before { background-color: #007bff; }\\nprogress.primary:not([value])::-webkit-progress-bar { background-color: #007bff; }\\nprogress.primary::-moz-progress-bar { background-color: #007bff; }\\n\\nprogress.secondary[value]::-webkit-progress-value { background-color: #6c757d; }\\nprogress.secondary:not([value])::before { background-color: #6c757d; }\\nprogress.secondary:not([value])::-webkit-progress-bar { background-color: #6c757d; }\\nprogress.secondary::-moz-progress-bar { background-color: #6c757d; }\\n\\nprogress.success[value]::-webkit-progress-value { background-color: #28a745; }\\nprogress.success:not([value])::before { background-color: #28a745; }\\nprogress.success:not([value])::-webkit-progress-bar { background-color: #28a745; }\\nprogress.success::-moz-progress-bar { background-color: #28a745; }\\n\\nprogress.danger[value]::-webkit-progress-value { background-color: #dc3545; }\\nprogress.danger:not([value])::before { background-color: #dc3545; }\\nprogress.danger:not([value])::-webkit-progress-bar { background-color: #dc3545; }\\nprogress.danger::-moz-progress-bar { background-color: #dc3545; }\\n\\nprogress.warning[value]::-webkit-progress-value { background-color: #ffc107; }\\nprogress.warning:not([value])::before { background-color: #ffc107; }\\nprogress.warning:not([value])::-webkit-progress-bar { background-color: #ffc107; }\\nprogress.warning::-moz-progress-bar { background-color: #ffc107; }\\n\\nprogress.info[value]::-webkit-progress-value { background-color: #17a2b8; }\\nprogress.info:not([value])::before { background-color: #17a2b8; }\\nprogress.info:not([value])::-webkit-progress-bar { background-color: #17a2b8; }\\nprogress.info::-moz-progress-bar { background-color: #17a2b8; }\\n\\nprogress.light[value]::-webkit-progress-value { background-color: #f8f9fa; }\\nprogress.light:not([value])::before { background-color: #f8f9fa; }\\nprogress.light:not([value])::-webkit-progress-bar { background-color: #f8f9fa; }\\nprogress.light::-moz-progress-bar { background-color: #f8f9fa; }\\n\\nprogress.dark[value]::-webkit-progress-value { background-color: #343a40; }\\nprogress.dark:not([value])::-webkit-progress-bar { background-color: #343a40; }\\nprogress.dark:not([value])::before { background-color: #343a40; }\\nprogress.dark::-moz-progress-bar { background-color: #343a40; }\\n\\nprogress:not([value])::-webkit-progress-bar {\\n\\tborder-radius: 3px;\\n\\tbackground:\\n\\tlinear-gradient(-45deg, transparent 33%, rgba(0, 0, 0, 0.2) 33%, rgba(0, 0, 0, 0.2) 66%, transparent 66%) left/2.5em 1.5em;\\n}\\nprogress:not([value])::before {\\n\\tcontent:\\\" \\\";\\n\\tposition:absolute;\\n\\theight: 20px;\\n\\ttop:0;\\n\\tleft:0;\\n\\tright:0;\\n\\tbottom:0;\\n\\tborder-radius: 3px;\\n\\tbackground:\\n\\tlinear-gradient(-45deg, transparent 33%, rgba(0, 0, 0, 0.2) 33%, rgba(0, 0, 0, 0.2) 66%, transparent 66%) left/2.5em 1.5em;\\n}\\n\\n@keyframes stripes {\\n  from {background-position: 0%}\\n  to {background-position: 100%}\\n}\");\n",
       "    },\n",
       "    function(Bokeh) {\n",
       "      inject_raw_css(\".json-formatter-row {\\n  font-family: monospace;\\n}\\n.json-formatter-row,\\n.json-formatter-row a,\\n.json-formatter-row a:hover {\\n  color: black;\\n  text-decoration: none;\\n}\\n.json-formatter-row .json-formatter-row {\\n  margin-left: 1rem;\\n}\\n.json-formatter-row .json-formatter-children.json-formatter-empty {\\n  opacity: 0.5;\\n  margin-left: 1rem;\\n}\\n.json-formatter-row .json-formatter-children.json-formatter-empty:after {\\n  display: none;\\n}\\n.json-formatter-row .json-formatter-children.json-formatter-empty.json-formatter-object:after {\\n  content: \\\"No properties\\\";\\n}\\n.json-formatter-row .json-formatter-children.json-formatter-empty.json-formatter-array:after {\\n  content: \\\"[]\\\";\\n}\\n.json-formatter-row .json-formatter-string,\\n.json-formatter-row .json-formatter-stringifiable {\\n  color: green;\\n  white-space: pre;\\n  word-wrap: break-word;\\n}\\n.json-formatter-row .json-formatter-number {\\n  color: blue;\\n}\\n.json-formatter-row .json-formatter-boolean {\\n  color: red;\\n}\\n.json-formatter-row .json-formatter-null {\\n  color: #855A00;\\n}\\n.json-formatter-row .json-formatter-undefined {\\n  color: #ca0b69;\\n}\\n.json-formatter-row .json-formatter-function {\\n  color: #FF20ED;\\n}\\n.json-formatter-row .json-formatter-date {\\n  background-color: rgba(0, 0, 0, 0.05);\\n}\\n.json-formatter-row .json-formatter-url {\\n  text-decoration: underline;\\n  color: blue;\\n  cursor: pointer;\\n}\\n.json-formatter-row .json-formatter-bracket {\\n  color: blue;\\n}\\n.json-formatter-row .json-formatter-key {\\n  color: #00008B;\\n  padding-right: 0.2rem;\\n}\\n.json-formatter-row .json-formatter-toggler-link {\\n  cursor: pointer;\\n}\\n.json-formatter-row .json-formatter-toggler {\\n  line-height: 1.2rem;\\n  font-size: 0.7rem;\\n  vertical-align: middle;\\n  opacity: 0.6;\\n  cursor: pointer;\\n  padding-right: 0.2rem;\\n}\\n.json-formatter-row .json-formatter-toggler:after {\\n  display: inline-block;\\n  transition: transform 100ms ease-in;\\n  content: \\\"\\\\25BA\\\";\\n}\\n.json-formatter-row > a > .json-formatter-preview-text {\\n  opacity: 0;\\n  transition: opacity 0.15s ease-in;\\n  font-style: italic;\\n}\\n.json-formatter-row:hover > a > .json-formatter-preview-text {\\n  opacity: 0.6;\\n}\\n.json-formatter-row.json-formatter-open > .json-formatter-toggler-link .json-formatter-toggler:after {\\n  transform: rotate(90deg);\\n}\\n.json-formatter-row.json-formatter-open > .json-formatter-children:after {\\n  display: inline-block;\\n}\\n.json-formatter-row.json-formatter-open > a > .json-formatter-preview-text {\\n  display: none;\\n}\\n.json-formatter-row.json-formatter-open.json-formatter-empty:after {\\n  display: block;\\n}\\n.json-formatter-dark.json-formatter-row {\\n  font-family: monospace;\\n}\\n.json-formatter-dark.json-formatter-row,\\n.json-formatter-dark.json-formatter-row a,\\n.json-formatter-dark.json-formatter-row a:hover {\\n  color: white;\\n  text-decoration: none;\\n}\\n.json-formatter-dark.json-formatter-row .json-formatter-row {\\n  margin-left: 1rem;\\n}\\n.json-formatter-dark.json-formatter-row .json-formatter-children.json-formatter-empty {\\n  opacity: 0.5;\\n  margin-left: 1rem;\\n}\\n.json-formatter-dark.json-formatter-row .json-formatter-children.json-formatter-empty:after {\\n  display: none;\\n}\\n.json-formatter-dark.json-formatter-row .json-formatter-children.json-formatter-empty.json-formatter-object:after {\\n  content: \\\"No properties\\\";\\n}\\n.json-formatter-dark.json-formatter-row .json-formatter-children.json-formatter-empty.json-formatter-array:after {\\n  content: \\\"[]\\\";\\n}\\n.json-formatter-dark.json-formatter-row .json-formatter-string,\\n.json-formatter-dark.json-formatter-row .json-formatter-stringifiable {\\n  color: #31F031;\\n  white-space: pre;\\n  word-wrap: break-word;\\n}\\n.json-formatter-dark.json-formatter-row .json-formatter-number {\\n  color: #66C2FF;\\n}\\n.json-formatter-dark.json-formatter-row .json-formatter-boolean {\\n  color: #EC4242;\\n}\\n.json-formatter-dark.json-formatter-row .json-formatter-null {\\n  color: #EEC97D;\\n}\\n.json-formatter-dark.json-formatter-row .json-formatter-undefined {\\n  color: #ef8fbe;\\n}\\n.json-formatter-dark.json-formatter-row .json-formatter-function {\\n  color: #FD48CB;\\n}\\n.json-formatter-dark.json-formatter-row .json-formatter-date {\\n  background-color: rgba(255, 255, 255, 0.05);\\n}\\n.json-formatter-dark.json-formatter-row .json-formatter-url {\\n  text-decoration: underline;\\n  color: #027BFF;\\n  cursor: pointer;\\n}\\n.json-formatter-dark.json-formatter-row .json-formatter-bracket {\\n  color: #9494FF;\\n}\\n.json-formatter-dark.json-formatter-row .json-formatter-key {\\n  color: #23A0DB;\\n  padding-right: 0.2rem;\\n}\\n.json-formatter-dark.json-formatter-row .json-formatter-toggler-link {\\n  cursor: pointer;\\n}\\n.json-formatter-dark.json-formatter-row .json-formatter-toggler {\\n  line-height: 1.2rem;\\n  font-size: 0.7rem;\\n  vertical-align: middle;\\n  opacity: 0.6;\\n  cursor: pointer;\\n  padding-right: 0.2rem;\\n}\\n.json-formatter-dark.json-formatter-row .json-formatter-toggler:after {\\n  display: inline-block;\\n  transition: transform 100ms ease-in;\\n  content: \\\"\\\\25BA\\\";\\n}\\n.json-formatter-dark.json-formatter-row > a > .json-formatter-preview-text {\\n  opacity: 0;\\n  transition: opacity 0.15s ease-in;\\n  font-style: italic;\\n}\\n.json-formatter-dark.json-formatter-row:hover > a > .json-formatter-preview-text {\\n  opacity: 0.6;\\n}\\n.json-formatter-dark.json-formatter-row.json-formatter-open > .json-formatter-toggler-link .json-formatter-toggler:after {\\n  transform: rotate(90deg);\\n}\\n.json-formatter-dark.json-formatter-row.json-formatter-open > .json-formatter-children:after {\\n  display: inline-block;\\n}\\n.json-formatter-dark.json-formatter-row.json-formatter-open > a > .json-formatter-preview-text {\\n  display: none;\\n}\\n.json-formatter-dark.json-formatter-row.json-formatter-open.json-formatter-empty:after {\\n  display: block;\\n}\\n\");\n",
       "    },\n",
       "    function(Bokeh) {\n",
       "      Bokeh.set_log_level(\"info\");\n",
       "    },\n",
       "    function(Bokeh) {\n",
       "    \n",
       "    \n",
       "    }\n",
       "  ];\n",
       "\n",
       "  function run_inline_js() {\n",
       "    \n",
       "    if (root.Bokeh !== undefined || force === true) {\n",
       "      \n",
       "    for (var i = 0; i < inline_js.length; i++) {\n",
       "      inline_js[i].call(root, root.Bokeh);\n",
       "    }\n",
       "    if (force === true) {\n",
       "        display_loaded();\n",
       "      }} else if (Date.now() < root._bokeh_timeout) {\n",
       "      setTimeout(run_inline_js, 100);\n",
       "    } else if (!root._bokeh_failed_load) {\n",
       "      console.log(\"Bokeh: BokehJS failed to load within specified timeout.\");\n",
       "      root._bokeh_failed_load = true;\n",
       "    } else if (force !== true) {\n",
       "      var cell = $(document.getElementById(\"1001\")).parents('.cell').data().cell;\n",
       "      cell.output_area.append_execute_result(NB_LOAD_WARNING)\n",
       "    }\n",
       "\n",
       "  }\n",
       "\n",
       "  if (root._bokeh_is_loading === 0) {\n",
       "    console.debug(\"Bokeh: BokehJS loaded, going straight to plotting\");\n",
       "    run_inline_js();\n",
       "  } else {\n",
       "    load_libs(css_urls, js_urls, function() {\n",
       "      console.debug(\"Bokeh: BokehJS plotting callback run at\", now());\n",
       "      run_inline_js();\n",
       "    });\n",
       "  }\n",
       "}(window));"
      ],
      "application/vnd.bokehjs_load.v0+json": "\n(function(root) {\n  function now() {\n    return new Date();\n  }\n\n  var force = true;\n\n  if (typeof root._bokeh_onload_callbacks === \"undefined\" || force === true) {\n    root._bokeh_onload_callbacks = [];\n    root._bokeh_is_loading = undefined;\n  }\n\n  \n\n  \n  if (typeof (root._bokeh_timeout) === \"undefined\" || force === true) {\n    root._bokeh_timeout = Date.now() + 5000;\n    root._bokeh_failed_load = false;\n  }\n\n  var NB_LOAD_WARNING = {'data': {'text/html':\n     \"<div style='background-color: #fdd'>\\n\"+\n     \"<p>\\n\"+\n     \"BokehJS does not appear to have successfully loaded. If loading BokehJS from CDN, this \\n\"+\n     \"may be due to a slow or bad network connection. Possible fixes:\\n\"+\n     \"</p>\\n\"+\n     \"<ul>\\n\"+\n     \"<li>re-rerun `output_notebook()` to attempt to load from CDN again, or</li>\\n\"+\n     \"<li>use INLINE resources instead, as so:</li>\\n\"+\n     \"</ul>\\n\"+\n     \"<code>\\n\"+\n     \"from bokeh.resources import INLINE\\n\"+\n     \"output_notebook(resources=INLINE)\\n\"+\n     \"</code>\\n\"+\n     \"</div>\"}};\n\n  function display_loaded() {\n    var el = document.getElementById(\"1001\");\n    if (el != null) {\n      el.textContent = \"BokehJS is loading...\";\n    }\n    if (root.Bokeh !== undefined) {\n      if (el != null) {\n        el.textContent = \"BokehJS \" + root.Bokeh.version + \" successfully loaded.\";\n      }\n    } else if (Date.now() < root._bokeh_timeout) {\n      setTimeout(display_loaded, 100)\n    }\n  }\n\n\n  function run_callbacks() {\n    try {\n      root._bokeh_onload_callbacks.forEach(function(callback) {\n        if (callback != null)\n          callback();\n      });\n    } finally {\n      delete root._bokeh_onload_callbacks\n    }\n    console.debug(\"Bokeh: all callbacks have finished\");\n  }\n\n  function load_libs(css_urls, js_urls, callback) {\n    if (css_urls == null) css_urls = [];\n    if (js_urls == null) js_urls = [];\n\n    root._bokeh_onload_callbacks.push(callback);\n    if (root._bokeh_is_loading > 0) {\n      console.debug(\"Bokeh: BokehJS is being loaded, scheduling callback at\", now());\n      return null;\n    }\n    if (js_urls == null || js_urls.length === 0) {\n      run_callbacks();\n      return null;\n    }\n    console.debug(\"Bokeh: BokehJS not loaded, scheduling load and callback at\", now());\n    root._bokeh_is_loading = css_urls.length + js_urls.length;\n\n    function on_load() {\n      root._bokeh_is_loading--;\n      if (root._bokeh_is_loading === 0) {\n        console.debug(\"Bokeh: all BokehJS libraries/stylesheets loaded\");\n        run_callbacks()\n      }\n    }\n\n    function on_error() {\n      console.error(\"failed to load \" + url);\n    }\n\n    for (var i = 0; i < css_urls.length; i++) {\n      var url = css_urls[i];\n      const element = document.createElement(\"link\");\n      element.onload = on_load;\n      element.onerror = on_error;\n      element.rel = \"stylesheet\";\n      element.type = \"text/css\";\n      element.href = url;\n      console.debug(\"Bokeh: injecting link tag for BokehJS stylesheet: \", url);\n      document.body.appendChild(element);\n    }\n\n    const hashes = {\"https://cdn.bokeh.org/bokeh/release/bokeh-2.1.1.min.js\": \"kLr4fYcqcSpbuI95brIH3vnnYCquzzSxHPU6XGQCIkQRGJwhg0StNbj1eegrHs12\", \"https://cdn.bokeh.org/bokeh/release/bokeh-widgets-2.1.1.min.js\": \"xIGPmVtaOm+z0BqfSOMn4lOR6ciex448GIKG4eE61LsAvmGj48XcMQZtKcE/UXZe\", \"https://cdn.bokeh.org/bokeh/release/bokeh-tables-2.1.1.min.js\": \"Dc9u1wF/0zApGIWoBbH77iWEHtdmkuYWG839Uzmv8y8yBLXebjO9ZnERsde5Ln/P\", \"https://cdn.bokeh.org/bokeh/release/bokeh-gl-2.1.1.min.js\": \"cT9JaBz7GiRXdENrJLZNSC6eMNF3nh3fa5fTF51Svp+ukxPdwcU5kGXGPBgDCa2j\"};\n\n    for (var i = 0; i < js_urls.length; i++) {\n      var url = js_urls[i];\n      var element = document.createElement('script');\n      element.onload = on_load;\n      element.onerror = on_error;\n      element.async = false;\n      element.src = url;\n      if (url in hashes) {\n        element.crossOrigin = \"anonymous\";\n        element.integrity = \"sha384-\" + hashes[url];\n      }\n      console.debug(\"Bokeh: injecting script tag for BokehJS library: \", url);\n      document.head.appendChild(element);\n    }\n  };\n\n  function inject_raw_css(css) {\n    const element = document.createElement(\"style\");\n    element.appendChild(document.createTextNode(css));\n    document.body.appendChild(element);\n  }\n\n  \n  var js_urls = [\"https://cdn.bokeh.org/bokeh/release/bokeh-2.1.1.min.js\", \"https://cdn.bokeh.org/bokeh/release/bokeh-widgets-2.1.1.min.js\", \"https://cdn.bokeh.org/bokeh/release/bokeh-tables-2.1.1.min.js\", \"https://cdn.bokeh.org/bokeh/release/bokeh-gl-2.1.1.min.js\", \"https://unpkg.com/@holoviz/panel@^0.9.5/dist/panel.min.js\"];\n  var css_urls = [];\n  \n\n  var inline_js = [\n    function(Bokeh) {\n      inject_raw_css(\"table.panel-df {\\n    margin-left: auto;\\n    margin-right: auto;\\n    border: none;\\n    border-collapse: collapse;\\n    border-spacing: 0;\\n    color: black;\\n    font-size: 12px;\\n    table-layout: fixed;\\n    width: 100%;\\n}\\n\\n.panel-df tr, th, td {\\n    text-align: right;\\n    vertical-align: middle;\\n    padding: 0.5em 0.5em !important;\\n    line-height: normal;\\n    white-space: normal;\\n    max-width: none;\\n    border: none;\\n}\\n\\n.panel-df tbody {\\n    display: table-row-group;\\n    vertical-align: middle;\\n    border-color: inherit;\\n}\\n\\n.panel-df tbody tr:nth-child(odd) {\\n    background: #f5f5f5;\\n}\\n\\n.panel-df thead {\\n    border-bottom: 1px solid black;\\n    vertical-align: bottom;\\n}\\n\\n.panel-df tr:hover {\\n    background: lightblue !important;\\n    cursor: pointer;\\n}\\n\");\n    },\n    function(Bokeh) {\n      inject_raw_css(\".codehilite .hll { background-color: #ffffcc }\\n.codehilite  { background: #f8f8f8; }\\n.codehilite .c { color: #408080; font-style: italic } /* Comment */\\n.codehilite .err { border: 1px solid #FF0000 } /* Error */\\n.codehilite .k { color: #008000; font-weight: bold } /* Keyword */\\n.codehilite .o { color: #666666 } /* Operator */\\n.codehilite .ch { color: #408080; font-style: italic } /* Comment.Hashbang */\\n.codehilite .cm { color: #408080; font-style: italic } /* Comment.Multiline */\\n.codehilite .cp { color: #BC7A00 } /* Comment.Preproc */\\n.codehilite .cpf { color: #408080; font-style: italic } /* Comment.PreprocFile */\\n.codehilite .c1 { color: #408080; font-style: italic } /* Comment.Single */\\n.codehilite .cs { color: #408080; font-style: italic } /* Comment.Special */\\n.codehilite .gd { color: #A00000 } /* Generic.Deleted */\\n.codehilite .ge { font-style: italic } /* Generic.Emph */\\n.codehilite .gr { color: #FF0000 } /* Generic.Error */\\n.codehilite .gh { color: #000080; font-weight: bold } /* Generic.Heading */\\n.codehilite .gi { color: #00A000 } /* Generic.Inserted */\\n.codehilite .go { color: #888888 } /* Generic.Output */\\n.codehilite .gp { color: #000080; font-weight: bold } /* Generic.Prompt */\\n.codehilite .gs { font-weight: bold } /* Generic.Strong */\\n.codehilite .gu { color: #800080; font-weight: bold } /* Generic.Subheading */\\n.codehilite .gt { color: #0044DD } /* Generic.Traceback */\\n.codehilite .kc { color: #008000; font-weight: bold } /* Keyword.Constant */\\n.codehilite .kd { color: #008000; font-weight: bold } /* Keyword.Declaration */\\n.codehilite .kn { color: #008000; font-weight: bold } /* Keyword.Namespace */\\n.codehilite .kp { color: #008000 } /* Keyword.Pseudo */\\n.codehilite .kr { color: #008000; font-weight: bold } /* Keyword.Reserved */\\n.codehilite .kt { color: #B00040 } /* Keyword.Type */\\n.codehilite .m { color: #666666 } /* Literal.Number */\\n.codehilite .s { color: #BA2121 } /* Literal.String */\\n.codehilite .na { color: #7D9029 } /* Name.Attribute */\\n.codehilite .nb { color: #008000 } /* Name.Builtin */\\n.codehilite .nc { color: #0000FF; font-weight: bold } /* Name.Class */\\n.codehilite .no { color: #880000 } /* Name.Constant */\\n.codehilite .nd { color: #AA22FF } /* Name.Decorator */\\n.codehilite .ni { color: #999999; font-weight: bold } /* Name.Entity */\\n.codehilite .ne { color: #D2413A; font-weight: bold } /* Name.Exception */\\n.codehilite .nf { color: #0000FF } /* Name.Function */\\n.codehilite .nl { color: #A0A000 } /* Name.Label */\\n.codehilite .nn { color: #0000FF; font-weight: bold } /* Name.Namespace */\\n.codehilite .nt { color: #008000; font-weight: bold } /* Name.Tag */\\n.codehilite .nv { color: #19177C } /* Name.Variable */\\n.codehilite .ow { color: #AA22FF; font-weight: bold } /* Operator.Word */\\n.codehilite .w { color: #bbbbbb } /* Text.Whitespace */\\n.codehilite .mb { color: #666666 } /* Literal.Number.Bin */\\n.codehilite .mf { color: #666666 } /* Literal.Number.Float */\\n.codehilite .mh { color: #666666 } /* Literal.Number.Hex */\\n.codehilite .mi { color: #666666 } /* Literal.Number.Integer */\\n.codehilite .mo { color: #666666 } /* Literal.Number.Oct */\\n.codehilite .sa { color: #BA2121 } /* Literal.String.Affix */\\n.codehilite .sb { color: #BA2121 } /* Literal.String.Backtick */\\n.codehilite .sc { color: #BA2121 } /* Literal.String.Char */\\n.codehilite .dl { color: #BA2121 } /* Literal.String.Delimiter */\\n.codehilite .sd { color: #BA2121; font-style: italic } /* Literal.String.Doc */\\n.codehilite .s2 { color: #BA2121 } /* Literal.String.Double */\\n.codehilite .se { color: #BB6622; font-weight: bold } /* Literal.String.Escape */\\n.codehilite .sh { color: #BA2121 } /* Literal.String.Heredoc */\\n.codehilite .si { color: #BB6688; font-weight: bold } /* Literal.String.Interpol */\\n.codehilite .sx { color: #008000 } /* Literal.String.Other */\\n.codehilite .sr { color: #BB6688 } /* Literal.String.Regex */\\n.codehilite .s1 { color: #BA2121 } /* Literal.String.Single */\\n.codehilite .ss { color: #19177C } /* Literal.String.Symbol */\\n.codehilite .bp { color: #008000 } /* Name.Builtin.Pseudo */\\n.codehilite .fm { color: #0000FF } /* Name.Function.Magic */\\n.codehilite .vc { color: #19177C } /* Name.Variable.Class */\\n.codehilite .vg { color: #19177C } /* Name.Variable.Global */\\n.codehilite .vi { color: #19177C } /* Name.Variable.Instance */\\n.codehilite .vm { color: #19177C } /* Name.Variable.Magic */\\n.codehilite .il { color: #666666 } /* Literal.Number.Integer.Long */\\n\\n.markdown h1 { margin-block-start: 0.34em }\\n.markdown h2 { margin-block-start: 0.42em }\\n.markdown h3 { margin-block-start: 0.5em }\\n.markdown h4 { margin-block-start: 0.67em }\\n.markdown h5 { margin-block-start: 0.84em }\\n.markdown h6 { margin-block-start: 1.17em }\\n.markdown ul { padding-inline-start: 2em }\\n.markdown ol { padding-inline-start: 2em }\\n.markdown strong { font-weight: 600 }\\n.markdown a { color: -webkit-link }\\n.markdown a { color: -moz-hyperlinkText }\\n\");\n    },\n    function(Bokeh) {\n      inject_raw_css(\".widget-box {\\n\\tmin-height: 20px;\\n\\tbackground-color: #f5f5f5;\\n\\tborder: 1px solid #e3e3e3 !important;\\n\\tborder-radius: 4px;\\n\\t-webkit-box-shadow: inset 0 1px 1px rgba(0,0,0,.05);\\n\\tbox-shadow: inset 0 1px 1px rgba(0,0,0,.05);\\n\\toverflow-x: hidden;\\n\\toverflow-y: hidden;\\n}\\n\\n.scrollable {\\n  overflow: scroll;\\n}\\n\\nprogress {\\n\\tappearance: none;\\n\\t-moz-appearance: none;\\n\\t-webkit-appearance: none;\\n\\n\\tborder: none;\\n\\theight: 20px;\\n\\tbackground-color: whiteSmoke;\\n\\tborder-radius: 3px;\\n\\tbox-shadow: 0 2px 3px rgba(0,0,0,.5) inset;\\n\\tcolor: royalblue;\\n\\tposition: relative;\\n\\tmargin: 0 0 1.5em;\\n}\\n\\nprogress[value]::-webkit-progress-bar {\\n\\tbackground-color: whiteSmoke;\\n\\tborder-radius: 3px;\\n\\tbox-shadow: 0 2px 3px rgba(0,0,0,.5) inset;\\n}\\n\\nprogress[value]::-webkit-progress-value {\\n\\tposition: relative;\\n\\n\\tbackground-size: 35px 20px, 100% 100%, 100% 100%;\\n\\tborder-radius:3px;\\n}\\n\\nprogress.active:not([value])::before {\\n\\tbackground-position: 10%;\\n\\tanimation-name: stripes;\\n\\tanimation-duration: 3s;\\n\\tanimation-timing-function: linear;\\n\\tanimation-iteration-count: infinite;\\n}\\n\\nprogress[value]::-moz-progress-bar {\\n\\tbackground-size: 35px 20px, 100% 100%, 100% 100%;\\n\\tborder-radius:3px;\\n}\\n\\nprogress:not([value])::-moz-progress-bar {\\n\\tborder-radius:3px;\\n\\tbackground:\\n\\tlinear-gradient(-45deg, transparent 33%, rgba(0, 0, 0, 0.2) 33%, rgba(0, 0, 0, 0.2) 66%, transparent 66%) left/2.5em 1.5em;\\n\\n}\\n\\nprogress.active:not([value])::-moz-progress-bar {\\n\\tbackground-position: 10%;\\n\\tanimation-name: stripes;\\n\\tanimation-duration: 3s;\\n\\tanimation-timing-function: linear;\\n\\tanimation-iteration-count: infinite;\\n}\\n\\nprogress.active:not([value])::-webkit-progress-bar {\\n\\tbackground-position: 10%;\\n\\tanimation-name: stripes;\\n\\tanimation-duration: 3s;\\n\\tanimation-timing-function: linear;\\n\\tanimation-iteration-count: infinite;\\n}\\n\\nprogress.primary[value]::-webkit-progress-value { background-color: #007bff; }\\nprogress.primary:not([value])::before { background-color: #007bff; }\\nprogress.primary:not([value])::-webkit-progress-bar { background-color: #007bff; }\\nprogress.primary::-moz-progress-bar { background-color: #007bff; }\\n\\nprogress.secondary[value]::-webkit-progress-value { background-color: #6c757d; }\\nprogress.secondary:not([value])::before { background-color: #6c757d; }\\nprogress.secondary:not([value])::-webkit-progress-bar { background-color: #6c757d; }\\nprogress.secondary::-moz-progress-bar { background-color: #6c757d; }\\n\\nprogress.success[value]::-webkit-progress-value { background-color: #28a745; }\\nprogress.success:not([value])::before { background-color: #28a745; }\\nprogress.success:not([value])::-webkit-progress-bar { background-color: #28a745; }\\nprogress.success::-moz-progress-bar { background-color: #28a745; }\\n\\nprogress.danger[value]::-webkit-progress-value { background-color: #dc3545; }\\nprogress.danger:not([value])::before { background-color: #dc3545; }\\nprogress.danger:not([value])::-webkit-progress-bar { background-color: #dc3545; }\\nprogress.danger::-moz-progress-bar { background-color: #dc3545; }\\n\\nprogress.warning[value]::-webkit-progress-value { background-color: #ffc107; }\\nprogress.warning:not([value])::before { background-color: #ffc107; }\\nprogress.warning:not([value])::-webkit-progress-bar { background-color: #ffc107; }\\nprogress.warning::-moz-progress-bar { background-color: #ffc107; }\\n\\nprogress.info[value]::-webkit-progress-value { background-color: #17a2b8; }\\nprogress.info:not([value])::before { background-color: #17a2b8; }\\nprogress.info:not([value])::-webkit-progress-bar { background-color: #17a2b8; }\\nprogress.info::-moz-progress-bar { background-color: #17a2b8; }\\n\\nprogress.light[value]::-webkit-progress-value { background-color: #f8f9fa; }\\nprogress.light:not([value])::before { background-color: #f8f9fa; }\\nprogress.light:not([value])::-webkit-progress-bar { background-color: #f8f9fa; }\\nprogress.light::-moz-progress-bar { background-color: #f8f9fa; }\\n\\nprogress.dark[value]::-webkit-progress-value { background-color: #343a40; }\\nprogress.dark:not([value])::-webkit-progress-bar { background-color: #343a40; }\\nprogress.dark:not([value])::before { background-color: #343a40; }\\nprogress.dark::-moz-progress-bar { background-color: #343a40; }\\n\\nprogress:not([value])::-webkit-progress-bar {\\n\\tborder-radius: 3px;\\n\\tbackground:\\n\\tlinear-gradient(-45deg, transparent 33%, rgba(0, 0, 0, 0.2) 33%, rgba(0, 0, 0, 0.2) 66%, transparent 66%) left/2.5em 1.5em;\\n}\\nprogress:not([value])::before {\\n\\tcontent:\\\" \\\";\\n\\tposition:absolute;\\n\\theight: 20px;\\n\\ttop:0;\\n\\tleft:0;\\n\\tright:0;\\n\\tbottom:0;\\n\\tborder-radius: 3px;\\n\\tbackground:\\n\\tlinear-gradient(-45deg, transparent 33%, rgba(0, 0, 0, 0.2) 33%, rgba(0, 0, 0, 0.2) 66%, transparent 66%) left/2.5em 1.5em;\\n}\\n\\n@keyframes stripes {\\n  from {background-position: 0%}\\n  to {background-position: 100%}\\n}\");\n    },\n    function(Bokeh) {\n      inject_raw_css(\".json-formatter-row {\\n  font-family: monospace;\\n}\\n.json-formatter-row,\\n.json-formatter-row a,\\n.json-formatter-row a:hover {\\n  color: black;\\n  text-decoration: none;\\n}\\n.json-formatter-row .json-formatter-row {\\n  margin-left: 1rem;\\n}\\n.json-formatter-row .json-formatter-children.json-formatter-empty {\\n  opacity: 0.5;\\n  margin-left: 1rem;\\n}\\n.json-formatter-row .json-formatter-children.json-formatter-empty:after {\\n  display: none;\\n}\\n.json-formatter-row .json-formatter-children.json-formatter-empty.json-formatter-object:after {\\n  content: \\\"No properties\\\";\\n}\\n.json-formatter-row .json-formatter-children.json-formatter-empty.json-formatter-array:after {\\n  content: \\\"[]\\\";\\n}\\n.json-formatter-row .json-formatter-string,\\n.json-formatter-row .json-formatter-stringifiable {\\n  color: green;\\n  white-space: pre;\\n  word-wrap: break-word;\\n}\\n.json-formatter-row .json-formatter-number {\\n  color: blue;\\n}\\n.json-formatter-row .json-formatter-boolean {\\n  color: red;\\n}\\n.json-formatter-row .json-formatter-null {\\n  color: #855A00;\\n}\\n.json-formatter-row .json-formatter-undefined {\\n  color: #ca0b69;\\n}\\n.json-formatter-row .json-formatter-function {\\n  color: #FF20ED;\\n}\\n.json-formatter-row .json-formatter-date {\\n  background-color: rgba(0, 0, 0, 0.05);\\n}\\n.json-formatter-row .json-formatter-url {\\n  text-decoration: underline;\\n  color: blue;\\n  cursor: pointer;\\n}\\n.json-formatter-row .json-formatter-bracket {\\n  color: blue;\\n}\\n.json-formatter-row .json-formatter-key {\\n  color: #00008B;\\n  padding-right: 0.2rem;\\n}\\n.json-formatter-row .json-formatter-toggler-link {\\n  cursor: pointer;\\n}\\n.json-formatter-row .json-formatter-toggler {\\n  line-height: 1.2rem;\\n  font-size: 0.7rem;\\n  vertical-align: middle;\\n  opacity: 0.6;\\n  cursor: pointer;\\n  padding-right: 0.2rem;\\n}\\n.json-formatter-row .json-formatter-toggler:after {\\n  display: inline-block;\\n  transition: transform 100ms ease-in;\\n  content: \\\"\\\\25BA\\\";\\n}\\n.json-formatter-row > a > .json-formatter-preview-text {\\n  opacity: 0;\\n  transition: opacity 0.15s ease-in;\\n  font-style: italic;\\n}\\n.json-formatter-row:hover > a > .json-formatter-preview-text {\\n  opacity: 0.6;\\n}\\n.json-formatter-row.json-formatter-open > .json-formatter-toggler-link .json-formatter-toggler:after {\\n  transform: rotate(90deg);\\n}\\n.json-formatter-row.json-formatter-open > .json-formatter-children:after {\\n  display: inline-block;\\n}\\n.json-formatter-row.json-formatter-open > a > .json-formatter-preview-text {\\n  display: none;\\n}\\n.json-formatter-row.json-formatter-open.json-formatter-empty:after {\\n  display: block;\\n}\\n.json-formatter-dark.json-formatter-row {\\n  font-family: monospace;\\n}\\n.json-formatter-dark.json-formatter-row,\\n.json-formatter-dark.json-formatter-row a,\\n.json-formatter-dark.json-formatter-row a:hover {\\n  color: white;\\n  text-decoration: none;\\n}\\n.json-formatter-dark.json-formatter-row .json-formatter-row {\\n  margin-left: 1rem;\\n}\\n.json-formatter-dark.json-formatter-row .json-formatter-children.json-formatter-empty {\\n  opacity: 0.5;\\n  margin-left: 1rem;\\n}\\n.json-formatter-dark.json-formatter-row .json-formatter-children.json-formatter-empty:after {\\n  display: none;\\n}\\n.json-formatter-dark.json-formatter-row .json-formatter-children.json-formatter-empty.json-formatter-object:after {\\n  content: \\\"No properties\\\";\\n}\\n.json-formatter-dark.json-formatter-row .json-formatter-children.json-formatter-empty.json-formatter-array:after {\\n  content: \\\"[]\\\";\\n}\\n.json-formatter-dark.json-formatter-row .json-formatter-string,\\n.json-formatter-dark.json-formatter-row .json-formatter-stringifiable {\\n  color: #31F031;\\n  white-space: pre;\\n  word-wrap: break-word;\\n}\\n.json-formatter-dark.json-formatter-row .json-formatter-number {\\n  color: #66C2FF;\\n}\\n.json-formatter-dark.json-formatter-row .json-formatter-boolean {\\n  color: #EC4242;\\n}\\n.json-formatter-dark.json-formatter-row .json-formatter-null {\\n  color: #EEC97D;\\n}\\n.json-formatter-dark.json-formatter-row .json-formatter-undefined {\\n  color: #ef8fbe;\\n}\\n.json-formatter-dark.json-formatter-row .json-formatter-function {\\n  color: #FD48CB;\\n}\\n.json-formatter-dark.json-formatter-row .json-formatter-date {\\n  background-color: rgba(255, 255, 255, 0.05);\\n}\\n.json-formatter-dark.json-formatter-row .json-formatter-url {\\n  text-decoration: underline;\\n  color: #027BFF;\\n  cursor: pointer;\\n}\\n.json-formatter-dark.json-formatter-row .json-formatter-bracket {\\n  color: #9494FF;\\n}\\n.json-formatter-dark.json-formatter-row .json-formatter-key {\\n  color: #23A0DB;\\n  padding-right: 0.2rem;\\n}\\n.json-formatter-dark.json-formatter-row .json-formatter-toggler-link {\\n  cursor: pointer;\\n}\\n.json-formatter-dark.json-formatter-row .json-formatter-toggler {\\n  line-height: 1.2rem;\\n  font-size: 0.7rem;\\n  vertical-align: middle;\\n  opacity: 0.6;\\n  cursor: pointer;\\n  padding-right: 0.2rem;\\n}\\n.json-formatter-dark.json-formatter-row .json-formatter-toggler:after {\\n  display: inline-block;\\n  transition: transform 100ms ease-in;\\n  content: \\\"\\\\25BA\\\";\\n}\\n.json-formatter-dark.json-formatter-row > a > .json-formatter-preview-text {\\n  opacity: 0;\\n  transition: opacity 0.15s ease-in;\\n  font-style: italic;\\n}\\n.json-formatter-dark.json-formatter-row:hover > a > .json-formatter-preview-text {\\n  opacity: 0.6;\\n}\\n.json-formatter-dark.json-formatter-row.json-formatter-open > .json-formatter-toggler-link .json-formatter-toggler:after {\\n  transform: rotate(90deg);\\n}\\n.json-formatter-dark.json-formatter-row.json-formatter-open > .json-formatter-children:after {\\n  display: inline-block;\\n}\\n.json-formatter-dark.json-formatter-row.json-formatter-open > a > .json-formatter-preview-text {\\n  display: none;\\n}\\n.json-formatter-dark.json-formatter-row.json-formatter-open.json-formatter-empty:after {\\n  display: block;\\n}\\n\");\n    },\n    function(Bokeh) {\n      Bokeh.set_log_level(\"info\");\n    },\n    function(Bokeh) {\n    \n    \n    }\n  ];\n\n  function run_inline_js() {\n    \n    if (root.Bokeh !== undefined || force === true) {\n      \n    for (var i = 0; i < inline_js.length; i++) {\n      inline_js[i].call(root, root.Bokeh);\n    }\n    if (force === true) {\n        display_loaded();\n      }} else if (Date.now() < root._bokeh_timeout) {\n      setTimeout(run_inline_js, 100);\n    } else if (!root._bokeh_failed_load) {\n      console.log(\"Bokeh: BokehJS failed to load within specified timeout.\");\n      root._bokeh_failed_load = true;\n    } else if (force !== true) {\n      var cell = $(document.getElementById(\"1001\")).parents('.cell').data().cell;\n      cell.output_area.append_execute_result(NB_LOAD_WARNING)\n    }\n\n  }\n\n  if (root._bokeh_is_loading === 0) {\n    console.debug(\"Bokeh: BokehJS loaded, going straight to plotting\");\n    run_inline_js();\n  } else {\n    load_libs(css_urls, js_urls, function() {\n      console.debug(\"Bokeh: BokehJS plotting callback run at\", now());\n      run_inline_js();\n    });\n  }\n}(window));"
     },
     "metadata": {},
     "output_type": "display_data"
    }
   ],
   "source": [
    "#hide\n",
    "output_notebook()\n",
    "\n",
    "def plot_emb_app(doc):\n",
    "    # CONSTANTS\n",
    "    l = len(samp) \n",
    "    \n",
    "    lang1, lang2, label_col = 'en', 'ga', 'noise_type'\n",
    "    plot_width,plot_height = 525,525\n",
    "    \n",
    "    # DATA\n",
    "    data = pd.DataFrame(samp_mapper.embedding_[:l], columns=(\"x\", \"y\"))\n",
    "    df = samp[[lang1,lang2,'main_index', label_col]].iloc[:l,:]\n",
    "    hover_data = df[[lang1,lang2,label_col,'main_index']]\n",
    "    data[label_col] = df[label_col]\n",
    "    \n",
    "    # SET LABELS\n",
    "    labels = samp[label_col]\n",
    "     \n",
    "    # TOOLTIP\n",
    "    tooltip_dict = {}\n",
    "    for col_name in hover_data:\n",
    "        data[col_name] = hover_data[col_name]\n",
    "        tooltip_dict[col_name] = \"@\" + col_name\n",
    "    tooltips = list(tooltip_dict.items())\n",
    "    \n",
    "    # COLOR BY LABEL\n",
    "    palette = d3['Category10'][len(df[label_col].unique())]\n",
    "    colormap = {x:palette[i] for i,x in enumerate(df[label_col].unique())}\n",
    "    data['colors'] = [colormap[x] for x in df[label_col]]\n",
    "    \n",
    "    # PLOT1\n",
    "    s1 = ColumnDataSource(data=data)\n",
    "    p1 = figure(\n",
    "        tooltips=tooltips,\n",
    "        plot_width=plot_width,\n",
    "        plot_height=plot_height,\n",
    "        tools=['lasso_select','pan','wheel_zoom','box_zoom','reset','save'],\n",
    "        active_drag=\"lasso_select\",\n",
    "        title=\"Select points with Lasso tool\",\n",
    "    )\n",
    "    p1.title.vertical_align = 'top'\n",
    "    \n",
    "    # CREATE CIRCLE 1\n",
    "    c1=p1.circle(\"x\", \"y\", source=s1, alpha=0.5, color='colors', size=2)\n",
    "    ds1 = c1.data_source\n",
    "    \n",
    "    # PLOT2\n",
    "    s2 = ColumnDataSource(data=dict(x=[], y=[], idx=[]))\n",
    "    p2 = figure(\n",
    "        plot_width=int(plot_width/2),\n",
    "        plot_height=int(plot_height/2),\n",
    "        x_range=(min(data['x'])-1, max(data['x'])+1),\n",
    "        y_range=(min(data['y'])-1, max(data['y'])+1),\n",
    "        title=\"Selected Points from Main Plot\",\n",
    "    )\n",
    "    p2.title.vertical_align = 'top'\n",
    "    c2 = p2.circle(\"x\", \"y\", source=s2, alpha=0.6, color=\"firebrick\", size=3)\n",
    "    ds2 = c2.data_source\n",
    "    \n",
    "    # SELECT CALLBACK\n",
    "    def select_callback(attrname, old, new):\n",
    "        global selected_indxs        \n",
    "        d1 = ds1.data\n",
    "        d2 = dict()\n",
    "        selected_indxs = new\n",
    "        xs,ys,t1,t2,idxs,lab1 = [],[],[],[],[],[]\n",
    "        \n",
    "        for i in range(len(selected_indxs)):\n",
    "            xs.append(d1['x'][selected_indxs[i]])\n",
    "            ys.append(d1['y'][selected_indxs[i]])\n",
    "            lab1.append(d1[label_col][selected_indxs[i]])\n",
    "            t1.append(d1[lang1][selected_indxs[i]])\n",
    "            t2.append(d1[lang2][selected_indxs[i]])\n",
    "        d2['x'], d2['y'], d2['idx'], d2[lang1], d2[lang2], d2[label_col] = xs, ys, selected_indxs, t1, t2, lab1\n",
    "        ds2.data = d2 # BEST PRACTICE --- update .data in one step with a new dict\n",
    "    \n",
    "    s1.selected.on_change('indices', select_callback)\n",
    "\n",
    "    # TABLE OF SELECTED POINTS\n",
    "    columns = [\n",
    "        TableColumn(field=\"idx\", title=\"data idx\", width=15),\n",
    "        TableColumn(field=lang1, title=lang1),\n",
    "        TableColumn(field=lang2, title=lang2),\n",
    "        TableColumn(field=label_col, title=label_col, width=50),\n",
    "        TableColumn(field=\"x\", title=\"X axis\", width=40),\n",
    "        TableColumn(field=\"y\", title=\"Y axis\", width=40),\n",
    "    ]\n",
    "    table = DataTable(\n",
    "        source=s2,\n",
    "        columns=columns,\n",
    "        width=900,\n",
    "        height=400,\n",
    "        sortable=True,\n",
    "        selectable=True,\n",
    "        editable=True,\n",
    "    )\n",
    "    \n",
    "    doc.add_root(grid([p1, p2, table], ncols=2))"
   ]
  },
  {
   "cell_type": "code",
   "execution_count": 63,
   "metadata": {},
   "outputs": [
    {
     "data": {
      "application/vnd.bokehjs_exec.v0+json": "",
      "text/html": [
       "\n",
       "<script id=\"1002\">\n",
       "  var xhr = new XMLHttpRequest()\n",
       "  xhr.responseType = 'blob';\n",
       "  xhr.open('GET', \"http://0.0.0.0:43299/autoload.js?bokeh-autoload-element=1002&bokeh-absolute-url=http://0.0.0.0:43299&resources=none\", true);\n",
       "  \n",
       "  xhr.onload = function (event) {\n",
       "    var script = document.createElement('script'),\n",
       "    src = URL.createObjectURL(event.target.response);\n",
       "    script.src = src;\n",
       "    document.body.appendChild(script);\n",
       "  };\n",
       "xhr.send();\n",
       "</script>"
      ]
     },
     "metadata": {
      "application/vnd.bokehjs_exec.v0+json": {
       "server_id": "70935b9a79f0413d9948a87f884aaa8d"
      }
     },
     "output_type": "display_data"
    }
   ],
   "source": [
    "nb_url=\"http://0.0.0.0:8888\"    # optional, depending on where you are running the notebook \n",
    "show(plot_emb_app, notebook_url=nb_url)"
   ]
  },
  {
   "cell_type": "code",
   "execution_count": 15,
   "metadata": {
    "scrolled": true
   },
   "outputs": [],
   "source": [
    "#hide\n",
    "#![]('bokeh_viz.png')"
   ]
  },
  {
   "cell_type": "markdown",
   "metadata": {},
   "source": [
    "## Identify clusters in a sample of the data that seem to be of low translation quality"
   ]
  },
  {
   "cell_type": "markdown",
   "metadata": {},
   "source": [
    "Can we identify suspect looking clusters of data? Yes! \n",
    "\n",
    "- We can see the orange \"islands\" that we have labelled all contain text related to \"lighting\", \"LED\", \"Lamps\" etc, some of which are not even in English.\n",
    "\n",
    "- The sparse cluster of green blue points and their neighbours are also full of language related to pornography\n",
    "\n",
    "- We don't see so many Cryllic points, however this was also the least common of our labels, comprising only (0.07% of our labels)\n",
    "\n",
    "Other \"islands\" that can identified by hovering over them include:\n",
    "- Arabic texts\n",
    "- Website footers\n",
    "- Text from jewellery sites (e.g. Pandora) and also clothing sites\n",
    "\n",
    "\n",
    "Below you can see some of the Arabic texts in our main dataset we have discovered:"
   ]
  },
  {
   "cell_type": "code",
   "execution_count": 64,
   "metadata": {},
   "outputs": [
    {
     "data": {
      "text/html": [
       "<div>\n",
       "<style scoped>\n",
       "    .dataframe tbody tr th:only-of-type {\n",
       "        vertical-align: middle;\n",
       "    }\n",
       "\n",
       "    .dataframe tbody tr th {\n",
       "        vertical-align: top;\n",
       "    }\n",
       "\n",
       "    .dataframe thead th {\n",
       "        text-align: right;\n",
       "    }\n",
       "</style>\n",
       "<table border=\"1\" class=\"dataframe\">\n",
       "  <thead>\n",
       "    <tr style=\"text-align: right;\">\n",
       "      <th></th>\n",
       "      <th>en</th>\n",
       "      <th>ga</th>\n",
       "      <th>noise_type</th>\n",
       "    </tr>\n",
       "  </thead>\n",
       "  <tbody>\n",
       "    <tr>\n",
       "      <th>297538</th>\n",
       "      <td>the featured china guangdong led party string lights manufacturers and listed here are sourced by the karnar lighting.</td>\n",
       "      <td>an tsín bhí guangdong faoi stiúir teaghrán soilse monaróirí agus atá liostaithe anseo a fháil ag an soilsiú karnar.</td>\n",
       "      <td>lighting</td>\n",
       "    </tr>\n",
       "    <tr>\n",
       "      <th>297604</th>\n",
       "      <td>the featured china guangdong led-flashing-light hight power spot light manufacturers and listed here are sourced by the karnar lighting.</td>\n",
       "      <td>an tsín bhí guangdong solas lae bán monaróirí agus atá liostaithe anseo a fháil ag an soilsiú karnar.</td>\n",
       "      <td>lighting</td>\n",
       "    </tr>\n",
       "    <tr>\n",
       "      <th>297550</th>\n",
       "      <td>the featured china guangdong led flash light hight power spot light manufacturers and listed here are sourced by the karnar lighting.</td>\n",
       "      <td>an tsín bhí guangdong solas lae bán monaróirí agus atá liostaithe anseo a fháil ag an soilsiú karnar.</td>\n",
       "      <td>lighting</td>\n",
       "    </tr>\n",
       "    <tr>\n",
       "      <th>297409</th>\n",
       "      <td>the featured china guangdong 3 wires rope light manufacturers and listed here are sourced by the karnar lighting.</td>\n",
       "      <td>an tsín bhí guangdong 3 sreanga téad solas monaróirí agus atá liostaithe anseo a fháil ag an soilsiú karnar.</td>\n",
       "      <td>lighting</td>\n",
       "    </tr>\n",
       "    <tr>\n",
       "      <th>297421</th>\n",
       "      <td>the featured china guangdong connectable lights manufacturers and listed here are sourced by the karnar lighting.</td>\n",
       "      <td>an tsín bhí guangdong teaghrán soilse monaróirí agus atá liostaithe anseo a fháil ag an soilsiú karnar.</td>\n",
       "      <td>lighting</td>\n",
       "    </tr>\n",
       "  </tbody>\n",
       "</table>\n",
       "</div>"
      ],
      "text/plain": [
       "                                                                                                                                              en  \\\n",
       "297538                    the featured china guangdong led party string lights manufacturers and listed here are sourced by the karnar lighting.   \n",
       "297604  the featured china guangdong led-flashing-light hight power spot light manufacturers and listed here are sourced by the karnar lighting.   \n",
       "297550     the featured china guangdong led flash light hight power spot light manufacturers and listed here are sourced by the karnar lighting.   \n",
       "297409                         the featured china guangdong 3 wires rope light manufacturers and listed here are sourced by the karnar lighting.   \n",
       "297421                         the featured china guangdong connectable lights manufacturers and listed here are sourced by the karnar lighting.   \n",
       "\n",
       "                                                                                                                         ga  \\\n",
       "297538  an tsín bhí guangdong faoi stiúir teaghrán soilse monaróirí agus atá liostaithe anseo a fháil ag an soilsiú karnar.   \n",
       "297604                an tsín bhí guangdong solas lae bán monaróirí agus atá liostaithe anseo a fháil ag an soilsiú karnar.   \n",
       "297550                an tsín bhí guangdong solas lae bán monaróirí agus atá liostaithe anseo a fháil ag an soilsiú karnar.   \n",
       "297409         an tsín bhí guangdong 3 sreanga téad solas monaróirí agus atá liostaithe anseo a fháil ag an soilsiú karnar.   \n",
       "297421              an tsín bhí guangdong teaghrán soilse monaróirí agus atá liostaithe anseo a fháil ag an soilsiú karnar.   \n",
       "\n",
       "       noise_type  \n",
       "297538   lighting  \n",
       "297604   lighting  \n",
       "297550   lighting  \n",
       "297409   lighting  \n",
       "297421   lighting  "
      ]
     },
     "execution_count": 64,
     "metadata": {},
     "output_type": "execute_result"
    }
   ],
   "source": [
    "#hide_input\n",
    "# PULL SELECTED DATA FROM PLOT INTO DATAFRAME\n",
    "fin_selected_indxs = selected_indxs\n",
    "df.loc[samp.loc[fin_selected_indxs]['main_index']].head(5)"
   ]
  },
  {
   "cell_type": "markdown",
   "metadata": {},
   "source": [
    "Extractions:"
   ]
  },
  {
   "cell_type": "code",
   "execution_count": 65,
   "metadata": {},
   "outputs": [
    {
     "name": "stdout",
     "output_type": "stream",
     "text": [
      "34\n"
     ]
    }
   ],
   "source": [
    "lighting_indxs = selected_indxs\n",
    "print(len(lighting_indxs))"
   ]
  },
  {
   "cell_type": "code",
   "execution_count": 66,
   "metadata": {},
   "outputs": [
    {
     "name": "stdout",
     "output_type": "stream",
     "text": [
      "16\n"
     ]
    }
   ],
   "source": [
    "se_footer_indxs = selected_indxs\n",
    "print(len(se_footer_indxs))"
   ]
  },
  {
   "cell_type": "code",
   "execution_count": 67,
   "metadata": {},
   "outputs": [
    {
     "name": "stdout",
     "output_type": "stream",
     "text": [
      "11\n"
     ]
    }
   ],
   "source": [
    "taiwan_coffee_indxs = selected_indxs\n",
    "print(len(taiwan_coffee_indxs))"
   ]
  },
  {
   "cell_type": "code",
   "execution_count": 69,
   "metadata": {},
   "outputs": [
    {
     "name": "stdout",
     "output_type": "stream",
     "text": [
      "9\n"
     ]
    }
   ],
   "source": [
    "random_fx_indxs = selected_indxs\n",
    "print(len(random_fx_indxs))"
   ]
  },
  {
   "cell_type": "code",
   "execution_count": 70,
   "metadata": {},
   "outputs": [
    {
     "name": "stdout",
     "output_type": "stream",
     "text": [
      "154\n"
     ]
    }
   ],
   "source": [
    "minutes_posted_indxs = selected_indxs\n",
    "print(len(minutes_posted_indxs))"
   ]
  },
  {
   "cell_type": "code",
   "execution_count": 76,
   "metadata": {},
   "outputs": [],
   "source": [
    "indxs_to_extract = [lighting_indxs, se_footer_indxs, taiwan_coffee_indxs, random_fx_indxs, minutes_posted_indxs]"
   ]
  },
  {
   "cell_type": "markdown",
   "metadata": {},
   "source": [
    "I am fairly confident that none of the text in some these islands contain valuable translations and are likely the result of automated translations of suspect quality that we would like to remove."
   ]
  },
  {
   "cell_type": "markdown",
   "metadata": {},
   "source": [
    "## Remove similar samples from the full dataset\n",
    "To remove similar samples we will calculate a distance metric between each of our selected embeddings and each of the embeddings in the full dataset. Alternativly we could also calculate the \"average embedding\" of all of our selected datapoints, and then calculate the distance between this average and each of the embeddings in the main dataset. \n",
    "\n",
    "From experimentation I found that the first option is more effective at identifying more of the noisy data we are looking for. In addtion, because our nms algorithm is super fast at retrieval there isn't any significant overhead to this approach over using the average embedding.\n",
    "\n",
    "First of all, we'll need to generate embeddings for all of our 780k text samples. This might take a little while depending on the size of your dataset so kick off the extraction and grab a coffee."
   ]
  },
  {
   "cell_type": "code",
   "execution_count": 71,
   "metadata": {},
   "outputs": [],
   "source": [
    "#hide \n",
    "# CALCULATE AVERAGE OF SELECTED EMBEDDINGS\n",
    "def calc_avg_emg(samp_embs, fin_selected_indxs):\n",
    "    selected_embs = samp_embs[fin_selected_indxs]\n",
    "    avg_emb = torch.zeros(selected_embs[0].size())\n",
    "    for e in selected_embs: \n",
    "        avg_emb += e\n",
    "    avg_emb /= len(selected_embs)\n",
    "    avg_np=np.expand_dims(avg_emb.numpy(), axis=0)\n",
    "    return avg_np\n",
    "\n",
    "def avg_query(full_index, avg_np, k=100000):\n",
    "    ids, distances = full_index.knnQuery(avg_np, k=k)\n",
    "    avg_df = pd.DataFrame({'inds':ids,'dists':distances})\n",
    "    # drop the query indices\n",
    "    avg_df=avg_df.loc[~avg_df.inds.isin(fin_selected_main_indxs)]\n",
    "    # drop duplicate indices (distances will be biassed towards early query values)\n",
    "    avg_df.drop_duplicates(subset='inds', inplace=True, ignore_index=True)\n",
    "    return avg_df\n",
    "\n",
    "def show_similar(samp_embs, fin_selected_indxs, full_index):\n",
    "    avg_np=calc_avg_emg(samp_embs, fin_selected_indxs)\n",
    "    avg_df=avg_query(full_index, avg_np, k=100000)\n",
    "    print(f'{len(avg_df)} ids returned from query')\n",
    "    return df.loc[avg_df.inds.values].sample(5)"
   ]
  },
  {
   "cell_type": "code",
   "execution_count": 74,
   "metadata": {},
   "outputs": [
    {
     "data": {
      "text/html": [
       "\n",
       "    <div>\n",
       "        <style>\n",
       "            /* Turns off some styling */\n",
       "            progress {\n",
       "                /* gets rid of default border in Firefox and Opera. */\n",
       "                border: none;\n",
       "                /* Needs to be in here for Safari polyfill so background images work as expected. */\n",
       "                background-size: auto;\n",
       "            }\n",
       "            .progress-bar-interrupted, .progress-bar-interrupted::-webkit-progress-bar {\n",
       "                background: #F44336;\n",
       "            }\n",
       "        </style>\n",
       "      <progress value='1397' class='' max='1397', style='width:300px; height:20px; vertical-align: middle;'></progress>\n",
       "      100.00% [1397/1397 48:36<00:00]\n",
       "    </div>\n",
       "    "
      ],
      "text/plain": [
       "<IPython.core.display.HTML object>"
      ]
     },
     "metadata": {},
     "output_type": "display_data"
    },
    {
     "name": "stdout",
     "output_type": "stream",
     "text": [
      "Embedding file 0 saved\n",
      "Embedding file 1 saved\n",
      "Embedding file 2 saved\n",
      "Embedding file 3 saved\n",
      "Embedding tensor(s) saved here: \"models/xlm-r_large_embs_en_full_2020-07-22\", full tensor size is : torch.Size([357395, 1024])\n"
     ]
    },
    {
     "data": {
      "text/plain": [
       "torch.Size([357395, 1024])"
      ]
     },
     "execution_count": 74,
     "metadata": {},
     "output_type": "execute_result"
    }
   ],
   "source": [
    "#hide\n",
    "full_dls = get_dls(all_texts, bs, show=False)\n",
    "full_emb_nm = f'models/xlm-r_large_embs_en_full_{today}'\n",
    "full_emb = get_text_embeddings(model, full_dls, emb_nm=full_emb_nm, n_files=4).to('cpu')\n",
    "full_emb.size()\n",
    "\n",
    "# full_emb = torch.load('models/xlm-r_large_embs_en_full_2020-06-19_full', 'cpu')\n",
    "# full_emb.size()"
   ]
  },
  {
   "cell_type": "markdown",
   "metadata": {},
   "source": [
    "#### Sci-kit Learn's cosine_similarity\n",
    "\n",
    "By calculating the average embedding of our selected datapoints we can calculate the cosine similarity between it and all of the other embeddings in our full dataset, providing decent results! "
   ]
  },
  {
   "cell_type": "code",
   "execution_count": 106,
   "metadata": {
    "scrolled": true
   },
   "outputs": [
    {
     "name": "stdout",
     "output_type": "stream",
     "text": [
      "897 rows with a similarity score greater than : 0.9994\n"
     ]
    },
    {
     "data": {
      "text/html": [
       "<div>\n",
       "<style scoped>\n",
       "    .dataframe tbody tr th:only-of-type {\n",
       "        vertical-align: middle;\n",
       "    }\n",
       "\n",
       "    .dataframe tbody tr th {\n",
       "        vertical-align: top;\n",
       "    }\n",
       "\n",
       "    .dataframe thead th {\n",
       "        text-align: right;\n",
       "    }\n",
       "</style>\n",
       "<table border=\"1\" class=\"dataframe\">\n",
       "  <thead>\n",
       "    <tr style=\"text-align: right;\">\n",
       "      <th></th>\n",
       "      <th>en</th>\n",
       "      <th>ga</th>\n",
       "      <th>noise_type</th>\n",
       "    </tr>\n",
       "  </thead>\n",
       "  <tbody>\n",
       "    <tr>\n",
       "      <th>253421</th>\n",
       "      <td>monthly archives: june 2015</td>\n",
       "      <td>cartlanna míosúla: meitheamh 2015</td>\n",
       "      <td>na</td>\n",
       "    </tr>\n",
       "    <tr>\n",
       "      <th>253429</th>\n",
       "      <td>monthly archives: march 2016</td>\n",
       "      <td>cartlanna màosúla: márta 2016</td>\n",
       "      <td>na</td>\n",
       "    </tr>\n",
       "    <tr>\n",
       "      <th>268167</th>\n",
       "      <td>posted on august 7, 2013 by thomasmcs</td>\n",
       "      <td>postáilte ar lúnasa 7, 2013 ag thomasmcs</td>\n",
       "      <td>na</td>\n",
       "    </tr>\n",
       "    <tr>\n",
       "      <th>268644</th>\n",
       "      <td>posted on september 6, 2015 by thomasmcs</td>\n",
       "      <td>postáilte ar meán fómhair 6, 2015 ag thomasmcs</td>\n",
       "      <td>na</td>\n",
       "    </tr>\n",
       "    <tr>\n",
       "      <th>254641</th>\n",
       "      <td>national monuments act 1930</td>\n",
       "      <td>acht na séadchomharthaí náisiúnta 1930</td>\n",
       "      <td>na</td>\n",
       "    </tr>\n",
       "    <tr>\n",
       "      <th>346906</th>\n",
       "      <td>“(cc) consult with the dta,”.</td>\n",
       "      <td>“(cc) rachaidh sé i gcomhairle le húibác,”.</td>\n",
       "      <td>na</td>\n",
       "    </tr>\n",
       "    <tr>\n",
       "      <th>268439</th>\n",
       "      <td>posted on may 11, 2011 by thomasmcs</td>\n",
       "      <td>postáilte ar bealtaine 11, 2011 ag thomasmcs</td>\n",
       "      <td>na</td>\n",
       "    </tr>\n",
       "    <tr>\n",
       "      <th>320146</th>\n",
       "      <td>wednesday 23 november 2016 @1.00pm</td>\n",
       "      <td>dé céadaoin 23 samhain 2016 @1.00i.n.</td>\n",
       "      <td>na</td>\n",
       "    </tr>\n",
       "    <tr>\n",
       "      <th>87014</th>\n",
       "      <td>(b) public health and safety, and</td>\n",
       "      <td>(b) sláinte agus sábháilteacht an phobail, agus</td>\n",
       "      <td>na</td>\n",
       "    </tr>\n",
       "    <tr>\n",
       "      <th>267750</th>\n",
       "      <td>posted by ofer in release announcements on august 3, 2011</td>\n",
       "      <td>posted ag ofer i fógraí scaoileadh ar lúnasa 3, 2011</td>\n",
       "      <td>na</td>\n",
       "    </tr>\n",
       "    <tr>\n",
       "      <th>330276</th>\n",
       "      <td>each year shall be submitted by the commissioner in the following</td>\n",
       "      <td>míre seo i leith gach bliana a chur faoi bhráid an ard-reachtaire</td>\n",
       "      <td>na</td>\n",
       "    </tr>\n",
       "    <tr>\n",
       "      <th>206371</th>\n",
       "      <td>council minutes - 8th july 2002</td>\n",
       "      <td>miontuairiscí na comhairle contae - 8 iúil 2002</td>\n",
       "      <td>na</td>\n",
       "    </tr>\n",
       "    <tr>\n",
       "      <th>268611</th>\n",
       "      <td>posted on september 20, 2016 by thomasmcs</td>\n",
       "      <td>postáilte ar meán fómhair 20, 2016 ag thomasmcs</td>\n",
       "      <td>na</td>\n",
       "    </tr>\n",
       "    <tr>\n",
       "      <th>198083</th>\n",
       "      <td>blue carbon: the acid test</td>\n",
       "      <td>carbón gorm: an fhíorthástáil</td>\n",
       "      <td>na</td>\n",
       "    </tr>\n",
       "    <tr>\n",
       "      <th>268446</th>\n",
       "      <td>posted on may 15, 2012 by thomasmcs</td>\n",
       "      <td>postáilte ar bealtaine 15, 2012 ag thomasmcs</td>\n",
       "      <td>na</td>\n",
       "    </tr>\n",
       "    <tr>\n",
       "      <th>284302</th>\n",
       "      <td>staff: staff of the local authority</td>\n",
       "      <td>baill foirne: baill foirne an údaráis áitiúil</td>\n",
       "      <td>na</td>\n",
       "    </tr>\n",
       "    <tr>\n",
       "      <th>274460</th>\n",
       "      <td>read more about the general staff</td>\n",
       "      <td>léigh náos mó faoi na foirne ginearálta</td>\n",
       "      <td>na</td>\n",
       "    </tr>\n",
       "    <tr>\n",
       "      <th>256032</th>\n",
       "      <td>next: biodegradable corn starch 7 inch plate</td>\n",
       "      <td>next: stáirse arbhar-bhithmhillte pláta 7 orlach</td>\n",
       "      <td>na</td>\n",
       "    </tr>\n",
       "    <tr>\n",
       "      <th>253467</th>\n",
       "      <td>monthly archives: september 2016</td>\n",
       "      <td>cartlanna màosúla: meán fómhair 2016</td>\n",
       "      <td>na</td>\n",
       "    </tr>\n",
       "    <tr>\n",
       "      <th>206628</th>\n",
       "      <td>county council minutes - 25th june 2004</td>\n",
       "      <td>miontuairiscí na comhairle contae - 25 meitheamh 2004</td>\n",
       "      <td>na</td>\n",
       "    </tr>\n",
       "  </tbody>\n",
       "</table>\n",
       "</div>"
      ],
      "text/plain": [
       "                                                                       en  \\\n",
       "253421                                        monthly archives: june 2015   \n",
       "253429                                       monthly archives: march 2016   \n",
       "268167                              posted on august 7, 2013 by thomasmcs   \n",
       "268644                           posted on september 6, 2015 by thomasmcs   \n",
       "254641                                        national monuments act 1930   \n",
       "346906                                      “(cc) consult with the dta,”.   \n",
       "268439                                posted on may 11, 2011 by thomasmcs   \n",
       "320146                                 wednesday 23 november 2016 @1.00pm   \n",
       "87014                                   (b) public health and safety, and   \n",
       "267750          posted by ofer in release announcements on august 3, 2011   \n",
       "330276  each year shall be submitted by the commissioner in the following   \n",
       "206371                                    council minutes - 8th july 2002   \n",
       "268611                          posted on september 20, 2016 by thomasmcs   \n",
       "198083                                         blue carbon: the acid test   \n",
       "268446                                posted on may 15, 2012 by thomasmcs   \n",
       "284302                                staff: staff of the local authority   \n",
       "274460                                  read more about the general staff   \n",
       "256032                       next: biodegradable corn starch 7 inch plate   \n",
       "253467                                   monthly archives: september 2016   \n",
       "206628                            county council minutes - 25th june 2004   \n",
       "\n",
       "                                                                       ga  \\\n",
       "253421                                  cartlanna míosúla: meitheamh 2015   \n",
       "253429                                      cartlanna màosúla: márta 2016   \n",
       "268167                           postáilte ar lúnasa 7, 2013 ag thomasmcs   \n",
       "268644                     postáilte ar meán fómhair 6, 2015 ag thomasmcs   \n",
       "254641                             acht na séadchomharthaí náisiúnta 1930   \n",
       "346906                        “(cc) rachaidh sé i gcomhairle le húibác,”.   \n",
       "268439                       postáilte ar bealtaine 11, 2011 ag thomasmcs   \n",
       "320146                              dé céadaoin 23 samhain 2016 @1.00i.n.   \n",
       "87014                     (b) sláinte agus sábháilteacht an phobail, agus   \n",
       "267750               posted ag ofer i fógraí scaoileadh ar lúnasa 3, 2011   \n",
       "330276  míre seo i leith gach bliana a chur faoi bhráid an ard-reachtaire   \n",
       "206371                    miontuairiscí na comhairle contae - 8 iúil 2002   \n",
       "268611                    postáilte ar meán fómhair 20, 2016 ag thomasmcs   \n",
       "198083                                      carbón gorm: an fhíorthástáil   \n",
       "268446                       postáilte ar bealtaine 15, 2012 ag thomasmcs   \n",
       "284302                      baill foirne: baill foirne an údaráis áitiúil   \n",
       "274460                            léigh náos mó faoi na foirne ginearálta   \n",
       "256032                   next: stáirse arbhar-bhithmhillte pláta 7 orlach   \n",
       "253467                               cartlanna màosúla: meán fómhair 2016   \n",
       "206628              miontuairiscí na comhairle contae - 25 meitheamh 2004   \n",
       "\n",
       "       noise_type  \n",
       "253421         na  \n",
       "253429         na  \n",
       "268167         na  \n",
       "268644         na  \n",
       "254641         na  \n",
       "346906         na  \n",
       "268439         na  \n",
       "320146         na  \n",
       "87014          na  \n",
       "267750         na  \n",
       "330276         na  \n",
       "206371         na  \n",
       "268611         na  \n",
       "198083         na  \n",
       "268446         na  \n",
       "284302         na  \n",
       "274460         na  \n",
       "256032         na  \n",
       "253467         na  \n",
       "206628         na  "
      ]
     },
     "execution_count": 106,
     "metadata": {},
     "output_type": "execute_result"
    }
   ],
   "source": [
    "#hide_input\n",
    "thresh=0.9994\n",
    "extract = indxs_to_extract[4]\n",
    "\n",
    "\n",
    "avg_emb=calc_avg_emg(samp_embs, extract)\n",
    "cs = cosine_similarity(avg_emb, full_emb.numpy())\n",
    "\n",
    "cs_df = pd.DataFrame({'score':cs[0]})\n",
    "cs_df['main_index'] = cs_df.index.values\n",
    "cs_df=cs_df.loc[~cs_df.main_index.isin(extract)]    # Remove selected indices from similarity results\n",
    "cs_df.sort_values('score',inplace=True)\n",
    "\n",
    "idx = cs_df.loc[cs_df.score>thresh].index.values\n",
    "print(f'{len(idx)} rows with a similarity score greater than : {thresh}')\n",
    "df.loc[idx].sample(20)"
   ]
  },
  {
   "cell_type": "code",
   "execution_count": 99,
   "metadata": {},
   "outputs": [
    {
     "data": {
      "image/png": "[encoded data removed]",
      "text/plain": [
       "<Figure size 432x288 with 1 Axes>"
      ]
     },
     "metadata": {
      "needs_background": "light"
     },
     "output_type": "display_data"
    }
   ],
   "source": [
    "#hide_input\n",
    "sns.distplot(cs_df.score, kde=False)\n",
    "plt.title('Cosine similarity between the average selection embedding and the full datset');"
   ]
  },
  {
   "cell_type": "markdown",
   "metadata": {},
   "source": [
    "To extract"
   ]
  },
  {
   "cell_type": "code",
   "execution_count": 86,
   "metadata": {},
   "outputs": [
    {
     "data": {
      "text/plain": [
       "443"
      ]
     },
     "execution_count": 86,
     "metadata": {},
     "output_type": "execute_result"
    }
   ],
   "source": [
    "e1=idx; len(e1)"
   ]
  },
  {
   "cell_type": "code",
   "execution_count": 92,
   "metadata": {},
   "outputs": [
    {
     "data": {
      "text/plain": [
       "126"
      ]
     },
     "execution_count": 92,
     "metadata": {},
     "output_type": "execute_result"
    }
   ],
   "source": [
    "e2=idx; len(e2)"
   ]
  },
  {
   "cell_type": "code",
   "execution_count": 96,
   "metadata": {
    "scrolled": true
   },
   "outputs": [
    {
     "data": {
      "text/plain": [
       "70"
      ]
     },
     "execution_count": 96,
     "metadata": {},
     "output_type": "execute_result"
    }
   ],
   "source": [
    "e3=idx; len(e3)"
   ]
  },
  {
   "cell_type": "code",
   "execution_count": 101,
   "metadata": {
    "scrolled": true
   },
   "outputs": [
    {
     "data": {
      "text/plain": [
       "64"
      ]
     },
     "execution_count": 101,
     "metadata": {},
     "output_type": "execute_result"
    }
   ],
   "source": [
    "e4=idx; len(e4)"
   ]
  },
  {
   "cell_type": "code",
   "execution_count": 107,
   "metadata": {
    "scrolled": true
   },
   "outputs": [
    {
     "data": {
      "text/plain": [
       "897"
      ]
     },
     "execution_count": 107,
     "metadata": {},
     "output_type": "execute_result"
    }
   ],
   "source": [
    "e5=idx; len(e5)"
   ]
  },
  {
   "cell_type": "code",
   "execution_count": 115,
   "metadata": {},
   "outputs": [
    {
     "data": {
      "text/plain": [
       "1600"
      ]
     },
     "execution_count": 115,
     "metadata": {},
     "output_type": "execute_result"
    }
   ],
   "source": [
    "e_fin=np.concatenate([e1,e2,e3,e4,e5]); len(e_fin)"
   ]
  },
  {
   "cell_type": "code",
   "execution_count": 117,
   "metadata": {},
   "outputs": [
    {
     "data": {
      "text/plain": [
       "355833"
      ]
     },
     "execution_count": 117,
     "metadata": {},
     "output_type": "execute_result"
    }
   ],
   "source": [
    "df_fin = df.loc[~df.index.isin(e_fin)]\n",
    "len(df_fin)"
   ]
  },
  {
   "cell_type": "code",
   "execution_count": 124,
   "metadata": {},
   "outputs": [
    {
     "name": "stdout",
     "output_type": "stream",
     "text": [
      "para_crawl_huggingface_clean_v02_20200722.csv  paracrawl_v6_en-ga.tmx\r\n"
     ]
    }
   ],
   "source": [
    "!ls data/irish/parallel_corpora/paracrawl"
   ]
  },
  {
   "cell_type": "code",
   "execution_count": 125,
   "metadata": {},
   "outputs": [],
   "source": [
    "df_fin.to_csv('data/irish/parallel_corpora/paracrawl/para_crawl_huggingface_clean_v02_20200722.csv', index=False)"
   ]
  },
  {
   "cell_type": "markdown",
   "metadata": {},
   "source": [
    "Filter original dataset (without lowercase, etc)"
   ]
  },
  {
   "cell_type": "code",
   "execution_count": 128,
   "metadata": {},
   "outputs": [],
   "source": [
    "para = load_dataset('para_crawl', 'enga')"
   ]
  },
  {
   "cell_type": "code",
   "execution_count": 129,
   "metadata": {},
   "outputs": [
    {
     "data": {
      "text/plain": [
       "357395"
      ]
     },
     "execution_count": 129,
     "metadata": {},
     "output_type": "execute_result"
    }
   ],
   "source": [
    "def extract_lang(lang, ds):\n",
    "    txt=[]\n",
    "    for t in ds['train']['translation']: txt.append(t[lang])\n",
    "    return txt\n",
    "\n",
    "en = extract_lang('en', para)\n",
    "ga = extract_lang('ga', para)\n",
    "\n",
    "df_to_exp = pd.DataFrame(data={'en':en, 'ga':ga})\n",
    "len(df)"
   ]
  },
  {
   "cell_type": "code",
   "execution_count": 131,
   "metadata": {},
   "outputs": [
    {
     "data": {
      "text/plain": [
       "357399"
      ]
     },
     "execution_count": 131,
     "metadata": {},
     "output_type": "execute_result"
    }
   ],
   "source": [
    "df_to_exp['clean'] = True\n",
    "df_to_exp['clean'].sum()"
   ]
  },
  {
   "cell_type": "code",
   "execution_count": 142,
   "metadata": {
    "scrolled": true
   },
   "outputs": [
    {
     "data": {
      "text/plain": [
       "355837"
      ]
     },
     "execution_count": 142,
     "metadata": {},
     "output_type": "execute_result"
    }
   ],
   "source": [
    "df_to_exp.loc[e_fin.tolist(), 'clean'] = False\n",
    "df_to_exp['clean'].sum()"
   ]
  },
  {
   "cell_type": "code",
   "execution_count": 144,
   "metadata": {},
   "outputs": [],
   "source": [
    "df_to_exp.to_csv('data/irish/parallel_corpora/paracrawl/para_crawl_huggingface_clean_v02_20200723.csv', index=False)"
   ]
  },
  {
   "cell_type": "code",
   "execution_count": 143,
   "metadata": {
    "scrolled": true
   },
   "outputs": [
    {
     "data": {
      "text/html": [
       "<div>\n",
       "<style scoped>\n",
       "    .dataframe tbody tr th:only-of-type {\n",
       "        vertical-align: middle;\n",
       "    }\n",
       "\n",
       "    .dataframe tbody tr th {\n",
       "        vertical-align: top;\n",
       "    }\n",
       "\n",
       "    .dataframe thead th {\n",
       "        text-align: right;\n",
       "    }\n",
       "</style>\n",
       "<table border=\"1\" class=\"dataframe\">\n",
       "  <thead>\n",
       "    <tr style=\"text-align: right;\">\n",
       "      <th></th>\n",
       "      <th>en</th>\n",
       "      <th>ga</th>\n",
       "      <th>clean</th>\n",
       "    </tr>\n",
       "  </thead>\n",
       "  <tbody>\n",
       "    <tr>\n",
       "      <th>190946</th>\n",
       "      <td>Among various hypotheses, that of the reduction and fragmentation of habitats of specific species was chosen. A effet, the lesser horseshoe bat is unusual to move along linear landscape elements, such as hedgerows or wood edging.</td>\n",
       "      <td>Mar sin féin, tá taithí sé suntasach laghdú méide , nach bhfuil cúiseanna atá aitheanta go maith fós . I measc na hipitéisí éagsúla , Roghnaíodh go bhfuil an laghdú agus ilroinnt gnáthóg de speicis ar leith . En effet , Is é an bat lú chrú neamhghnách chun bogadh in éineacht gnéithe tírdhreacha líneach , ar nós fálta sceach nó adhmad edging .</td>\n",
       "      <td>True</td>\n",
       "    </tr>\n",
       "    <tr>\n",
       "      <th>322064</th>\n",
       "      <td>Where do you stand? Is this system fair?</td>\n",
       "      <td>An bhfuil an córas seo cothrom?</td>\n",
       "      <td>True</td>\n",
       "    </tr>\n",
       "    <tr>\n",
       "      <th>133999</th>\n",
       "      <td>(iv) in case the order comes into operation on a day which is not a 1st day of April—</td>\n",
       "      <td>(iv) i gcás an t-ordú a theacht i ngníomh lá nach é an 1ú lá d'Aibreán é—</td>\n",
       "      <td>True</td>\n",
       "    </tr>\n",
       "    <tr>\n",
       "      <th>215838</th>\n",
       "      <td>Every time one of your adverts are shown or clicked on it costs one Advertising Credits. Additionally it costs an Advertising Credit every time your website is shown in the Autosurf feature.</td>\n",
       "      <td>Gach ceann am do fógraí ar taispeáint nó chliceáil ar chostais sé ar cheann Creidmheasanna Fógraíocht. Ina theannta sin costais sé ar Chreidmheas Fógraíocht gach uair a chuirtear ar do láithreán gréasáin a thaispeántar sa ghné Autosurf.</td>\n",
       "      <td>True</td>\n",
       "    </tr>\n",
       "    <tr>\n",
       "      <th>136341</th>\n",
       "      <td>(v) requirements in relation to the treatment, re-use or disposal of by-products arising from the treatment of water and waste water, or</td>\n",
       "      <td>(v) ceanglais maidir le seachtháirgí a chóireáil, a athúsáid nó a dhiúscairt is seachtháirgí a éiríonn as cóireáil uisce agus dramhuisce, nó</td>\n",
       "      <td>True</td>\n",
       "    </tr>\n",
       "    <tr>\n",
       "      <th>288023</th>\n",
       "      <td>That risk helped to keep our training sharp. Also, the reason for training is very important to keep it relevant.</td>\n",
       "      <td>Choinnigh an baol sin ár dtraenáil ar bÁs. Freisin, tá an chúis atá le traenáil an-tábhachtach chun é a choinneáil ábhartha.</td>\n",
       "      <td>True</td>\n",
       "    </tr>\n",
       "    <tr>\n",
       "      <th>330829</th>\n",
       "      <td>following completion of the Internal Review procedure, you are dissatisfied with the decision; or</td>\n",
       "      <td>ag eascairt as nós imeachta an Achomhairc Inmheánaigh go mbíonn tú míshásta leis an gcinneadh; nó</td>\n",
       "      <td>True</td>\n",
       "    </tr>\n",
       "    <tr>\n",
       "      <th>216058</th>\n",
       "      <td>Example for eHouse.exe to check for updates to the data – Home Automation Controllers called “Salon” :</td>\n",
       "      <td>Sampla d'eHouse . exe a sheiceáil le haghaidh nuashonruithe ar na sonraí – Rialaitheoirí Uathoibriú Baile ar a dtugtar ” Salon ” :</td>\n",
       "      <td>True</td>\n",
       "    </tr>\n",
       "    <tr>\n",
       "      <th>110907</th>\n",
       "      <td>(e) A Member State of the European Communities or a state which is a party to the Transboundary Convention shall not be required, when applying for leave to apply for judicial review of a decision referred to in paragraph (c), to comply with the requirements of that paragraph.</td>\n",
       "      <td>(e)Ní cheanglófar ar Bhallstát de na Comhphobail Eorpacha ná ar stát is páirtí sa Choinbhinsiún Trasteorann, le linn dó iarratas a dhéanamh ar chead chun athbhreithniú breithiúnach ar chinneadh dá dtagraítear i mír (c) a iarraidh, forálacha an ailt sin a chomhlíonadh.</td>\n",
       "      <td>True</td>\n",
       "    </tr>\n",
       "    <tr>\n",
       "      <th>28172</th>\n",
       "      <td>(3) This Act shall be construed as one with the Acts.</td>\n",
       "      <td>(3) Forléireofar an tAcht seo agus na hAchta mar aon ní amháin.</td>\n",
       "      <td>True</td>\n",
       "    </tr>\n",
       "    <tr>\n",
       "      <th>15958</th>\n",
       "      <td>(2) The revocation of a collection permit under this section shall be in writing in the prescribed form and shall contain the prescribed particulars including a statement of the grounds of the revocation.</td>\n",
       "      <td>(2) Is i scríbhinn san fhoirm fhorordaithe a dhéanfar cúlghairm ar chead bailiúcháin faoin alt seo agus tabharfar inti na sonraí forordaithe, lena n-áirítear na cúiseanna gur cúlghaireadh an cead.</td>\n",
       "      <td>True</td>\n",
       "    </tr>\n",
       "    <tr>\n",
       "      <th>212222</th>\n",
       "      <td>EUROPA - Belgium in the EU</td>\n",
       "      <td>EUROPA - an Bheilg san AE</td>\n",
       "      <td>True</td>\n",
       "    </tr>\n",
       "    <tr>\n",
       "      <th>48645</th>\n",
       "      <td>(9) The following subsection shall be added to section 75 of the Act of 1948:</td>\n",
       "      <td>(9) Cuirfear an fo-alt seo a leanas le halt 75 d'Acht 1948:</td>\n",
       "      <td>True</td>\n",
       "    </tr>\n",
       "    <tr>\n",
       "      <th>75380</th>\n",
       "      <td>(b) a bottle or container which contains an intoxicating substance is in the possession of the relevant person, and</td>\n",
       "      <td>(b) go bhfuil buidéal nó coimeádán ina bhfuil substaint mheisciúil i seilbh an duine iomchuí, agus</td>\n",
       "      <td>True</td>\n",
       "    </tr>\n",
       "    <tr>\n",
       "      <th>92977</th>\n",
       "      <td>(b) the seeking, at that time, by a person so involved of assistance or guidance from the defendant,</td>\n",
       "      <td>(b) cúnamh nó treoir a bheith á iarraidh nó á hiarraidh ag duine atá páirteach amhlaidh, an tráth sin, ar an gcosantóir,</td>\n",
       "      <td>True</td>\n",
       "    </tr>\n",
       "    <tr>\n",
       "      <th>235921</th>\n",
       "      <td>If you want to achieve quick results, then you are better off going for oral steroids.</td>\n",
       "      <td>Más mian leat chun torthaí tapaidh a bhaint amach, ansin tá tú níos fearr as dul do stéaróidigh ó bhéal.</td>\n",
       "      <td>True</td>\n",
       "    </tr>\n",
       "    <tr>\n",
       "      <th>34551</th>\n",
       "      <td>(4) The Minister may, by regulations, prescribe the form of a certificate under this section.</td>\n",
       "      <td>(4) Féadfaidh an tAire, le rialacháin, foirm deimhnithe faoin alt seo a fhorordú.</td>\n",
       "      <td>True</td>\n",
       "    </tr>\n",
       "    <tr>\n",
       "      <th>82148</th>\n",
       "      <td>(b) if the consideration is reduced or a discount is allowed, the person shall issue to the accountable person a document (in this Act referred to as a credit note) containing particulars of the reduction or discount in such form and containing such other particulars as may be specified by regulations, and the amount which the accountable person may deduct under section 12 shall, in accordance with regulations, be reduced by the amount of tax shown on the credit note.</td>\n",
       "      <td>(b) má laghdaítear an chomaoin nó má lamháiltear lascaine, eiseoidh an duine don duine cuntasach doiciméad (da ngairtear nóta sochair san Acht seo) ina mbeidh sonraí ar an laghdú nó ar an lascaine i cibé foirm agus ina mbeidh cibé sonraí eile a shonrófar le rialacháin, agus déanfar an méid a fhéadfaidh an duine cuntasach a asbhaint faoi alt 12 a laghdú, de réir rialachán, de mhéid na cánach a thaispeántar ar an nóta sochair.</td>\n",
       "      <td>True</td>\n",
       "    </tr>\n",
       "    <tr>\n",
       "      <th>35840</th>\n",
       "      <td>(4) Where a banker makes default in delivering any account required by any such agreement or in paying the duty payable on the delivery of any such account, he shall be liable to a fine not exceeding fifty pounds for any day during which the default continues and shall also be liable to pay, in addition to the duty, interest thereon, which shall be recoverable in the same manner as if it were part thereof, at the rate of five per cent. per annum from the date when the default begins.</td>\n",
       "      <td>(4) Má mhainníonn baincéir aon chuntas a sheachadadh is gá a sheachadadh de réir aon chomhaontaithe den tsórt sin nó an dleacht a íoc is iníoctha ar aon chuntas den tsórt sin a sheachadadh, dlífidh sé fíneáil nach mó ná caoga punt a íoc in aghaidh gach lae a leanfaidh an mhainneachtain agus dlífidh sé freisin, i dteannta na dleachta, ús ar an dleacht a íoc, a bheidh inghnóthaithe amhail is dá mba chuid den dleacht é, de réir chúig faoin gcéad sa bhliain ón dáta a thosaigh an mhainneachtain.</td>\n",
       "      <td>True</td>\n",
       "    </tr>\n",
       "    <tr>\n",
       "      <th>137550</th>\n",
       "      <td>*Rope light *Led rope light *virtual reality lighting *tree light</td>\n",
       "      <td>*Rope éadrom *Bhfianaise faoi stiúir téad *soilsiú réaltacht fhíorúil *éadrom crann</td>\n",
       "      <td>True</td>\n",
       "    </tr>\n",
       "  </tbody>\n",
       "</table>\n",
       "</div>"
      ],
      "text/plain": [
       "                                                                                                                                                                                                                                                                                                                                                                                                                                                                                                              en  \\\n",
       "190946                                                                                                                                                                                                                                                                     Among various hypotheses, that of the reduction and fragmentation of habitats of specific species was chosen. A effet, the lesser horseshoe bat is unusual to move along linear landscape elements, such as hedgerows or wood edging.   \n",
       "322064                                                                                                                                                                                                                                                                                                                                                                                                                                                                  Where do you stand? Is this system fair?   \n",
       "133999                                                                                                                                                                                                                                                                                                                                                                                                                     (iv) in case the order comes into operation on a day which is not a 1st day of April—   \n",
       "215838                                                                                                                                                                                                                                                                                                            Every time one of your adverts are shown or clicked on it costs one Advertising Credits. Additionally it costs an Advertising Credit every time your website is shown in the Autosurf feature.   \n",
       "136341                                                                                                                                                                                                                                                                                                                                                                  (v) requirements in relation to the treatment, re-use or disposal of by-products arising from the treatment of water and waste water, or   \n",
       "288023                                                                                                                                                                                                                                                                                                                                                                                         That risk helped to keep our training sharp. Also, the reason for training is very important to keep it relevant.   \n",
       "330829                                                                                                                                                                                                                                                                                                                                                                                                         following completion of the Internal Review procedure, you are dissatisfied with the decision; or   \n",
       "216058                                                                                                                                                                                                                                                                                                                                                                                                    Example for eHouse.exe to check for updates to the data – Home Automation Controllers called “Salon” :   \n",
       "110907                                                                                                                                                                                                                     (e) A Member State of the European Communities or a state which is a party to the Transboundary Convention shall not be required, when applying for leave to apply for judicial review of a decision referred to in paragraph (c), to comply with the requirements of that paragraph.   \n",
       "28172                                                                                                                                                                                                                                                                                                                                                                                                                                                      (3) This Act shall be construed as one with the Acts.   \n",
       "15958                                                                                                                                                                                                                                                                                               (2) The revocation of a collection permit under this section shall be in writing in the prescribed form and shall contain the prescribed particulars including a statement of the grounds of the revocation.   \n",
       "212222                                                                                                                                                                                                                                                                                                                                                                                                                                                                                EUROPA - Belgium in the EU   \n",
       "48645                                                                                                                                                                                                                                                                                                                                                                                                                              (9) The following subsection shall be added to section 75 of the Act of 1948:   \n",
       "75380                                                                                                                                                                                                                                                                                                                                                                                        (b) a bottle or container which contains an intoxicating substance is in the possession of the relevant person, and   \n",
       "92977                                                                                                                                                                                                                                                                                                                                                                                                       (b) the seeking, at that time, by a person so involved of assistance or guidance from the defendant,   \n",
       "235921                                                                                                                                                                                                                                                                                                                                                                                                                    If you want to achieve quick results, then you are better off going for oral steroids.   \n",
       "34551                                                                                                                                                                                                                                                                                                                                                                                                              (4) The Minister may, by regulations, prescribe the form of a certificate under this section.   \n",
       "82148                   (b) if the consideration is reduced or a discount is allowed, the person shall issue to the accountable person a document (in this Act referred to as a credit note) containing particulars of the reduction or discount in such form and containing such other particulars as may be specified by regulations, and the amount which the accountable person may deduct under section 12 shall, in accordance with regulations, be reduced by the amount of tax shown on the credit note.   \n",
       "35840   (4) Where a banker makes default in delivering any account required by any such agreement or in paying the duty payable on the delivery of any such account, he shall be liable to a fine not exceeding fifty pounds for any day during which the default continues and shall also be liable to pay, in addition to the duty, interest thereon, which shall be recoverable in the same manner as if it were part thereof, at the rate of five per cent. per annum from the date when the default begins.   \n",
       "137550                                                                                                                                                                                                                                                                                                                                                                                                                                         *Rope light *Led rope light *virtual reality lighting *tree light   \n",
       "\n",
       "                                                                                                                                                                                                                                                                                                                                                                                                                                                                                                                     ga  \\\n",
       "190946                                                                                                                                                         Mar sin féin, tá taithí sé suntasach laghdú méide , nach bhfuil cúiseanna atá aitheanta go maith fós . I measc na hipitéisí éagsúla , Roghnaíodh go bhfuil an laghdú agus ilroinnt gnáthóg de speicis ar leith . En effet , Is é an bat lú chrú neamhghnách chun bogadh in éineacht gnéithe tírdhreacha líneach , ar nós fálta sceach nó adhmad edging .   \n",
       "322064                                                                                                                                                                                                                                                                                                                                                                                                                                                                                  An bhfuil an córas seo cothrom?   \n",
       "133999                                                                                                                                                                                                                                                                                                                                                                                                                                        (iv) i gcás an t-ordú a theacht i ngníomh lá nach é an 1ú lá d'Aibreán é—   \n",
       "215838                                                                                                                                                                                                                                                                     Gach ceann am do fógraí ar taispeáint nó chliceáil ar chostais sé ar cheann Creidmheasanna Fógraíocht. Ina theannta sin costais sé ar Chreidmheas Fógraíocht gach uair a chuirtear ar do láithreán gréasáin a thaispeántar sa ghné Autosurf.   \n",
       "136341                                                                                                                                                                                                                                                                                                                                                                     (v) ceanglais maidir le seachtháirgí a chóireáil, a athúsáid nó a dhiúscairt is seachtháirgí a éiríonn as cóireáil uisce agus dramhuisce, nó   \n",
       "288023                                                                                                                                                                                                                                                                                                                                                                                     Choinnigh an baol sin ár dtraenáil ar bÁs. Freisin, tá an chúis atá le traenáil an-tábhachtach chun é a choinneáil ábhartha.   \n",
       "330829                                                                                                                                                                                                                                                                                                                                                                                                                ag eascairt as nós imeachta an Achomhairc Inmheánaigh go mbíonn tú míshásta leis an gcinneadh; nó   \n",
       "216058                                                                                                                                                                                                                                                                                                                                                                               Sampla d'eHouse . exe a sheiceáil le haghaidh nuashonruithe ar na sonraí – Rialaitheoirí Uathoibriú Baile ar a dtugtar ” Salon ” :   \n",
       "110907                                                                                                                                                                                                                                     (e)Ní cheanglófar ar Bhallstát de na Comhphobail Eorpacha ná ar stát is páirtí sa Choinbhinsiún Trasteorann, le linn dó iarratas a dhéanamh ar chead chun athbhreithniú breithiúnach ar chinneadh dá dtagraítear i mír (c) a iarraidh, forálacha an ailt sin a chomhlíonadh.   \n",
       "28172                                                                                                                                                                                                                                                                                                                                                                                                                                                   (3) Forléireofar an tAcht seo agus na hAchta mar aon ní amháin.   \n",
       "15958                                                                                                                                                                                                                                                                                                              (2) Is i scríbhinn san fhoirm fhorordaithe a dhéanfar cúlghairm ar chead bailiúcháin faoin alt seo agus tabharfar inti na sonraí forordaithe, lena n-áirítear na cúiseanna gur cúlghaireadh an cead.   \n",
       "212222                                                                                                                                                                                                                                                                                                                                                                                                                                                                                        EUROPA - an Bheilg san AE   \n",
       "48645                                                                                                                                                                                                                                                                                                                                                                                                                                                       (9) Cuirfear an fo-alt seo a leanas le halt 75 d'Acht 1948:   \n",
       "75380                                                                                                                                                                                                                                                                                                                                                                                                                (b) go bhfuil buidéal nó coimeádán ina bhfuil substaint mheisciúil i seilbh an duine iomchuí, agus   \n",
       "92977                                                                                                                                                                                                                                                                                                                                                                                          (b) cúnamh nó treoir a bheith á iarraidh nó á hiarraidh ag duine atá páirteach amhlaidh, an tráth sin, ar an gcosantóir,   \n",
       "235921                                                                                                                                                                                                                                                                                                                                                                                                         Más mian leat chun torthaí tapaidh a bhaint amach, ansin tá tú níos fearr as dul do stéaróidigh ó bhéal.   \n",
       "34551                                                                                                                                                                                                                                                                                                                                                                                                                                 (4) Féadfaidh an tAire, le rialacháin, foirm deimhnithe faoin alt seo a fhorordú.   \n",
       "82148                                                                      (b) má laghdaítear an chomaoin nó má lamháiltear lascaine, eiseoidh an duine don duine cuntasach doiciméad (da ngairtear nóta sochair san Acht seo) ina mbeidh sonraí ar an laghdú nó ar an lascaine i cibé foirm agus ina mbeidh cibé sonraí eile a shonrófar le rialacháin, agus déanfar an méid a fhéadfaidh an duine cuntasach a asbhaint faoi alt 12 a laghdú, de réir rialachán, de mhéid na cánach a thaispeántar ar an nóta sochair.   \n",
       "35840   (4) Má mhainníonn baincéir aon chuntas a sheachadadh is gá a sheachadadh de réir aon chomhaontaithe den tsórt sin nó an dleacht a íoc is iníoctha ar aon chuntas den tsórt sin a sheachadadh, dlífidh sé fíneáil nach mó ná caoga punt a íoc in aghaidh gach lae a leanfaidh an mhainneachtain agus dlífidh sé freisin, i dteannta na dleachta, ús ar an dleacht a íoc, a bheidh inghnóthaithe amhail is dá mba chuid den dleacht é, de réir chúig faoin gcéad sa bhliain ón dáta a thosaigh an mhainneachtain.   \n",
       "137550                                                                                                                                                                                                                                                                                                                                                                                                                              *Rope éadrom *Bhfianaise faoi stiúir téad *soilsiú réaltacht fhíorúil *éadrom crann   \n",
       "\n",
       "        clean  \n",
       "190946   True  \n",
       "322064   True  \n",
       "133999   True  \n",
       "215838   True  \n",
       "136341   True  \n",
       "288023   True  \n",
       "330829   True  \n",
       "216058   True  \n",
       "110907   True  \n",
       "28172    True  \n",
       "15958    True  \n",
       "212222   True  \n",
       "48645    True  \n",
       "75380    True  \n",
       "92977    True  \n",
       "235921   True  \n",
       "34551    True  \n",
       "82148    True  \n",
       "35840    True  \n",
       "137550   True  "
      ]
     },
     "execution_count": 143,
     "metadata": {},
     "output_type": "execute_result"
    }
   ],
   "source": [
    "df_to_exp.sample(20)"
   ]
  },
  {
   "cell_type": "markdown",
   "metadata": {},
   "source": [
    "# END"
   ]
  },
  {
   "cell_type": "markdown",
   "metadata": {},
   "source": [
    "**We could stop at this point and continue to loop through selecting new datapoints of interest and removing them from our full dataset, but for fun lets look at another way to do similarity search, using nmslib**"
   ]
  },
  {
   "cell_type": "markdown",
   "metadata": {},
   "source": [
    "#### Creating a nmslib Index\n",
    "> Note: *As an alternative to Sci-kit Learn's cosine similarity function we can also use nmslib to calculate our similarity. Note this method is slower given our needs in this example, but its always fun to work with a new technology* 😀"
   ]
  },
  {
   "cell_type": "markdown",
   "metadata": {},
   "source": [
    "Once we have all of our embeddings we can create our index with nmslib. This is the most time-consuming part of this process, it took 47minutes for the index to be created in this example, although there are other nmslib settings thatn can reduce this to ~15minutes.\n",
    "\n",
    "We create an index for our entire dataset **only once**.  We create an index for the entire dataset because we will likely have multiple queries we do not want to re-create a new index each time as it will really slow down how fast we can identify and remove low quality data.\n",
    "\n",
    "> Note: (This index will now include our sample datapoints, which are the same datapoints that we use in our query to the index. Therefore we will have to exclude these sample datapoints from our query result)"
   ]
  },
  {
   "cell_type": "code",
   "execution_count": 20,
   "metadata": {
    "scrolled": true
   },
   "outputs": [],
   "source": [
    "#hide\n",
    "full_index = nmslib.init(method='hnsw', space='cosinesimil')\n",
    "full_index.addDataPointBatch(full_emb.numpy())\n",
    "\n",
    "# CREATE\n",
    "# Creating an index for our 784k embeddings takes 47 minutes. we can trade off the quality of our index for a faster creation time if we'd like.\n",
    "# 'post','M','efConstruction' parameter explanations here: https://github.com/nmslib/nmslib/blob/master/manual/methods.md\n",
    "full_index.createIndex({'post': 2, 'M':80, 'efConstruction':1000}, print_progress=True)\n",
    "\n",
    "# SAVE\n",
    "full_index_nm='models/full_index.bin'\n",
    "full_index.saveIndex(full_index_nm, save_data=True)\n",
    "\n",
    "# LOAD\n",
    "# To load the index again\n",
    "# index = nmslib.init(method='hnsw', space='cosinesimil')\n",
    "# index.loadIndex(full_index_nm, load_data=True)"
   ]
  },
  {
   "cell_type": "code",
   "execution_count": null,
   "metadata": {},
   "outputs": [],
   "source": [
    "#hide\n",
    "#NMS resources\n",
    "# Code from https://github.com/benfred/bens-blog-code/blob/master/approximate_als/test_batch_queries.py\n",
    "#         Associated blog post: http://www.benfrederickson.com/approximate-nearest-neighbours-for-recommender-systems/\n",
    "#         nmslib parameter details here: https://github.com/nmslib/nmslib/blob/master/manual/methods.md\n",
    "\n",
    "# Sample Class:\n",
    "# class NMSLibIndex(object):\n",
    "#     ''' \n",
    "#         Taken from https://github.com/benfred/bens-blog-code/blob/master/approximate_als/test_batch_queries.py\n",
    "#         Associated blog post: http://www.benfrederickson.com/approximate-nearest-neighbours-for-recommender-systems/\n",
    "#         nmslib parameter details here: https://github.com/nmslib/nmslib/blob/master/manual/methods.md\n",
    "#     '''\n",
    "#     def __init__(self, method, indexparams, queryparams):\n",
    "#         self.method = method\n",
    "#         self.indexparams = indexparams\n",
    "#         self.queryparams = queryparams\n",
    "\n",
    "#     def fit(self, data):\n",
    "#         self.index = nmslib.init(method=self.method, space='cosinesimil')\n",
    "#         self.index.addDataPointBatch(data)\n",
    "#         self.index.createIndex(self.indexparams, print_progress=True)\n",
    "\n",
    "#     def query_batch(self, queries, n=10):\n",
    "#         return self.index.knnQueryBatch(queries, n)\n",
    "\n",
    "# indices = {\n",
    "#         'hnsw(post=0)': NMSLibIndex(method='hnsw',\n",
    "#                                    indexparams=[\n",
    "#                                        'M=32', 'post=0', 'efConstruction=800'],\n",
    "#                                    queryparams=['ef=90']),\n",
    "#         'hnsw(M=50post=2ef1500)': NMSLibIndex(method='hnsw',\n",
    "#                                    indexparams=[\n",
    "#                                        'M=50', 'post=2', 'efConstruction=1500'],\n",
    "#                                    queryparams=['ef=500']),\n",
    "#         'hnsw(post=2)': NMSLibIndex(method='hnsw',\n",
    "#                                    indexparams=[\n",
    "#                                        'M=32', 'post=2', 'efConstruction=800'],\n",
    "#                                    queryparams=['ef=50'])}"
   ]
  },
  {
   "cell_type": "markdown",
   "metadata": {},
   "source": [
    "#### Querying the Index\n",
    "Below are the sampled results from querying the full dataset, found through similarity search with an average embedding of the selection from the bokeh plot:"
   ]
  },
  {
   "cell_type": "markdown",
   "metadata": {},
   "source": [
    "**Arabic**"
   ]
  },
  {
   "cell_type": "code",
   "execution_count": 184,
   "metadata": {},
   "outputs": [
    {
     "name": "stdout",
     "output_type": "stream",
     "text": [
      "1691 ids returned from query\n"
     ]
    },
    {
     "data": {
      "text/html": [
       "<div>\n",
       "<style scoped>\n",
       "    .dataframe tbody tr th:only-of-type {\n",
       "        vertical-align: middle;\n",
       "    }\n",
       "\n",
       "    .dataframe tbody tr th {\n",
       "        vertical-align: top;\n",
       "    }\n",
       "\n",
       "    .dataframe thead th {\n",
       "        text-align: right;\n",
       "    }\n",
       "</style>\n",
       "<table border=\"1\" class=\"dataframe\">\n",
       "  <thead>\n",
       "    <tr style=\"text-align: right;\">\n",
       "      <th></th>\n",
       "      <th>ga</th>\n",
       "      <th>en</th>\n",
       "      <th>noise_type</th>\n",
       "    </tr>\n",
       "  </thead>\n",
       "  <tbody>\n",
       "    <tr>\n",
       "      <th>566807</th>\n",
       "      <td>قلعة فن البكسل ( pixels art )</td>\n",
       "      <td>طريقه عمل اطار منقط</td>\n",
       "      <td>na</td>\n",
       "    </tr>\n",
       "    <tr>\n",
       "      <th>571586</th>\n",
       "      <td>مواقع الارسال المجانى free sms ( 1 2)</td>\n",
       "      <td>لا تستطيع الرد على المواضيع</td>\n",
       "      <td>na</td>\n",
       "    </tr>\n",
       "    <tr>\n",
       "      <th>571682</th>\n",
       "      <td>قلعة دروس الفيكتور illustrator و coreldraw</td>\n",
       "      <td>اللهم صلي وسلم على نبينا محمد</td>\n",
       "      <td>na</td>\n",
       "    </tr>\n",
       "    <tr>\n",
       "      <th>570557</th>\n",
       "      <td>مــحل الإقـامة: jordan - palestine</td>\n",
       "      <td>قلعة الصور الخاصة بالتصميم</td>\n",
       "      <td>na</td>\n",
       "    </tr>\n",
       "    <tr>\n",
       "      <th>566810</th>\n",
       "      <td>مــحل الإقـامة: jordan - palestine</td>\n",
       "      <td>مــحل الإقـامة: في الفوتوشوب</td>\n",
       "      <td>na</td>\n",
       "    </tr>\n",
       "  </tbody>\n",
       "</table>\n",
       "</div>"
      ],
      "text/plain": [
       "                                                ga  \\\n",
       "566807               قلعة فن البكسل ( pixels art )   \n",
       "571586       مواقع الارسال المجانى free sms ( 1 2)   \n",
       "571682  قلعة دروس الفيكتور illustrator و coreldraw   \n",
       "570557          مــحل الإقـامة: jordan - palestine   \n",
       "566810          مــحل الإقـامة: jordan - palestine   \n",
       "\n",
       "                                   en noise_type  \n",
       "566807            طريقه عمل اطار منقط         na  \n",
       "571586    لا تستطيع الرد على المواضيع         na  \n",
       "571682  اللهم صلي وسلم على نبينا محمد         na  \n",
       "570557     قلعة الصور الخاصة بالتصميم         na  \n",
       "566810   مــحل الإقـامة: في الفوتوشوب         na  "
      ]
     },
     "execution_count": 184,
     "metadata": {},
     "output_type": "execute_result"
    }
   ],
   "source": [
    "#hide_input\n",
    "show_similar(samp_embs, fin_selected_indxs, full_index)"
   ]
  },
  {
   "cell_type": "markdown",
   "metadata": {},
   "source": [
    "**Lighting**"
   ]
  },
  {
   "cell_type": "code",
   "execution_count": 187,
   "metadata": {},
   "outputs": [
    {
     "name": "stdout",
     "output_type": "stream",
     "text": [
      "1699 ids returned from query\n"
     ]
    },
    {
     "data": {
      "text/html": [
       "<div>\n",
       "<style scoped>\n",
       "    .dataframe tbody tr th:only-of-type {\n",
       "        vertical-align: middle;\n",
       "    }\n",
       "\n",
       "    .dataframe tbody tr th {\n",
       "        vertical-align: top;\n",
       "    }\n",
       "\n",
       "    .dataframe thead th {\n",
       "        text-align: right;\n",
       "    }\n",
       "</style>\n",
       "<table border=\"1\" class=\"dataframe\">\n",
       "  <thead>\n",
       "    <tr style=\"text-align: right;\">\n",
       "      <th></th>\n",
       "      <th>ga</th>\n",
       "      <th>en</th>\n",
       "      <th>noise_type</th>\n",
       "    </tr>\n",
       "  </thead>\n",
       "  <tbody>\n",
       "    <tr>\n",
       "      <th>690718</th>\n",
       "      <td>an tsín bhí guangdong soilse linn snámha faoi stiúir monaróirí agus atá liostaithe anseo a fháil ag an soilsiú karnar.</td>\n",
       "      <td>the featured china guangdong 3x5 watts led-e27 manufacturers and listed here are sourced by the karnar lighting.</td>\n",
       "      <td>lighting</td>\n",
       "    </tr>\n",
       "    <tr>\n",
       "      <th>477330</th>\n",
       "      <td>foinse do gairdín lawn monaróirí ag soilsiú karnar zhongshan &amp; leictreon mhonarcha.</td>\n",
       "      <td>source for high power led wall washer 144w led wall washer manufacturers at zhongshan karnar lighting &amp; electron factory.</td>\n",
       "      <td>lighting</td>\n",
       "    </tr>\n",
       "    <tr>\n",
       "      <th>479274</th>\n",
       "      <td>an tsín bhí guangdong cumhacht ard-éadrom lawn faoi stiúir monaróirí agus atá liostaithe anseo a fháil ag an soilsiú karnar.</td>\n",
       "      <td>the featured china guangdong 3 watts led under ground lights round type manufacturers and listed here are sourced by the karnar lighting.</td>\n",
       "      <td>lighting</td>\n",
       "    </tr>\n",
       "    <tr>\n",
       "      <th>636797</th>\n",
       "      <td>an tsín bhí guangdong faoi stiúir tube monaróirí agus atá liostaithe anseo a fháil ag an soilsiú karnar.</td>\n",
       "      <td>the featured china guangdong led spot light flash lamp and fancy ball manufacturers and listed here are sourced by the karnar lighting.</td>\n",
       "      <td>lighting</td>\n",
       "    </tr>\n",
       "    <tr>\n",
       "      <th>692603</th>\n",
       "      <td>an tsín bhí guangdong faoi stiúir connectable soilse na nollag monaróirí agus atá liostaithe anseo a fháil ag an soilsiú karnar.</td>\n",
       "      <td>the featured china guangdong high-power led colorful 500w led wall washer manufacturers and listed here are sourced by the karnar lighting.</td>\n",
       "      <td>lighting</td>\n",
       "    </tr>\n",
       "  </tbody>\n",
       "</table>\n",
       "</div>"
      ],
      "text/plain": [
       "                                                                                                                                      ga  \\\n",
       "690718            an tsín bhí guangdong soilse linn snámha faoi stiúir monaróirí agus atá liostaithe anseo a fháil ag an soilsiú karnar.   \n",
       "477330                                               foinse do gairdín lawn monaróirí ag soilsiú karnar zhongshan & leictreon mhonarcha.   \n",
       "479274      an tsín bhí guangdong cumhacht ard-éadrom lawn faoi stiúir monaróirí agus atá liostaithe anseo a fháil ag an soilsiú karnar.   \n",
       "636797                          an tsín bhí guangdong faoi stiúir tube monaróirí agus atá liostaithe anseo a fháil ag an soilsiú karnar.   \n",
       "692603  an tsín bhí guangdong faoi stiúir connectable soilse na nollag monaróirí agus atá liostaithe anseo a fháil ag an soilsiú karnar.   \n",
       "\n",
       "                                                                                                                                                 en  \\\n",
       "690718                             the featured china guangdong 3x5 watts led-e27 manufacturers and listed here are sourced by the karnar lighting.   \n",
       "477330                    source for high power led wall washer 144w led wall washer manufacturers at zhongshan karnar lighting & electron factory.   \n",
       "479274    the featured china guangdong 3 watts led under ground lights round type manufacturers and listed here are sourced by the karnar lighting.   \n",
       "636797      the featured china guangdong led spot light flash lamp and fancy ball manufacturers and listed here are sourced by the karnar lighting.   \n",
       "692603  the featured china guangdong high-power led colorful 500w led wall washer manufacturers and listed here are sourced by the karnar lighting.   \n",
       "\n",
       "       noise_type  \n",
       "690718   lighting  \n",
       "477330   lighting  \n",
       "479274   lighting  \n",
       "636797   lighting  \n",
       "692603   lighting  "
      ]
     },
     "execution_count": 187,
     "metadata": {},
     "output_type": "execute_result"
    }
   ],
   "source": [
    "#hide_input\n",
    "show_similar(samp_embs, fin_selected_indxs, full_index)"
   ]
  },
  {
   "cell_type": "markdown",
   "metadata": {},
   "source": [
    "**Website Footer**"
   ]
  },
  {
   "cell_type": "code",
   "execution_count": 189,
   "metadata": {},
   "outputs": [
    {
     "name": "stdout",
     "output_type": "stream",
     "text": [
      "1825 ids returned from query\n"
     ]
    },
    {
     "data": {
      "text/html": [
       "<div>\n",
       "<style scoped>\n",
       "    .dataframe tbody tr th:only-of-type {\n",
       "        vertical-align: middle;\n",
       "    }\n",
       "\n",
       "    .dataframe tbody tr th {\n",
       "        vertical-align: top;\n",
       "    }\n",
       "\n",
       "    .dataframe thead th {\n",
       "        text-align: right;\n",
       "    }\n",
       "</style>\n",
       "<table border=\"1\" class=\"dataframe\">\n",
       "  <thead>\n",
       "    <tr style=\"text-align: right;\">\n",
       "      <th></th>\n",
       "      <th>ga</th>\n",
       "      <th>en</th>\n",
       "      <th>noise_type</th>\n",
       "    </tr>\n",
       "  </thead>\n",
       "  <tbody>\n",
       "    <tr>\n",
       "      <th>696159</th>\n",
       "      <td>©2005-2010 karnardéan teagmháil linnnasc linnléarscáil an láithreáinlast modified: august 08 2016 02:43:19.</td>\n",
       "      <td>©2005-2010 karnarsambandlink okkurveftrélast modified: august 08 2016 04:06:45.</td>\n",
       "      <td>na</td>\n",
       "    </tr>\n",
       "    <tr>\n",
       "      <th>478396</th>\n",
       "      <td>©2005-2010 karnardéan teagmháil linnnasc linnléarscáil an láithreáinlast modified: july 31 2016 00:39:06.</td>\n",
       "      <td>©2005-2010 karnarcontact uslink ussite maplast modified: july 30 2016 22:04:01.</td>\n",
       "      <td>na</td>\n",
       "    </tr>\n",
       "    <tr>\n",
       "      <th>538977</th>\n",
       "      <td>©2005-2010 karnardéan teagmháil linnnasc linnléarscáil an láithreáinlast modified: july 14 2016 20:20:33.</td>\n",
       "      <td>©2005-2010 karnarcontact uslink ussite maplast modified: july 15 2016 01:50:20.</td>\n",
       "      <td>na</td>\n",
       "    </tr>\n",
       "    <tr>\n",
       "      <th>684675</th>\n",
       "      <td>©2005-2010 karnardéan teagmháil linnnasc linnléarscáil an láithreáinlast modified: august 08 2016 01:19:15.</td>\n",
       "      <td>©2005-2010 karnarcontactez-nousnous lierplan du sitelast modified: august 08 2016 03:54:30.</td>\n",
       "      <td>na</td>\n",
       "    </tr>\n",
       "    <tr>\n",
       "      <th>534904</th>\n",
       "      <td>©2005-2010 karnardéan teagmháil linnnasc linnléarscáil an láithreáinlast modified: july 31 2016 11:57:09.</td>\n",
       "      <td>©2005-2010 karnarcontact uslink ussite maplast modified: july 31 2016 09:46:30.</td>\n",
       "      <td>na</td>\n",
       "    </tr>\n",
       "  </tbody>\n",
       "</table>\n",
       "</div>"
      ],
      "text/plain": [
       "                                                                                                                 ga  \\\n",
       "696159  ©2005-2010 karnardéan teagmháil linnnasc linnléarscáil an láithreáinlast modified: august 08 2016 02:43:19.   \n",
       "478396    ©2005-2010 karnardéan teagmháil linnnasc linnléarscáil an láithreáinlast modified: july 31 2016 00:39:06.   \n",
       "538977    ©2005-2010 karnardéan teagmháil linnnasc linnléarscáil an láithreáinlast modified: july 14 2016 20:20:33.   \n",
       "684675  ©2005-2010 karnardéan teagmháil linnnasc linnléarscáil an láithreáinlast modified: august 08 2016 01:19:15.   \n",
       "534904    ©2005-2010 karnardéan teagmháil linnnasc linnléarscáil an láithreáinlast modified: july 31 2016 11:57:09.   \n",
       "\n",
       "                                                                                                 en  \\\n",
       "696159              ©2005-2010 karnarsambandlink okkurveftrélast modified: august 08 2016 04:06:45.   \n",
       "478396              ©2005-2010 karnarcontact uslink ussite maplast modified: july 30 2016 22:04:01.   \n",
       "538977              ©2005-2010 karnarcontact uslink ussite maplast modified: july 15 2016 01:50:20.   \n",
       "684675  ©2005-2010 karnarcontactez-nousnous lierplan du sitelast modified: august 08 2016 03:54:30.   \n",
       "534904              ©2005-2010 karnarcontact uslink ussite maplast modified: july 31 2016 09:46:30.   \n",
       "\n",
       "       noise_type  \n",
       "696159         na  \n",
       "478396         na  \n",
       "538977         na  \n",
       "684675         na  \n",
       "534904         na  "
      ]
     },
     "execution_count": 189,
     "metadata": {},
     "output_type": "execute_result"
    }
   ],
   "source": [
    "#hide_input\n",
    "show_similar(samp_embs, fin_selected_indxs, full_index)"
   ]
  },
  {
   "cell_type": "markdown",
   "metadata": {},
   "source": [
    "**Clothing and Jewelery**"
   ]
  },
  {
   "cell_type": "code",
   "execution_count": 181,
   "metadata": {},
   "outputs": [
    {
     "name": "stdout",
     "output_type": "stream",
     "text": [
      "1938 ids returned from query\n"
     ]
    },
    {
     "data": {
      "text/html": [
       "<div>\n",
       "<style scoped>\n",
       "    .dataframe tbody tr th:only-of-type {\n",
       "        vertical-align: middle;\n",
       "    }\n",
       "\n",
       "    .dataframe tbody tr th {\n",
       "        vertical-align: top;\n",
       "    }\n",
       "\n",
       "    .dataframe thead th {\n",
       "        text-align: right;\n",
       "    }\n",
       "</style>\n",
       "<table border=\"1\" class=\"dataframe\">\n",
       "  <thead>\n",
       "    <tr style=\"text-align: right;\">\n",
       "      <th></th>\n",
       "      <th>ga</th>\n",
       "      <th>en</th>\n",
       "      <th>noise_type</th>\n",
       "    </tr>\n",
       "  </thead>\n",
       "  <tbody>\n",
       "    <tr>\n",
       "      <th>641483</th>\n",
       "      <td>home:: uaireadóirí hublot:: sraith fusion classic:: sraith 45mm fusion classic:: macasamhail hublot classic comhleá sraith faire 45mm 511.zx.1170</td>\n",
       "      <td>home:: hublot watches:: classic fusion series:: classic fusion 45mm series:: replica hublot classic fusion 45mm watch series 401.mx.0123.gr [da02]</td>\n",
       "      <td>na</td>\n",
       "    </tr>\n",
       "    <tr>\n",
       "      <th>79453</th>\n",
       "      <td>pandora bead óir ivy óir - €10.23 : jewelry pandora saor, pandoraaustraliabracelets.com</td>\n",
       "      <td>pandora gold bead ivy gold - $11.00 : cheap pandora jewelry, pandoraaustraliabracelets.com</td>\n",
       "      <td>na</td>\n",
       "    </tr>\n",
       "    <tr>\n",
       "      <th>615744</th>\n",
       "      <td>clrip036a 925 sterling silver bán crystal ring - €28.83 : jewelry pandora saor , pandoraforyou.com</td>\n",
       "      <td>clrip036a 925 sterling silver white crystal ring - $31.00 : cheap pandora jewelry, pandoraforyou.com</td>\n",
       "      <td>na</td>\n",
       "    </tr>\n",
       "    <tr>\n",
       "      <th>67287</th>\n",
       "      <td>ard-chumhacht táirgí faoi stiúir &gt; cumhacht ard-threoraithe colorful &gt; product-list</td>\n",
       "      <td>led lighting &gt; high-power led colorful &gt; product-list lww-10 lww-10-108p lww-10-206p lww-8c-108p</td>\n",
       "      <td>lighting</td>\n",
       "    </tr>\n",
       "    <tr>\n",
       "      <th>635957</th>\n",
       "      <td>prada málaí láimhe p - br4692 caife leathar : seaicéad spyder, pradahandbags.top</td>\n",
       "      <td>prada borse p - br4692 coffee leather : spyder giacca , pradahandbags.top</td>\n",
       "      <td>na</td>\n",
       "    </tr>\n",
       "  </tbody>\n",
       "</table>\n",
       "</div>"
      ],
      "text/plain": [
       "                                                                                                                                                       ga  \\\n",
       "641483  home:: uaireadóirí hublot:: sraith fusion classic:: sraith 45mm fusion classic:: macasamhail hublot classic comhleá sraith faire 45mm 511.zx.1170   \n",
       "79453                                                             pandora bead óir ivy óir - €10.23 : jewelry pandora saor, pandoraaustraliabracelets.com   \n",
       "615744                                                 clrip036a 925 sterling silver bán crystal ring - €28.83 : jewelry pandora saor , pandoraforyou.com   \n",
       "67287                                                                 ard-chumhacht táirgí faoi stiúir > cumhacht ard-threoraithe colorful > product-list   \n",
       "635957                                                                   prada málaí láimhe p - br4692 caife leathar : seaicéad spyder, pradahandbags.top   \n",
       "\n",
       "                                                                                                                                                        en  \\\n",
       "641483  home:: hublot watches:: classic fusion series:: classic fusion 45mm series:: replica hublot classic fusion 45mm watch series 401.mx.0123.gr [da02]   \n",
       "79453                                                           pandora gold bead ivy gold - $11.00 : cheap pandora jewelry, pandoraaustraliabracelets.com   \n",
       "615744                                                clrip036a 925 sterling silver white crystal ring - $31.00 : cheap pandora jewelry, pandoraforyou.com   \n",
       "67287                                                     led lighting > high-power led colorful > product-list lww-10 lww-10-108p lww-10-206p lww-8c-108p   \n",
       "635957                                                                           prada borse p - br4692 coffee leather : spyder giacca , pradahandbags.top   \n",
       "\n",
       "       noise_type  \n",
       "641483         na  \n",
       "79453          na  \n",
       "615744         na  \n",
       "67287    lighting  \n",
       "635957         na  "
      ]
     },
     "execution_count": 181,
     "metadata": {},
     "output_type": "execute_result"
    }
   ],
   "source": [
    "#hide_input\n",
    "show_similar(samp_embs, fin_selected_indxs, full_index)"
   ]
  },
  {
   "cell_type": "markdown",
   "metadata": {},
   "source": [
    "### Removal\n",
    "If we like we can limit our removal to only very similar embeddings in the full dataset by only selecting the datapoints in the full dataset that are sufficiently close (lower score) to the average embedding, plotting the score distribution can help us decide on a suitable threshold"
   ]
  },
  {
   "cell_type": "code",
   "execution_count": 193,
   "metadata": {},
   "outputs": [
    {
     "data": {
      "image/png": "[encoded data removed]",
      "text/plain": [
       "<Figure size 432x288 with 1 Axes>"
      ]
     },
     "metadata": {
      "needs_background": "light"
     },
     "output_type": "display_data"
    }
   ],
   "source": [
    "#hide_input\n",
    "avg_np=calc_avg_emg(samp_embs, fin_selected_indxs)\n",
    "avg_df=avg_query(full_index, avg_np, k=100000)\n",
    "sns.distplot(avg_df.dists, kde=False)\n",
    "plt.title('Cosine similarity between the average selection embedding and the full datset');"
   ]
  },
  {
   "cell_type": "code",
   "execution_count": 195,
   "metadata": {
    "scrolled": true
   },
   "outputs": [],
   "source": [
    "#hide\n",
    "# # [ALTERNATIVE] Find similar embeddings for every individual selected datapoint\n",
    "# #avg_np=np.expand_dims(avg_emb.numpy(), axis=0)\n",
    "# selected_embs = samp_embs[fin_selected_indxs];selected_embs.size()\n",
    "\n",
    "# # Translate our selected indices from the sample dataset into indices in the full dataset\n",
    "# fin_selected_main_indxs = df.loc[samp.loc[fin_selected_indxs]['main_index']].index.values.tolist()\n",
    "\n",
    "# full_index.setQueryTimeParams({'efSearch': 1000})\n",
    "\n",
    "# neighbours_dict={}\n",
    "# for k in [10,100,1000,10000]:\n",
    "#     neighbours = full_index.knnQueryBatch(selected_embs.numpy(), k=k)   # returns for each query: (indices, distances)\n",
    "\n",
    "#     inds_np_ls = [n[0] for n in neighbours]\n",
    "#     dists_np_ls = [n[1] for n in neighbours]\n",
    "#     tmp_inds = np.unique(np.concatenate(inds_np_ls).ravel())\n",
    "#     tmp_dists = np.concatenate(dists_np_ls).ravel()\n",
    "    \n",
    "#     tmp_df = pd.DataFrame({'inds':np.concatenate(inds_np_ls).ravel(),\n",
    "#                           'dists':np.concatenate(dists_np_ls).ravel()})\n",
    "#     # drop the query indices\n",
    "#     tmp_df=tmp_df.loc[~tmp_df.inds.isin(fin_selected_main_indxs)]\n",
    "#     # drop duplicate indices (distances will be biassed towards early query values)\n",
    "#     tmp_df.drop_duplicates(subset='inds', inplace=True, ignore_index=True)\n",
    "\n",
    "# #     # Remove the query indices\n",
    "# #     sorter = np.argsort(tmp_inds)\n",
    "# #     to_remove=sorter[np.searchsorted(tmp_inds, fin_selected_main_indxs, sorter=sorter)]   # indices to remove\n",
    "# #     fin_inds = np.delete(tmp_inds, to_remove)\n",
    "    \n",
    "#     neighbours_dict[f'k{k}_inds'] = tmp_df.inds.values #np.delete(tmp_inds, to_remove)\n",
    "#     neighbours_dict[f'k{k}_dists'] = tmp_df.dists.values #np.delete(tmp_dists, to_remove)\n",
    "#     print(f'{len(tmp_df.inds.values)} unique & similar indices returned for k = {k}')"
   ]
  },
  {
   "cell_type": "code",
   "execution_count": 194,
   "metadata": {},
   "outputs": [],
   "source": [
    "#hide\n",
    "# #hide_input\n",
    "# # for k 10,100,1000\n",
    "# colors=['skyblue', 'purple', 'black', 'teal']\n",
    "# for i,k in enumerate([10,100,1000,10000]):\n",
    "#     sns.distplot(neighbours_dict[f'k{k}_dists'] , color=colors[i], label=f'k={k}', kde=False)\n",
    "# plt.legend()"
   ]
  },
  {
   "cell_type": "markdown",
   "metadata": {},
   "source": [
    "## Summary\n",
    "Hopefully this gives you a sense of how you can explore and clean up large, noisy text datasets. You can open this notebook on github and test it for your own text dataset. \n",
    "\n",
    "As always, I would love to hear your feedback, what could have been written better or clearer, you can find me on twitter: [@mcgenergy](www.twitter.com/mcgenergy)"
   ]
  }
 ],
 "metadata": {
  "kernelspec": {
   "display_name": "Python 3",
   "language": "python",
   "name": "python3"
  },
  "language_info": {
   "codemirror_mode": {
    "name": "ipython",
    "version": 3
   },
   "file_extension": ".py",
   "mimetype": "text/x-python",
   "name": "python",
   "nbconvert_exporter": "python",
   "pygments_lexer": "ipython3",
   "version": "3.7.6"
  }
 },
 "nbformat": 4,
 "nbformat_minor": 4
}
