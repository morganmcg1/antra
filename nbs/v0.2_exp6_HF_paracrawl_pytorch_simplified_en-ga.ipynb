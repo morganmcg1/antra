{
 "cells": [
  {
   "cell_type": "markdown",
   "metadata": {},
   "source": [
    "# v0.2 - Exp5\n",
    "Same as Exp3 (5e) but 15e"
   ]
  },
  {
   "cell_type": "code",
   "execution_count": 1,
   "metadata": {},
   "outputs": [],
   "source": [
    "from fastai2.text.all import *\n",
    "from fastai2.callback.all import *\n",
    "from fastai2.basics import *\n",
    "import seaborn as sns\n",
    "\n",
    "from nlp import load_dataset\n",
    "\n",
    "from einops import rearrange\n",
    "import gc\n",
    "import csv"
   ]
  },
  {
   "cell_type": "code",
   "execution_count": 2,
   "metadata": {},
   "outputs": [],
   "source": [
    "path = Path('data/irish/parallel_corpora/paracrawl')\n",
    "fn = 'para_crawl_huggingface_clean_v02_20200723.csv'"
   ]
  },
  {
   "cell_type": "markdown",
   "metadata": {},
   "source": [
    "### Load saved dataset"
   ]
  },
  {
   "cell_type": "code",
   "execution_count": 3,
   "metadata": {
    "scrolled": true
   },
   "outputs": [
    {
     "name": "stdout",
     "output_type": "stream",
     "text": [
      "357399\n"
     ]
    },
    {
     "data": {
      "text/html": [
       "<div>\n",
       "<style scoped>\n",
       "    .dataframe tbody tr th:only-of-type {\n",
       "        vertical-align: middle;\n",
       "    }\n",
       "\n",
       "    .dataframe tbody tr th {\n",
       "        vertical-align: top;\n",
       "    }\n",
       "\n",
       "    .dataframe thead th {\n",
       "        text-align: right;\n",
       "    }\n",
       "</style>\n",
       "<table border=\"1\" class=\"dataframe\">\n",
       "  <thead>\n",
       "    <tr style=\"text-align: right;\">\n",
       "      <th></th>\n",
       "      <th>en</th>\n",
       "      <th>ga</th>\n",
       "      <th>clean</th>\n",
       "    </tr>\n",
       "  </thead>\n",
       "  <tbody>\n",
       "    <tr>\n",
       "      <th>0</th>\n",
       "      <td>Among the French PIM , in 2013, it is only 9 islands that have been chiroptérologiques inventories .</td>\n",
       "      <td>I measc na PIM Fraince, i 2013, tá sé ach 9 oileáin a bhí chiroptérologiques fardail.</td>\n",
       "      <td>True</td>\n",
       "    </tr>\n",
       "    <tr>\n",
       "      <th>1</th>\n",
       "      <td>Among the French PIM, in 2013, it is only 9 islands that have been chiroptérologiques inventories.</td>\n",
       "      <td>I measc na PIM Fraince , i 2013, tá sé ach 9 oileáin a bhí chiroptérologiques fardail .</td>\n",
       "      <td>True</td>\n",
       "    </tr>\n",
       "    <tr>\n",
       "      <th>2</th>\n",
       "      <td>Among the French PIM, in 2013, it is only 9 islands that have been chiroptérologiques inventories.</td>\n",
       "      <td>I measc na PIM Fraince, i 2013, tá sé ach 9 oileáin a bhí chiroptérologiques fardail.</td>\n",
       "      <td>True</td>\n",
       "    </tr>\n",
       "    <tr>\n",
       "      <th>3</th>\n",
       "      <td>As you can see, so get to show off the spacious shapes in 3D (red and blue).</td>\n",
       "      <td>Mar is féidir leat a fheiceáil, a fháil mar sin a thaispeáint as na cruthanna mhór i 3D (dearg agus gorm).</td>\n",
       "      <td>True</td>\n",
       "    </tr>\n",
       "    <tr>\n",
       "      <th>4</th>\n",
       "      <td>Equation Solving – Traditional, simple</td>\n",
       "      <td>Ligningsløsning – Traidisiúnta, simplí</td>\n",
       "      <td>True</td>\n",
       "    </tr>\n",
       "  </tbody>\n",
       "</table>\n",
       "</div>"
      ],
      "text/plain": [
       "                                                                                                     en  \\\n",
       "0  Among the French PIM , in 2013, it is only 9 islands that have been chiroptérologiques inventories .   \n",
       "1    Among the French PIM, in 2013, it is only 9 islands that have been chiroptérologiques inventories.   \n",
       "2    Among the French PIM, in 2013, it is only 9 islands that have been chiroptérologiques inventories.   \n",
       "3                          As you can see, so get to show off the spacious shapes in 3D (red and blue).   \n",
       "4                                                                Equation Solving – Traditional, simple   \n",
       "\n",
       "                                                                                                           ga  \\\n",
       "0                       I measc na PIM Fraince, i 2013, tá sé ach 9 oileáin a bhí chiroptérologiques fardail.   \n",
       "1                     I measc na PIM Fraince , i 2013, tá sé ach 9 oileáin a bhí chiroptérologiques fardail .   \n",
       "2                       I measc na PIM Fraince, i 2013, tá sé ach 9 oileáin a bhí chiroptérologiques fardail.   \n",
       "3  Mar is féidir leat a fheiceáil, a fháil mar sin a thaispeáint as na cruthanna mhór i 3D (dearg agus gorm).   \n",
       "4                                                                      Ligningsløsning – Traidisiúnta, simplí   \n",
       "\n",
       "   clean  \n",
       "0   True  \n",
       "1   True  \n",
       "2   True  \n",
       "3   True  \n",
       "4   True  "
      ]
     },
     "execution_count": 3,
     "metadata": {},
     "output_type": "execute_result"
    }
   ],
   "source": [
    "df=pd.read_csv(path/fn)\n",
    "print(len(df))\n",
    "df.head()"
   ]
  },
  {
   "cell_type": "markdown",
   "metadata": {},
   "source": [
    "# RAISE BUG"
   ]
  },
  {
   "cell_type": "code",
   "execution_count": 4,
   "metadata": {},
   "outputs": [],
   "source": [
    "path = Path('data/irish/parallel_corpora/paracrawl')\n",
    "fn = 'para_crawl_huggingface_clean_v02_20200723.csv'"
   ]
  },
  {
   "cell_type": "code",
   "execution_count": 5,
   "metadata": {
    "scrolled": true
   },
   "outputs": [
    {
     "name": "stderr",
     "output_type": "stream",
     "text": [
      "Using custom data configuration default\n"
     ]
    }
   ],
   "source": [
    "# ds_dict = load_dataset('csv', data_files=str(path/fn),\n",
    "#                   description='en-ga Paracrawl data from HuggingFace, clean for suspect translations',\n",
    "#                       download_mode='force_redownload', version='0.0.2')\n",
    "ds_dict = load_dataset('csv', data_files=str(path/fn),\n",
    "                  description='en-ga Paracrawl data from HuggingFace, clean for suspect translations',\n",
    "                    version='0.0.2')\n",
    "ds=ds_dict['train']"
   ]
  },
  {
   "cell_type": "markdown",
   "metadata": {},
   "source": [
    "Remove columns that were identified as noisy"
   ]
  },
  {
   "cell_type": "code",
   "execution_count": 6,
   "metadata": {
    "scrolled": true
   },
   "outputs": [
    {
     "name": "stdout",
     "output_type": "stream",
     "text": [
      "357399\n",
      "355837\n"
     ]
    }
   ],
   "source": [
    "def is_clean(example): return example['clean']\n",
    "print(len(ds))\n",
    "ds = ds.filter(is_clean)\n",
    "print(len(ds))"
   ]
  },
  {
   "cell_type": "markdown",
   "metadata": {},
   "source": [
    "### Pre-processing\n",
    "\n",
    "**Remove long texts to make things easier**"
   ]
  },
  {
   "cell_type": "code",
   "execution_count": 7,
   "metadata": {},
   "outputs": [],
   "source": [
    "# df['ga_len'] = df['ga'].str.split().str.len()\n",
    "# df['en_len'] = df['en'].str.split().str.len()"
   ]
  },
  {
   "cell_type": "markdown",
   "metadata": {},
   "source": [
    "Get sample lengths"
   ]
  },
  {
   "cell_type": "code",
   "execution_count": 8,
   "metadata": {
    "scrolled": true
   },
   "outputs": [
    {
     "data": {
      "text/plain": [
       "Dataset(schema: {'en': 'string', 'ga': 'string', 'clean': 'bool', 'ga_len': 'int64', 'en_len': 'int64'}, num_rows: 355837)"
      ]
     },
     "execution_count": 8,
     "metadata": {},
     "output_type": "execute_result"
    }
   ],
   "source": [
    "def get_lens(example, lang):\n",
    "    example[f'{lang}_len'] = len(example[lang].split())\n",
    "    return example\n",
    "\n",
    "ds = ds.map(partial(get_lens, lang='ga'))\n",
    "ds = ds.map(partial(get_lens, lang='en'))\n",
    "ds"
   ]
  },
  {
   "cell_type": "code",
   "execution_count": 9,
   "metadata": {},
   "outputs": [
    {
     "data": {
      "text/plain": [
       "(49.0, 47.0)"
      ]
     },
     "execution_count": 9,
     "metadata": {},
     "output_type": "execute_result"
    }
   ],
   "source": [
    "# Word count 90th percentile\n",
    "np.percentile([o for o in ds['ga_len']], 90), np.percentile([o for o in ds['en_len']], 90)"
   ]
  },
  {
   "cell_type": "code",
   "execution_count": 10,
   "metadata": {
    "scrolled": true
   },
   "outputs": [
    {
     "data": {
      "text/plain": [
       "(<matplotlib.axes._subplots.AxesSubplot at 0x7f8654454d50>, 18.0)"
      ]
     },
     "execution_count": 10,
     "metadata": {},
     "output_type": "execute_result"
    },
    {
     "data": {
      "image/png": "[encoded data removed]",
      "text/plain": [
       "<Figure size 432x288 with 1 Axes>"
      ]
     },
     "metadata": {
      "needs_background": "light"
     },
     "output_type": "display_data"
    }
   ],
   "source": [
    "sns.distplot(ds['ga_len']), np.median(ds['ga_len'])"
   ]
  },
  {
   "cell_type": "code",
   "execution_count": 11,
   "metadata": {},
   "outputs": [
    {
     "data": {
      "text/plain": [
       "(<matplotlib.axes._subplots.AxesSubplot at 0x7f8579d918d0>, 17.0)"
      ]
     },
     "execution_count": 11,
     "metadata": {},
     "output_type": "execute_result"
    },
    {
     "data": {
      "image/png": "[encoded data removed]",
      "text/plain": [
       "<Figure size 432x288 with 1 Axes>"
      ]
     },
     "metadata": {
      "needs_background": "light"
     },
     "output_type": "display_data"
    }
   ],
   "source": [
    "sns.distplot(ds['en_len']), np.median(ds['en_len'])"
   ]
  },
  {
   "cell_type": "code",
   "execution_count": 12,
   "metadata": {},
   "outputs": [
    {
     "name": "stdout",
     "output_type": "stream",
     "text": [
      "355837\n",
      "334244\n"
     ]
    }
   ],
   "source": [
    "def len_filter(example,col,l): \n",
    "    return example[col] <= l\n",
    "\n",
    "print(len(ds))\n",
    "ds = ds.filter(partial(len_filter, col='ga_len', l=60))\n",
    "ds = ds.filter(partial(len_filter, col='en_len', l=60))\n",
    "print(len(ds))"
   ]
  },
  {
   "cell_type": "code",
   "execution_count": 13,
   "metadata": {},
   "outputs": [],
   "source": [
    "# print(f'Removing {len(df.query(\"en_len > 60\"))} EN samples where len was > 60')\n",
    "# print(len(df))\n",
    "# df=df[~df.index.isin(df.query(\"en_len > 60\").index)]\n",
    "# print(len(df))\n",
    "      \n",
    "# print(f'Removing {len(df.query(\"ga_len > 60\"))} FR samples where len was > 60')\n",
    "# print(len(df))\n",
    "# df=df[~df.index.isin(df.query(\"ga_len > 60\").index)]\n",
    "# print(len(df))"
   ]
  },
  {
   "cell_type": "code",
   "execution_count": 14,
   "metadata": {},
   "outputs": [
    {
     "data": {
      "text/plain": [
       "(<matplotlib.axes._subplots.AxesSubplot at 0x7f8579c2a3d0>, 17.0)"
      ]
     },
     "execution_count": 14,
     "metadata": {},
     "output_type": "execute_result"
    },
    {
     "data": {
      "image/png": "[encoded data removed]",
      "text/plain": [
       "<Figure size 432x288 with 1 Axes>"
      ]
     },
     "metadata": {
      "needs_background": "light"
     },
     "output_type": "display_data"
    }
   ],
   "source": [
    "sns.distplot(ds['ga_len']), np.median(ds['ga_len'])"
   ]
  },
  {
   "cell_type": "markdown",
   "metadata": {},
   "source": [
    "**Lowercase everything**\n",
    "\n",
    "NOT Done as it is appliced in the rules below"
   ]
  },
  {
   "cell_type": "code",
   "execution_count": 15,
   "metadata": {},
   "outputs": [],
   "source": [
    "# df['en'] = df['en'].apply(lambda x:x.lower())\n",
    "# df['ga'] = df['ga'].apply(lambda x:x.lower())"
   ]
  },
  {
   "cell_type": "code",
   "execution_count": 16,
   "metadata": {},
   "outputs": [],
   "source": [
    "# def lowercase_all(example, lang):\n",
    "#     example[lang] = example[lang].lower()\n",
    "#     return example\n",
    "\n",
    "# ds = ds.map(partial(lowercase_all, lang='ga'))\n",
    "# ds = ds.map(partial(lowercase_all, lang='en'))\n",
    "# ds['ga'][400:420]"
   ]
  },
  {
   "cell_type": "markdown",
   "metadata": {},
   "source": [
    "Rules used as part of tokenization"
   ]
  },
  {
   "cell_type": "code",
   "execution_count": 17,
   "metadata": {},
   "outputs": [
    {
     "data": {
      "text/plain": [
       "[<function fastai2.text.core.fix_html(x)>,\n",
       " <function fastai2.text.core.replace_rep(t)>,\n",
       " <function fastai2.text.core.replace_wrep(t)>,\n",
       " <function fastai2.text.core.spec_add_spaces(t)>,\n",
       " <function fastai2.text.core.rm_useless_spaces(t)>,\n",
       " <function fastai2.text.core.replace_all_caps(t)>,\n",
       " <function fastai2.text.core.replace_maj(t)>,\n",
       " functools.partial(<function lowercase at 0x7f85aac66d40>, add_eos=True)]"
      ]
     },
     "execution_count": 17,
     "metadata": {},
     "output_type": "execute_result"
    }
   ],
   "source": [
    "proc_rules=defaults.text_proc_rules[:-1] + [partial(lowercase, add_eos=True)]\n",
    "proc_rules"
   ]
  },
  {
   "cell_type": "markdown",
   "metadata": {},
   "source": [
    "### Get Dataloaders"
   ]
  },
  {
   "cell_type": "markdown",
   "metadata": {},
   "source": [
    "Load vocab to speed up data loading"
   ]
  },
  {
   "cell_type": "code",
   "execution_count": 18,
   "metadata": {},
   "outputs": [
    {
     "data": {
      "text/html": [
       "<div>\n",
       "<style scoped>\n",
       "    .dataframe tbody tr th:only-of-type {\n",
       "        vertical-align: middle;\n",
       "    }\n",
       "\n",
       "    .dataframe tbody tr th {\n",
       "        vertical-align: top;\n",
       "    }\n",
       "\n",
       "    .dataframe thead th {\n",
       "        text-align: right;\n",
       "    }\n",
       "</style>\n",
       "<table border=\"1\" class=\"dataframe\">\n",
       "  <thead>\n",
       "    <tr style=\"text-align: right;\">\n",
       "      <th></th>\n",
       "      <th>en</th>\n",
       "      <th>ga</th>\n",
       "      <th>clean</th>\n",
       "      <th>ga_len</th>\n",
       "      <th>en_len</th>\n",
       "    </tr>\n",
       "  </thead>\n",
       "  <tbody>\n",
       "    <tr>\n",
       "      <th>0</th>\n",
       "      <td>Among the French PIM , in 2013, it is only 9 islands that have been chiroptérologiques inventories .</td>\n",
       "      <td>I measc na PIM Fraince, i 2013, tá sé ach 9 oileáin a bhí chiroptérologiques fardail.</td>\n",
       "      <td>True</td>\n",
       "      <td>16</td>\n",
       "      <td>18</td>\n",
       "    </tr>\n",
       "    <tr>\n",
       "      <th>1</th>\n",
       "      <td>Among the French PIM, in 2013, it is only 9 islands that have been chiroptérologiques inventories.</td>\n",
       "      <td>I measc na PIM Fraince , i 2013, tá sé ach 9 oileáin a bhí chiroptérologiques fardail .</td>\n",
       "      <td>True</td>\n",
       "      <td>18</td>\n",
       "      <td>16</td>\n",
       "    </tr>\n",
       "    <tr>\n",
       "      <th>2</th>\n",
       "      <td>Among the French PIM, in 2013, it is only 9 islands that have been chiroptérologiques inventories.</td>\n",
       "      <td>I measc na PIM Fraince, i 2013, tá sé ach 9 oileáin a bhí chiroptérologiques fardail.</td>\n",
       "      <td>True</td>\n",
       "      <td>16</td>\n",
       "      <td>16</td>\n",
       "    </tr>\n",
       "    <tr>\n",
       "      <th>3</th>\n",
       "      <td>As you can see, so get to show off the spacious shapes in 3D (red and blue).</td>\n",
       "      <td>Mar is féidir leat a fheiceáil, a fháil mar sin a thaispeáint as na cruthanna mhór i 3D (dearg agus gorm).</td>\n",
       "      <td>True</td>\n",
       "      <td>21</td>\n",
       "      <td>17</td>\n",
       "    </tr>\n",
       "    <tr>\n",
       "      <th>4</th>\n",
       "      <td>Equation Solving – Traditional, simple</td>\n",
       "      <td>Ligningsløsning – Traidisiúnta, simplí</td>\n",
       "      <td>True</td>\n",
       "      <td>4</td>\n",
       "      <td>5</td>\n",
       "    </tr>\n",
       "  </tbody>\n",
       "</table>\n",
       "</div>"
      ],
      "text/plain": [
       "                                                                                                     en  \\\n",
       "0  Among the French PIM , in 2013, it is only 9 islands that have been chiroptérologiques inventories .   \n",
       "1    Among the French PIM, in 2013, it is only 9 islands that have been chiroptérologiques inventories.   \n",
       "2    Among the French PIM, in 2013, it is only 9 islands that have been chiroptérologiques inventories.   \n",
       "3                          As you can see, so get to show off the spacious shapes in 3D (red and blue).   \n",
       "4                                                                Equation Solving – Traditional, simple   \n",
       "\n",
       "                                                                                                           ga  \\\n",
       "0                       I measc na PIM Fraince, i 2013, tá sé ach 9 oileáin a bhí chiroptérologiques fardail.   \n",
       "1                     I measc na PIM Fraince , i 2013, tá sé ach 9 oileáin a bhí chiroptérologiques fardail .   \n",
       "2                       I measc na PIM Fraince, i 2013, tá sé ach 9 oileáin a bhí chiroptérologiques fardail.   \n",
       "3  Mar is féidir leat a fheiceáil, a fháil mar sin a thaispeáint as na cruthanna mhór i 3D (dearg agus gorm).   \n",
       "4                                                                      Ligningsløsning – Traidisiúnta, simplí   \n",
       "\n",
       "   clean  ga_len  en_len  \n",
       "0   True      16      18  \n",
       "1   True      18      16  \n",
       "2   True      16      16  \n",
       "3   True      21      17  \n",
       "4   True       4       5  "
      ]
     },
     "execution_count": 18,
     "metadata": {},
     "output_type": "execute_result"
    }
   ],
   "source": [
    "df=ds.data.to_pandas()\n",
    "df.head()"
   ]
  },
  {
   "cell_type": "code",
   "execution_count": 19,
   "metadata": {},
   "outputs": [],
   "source": [
    "#df = df.iloc[:1000]"
   ]
  },
  {
   "cell_type": "code",
   "execution_count": 20,
   "metadata": {
    "scrolled": true
   },
   "outputs": [
    {
     "data": {
      "text/html": [],
      "text/plain": [
       "<IPython.core.display.HTML object>"
      ]
     },
     "metadata": {},
     "output_type": "display_data"
    },
    {
     "name": "stdout",
     "output_type": "stream",
     "text": [
      "hi\n"
     ]
    },
    {
     "data": {
      "text/html": [],
      "text/plain": [
       "<IPython.core.display.HTML object>"
      ]
     },
     "metadata": {},
     "output_type": "display_data"
    },
    {
     "name": "stdout",
     "output_type": "stream",
     "text": [
      "hi\n"
     ]
    }
   ],
   "source": [
    "# at 30k tokens per vocab sometimes this works, sometimes it doesn't\n",
    "\n",
    "# Couldnt process 30k tokens until I added the 'hi' below, it was getting stuck at 94.87%, no idea why\n",
    "@Numericalize\n",
    "def encodes(self, o): \n",
    "    print('hi')\n",
    "    return TensorText(tensor([self.o2i  [o_] for o_ in o]))\n",
    "\n",
    "class floatify_tfm(Transform):\n",
    "    def encodes(self,o): return o.float()\n",
    "    def decodes(self,o): return o.long()\n",
    "\n",
    "max_vocab=30000\n",
    "#splits = ColSplitter()(df) \n",
    "splits = RandomSplitter(valid_pct=0.2, seed=42)(df)\n",
    "\n",
    "tfms = [[Tokenizer.from_df(text_cols='en' , rules=proc_rules), attrgetter(\"text\"), Numericalize(max_vocab=max_vocab)], \n",
    "       [Tokenizer.from_df(text_cols='ga', lang='ga', rules=proc_rules), attrgetter(\"text\"), Numericalize(max_vocab=max_vocab)]]\n",
    "\n",
    "# tfms = [[Tokenizer.from_df(text_cols='en' , rules=proc_rules), attrgetter(\"text\"), \n",
    "#          Numericalize(max_vocab=max_vocab), floatify_tfm], \n",
    "#        [Tokenizer.from_df(text_cols='ga', lang='ga', rules=proc_rules), attrgetter(\"text\"),\n",
    "#         Numericalize(max_vocab=max_vocab), floatify_tfm]]\n",
    "\n",
    "\n",
    "dl = partial(SortedDL, shuffle=True, res=df.ga_len.values)\n",
    "\n",
    "dsets = Datasets(df, tfms, splits=splits, dl_type=dl)\n",
    "\n",
    "# remove the print from Numericalize\n",
    "@Numericalize\n",
    "def encodes(self, o): return TensorText(tensor([self.o2i  [o_] for o_ in o]))"
   ]
  },
  {
   "cell_type": "code",
   "execution_count": 21,
   "metadata": {},
   "outputs": [],
   "source": [
    "# en_vocab=[]\n",
    "# ga_vocab=[]\n",
    "# with open('paracrawl_vocab_en.csv', newline='') as csvfile:\n",
    "#     v_reader = csv.reader(csvfile, delimiter=',')\n",
    "#     for row in v_reader:\n",
    "#         en_vocab.append(row[0])\n",
    "        \n",
    "# with open('paracrawl_vocab_ga.csv', newline='') as csvfile:\n",
    "#     v_reader = csv.reader(csvfile, delimiter=',')\n",
    "#     for row in v_reader:\n",
    "#         ga_vocab.append(row[0])\n",
    "        \n",
    "#len(en_vocab), len(ga_vocab), en_vocab[:10], ga_vocab[:10]"
   ]
  },
  {
   "cell_type": "code",
   "execution_count": 22,
   "metadata": {},
   "outputs": [
    {
     "data": {
      "text/plain": [
       "(334244,\n",
       " ((#267396) [142788,143864,71475,232172,136743,17163,145516,163557,296155,19037...],\n",
       "  (#66848) [255414,148963,186606,40380,28590,6799,259930,188378,286014,4807...]),\n",
       " 24,\n",
       " 23,\n",
       " (TensorText([    2,     8,  1018,     9,     8,  2104,     7,  7176,    11,    16,\n",
       "            821,    11,    50,    23,   189,   165,  3062,    32,    60,    92,\n",
       "          19526,  8919,    14,     3]),\n",
       "  TensorText([    2,    17,   757,    18,     7,  9046,     8,  2425,    10,    17,\n",
       "            832,    10,    58,    43,    82,   194,  4016,     9,   135, 29410,\n",
       "           7653,    14,     3])))"
      ]
     },
     "execution_count": 22,
     "metadata": {},
     "output_type": "execute_result"
    }
   ],
   "source": [
    "len(dsets), splits, len(dsets[2][0]), len(dsets[2][1]), dsets[2]"
   ]
  },
  {
   "cell_type": "code",
   "execution_count": 23,
   "metadata": {
    "scrolled": true
   },
   "outputs": [
    {
     "data": {
      "text/html": [
       "<table border=\"1\" class=\"dataframe\">\n",
       "  <thead>\n",
       "    <tr style=\"text-align: right;\">\n",
       "      <th></th>\n",
       "      <th>text</th>\n",
       "      <th>text_</th>\n",
       "    </tr>\n",
       "  </thead>\n",
       "  <tbody>\n",
       "    <tr>\n",
       "      <th>0</th>\n",
       "      <td>xxbos ( i ) the application of any goods of a kind specified in the xxmaj fourth xxmaj schedule by a person for the purposes of his business and treated as delivered in accordance with section 3 ( 1 ) ( e ) , xxeos xxpad xxpad xxpad xxpad xxpad xxpad xxpad xxpad xxpad xxpad xxpad xxpad xxpad xxpad xxpad xxpad xxpad xxpad xxpad xxpad xxpad xxpad xxpad xxpad</td>\n",
       "      <td>xxbos ( i ) le duine do bhaint úsáid chun críocha a ghnó as aon earraí de chineál a shonraítear sa xxmaj cheathrú xxmaj sceideal agus a áirítear mar earraí arna seachadadh de réir alt 3 ( 1 ) ( e ) , xxeos xxpad xxpad xxpad xxpad xxpad xxpad xxpad xxpad xxpad xxpad xxpad xxpad xxpad xxpad xxpad xxpad xxpad xxpad xxpad xxpad xxpad xxpad xxpad xxpad xxpad xxpad xxpad xxpad xxpad xxpad xxpad xxpad</td>\n",
       "    </tr>\n",
       "    <tr>\n",
       "      <th>1</th>\n",
       "      <td>xxbos xxmaj it covers all the aspects of developing and managing a successful restaurant business . ” xxeos xxpad xxpad xxpad xxpad xxpad xxpad xxpad xxpad xxpad xxpad xxpad xxpad xxpad xxpad xxpad xxpad xxpad xxpad xxpad xxpad xxpad xxpad xxpad xxpad xxpad xxpad xxpad xxpad xxpad xxpad xxpad xxpad xxpad xxpad xxpad xxpad xxpad xxpad xxpad xxpad xxpad xxpad xxpad xxpad xxpad xxpad xxpad xxpad xxpad xxpad xxpad</td>\n",
       "      <td>xxbos xxmaj clúdaíonn sé gach uile ghné d’fhorbairt agus do bhainistiú gnó bialainne rathúil . ” xxeos xxpad xxpad xxpad xxpad xxpad xxpad xxpad xxpad xxpad xxpad xxpad xxpad xxpad xxpad xxpad xxpad xxpad xxpad xxpad xxpad xxpad xxpad xxpad xxpad xxpad xxpad xxpad xxpad xxpad xxpad xxpad xxpad xxpad xxpad xxpad xxpad xxpad xxpad xxpad xxpad xxpad xxpad xxpad xxpad xxpad xxpad xxpad xxpad xxpad xxpad xxpad xxpad xxpad xxpad xxpad xxpad xxpad xxpad xxpad</td>\n",
       "    </tr>\n",
       "    <tr>\n",
       "      <th>2</th>\n",
       "      <td>xxbos xxmaj helping you prevent heart disease , stroke , diabetes and kidney disease . xxeos xxpad xxpad xxpad xxpad xxpad xxpad xxpad xxpad xxpad xxpad xxpad xxpad xxpad xxpad xxpad xxpad xxpad xxpad xxpad xxpad xxpad xxpad xxpad xxpad xxpad xxpad xxpad xxpad xxpad xxpad xxpad xxpad xxpad xxpad xxpad xxpad xxpad xxpad xxpad xxpad xxpad xxpad xxpad xxpad xxpad xxpad xxpad xxpad xxpad xxpad xxpad xxpad xxpad</td>\n",
       "      <td>xxbos xxmaj ag cabhrú cosc a chur ar ghalar croí tú , stróc , galar diaibéiteas agus duáin . xxeos xxpad xxpad xxpad xxpad xxpad xxpad xxpad xxpad xxpad xxpad xxpad xxpad xxpad xxpad xxpad xxpad xxpad xxpad xxpad xxpad xxpad xxpad xxpad xxpad xxpad xxpad xxpad xxpad xxpad xxpad xxpad xxpad xxpad xxpad xxpad xxpad xxpad xxpad xxpad xxpad xxpad xxpad xxpad xxpad xxpad xxpad xxpad xxpad xxpad xxpad xxpad xxpad xxpad xxpad xxpad xxpad</td>\n",
       "    </tr>\n",
       "    <tr>\n",
       "      <th>3</th>\n",
       "      <td>xxbos xxmaj what is required therefore ? xxeos xxpad xxpad xxpad xxpad xxpad xxpad xxpad xxpad xxpad xxpad xxpad xxpad xxpad xxpad xxpad xxpad xxpad xxpad xxpad xxpad xxpad xxpad xxpad xxpad xxpad xxpad xxpad xxpad xxpad xxpad xxpad xxpad xxpad xxpad xxpad xxpad xxpad xxpad xxpad xxpad xxpad xxpad xxpad xxpad xxpad xxpad xxpad xxpad xxpad xxpad xxpad xxpad xxpad xxpad xxpad xxpad xxpad xxpad xxpad xxpad xxpad</td>\n",
       "      <td>xxbos xxmaj cad ata ag teastáil mar sin ? xxeos xxpad xxpad xxpad xxpad xxpad xxpad xxpad xxpad xxpad xxpad xxpad xxpad xxpad xxpad xxpad xxpad xxpad xxpad xxpad xxpad xxpad xxpad xxpad xxpad xxpad xxpad xxpad xxpad xxpad xxpad xxpad xxpad xxpad xxpad xxpad xxpad xxpad xxpad xxpad xxpad xxpad xxpad xxpad xxpad xxpad xxpad xxpad xxpad xxpad xxpad xxpad xxpad xxpad xxpad xxpad xxpad xxpad xxpad xxpad xxpad xxpad xxpad xxpad xxpad xxpad xxpad</td>\n",
       "    </tr>\n",
       "    <tr>\n",
       "      <th>4</th>\n",
       "      <td>xxbos ( g ) the xxmaj provincial xxmaj bank of xxmaj ireland , xxmaj limited , xxeos xxpad xxpad xxpad xxpad xxpad xxpad xxpad xxpad xxpad xxpad xxpad xxpad xxpad xxpad xxpad xxpad xxpad xxpad xxpad xxpad xxpad xxpad xxpad xxpad xxpad xxpad xxpad xxpad xxpad xxpad xxpad xxpad xxpad xxpad xxpad xxpad xxpad xxpad xxpad xxpad xxpad xxpad xxpad xxpad xxpad xxpad xxpad xxpad xxpad xxpad xxpad xxpad</td>\n",
       "      <td>xxbos ( g ) xxmaj banc xxmaj cúigí na héireann , xxmaj teoranta , xxeos xxpad xxpad xxpad xxpad xxpad xxpad xxpad xxpad xxpad xxpad xxpad xxpad xxpad xxpad xxpad xxpad xxpad xxpad xxpad xxpad xxpad xxpad xxpad xxpad xxpad xxpad xxpad xxpad xxpad xxpad xxpad xxpad xxpad xxpad xxpad xxpad xxpad xxpad xxpad xxpad xxpad xxpad xxpad xxpad xxpad xxpad xxpad xxpad xxpad xxpad xxpad xxpad xxpad xxpad xxpad xxpad xxpad xxpad xxpad xxpad xxpad</td>\n",
       "    </tr>\n",
       "    <tr>\n",
       "      <th>5</th>\n",
       "      <td>xxbos xxmaj the interactive website , eu4schools gives young people the direction to communicate with the xxmaj european xxmaj union . xxmaj digital learning is central to the website , providing online resources to both students and teachers to broaden students ’ understanding of the xxmaj european xxmaj union , and giving users the chance to utilise their role as xxmaj european xxmaj union citizens . xxeos xxpad xxpad</td>\n",
       "      <td>xxbos xxmaj suíomh idirlín idirghníomhach is ea eu4schools , a oibríonn mar nasc idir dhaoine óga agus an taontas xxmaj eorpach . xxup tá foghlaim dhigiteach mar chuid lárnach den láithreán gréasáin seo , ag cur acmhainní ar fáil do dhaltaí agus múinteoirí ar líne chun a gcuid tuisceana ar an xxmaj aontas xxmaj eorpach a leathnú . xxeos xxpad xxpad xxpad xxpad xxpad xxpad xxpad xxpad xxpad xxpad xxpad xxpad xxpad xxpad xxpad xxpad xxpad</td>\n",
       "    </tr>\n",
       "    <tr>\n",
       "      <th>6</th>\n",
       "      <td>xxbos ( c ) any appeal by the child against the making of the behaviour order , or xxeos xxpad xxpad xxpad xxpad xxpad xxpad xxpad xxpad xxpad xxpad xxpad xxpad xxpad xxpad xxpad xxpad xxpad xxpad xxpad xxpad xxpad xxpad xxpad xxpad xxpad xxpad xxpad xxpad xxpad xxpad xxpad xxpad xxpad xxpad xxpad xxpad xxpad xxpad xxpad xxpad xxpad xxpad xxpad xxpad xxpad xxpad xxpad xxpad xxpad xxpad</td>\n",
       "      <td>xxbos ( c ) aon achomharc ón leanbh i gcoinne an t - ordú iompair a dhéanamh , agus xxeos xxpad xxpad xxpad xxpad xxpad xxpad xxpad xxpad xxpad xxpad xxpad xxpad xxpad xxpad xxpad xxpad xxpad xxpad xxpad xxpad xxpad xxpad xxpad xxpad xxpad xxpad xxpad xxpad xxpad xxpad xxpad xxpad xxpad xxpad xxpad xxpad xxpad xxpad xxpad xxpad xxpad xxpad xxpad xxpad xxpad xxpad xxpad xxpad xxpad xxpad xxpad xxpad xxpad xxpad xxpad xxpad</td>\n",
       "    </tr>\n",
       "    <tr>\n",
       "      <th>7</th>\n",
       "      <td>xxbos ( a ) provide and undertake such co - ordination , specialist and support services to or for regional boards as are necessary for the efficient performance by the regional boards of their functions , xxeos xxpad xxpad xxpad xxpad xxpad xxpad xxpad xxpad xxpad xxpad xxpad xxpad xxpad xxpad xxpad xxpad xxpad xxpad xxpad xxpad xxpad xxpad xxpad xxpad xxpad xxpad xxpad xxpad xxpad xxpad xxpad xxpad</td>\n",
       "      <td>xxbos ( a ) déanfaidh sé cibé comhordú , sainseirbhísí agus seirbhísí tacaíochta a chur ar fáil agus a ghabháil de láimh , do bhoird réigiúnacha nó lena n - aghaidh , is gá chun go gcomhlíonfaidh na boird réigiúnacha a bhfeidhmeanna go héifeachtach , xxeos xxpad xxpad xxpad xxpad xxpad xxpad xxpad xxpad xxpad xxpad xxpad xxpad xxpad xxpad xxpad xxpad xxpad xxpad xxpad xxpad xxpad xxpad xxpad xxpad xxpad xxpad xxpad xxpad xxpad xxpad</td>\n",
       "    </tr>\n",
       "    <tr>\n",
       "      <th>8</th>\n",
       "      <td>xxbos xxmaj to gain full access , you must register for a xxup free account . xxeos xxpad xxpad xxpad xxpad xxpad xxpad xxpad xxpad xxpad xxpad xxpad xxpad xxpad xxpad xxpad xxpad xxpad xxpad xxpad xxpad xxpad xxpad xxpad xxpad xxpad xxpad xxpad xxpad xxpad xxpad xxpad xxpad xxpad xxpad xxpad xxpad xxpad xxpad xxpad xxpad xxpad xxpad xxpad xxpad xxpad xxpad xxpad xxpad xxpad xxpad xxpad xxpad</td>\n",
       "      <td>xxbos xxmaj chun a fháil rochtain iomlán , ní mór duit clárú le haghaidh cuntas xxup saor xxup in xxup aisce . xxeos xxpad xxpad xxpad xxpad xxpad xxpad xxpad xxpad xxpad xxpad xxpad xxpad xxpad xxpad xxpad xxpad xxpad xxpad xxpad xxpad xxpad xxpad xxpad xxpad xxpad xxpad xxpad xxpad xxpad xxpad xxpad xxpad xxpad xxpad xxpad xxpad xxpad xxpad xxpad xxpad xxpad xxpad xxpad xxpad xxpad xxpad xxpad xxpad xxpad xxpad xxpad xxpad xxpad</td>\n",
       "    </tr>\n",
       "  </tbody>\n",
       "</table>"
      ],
      "text/plain": [
       "<IPython.core.display.HTML object>"
      ]
     },
     "metadata": {},
     "output_type": "display_data"
    }
   ],
   "source": [
    "bs,sl = 32, 512\n",
    "dls = dsets.dataloaders(bs=bs, seq_len=sl, before_batch=partial(pad_input, pad_fields=[0,1]))\n",
    "dls.show_batch()"
   ]
  },
  {
   "cell_type": "markdown",
   "metadata": {},
   "source": [
    "Save vocab to speed up data loading"
   ]
  },
  {
   "cell_type": "code",
   "execution_count": 24,
   "metadata": {},
   "outputs": [],
   "source": [
    "# with open('paracrawl_vocab_en_v0.2_exp2.csv', 'w', newline='') as csvfile:\n",
    "#     v_writer = csv.writer(csvfile, delimiter=',')\n",
    "#     for l in dls.vocab[0]:\n",
    "#         v_writer.writerow([l])\n",
    "        \n",
    "# with open('paracrawl_vocab_ga_v0.2_exp2.csv', 'w', newline='') as csvfile:\n",
    "#     v_writer = csv.writer(csvfile, delimiter=',')\n",
    "#     for l in dls.vocab[1]:\n",
    "#         v_writer.writerow([l])"
   ]
  },
  {
   "cell_type": "code",
   "execution_count": 25,
   "metadata": {
    "scrolled": true
   },
   "outputs": [
    {
     "data": {
      "text/plain": [
       "(334244, 8356, 2089)"
      ]
     },
     "execution_count": 25,
     "metadata": {},
     "output_type": "execute_result"
    }
   ],
   "source": [
    "len(dls.train_ds)+len(dls.valid_ds), len(dls.train), len(dls.valid)"
   ]
  },
  {
   "cell_type": "code",
   "execution_count": 26,
   "metadata": {},
   "outputs": [
    {
     "name": "stdout",
     "output_type": "stream",
     "text": [
      "Vocab lengths are : (22952, 30008)\n"
     ]
    }
   ],
   "source": [
    "print(f'Vocab lengths are : {len(dls.vocab[0]), len(dls.vocab[1])}')"
   ]
  },
  {
   "cell_type": "code",
   "execution_count": 27,
   "metadata": {
    "scrolled": true
   },
   "outputs": [
    {
     "data": {
      "text/plain": [
       "(torch.Size([32, 71]),\n",
       " torch.Size([32, 58]),\n",
       " (TensorText([[   2,   13,   57,  ...,    1,    1,    1],\n",
       "          [   2,    7, 6954,  ...,    1,    1,    1],\n",
       "          [   2,    8,   50,  ...,    1,    1,    1],\n",
       "          ...,\n",
       "          [   2,    8,  686,  ...,    1,    1,    1],\n",
       "          [   2,   45,   14,  ...,    1,    1,    1],\n",
       "          [   2,   13,  143,  ...,    1,    1,    1]], device='cuda:0'),\n",
       "  TensorText([[   2,   12,   17,  ...,    1,    1,    1],\n",
       "          [   2,    8,   93,  ...,    1,    1,    1],\n",
       "          [   2,    8, 7226,  ...,    1,    1,    1],\n",
       "          ...,\n",
       "          [   2,    8,  653,  ...,    1,    1,    1],\n",
       "          [   2,   44,   14,  ...,    1,    1,    1],\n",
       "          [   2,   12,  159,  ...,    1,    1,    1]], device='cuda:0')))"
      ]
     },
     "execution_count": 27,
     "metadata": {},
     "output_type": "execute_result"
    }
   ],
   "source": [
    "o=dls.one_batch(); o[0].size(), o[1].size(), o"
   ]
  },
  {
   "cell_type": "markdown",
   "metadata": {},
   "source": [
    "## Transformer model"
   ]
  },
  {
   "cell_type": "code",
   "execution_count": 28,
   "metadata": {},
   "outputs": [],
   "source": [
    "class PositionalEncoding(nn.Module):\n",
    "    \"Encode the position with a sinusoid.\"\n",
    "    def __init__(self, d):\n",
    "        super().__init__()\n",
    "        self.register_buffer('freq', 1 / (10000 ** (torch.arange(0., d, 2.)/d)))\n",
    "    \n",
    "    def forward(self, pos):\n",
    "        #inp = torch.ger(pos, self.freq)\n",
    "        inp = torch.ger(pos, self.freq.float())\n",
    "        enc = torch.cat([inp.sin(), inp.cos()], dim=-1)\n",
    "        return enc"
   ]
  },
  {
   "cell_type": "code",
   "execution_count": 29,
   "metadata": {},
   "outputs": [],
   "source": [
    "# tst_encoding = PositionalEncoding(20)\n",
    "# res = tst_encoding(torch.arange(0,100).float())\n",
    "# _, ax = plt.subplots(1,1)\n",
    "# for i in range(1,5): ax.plot(res[:,i])"
   ]
  },
  {
   "cell_type": "code",
   "execution_count": 30,
   "metadata": {},
   "outputs": [],
   "source": [
    "class TransformerEmbedding(nn.Module):\n",
    "    \"Embedding + positional encoding + dropout\"\n",
    "    def __init__(self, vocab_sz, emb_sz, inp_p=0.):\n",
    "        super().__init__()\n",
    "        self.emb_sz = emb_sz\n",
    "        self.embed = Embedding(vocab_sz, emb_sz)\n",
    "        self.pos_enc = PositionalEncoding(emb_sz)\n",
    "        self.drop = nn.Dropout(inp_p)\n",
    "    \n",
    "    def forward(self, inp): \n",
    "        #pos = torch.arange(0, inp.size(1), device=inp.device).float()     \n",
    "        pos = torch.arange(0, inp.size(1), device=inp.device).float()     \n",
    "        return self.drop(self.embed(inp) * math.sqrt(self.emb_sz) + self.pos_enc(pos))"
   ]
  },
  {
   "cell_type": "markdown",
   "metadata": {},
   "source": [
    "## PyTorch Transformer Simple"
   ]
  },
  {
   "cell_type": "markdown",
   "metadata": {},
   "source": [
    "Note: [src/tgt/memory]_mask should be filled with float(‘-inf’) for the masked positions and float(0.0) else. These masks ensure that predictions for position i depend only on the unmasked positions j and are applied identically for each sequence in a batch. \n",
    "\n",
    "[src/tgt/memory]_key_padding_mask should be a ByteTensor where True values are positions that should be masked with float(‘-inf’) and False values will be unchanged. This mask ensures that no information will be taken from position i if it is masked, and has a separate mask for each sequence in a batch.\n",
    "\n",
    "attn mask with -inf\n",
    "key_padding mask with True"
   ]
  },
  {
   "cell_type": "markdown",
   "metadata": {},
   "source": [
    "### pt_Transformer"
   ]
  },
  {
   "cell_type": "code",
   "execution_count": 31,
   "metadata": {},
   "outputs": [],
   "source": [
    "def to_half(b):\n",
    "    \"Recursively map lists of tensors in `b ` to FP16.\"\n",
    "    return apply(lambda x: x.half() if torch.is_floating_point(x) else x, b)"
   ]
  },
  {
   "cell_type": "code",
   "execution_count": 32,
   "metadata": {
    "scrolled": true
   },
   "outputs": [],
   "source": [
    "class pt_Transformer(Module):\n",
    "    def __init__(self, src_vcbsz, trg_vcbsz, n_enc_layers=6, n_dec_layers=6, n_heads=8, d_model=256, d_head=32, \n",
    "                 d_inner=1024, p=0.1, bias=True, scale=True, double_drop=True, pad_idx=1, fp16=True):\n",
    "        self.pad_idx = pad_idx\n",
    "        self.enc_tfmr_emb = TransformerEmbedding(src_vcbsz, d_model, p)\n",
    "        self.dec_tfmr_emb = TransformerEmbedding(trg_vcbsz, d_model, 0.)        \n",
    "        self.final = nn.Linear(d_model, trg_vcbsz)\n",
    "        self.fp16 = fp16\n",
    "        # !!!\n",
    "        #self.final.weight = self.dec_tfmr_emb.embed.weight    # !! What does this do?\n",
    "        \n",
    "        self.transformer_model=torch.nn.Transformer(d_model=d_model, nhead=n_heads, num_encoder_layers=n_enc_layers, \n",
    "                                   num_decoder_layers=n_dec_layers, dim_feedforward=d_inner, dropout=p, \n",
    "                                   activation='relu', custom_encoder=None, custom_decoder=None)\n",
    "    \n",
    "    \n",
    "    def forward(self, src, trg, src_mask=None, tgt_mask=None, memory_mask=None, \n",
    "                        src_key_padding_mask=None, tgt_key_padding_mask=None, memory_key_padding_mask=None):\n",
    "        \n",
    "        enc_emb, dec_emb = self.enc_tfmr_emb(src), self.dec_tfmr_emb(trg)\n",
    "        #if self.fp16:\n",
    "        if not isinstance(model.transformer_model.encoder.layers[0].self_attn.out_proj.weight,\n",
    "                          torch.cuda.FloatTensor):\n",
    "            enc_emb=to_half(enc_emb)\n",
    "            dec_emb=to_half(dec_emb)\n",
    "        \n",
    "        src_mask=self.transformer_model.generate_square_subsequent_mask(src.size(1)).cuda()\n",
    "        trg_mask=self.transformer_model.generate_square_subsequent_mask(trg.size(1)).cuda()\n",
    "        \n",
    "        dec_out = self.transformer_model(enc_emb.permute(1,0,2), dec_emb.permute(1,0,2),\n",
    "                                         src_mask=src_mask, tgt_mask=trg_mask, memory_mask=None, \n",
    "                        src_key_padding_mask=None, tgt_key_padding_mask=None, memory_key_padding_mask=None)\n",
    "        \n",
    "        out=self.final(dec_out)\n",
    "        \n",
    "        return out.permute(1,0,2)"
   ]
  },
  {
   "cell_type": "code",
   "execution_count": 33,
   "metadata": {
    "scrolled": true
   },
   "outputs": [],
   "source": [
    "# for name, param in model.transformer_model.encoder.layers[0].self_attn.out_proj.named_parameters():\n",
    "#     print (name)"
   ]
  },
  {
   "cell_type": "markdown",
   "metadata": {},
   "source": [
    "### Metric"
   ]
  },
  {
   "cell_type": "code",
   "execution_count": 34,
   "metadata": {},
   "outputs": [],
   "source": [
    "class CorpusBLEUMetric(Metric):\n",
    "    def __init__(self, vocab_sz=5000, axis=-1):\n",
    "        \"\"\"BLEU Metric calculated over the validation corpus\"\"\"\n",
    "        self.pred_len, self.targ_len, self.corrects, self.counts = 0,0,[0]*4,[0]*4\n",
    "        self.axis, self.vocab_sz = axis, vocab_sz\n",
    "        \n",
    "    def reset(self):\n",
    "        self.pred_len,self.targ_len,self.corrects,self.counts = 0,0,[0]*4,[0]*4\n",
    "        \n",
    "    class NGram():\n",
    "        def __init__(self, ngram, max_n=5000): self.ngram,self.max_n = ngram,max_n\n",
    "        def __eq__(self, other):\n",
    "            if len(self.ngram) != len(other.ngram): return False\n",
    "            return np.all(np.array(self.ngram) == np.array(other.ngram))\n",
    "        def __hash__(self): return int(sum([o * self.max_n**i for i,o in enumerate(self.ngram)]))\n",
    "    \n",
    "    def get_grams(self, x, n, max_n=5000):\n",
    "        return x if n==1 else [self.NGram(x[i:i+n], max_n=max_n) for i in range(len(x)-n+1)]\n",
    "    \n",
    "    def get_correct_ngrams(self, pred, targ, n, max_n=5000):\n",
    "        pred_grams,targ_grams = self.get_grams(pred, n, max_n=max_n),self.get_grams(targ, n, max_n=max_n)\n",
    "        pred_cnt,targ_cnt = Counter(pred_grams),Counter(targ_grams)\n",
    "        return sum([min(c, targ_cnt[g]) for g,c in pred_cnt.items()]),len(pred_grams)\n",
    "        \n",
    "    def accumulate(self, learn):\n",
    "        last_output = learn.pred.argmax(dim=self.axis)\n",
    "        last_target = learn.y\n",
    "        for pred,targ in zip(last_output.cpu().numpy(),last_target.cpu().numpy()):\n",
    "            self.pred_len += len(pred)\n",
    "            self.targ_len += len(targ)\n",
    "            smooth_mteval = 1\n",
    "            for i in range(4):\n",
    "                c,t = self.get_correct_ngrams(pred, targ, i+1, max_n=self.vocab_sz)\n",
    "\n",
    "                if c == 0:\n",
    "                    smooth_mteval *= 2\n",
    "                    c = 1 / smooth_mteval    # exp smoothing, method 3 from http://acl2014.org/acl2014/W14-33/pdf/W14-3346.pdf\n",
    "                \n",
    "                self.corrects[i] += c\n",
    "                self.counts[i]   += t\n",
    "        \n",
    "    @property\n",
    "    def value(self): \n",
    "        if self.counts == 0: return None\n",
    "        elif max(self.corrects) == 0: return 0.0\n",
    "        else:\n",
    "            precs = [c/t for c,t in zip(self.corrects,self.counts)]\n",
    "            len_penalty = math.exp(1 - self.targ_len/self.pred_len) if self.pred_len < self.targ_len else 1\n",
    "            return len_penalty * ((precs[0]*precs[1]*precs[2]*precs[3]) ** 0.25)"
   ]
  },
  {
   "cell_type": "markdown",
   "metadata": {},
   "source": [
    "### Callbacks\n",
    "\n",
    "#### Present Input and Target in a single tuple"
   ]
  },
  {
   "cell_type": "code",
   "execution_count": 35,
   "metadata": {},
   "outputs": [],
   "source": [
    "class CombineInputOutputCallback(Callback):\n",
    "    '''Callback to combine the input and target text into self.xb'''\n",
    "    def __init__(self): pass\n",
    "    def begin_batch(self): \n",
    "        self.learn.xb = (self.xb[0], self.yb[0])"
   ]
  },
  {
   "cell_type": "markdown",
   "metadata": {},
   "source": [
    "Shifting and masking of y, from [Annotated Transformer](http://nlp.seas.harvard.edu/2018/04/03/attention.html#training):\n",
    "\n",
    "> We also modify the self-attention sub-layer in the decoder stack to prevent positions from attending to subsequent positions. This masking, combined with fact that the output embeddings are offset by one position, ensures that the predictions for position i can depend only on the known outputs at positions less than i."
   ]
  },
  {
   "cell_type": "markdown",
   "metadata": {},
   "source": [
    "#### Shifting"
   ]
  },
  {
   "cell_type": "markdown",
   "metadata": {},
   "source": [
    "#### Target shift/offset explained\n",
    "\n",
    "**Taken from [@bentrevett's brilliant github repo \"pytorch-seq2seq\" tutorials](https://github.com/bentrevett/pytorch-seq2seq/blob/master/6%20-%20Attention%20is%20All%20You%20Need.ipynb):**\n",
    "\n",
    "As we want our model to predict the <eos> token but not have it be an input into our model we simply slice the <eos> token off the end of the sequence. Thus:\n",
    "\n",
    "$$\\begin{align*}\\text{trg} &= [sos, x_1, x_2, x_3, eos]\\\\\\text{trg[:-1]} &= [sos, x_1, x_2, x_3]\\end{align*}$$\n",
    "\n",
    "$x_i$ denotes **actual** target sequence element. We then feed this into the model to get a predicted sequence that should hopefully predict the <eos> token:\n",
    "\n",
    "$$\\begin{align*}\n",
    "\\text{output} &= [y_1, y_2, y_3, eos]\n",
    "\\end{align*}$$\n",
    "\n",
    "$y_i$ denotes **predicted** target sequence element. We then calculate our loss using the original trg tensor with the <sos> token sliced off the front, leaving the <eos> token:\n",
    "\n",
    "$$\\begin{align*} \\text{output} &= [y_1, y_2, y_3, eos]\\\\ \\text{trg[1:]} &= [x_1, x_2, x_3, eos] \\end{align*}$$\n",
    "\n",
    "We then calculate our losses and update our parameters as is standard.\n",
    "    \n",
    "    \n",
    "We don't want to punish the model for not translating the 'sos' token, but we do need it to predict/define the end of the sentence"
   ]
  },
  {
   "cell_type": "markdown",
   "metadata": {},
   "source": [
    "**RemoveEOSCallback** \n",
    "\n",
    "Cut the *EOS* token token from the **output_x** presented to the model as we are trying to predict the next word. Therefore don't want to model to try anything after the *EOS* token. So the last token given to the model will be the token before *EOS*. This callback is modifies the second element of our learn.xb, (which is the *copied* yb)\n",
    "\n",
    "But this should also ignore padding, as otherwise we'll be just cutting the last padding token and not the EOS"
   ]
  },
  {
   "cell_type": "code",
   "execution_count": 36,
   "metadata": {},
   "outputs": [],
   "source": [
    "class RemoveEOSCallback(Callback):\n",
    "    '''\n",
    "        Shift the target presented to the model during training to remove the \"eos\" token as \n",
    "        we don't want the model to learn to translate EOS. When it sees EOS.\n",
    "        \n",
    "        In practice we actually mask the EOS token as due to batching the last token will often be a <pad> token,\n",
    "        not EOS\n",
    "    '''\n",
    "    def __init__(self, eos_idx): self.eos_idx=eos_idx\n",
    "    def begin_batch(self):        \n",
    "        eos_mask=(self.learn.xb[1]!=self.eos_idx)\n",
    "        sz=torch.tensor(self.learn.xb[1].size())\n",
    "        sz[1]=sz[1]-1\n",
    "        self.learn.xb = (self.learn.xb[0], self.learn.xb[1][eos_mask].view((sz[0],sz[1])))"
   ]
  },
  {
   "cell_type": "markdown",
   "metadata": {},
   "source": [
    "**LossTargetShiftCallback:** Shift the target shown to the loss to exclude the \"eos\" token, as translating \"bos\" is not part of our language translation objective"
   ]
  },
  {
   "cell_type": "code",
   "execution_count": 37,
   "metadata": {},
   "outputs": [],
   "source": [
    "class LossTargetShiftCallback(Callback):\n",
    "    '''\n",
    "        Shift the target shown to the loss to exclude the \"bos\" token as the first token we want predicted\n",
    "        should be an actual word, not the \"bos\" token (as we have already given the model \"bos\" )\n",
    "    '''\n",
    "    def __init__(self): pass\n",
    "    def after_pred(self): \n",
    "        self.learn.yb = (self.learn.yb[0][:,1:],)"
   ]
  },
  {
   "cell_type": "markdown",
   "metadata": {},
   "source": [
    "### Model"
   ]
  },
  {
   "cell_type": "markdown",
   "metadata": {},
   "source": [
    "Transformer size from Annotated Transformer:\n",
    "\n",
    "N=6, d_model=512, d_ff=2048, h=8"
   ]
  },
  {
   "cell_type": "code",
   "execution_count": 38,
   "metadata": {
    "scrolled": true
   },
   "outputs": [],
   "source": [
    "pad_idx=1\n",
    "assert dls.vocab[1][pad_idx] == 'xxpad' \n",
    "n_x_vocab, n_y_vocab = len(dls.vocab[0]), len(dls.vocab[1])\n",
    "d_model=512\n",
    "n_heads=8 #12\n",
    "d_inner=2048  #1024\n",
    "\n",
    "#model = Transformer(n_x_vocab, n_y_vocab, d_model=d_model, n_heads=n_heads, pad_idx=pad_idx)\n",
    "\n",
    "model=pt_Transformer(src_vcbsz=n_x_vocab, trg_vcbsz=n_y_vocab, d_model=d_model, d_inner=d_inner)"
   ]
  },
  {
   "cell_type": "code",
   "execution_count": 39,
   "metadata": {},
   "outputs": [],
   "source": [
    "#model"
   ]
  },
  {
   "cell_type": "markdown",
   "metadata": {},
   "source": [
    "Kaiming_Normal works terrribly, at least if you apply it to everything except LayerNorm...\n",
    "\n",
    "DistilBERT works ok\n",
    "\n",
    "Could try xavier:\n",
    "\n",
    "```\n",
    "def initialize_weights(m):\n",
    "    if hasattr(m, 'weight') and m.weight.dim() > 1:\n",
    "        nn.init.xavier_uniform_(m.weight.data)\n",
    "\n",
    "model.apply(initialize_weights);\n",
    "```"
   ]
  },
  {
   "cell_type": "markdown",
   "metadata": {},
   "source": [
    "**DistilBERT initialisation**"
   ]
  },
  {
   "cell_type": "code",
   "execution_count": 40,
   "metadata": {},
   "outputs": [],
   "source": [
    "# DistilERT HF init weights https://github.com/huggingface/transformers/blob/31e67dd19f1b3fe2bc9a13f86d814f3f7bba48e4/src/transformers/modeling_distilbert.py\n",
    "\n",
    "def distil_apply_leaf(m, f):\n",
    "    \"Apply `f` to children of `m`.\"\n",
    "    c = m.children()\n",
    "    if isinstance(m, nn.Module): f(m)\n",
    "    for l in c: apply_leaf(l,f)\n",
    "\n",
    "\n",
    "def _distilbert_init_weights(module):\n",
    "    \"\"\" Initialize the weights.\n",
    "    \"\"\"\n",
    "    if isinstance(module, nn.Embedding):\n",
    "        if module.weight.requires_grad:\n",
    "            module.weight.data.normal_(mean=0.0, std=0.02) #std=self.config.initializer_range)\n",
    "    if isinstance(module, nn.Linear):\n",
    "        module.weight.data.normal_(mean=0.0, std=0.02) #self.config.initializer_range)\n",
    "    elif isinstance(module, nn.LayerNorm):\n",
    "        module.bias.data.zero_()\n",
    "        module.weight.data.fill_(1.0)\n",
    "    if isinstance(module, nn.Linear) and module.bias is not None:\n",
    "        module.bias.data.zero_()\n",
    "\n",
    "distil_apply_leaf(model, _distilbert_init_weights)"
   ]
  },
  {
   "cell_type": "code",
   "execution_count": 41,
   "metadata": {},
   "outputs": [
    {
     "name": "stdout",
     "output_type": "stream",
     "text": [
      "The model has 86,650,168 trainable parameters\n"
     ]
    }
   ],
   "source": [
    "def count_parameters(model):\n",
    "    return sum(p.numel() for p in model.parameters() if p.requires_grad)\n",
    "\n",
    "print(f'The model has {count_parameters(model):,} trainable parameters')"
   ]
  },
  {
   "cell_type": "markdown",
   "metadata": {},
   "source": [
    "### Learner"
   ]
  },
  {
   "cell_type": "code",
   "execution_count": 43,
   "metadata": {
    "scrolled": true
   },
   "outputs": [],
   "source": [
    "cbs = [CombineInputOutputCallback, RemoveEOSCallback(eos_idx=3), LossTargetShiftCallback]\n",
    "\n",
    "pad_idx=1\n",
    "assert dls.vocab[1][pad_idx] == 'xxpad' \n",
    "\n",
    "loss_func = CrossEntropyLossFlat(ignore_index=pad_idx)\n",
    "\n",
    "learn = Learner(dls, model, metrics=[accuracy, Perplexity(), CorpusBLEUMetric(vocab_sz=n_y_vocab)], \n",
    "                cbs=cbs, loss_func=loss_func).to_fp16()\n",
    "\n",
    "# learn = Learner(dls, model, metrics=[accuracy, Perplexity()],\n",
    "#                 cbs=cbs, loss_func=loss_func).to_fp16()"
   ]
  },
  {
   "cell_type": "markdown",
   "metadata": {},
   "source": [
    "# Training"
   ]
  },
  {
   "cell_type": "code",
   "execution_count": 44,
   "metadata": {},
   "outputs": [
    {
     "data": {
      "text/html": [],
      "text/plain": [
       "<IPython.core.display.HTML object>"
      ]
     },
     "metadata": {},
     "output_type": "display_data"
    },
    {
     "data": {
      "text/plain": [
       "SuggestedLRs(lr_min=0.09120108485221863, lr_steep=0.7585775852203369)"
      ]
     },
     "execution_count": 44,
     "metadata": {},
     "output_type": "execute_result"
    },
    {
     "data": {
      "image/png": "[encoded data removed]",
      "text/plain": [
       "<Figure size 432x288 with 1 Axes>"
      ]
     },
     "metadata": {
      "needs_background": "light"
     },
     "output_type": "display_data"
    }
   ],
   "source": [
    "learn.lr_find()"
   ]
  },
  {
   "cell_type": "code",
   "execution_count": 45,
   "metadata": {},
   "outputs": [
    {
     "data": {
      "text/html": [
       "<table border=\"1\" class=\"dataframe\">\n",
       "  <thead>\n",
       "    <tr style=\"text-align: left;\">\n",
       "      <th>epoch</th>\n",
       "      <th>train_loss</th>\n",
       "      <th>valid_loss</th>\n",
       "      <th>accuracy</th>\n",
       "      <th>perplexity</th>\n",
       "      <th>corpus_bleu</th>\n",
       "      <th>time</th>\n",
       "    </tr>\n",
       "  </thead>\n",
       "  <tbody>\n",
       "    <tr>\n",
       "      <td>0</td>\n",
       "      <td>1.737470</td>\n",
       "      <td>1.735670</td>\n",
       "      <td>0.505868</td>\n",
       "      <td>5.672728</td>\n",
       "      <td>0.341238</td>\n",
       "      <td>14:19</td>\n",
       "    </tr>\n",
       "    <tr>\n",
       "      <td>1</td>\n",
       "      <td>1.314091</td>\n",
       "      <td>1.349056</td>\n",
       "      <td>0.544238</td>\n",
       "      <td>3.853786</td>\n",
       "      <td>0.390208</td>\n",
       "      <td>14:36</td>\n",
       "    </tr>\n",
       "    <tr>\n",
       "      <td>2</td>\n",
       "      <td>1.083588</td>\n",
       "      <td>1.149825</td>\n",
       "      <td>0.569437</td>\n",
       "      <td>3.157641</td>\n",
       "      <td>0.426192</td>\n",
       "      <td>14:29</td>\n",
       "    </tr>\n",
       "    <tr>\n",
       "      <td>3</td>\n",
       "      <td>0.930475</td>\n",
       "      <td>1.080131</td>\n",
       "      <td>0.576922</td>\n",
       "      <td>2.945066</td>\n",
       "      <td>0.440672</td>\n",
       "      <td>14:55</td>\n",
       "    </tr>\n",
       "    <tr>\n",
       "      <td>4</td>\n",
       "      <td>0.834824</td>\n",
       "      <td>1.014957</td>\n",
       "      <td>0.586565</td>\n",
       "      <td>2.759245</td>\n",
       "      <td>0.455232</td>\n",
       "      <td>14:56</td>\n",
       "    </tr>\n",
       "    <tr>\n",
       "      <td>5</td>\n",
       "      <td>0.750972</td>\n",
       "      <td>0.963366</td>\n",
       "      <td>0.594916</td>\n",
       "      <td>2.620502</td>\n",
       "      <td>0.468841</td>\n",
       "      <td>14:25</td>\n",
       "    </tr>\n",
       "    <tr>\n",
       "      <td>6</td>\n",
       "      <td>0.678620</td>\n",
       "      <td>0.958166</td>\n",
       "      <td>0.595461</td>\n",
       "      <td>2.606910</td>\n",
       "      <td>0.474195</td>\n",
       "      <td>15:06</td>\n",
       "    </tr>\n",
       "    <tr>\n",
       "      <td>7</td>\n",
       "      <td>0.616270</td>\n",
       "      <td>0.924851</td>\n",
       "      <td>0.602025</td>\n",
       "      <td>2.521493</td>\n",
       "      <td>0.485946</td>\n",
       "      <td>14:42</td>\n",
       "    </tr>\n",
       "    <tr>\n",
       "      <td>8</td>\n",
       "      <td>0.509049</td>\n",
       "      <td>0.877889</td>\n",
       "      <td>0.608430</td>\n",
       "      <td>2.405816</td>\n",
       "      <td>0.495998</td>\n",
       "      <td>15:05</td>\n",
       "    </tr>\n",
       "    <tr>\n",
       "      <td>9</td>\n",
       "      <td>0.442716</td>\n",
       "      <td>0.870553</td>\n",
       "      <td>0.610859</td>\n",
       "      <td>2.388231</td>\n",
       "      <td>0.503087</td>\n",
       "      <td>14:40</td>\n",
       "    </tr>\n",
       "    <tr>\n",
       "      <td>10</td>\n",
       "      <td>0.375387</td>\n",
       "      <td>0.848246</td>\n",
       "      <td>0.615723</td>\n",
       "      <td>2.335547</td>\n",
       "      <td>0.510393</td>\n",
       "      <td>14:33</td>\n",
       "    </tr>\n",
       "    <tr>\n",
       "      <td>11</td>\n",
       "      <td>0.322196</td>\n",
       "      <td>0.844823</td>\n",
       "      <td>0.617132</td>\n",
       "      <td>2.327565</td>\n",
       "      <td>0.514219</td>\n",
       "      <td>14:46</td>\n",
       "    </tr>\n",
       "    <tr>\n",
       "      <td>12</td>\n",
       "      <td>0.294646</td>\n",
       "      <td>0.844075</td>\n",
       "      <td>0.617675</td>\n",
       "      <td>2.325826</td>\n",
       "      <td>0.517395</td>\n",
       "      <td>14:47</td>\n",
       "    </tr>\n",
       "    <tr>\n",
       "      <td>13</td>\n",
       "      <td>0.277888</td>\n",
       "      <td>0.839003</td>\n",
       "      <td>0.618936</td>\n",
       "      <td>2.314059</td>\n",
       "      <td>0.519518</td>\n",
       "      <td>14:33</td>\n",
       "    </tr>\n",
       "    <tr>\n",
       "      <td>14</td>\n",
       "      <td>0.267617</td>\n",
       "      <td>0.838497</td>\n",
       "      <td>0.619010</td>\n",
       "      <td>2.312888</td>\n",
       "      <td>0.519782</td>\n",
       "      <td>14:53</td>\n",
       "    </tr>\n",
       "  </tbody>\n",
       "</table>"
      ],
      "text/plain": [
       "<IPython.core.display.HTML object>"
      ]
     },
     "metadata": {},
     "output_type": "display_data"
    }
   ],
   "source": [
    "learn.fit_one_cycle(15, 5e-4, div=15, pct_start=0.15)"
   ]
  },
  {
   "cell_type": "code",
   "execution_count": 46,
   "metadata": {},
   "outputs": [
    {
     "data": {
      "image/png": "[encoded data removed]",
      "text/plain": [
       "<Figure size 432x288 with 1 Axes>"
      ]
     },
     "metadata": {
      "needs_background": "light"
     },
     "output_type": "display_data"
    }
   ],
   "source": [
    "learn.recorder.plot_loss()"
   ]
  },
  {
   "cell_type": "code",
   "execution_count": 47,
   "metadata": {},
   "outputs": [],
   "source": [
    "learn.save('paracrawl_en_ga_5e_5e-4_v0.2_exp6')"
   ]
  },
  {
   "cell_type": "markdown",
   "metadata": {},
   "source": [
    "### Testing"
   ]
  },
  {
   "cell_type": "code",
   "execution_count": 48,
   "metadata": {},
   "outputs": [
    {
     "data": {
      "text/html": [
       "<div>\n",
       "<style scoped>\n",
       "    .dataframe tbody tr th:only-of-type {\n",
       "        vertical-align: middle;\n",
       "    }\n",
       "\n",
       "    .dataframe tbody tr th {\n",
       "        vertical-align: top;\n",
       "    }\n",
       "\n",
       "    .dataframe thead th {\n",
       "        text-align: right;\n",
       "    }\n",
       "</style>\n",
       "<table border=\"1\" class=\"dataframe\">\n",
       "  <thead>\n",
       "    <tr style=\"text-align: right;\">\n",
       "      <th></th>\n",
       "      <th>ga_id</th>\n",
       "      <th>ga</th>\n",
       "      <th>en_id</th>\n",
       "      <th>en</th>\n",
       "      <th>ga_len</th>\n",
       "    </tr>\n",
       "  </thead>\n",
       "  <tbody>\n",
       "    <tr>\n",
       "      <th>0</th>\n",
       "      <td>557291</td>\n",
       "      <td>Cá bhfuil críochfort na mbus?</td>\n",
       "      <td>35406</td>\n",
       "      <td>Where is the bus terminal?</td>\n",
       "      <td>5</td>\n",
       "    </tr>\n",
       "    <tr>\n",
       "      <th>1</th>\n",
       "      <td>557299</td>\n",
       "      <td>Nuair a dhúisigh mé, bhí brón orm.</td>\n",
       "      <td>1361</td>\n",
       "      <td>When I woke up, I was sad.</td>\n",
       "      <td>7</td>\n",
       "    </tr>\n",
       "    <tr>\n",
       "      <th>2</th>\n",
       "      <td>557533</td>\n",
       "      <td>Tosaíonn an t-oideachas sa bhaile.</td>\n",
       "      <td>19122</td>\n",
       "      <td>Education starts at home.</td>\n",
       "      <td>5</td>\n",
       "    </tr>\n",
       "    <tr>\n",
       "      <th>3</th>\n",
       "      <td>557579</td>\n",
       "      <td>Táim i ngrá leat.</td>\n",
       "      <td>1434</td>\n",
       "      <td>I love you.</td>\n",
       "      <td>4</td>\n",
       "    </tr>\n",
       "    <tr>\n",
       "      <th>4</th>\n",
       "      <td>934942</td>\n",
       "      <td>Tá grá agam duit.</td>\n",
       "      <td>1434</td>\n",
       "      <td>I love you.</td>\n",
       "      <td>4</td>\n",
       "    </tr>\n",
       "  </tbody>\n",
       "</table>\n",
       "</div>"
      ],
      "text/plain": [
       "    ga_id                                  ga  en_id  \\\n",
       "0  557291       Cá bhfuil críochfort na mbus?  35406   \n",
       "1  557299  Nuair a dhúisigh mé, bhí brón orm.   1361   \n",
       "2  557533  Tosaíonn an t-oideachas sa bhaile.  19122   \n",
       "3  557579                   Táim i ngrá leat.   1434   \n",
       "4  934942                   Tá grá agam duit.   1434   \n",
       "\n",
       "                           en  ga_len  \n",
       "0  Where is the bus terminal?       5  \n",
       "1  When I woke up, I was sad.       7  \n",
       "2   Education starts at home.       5  \n",
       "3                 I love you.       4  \n",
       "4                 I love you.       4  "
      ]
     },
     "execution_count": 48,
     "metadata": {},
     "output_type": "execute_result"
    }
   ],
   "source": [
    "t_path = Path('data/irish/parallel_corpora/tatoeba')\n",
    "t_fn = 'tatoeba_en-ga.csv'\n",
    "t_df = pd.read_csv(t_path/t_fn)\n",
    "\n",
    "t_df['ga_len'] = t_df.ga.str.split().str.len()\n",
    "t_df.head()"
   ]
  },
  {
   "cell_type": "code",
   "execution_count": 49,
   "metadata": {
    "scrolled": true
   },
   "outputs": [],
   "source": [
    "# # at 30k tokens per vocab sometimes this works, sometimes it doesn't\n",
    "\n",
    "# # Couldnt process 30k tokens until I added the 'hi' below, it was getting stuck at 94.87%, no idea why\n",
    "# @Numericalize\n",
    "# def encodes(self, o): \n",
    "#     print('hi')\n",
    "#     return TensorText(tensor([self.o2i  [o_] for o_ in o]))\n",
    "\n",
    "# class floatify_tfm(Transform):\n",
    "#     def encodes(self,o): return o.float()\n",
    "#     def decodes(self,o): return o.long()\n",
    "\n",
    "# max_vocab=30000\n",
    "# #splits = ColSplitter()(df) \n",
    "# #splits = RandomSplitter(valid_pct=0.2, seed=42)(t_df)\n",
    "# splits = [list(range(len(t_df))),list(range(len(t_df)))]\n",
    "\n",
    "# # tfms = [[Tokenizer.from_df(text_cols='en' , rules=proc_rules), attrgetter(\"text\"), \n",
    "# #          Numericalize(max_vocab=max_vocab, vocab=dls.vocab[0])], \n",
    "# #        [Tokenizer.from_df(text_cols='ga', lang='ga', rules=proc_rules), attrgetter(\"text\"), \n",
    "# #         Numericalize(max_vocab=max_vocab, vocab=dls.vocab[1])]]\n",
    "\n",
    "# tfms = [[Tokenizer.from_df(text_cols='en' , rules=proc_rules), attrgetter(\"text\"), \n",
    "#          Numericalize(max_vocab=max_vocab, vocab=dls.vocab[0])],[]] \n",
    "\n",
    "# #t_dl = partial(SortedDL, shuffle=True, res=t_df.ga_len.values)\n",
    "\n",
    "# t_dsets = Datasets(t_df, tfms, splits=splits, dl_type=SortedDL)\n",
    "\n",
    "# # remove the print from Numericalize\n",
    "# @Numericalize\n",
    "# def encodes(self, o): return TensorText(tensor([self.o2i  [o_] for o_ in o]))\n",
    "\n",
    "# # Create Dataloaders\n",
    "# #t_dls = t_dsets.dataloaders(bs=bs, seq_len=sl, before_batch=partial(pad_input, pad_fields=[0,1]))\n",
    "# t_dls = t_dsets.dataloaders(bs=bs, seq_len=sl, before_batch=pad_input) # partial(pad_input, pad_fields=[0]))\n",
    "# t_dls.show_batch()"
   ]
  },
  {
   "cell_type": "code",
   "execution_count": 50,
   "metadata": {},
   "outputs": [],
   "source": [
    "# learn.dls.test_dl = t_dls.valid\n",
    "# def act_fn(x): return L(F.softmax(o, dim=-1) for o in x)\n",
    "# o = learn.get_preds(dl=t_dls.valid, act=act_fn)"
   ]
  },
  {
   "cell_type": "code",
   "execution_count": 49,
   "metadata": {},
   "outputs": [],
   "source": [
    "def generate(model, sentence, vocab):\n",
    "    #model = torch.load('output/transformer.pth')\n",
    "#     lang_model = spacy.load('en')\n",
    "#     with open('data/processed/en/freq_list.pkl', 'rb') as f:\n",
    "#         en_freq_list = pickle.load(f)\n",
    "#     with open('data/processed/fr/freq_list.pkl', 'rb') as f:\n",
    "#         fr_freq_list = pickle.load(f)\n",
    "    #sentence = input('Please enter your english sentence: ')\n",
    "    #sentence = tokenize(sentence, en_freq_list, lang_model)\n",
    "    \n",
    "    model=model.eval()\n",
    "    \n",
    "    sentence=learn.dls.tokenizer[0][1].encodes(sentence)\n",
    "    sentence=learn.dls.numericalize[0].encodes(sentence)\n",
    "    \n",
    "    translated_sentence = [2] # xxbos\n",
    "    #translated_sentence = [fr_freq_list['[SOS]']]\n",
    "    i = 0\n",
    "    while int(translated_sentence[-1]) != 3 and i < 75:   # xxeos\n",
    "    #while int(translated_sentence[-1]) != fr_freq_list['[EOS]'] and i < 15:\n",
    "        #output = forward_model(model, sentence, translated_sentence).to('cuda')\n",
    "        output = forward_model(model, sentence, translated_sentence).cuda()\n",
    "        values, indices = torch.topk(output, 5)\n",
    "        translated_sentence.append(int(indices[-1][0]))\n",
    "        i+=1\n",
    "\n",
    "    detok_translated_sentence=detokenize(translated_sentence, vocab)\n",
    "    #print(' '.join(detok_translated_sentence))\n",
    "    return ' '.join(detok_translated_sentence)\n",
    "    \n",
    "\n",
    "def forward_model(model, src, tgt):\n",
    "    src = torch.as_tensor(src).unsqueeze(0).long().cuda()\n",
    "    tgt = torch.as_tensor(tgt).unsqueeze(0).cuda()\n",
    "    tgt_mask = gen_nopeek_mask(tgt.shape[1]).cuda()\n",
    "    src = to_half(src)\n",
    "    tgt = to_half(tgt)\n",
    "    output = model.forward(src, tgt, tgt_mask=tgt_mask, src_key_padding_mask=None, tgt_key_padding_mask=None, memory_key_padding_mask=None)\n",
    "\n",
    "    #return output.squeeze(0).to('cpu')\n",
    "    return output.squeeze(0).detach()\n",
    "\n",
    "\n",
    "# def tokenize(sentence, freq_list, lang_model):\n",
    "#     punctuation = ['(', ')', ':', '\"', ' ']\n",
    "\n",
    "#     sentence = sentence.lower()\n",
    "#     sentence = [tok.text for tok in lang_model.tokenizer(sentence) if tok.text not in punctuation]\n",
    "#     return [freq_list[word] if word in freq_list else freq_list['[OOV]'] for word in sentence]\n",
    "\n",
    "\n",
    "def detokenize(sentence, vocab):\n",
    "    #freq_list = {v: k for k, v in freq_list.items()}\n",
    "    return [vocab[token] for token in sentence]\n",
    "    #return [freq_list[token] for token in sentence]\n",
    "# def detokenize(sentence, freq_list):\n",
    "#     freq_list = {v: k for k, v in freq_list.items()}\n",
    "#     return [freq_list[token] for token in sentence]\n",
    "\n",
    "\n",
    "def gen_nopeek_mask(length):\n",
    "    mask = rearrange(torch.triu(torch.ones(length, length)) == 1, 'h w -> w h')\n",
    "    mask = mask.float().masked_fill(mask == 0, float('-inf')).masked_fill(mask == 1, float(0.0))\n",
    "    return mask"
   ]
  },
  {
   "cell_type": "code",
   "execution_count": 50,
   "metadata": {},
   "outputs": [],
   "source": [
    "def process_trans(trans):\n",
    "    trans_ls=[]\n",
    "    for s in trans: \n",
    "        #print(s)\n",
    "        tmp = s.replace('xxbos','')\n",
    "        tmp = tmp.replace('xxeos','')\n",
    "        tmp = tmp.replace(' .','.')\n",
    "        tmp = tmp.replace(' ,',',')\n",
    "        tmp = tmp.replace(' ?','?')\n",
    "        tmp = tmp.replace(' !','!')\n",
    "        #print(tmp[0])\n",
    "        if tmp.endswith('. '): tmp=tmp[:-1]\n",
    "        if tmp.endswith('? '): tmp=tmp[:-1]\n",
    "        if tmp.endswith('! '): tmp=tmp[:-1]\n",
    "        \n",
    "        for spec in ['xxmaj ', 'xxup ']:\n",
    "            found=[]\n",
    "            for m in re.finditer(spec, tmp):\n",
    "                found.append(m.start())\n",
    "\n",
    "            for f in found:\n",
    "                m = tmp.find(spec)\n",
    "                if m != -1:   \n",
    "                    ml = m+len(spec)\n",
    "                    if m != 0:\n",
    "                        tmp = tmp[:ml] + tmp[ml].upper() + tmp[ml+1:]\n",
    "                        tmp = tmp[:m] + tmp[ml:]\n",
    "                    else: \n",
    "                        tmp = tmp[ml].upper() + tmp[ml+1:]\n",
    "                        tmp = tmp[ml:]\n",
    "        \n",
    "        # Remove space at start\n",
    "        if tmp[0] == ' ': tmp = tmp[1:]\n",
    "            \n",
    "        # Uppercase start of sentence\n",
    "        #tmp = tmp[0].upper() + tmp[1:]\n",
    "            \n",
    "        trans_ls.append(tmp)\n",
    "    return trans_ls"
   ]
  },
  {
   "cell_type": "markdown",
   "metadata": {},
   "source": [
    "Generate translations"
   ]
  },
  {
   "cell_type": "code",
   "execution_count": 51,
   "metadata": {},
   "outputs": [
    {
     "data": {
      "text/plain": [
       "'xxbos xxup tá mé réidh don deireadh seachtaine ! xxeos'"
      ]
     },
     "execution_count": 51,
     "metadata": {},
     "output_type": "execute_result"
    }
   ],
   "source": [
    "generate(learn.model, \"I'm ready for the weekend!\", dls.vocab[1])"
   ]
  },
  {
   "cell_type": "code",
   "execution_count": 52,
   "metadata": {
    "scrolled": true
   },
   "outputs": [
    {
     "data": {
      "text/plain": [
       "['xxbos i gcás gurb é an críochfort bus ? xxeos',\n",
       " 'xxbos xxmaj nuair a xxunk mé suas , bhí mé brónach . xxeos',\n",
       " 'xxbos xxmaj tosaíonn an t - oideachas sa bhaile . xxeos',\n",
       " 'xxbos xxmaj grá dom leat . xxeos',\n",
       " 'xxbos xxmaj grá dom leat . xxeos']"
      ]
     },
     "execution_count": 52,
     "metadata": {},
     "output_type": "execute_result"
    }
   ],
   "source": [
    "trans_ls=[]\n",
    "for e in t_df.en.values:\n",
    "    trans_ls.append(generate(learn.model, e, dls.vocab[1]))    \n",
    "trans_ls[:5]"
   ]
  },
  {
   "cell_type": "code",
   "execution_count": 53,
   "metadata": {},
   "outputs": [],
   "source": [
    "f=open('tatoeba_raw_translations_exp6_20200724.txt','w')\n",
    "for ele in trans_ls:\n",
    "    f.write(ele+'\\n')\n",
    "f.close()"
   ]
  },
  {
   "cell_type": "code",
   "execution_count": 54,
   "metadata": {},
   "outputs": [],
   "source": [
    "f=open('tatoeba_raw_translations_exp6_20200724.txt','w')\n",
    "for ele in trans_ls:\n",
    "    f.write(ele+'\\n')\n",
    "f.close()"
   ]
  },
  {
   "cell_type": "markdown",
   "metadata": {},
   "source": [
    "Process translations"
   ]
  },
  {
   "cell_type": "code",
   "execution_count": 55,
   "metadata": {
    "scrolled": true
   },
   "outputs": [
    {
     "data": {
      "text/plain": [
       "['i gcás gurb é an críochfort bus?',\n",
       " 'Nuair a xxunk mé suas, bhí mé brónach.',\n",
       " 'Tosaíonn an t - oideachas sa bhaile.',\n",
       " 'Grá dom leat.',\n",
       " 'Grá dom leat.',\n",
       " 'Tá mé i ngrá le leat.',\n",
       " 'Glan ár seomra ranga tar éis na scoile.',\n",
       " 'Nach bhfuil bhuail dúinn roimh?']"
      ]
     },
     "execution_count": 55,
     "metadata": {},
     "output_type": "execute_result"
    }
   ],
   "source": [
    "t_final = process_trans(trans_ls)\n",
    "t_final[:8]"
   ]
  },
  {
   "cell_type": "code",
   "execution_count": 56,
   "metadata": {},
   "outputs": [],
   "source": [
    "f=open('tatoeba_processed_translations_exp6_20200724.txt','w')\n",
    "for ele in t_final:\n",
    "    f.write(ele+'\\n')\n",
    "f.close()"
   ]
  },
  {
   "cell_type": "code",
   "execution_count": 57,
   "metadata": {},
   "outputs": [],
   "source": [
    "t_df['translation'] = t_final\n",
    "t_df.to_csv('tatoeba_with_translation_exp6_20200724.csv')"
   ]
  },
  {
   "cell_type": "code",
   "execution_count": 58,
   "metadata": {},
   "outputs": [
    {
     "data": {
      "text/html": [
       "<div>\n",
       "<style scoped>\n",
       "    .dataframe tbody tr th:only-of-type {\n",
       "        vertical-align: middle;\n",
       "    }\n",
       "\n",
       "    .dataframe tbody tr th {\n",
       "        vertical-align: top;\n",
       "    }\n",
       "\n",
       "    .dataframe thead th {\n",
       "        text-align: right;\n",
       "    }\n",
       "</style>\n",
       "<table border=\"1\" class=\"dataframe\">\n",
       "  <thead>\n",
       "    <tr style=\"text-align: right;\">\n",
       "      <th></th>\n",
       "      <th>ga</th>\n",
       "      <th>translation</th>\n",
       "    </tr>\n",
       "  </thead>\n",
       "  <tbody>\n",
       "    <tr>\n",
       "      <th>688</th>\n",
       "      <td>Tá an focal faire gearr.</td>\n",
       "      <td>Is é an pasfhocal gearr. Is é an pasfhocal xxunk.</td>\n",
       "    </tr>\n",
       "    <tr>\n",
       "      <th>654</th>\n",
       "      <td>Tá sibh ag léamh.</td>\n",
       "      <td>Tá tú ag léamh.</td>\n",
       "    </tr>\n",
       "    <tr>\n",
       "      <th>894</th>\n",
       "      <td>Oibreoidh sí.</td>\n",
       "      <td>Oibreoidh sí í. Oibreoidh sí í.</td>\n",
       "    </tr>\n",
       "    <tr>\n",
       "      <th>133</th>\n",
       "      <td>Ghearr sé é leis an scian a fuair sé mar bronntanas óna dheartháir.</td>\n",
       "      <td>Ghearradh sé leis an scian go bhfuair sé mar bhronntanas óna dheartháir.</td>\n",
       "    </tr>\n",
       "    <tr>\n",
       "      <th>1341</th>\n",
       "      <td>B'fhearr liom colscaradh a fháil.</td>\n",
       "      <td>Ba mhaith liom a fearr le colscaradh a fháil.</td>\n",
       "    </tr>\n",
       "    <tr>\n",
       "      <th>302</th>\n",
       "      <td>Rugadh i Meiriceá mé.</td>\n",
       "      <td>Rugadh i Meiriceá. Rugadh mé i Meiriceá.</td>\n",
       "    </tr>\n",
       "    <tr>\n",
       "      <th>1842</th>\n",
       "      <td>Gan dabht.</td>\n",
       "      <td>Níl amhras. gan amhras.</td>\n",
       "    </tr>\n",
       "    <tr>\n",
       "      <th>1014</th>\n",
       "      <td>Tá trucail agam.</td>\n",
       "      <td>Tá mé trucail.</td>\n",
       "    </tr>\n",
       "    <tr>\n",
       "      <th>345</th>\n",
       "      <td>Beidh sé ag cur sneachta amárach.</td>\n",
       "      <td>Beidh sé sneachta amárach.</td>\n",
       "    </tr>\n",
       "    <tr>\n",
       "      <th>1796</th>\n",
       "      <td>Tá mé ábalta é sin a dhéanamh anois</td>\n",
       "      <td>Tá mé in ann a dhéanamh go anois</td>\n",
       "    </tr>\n",
       "    <tr>\n",
       "      <th>144</th>\n",
       "      <td>Is é Colm an duine a cheap mé a chonaic mé.</td>\n",
       "      <td>Is Xxunk an duine a cheap mé. Xxunk mé.</td>\n",
       "    </tr>\n",
       "    <tr>\n",
       "      <th>200</th>\n",
       "      <td>Cheannaigh mé carr i nDoire inné.</td>\n",
       "      <td>Cheannaigh mé carr i ndoire inné.</td>\n",
       "    </tr>\n",
       "    <tr>\n",
       "      <th>1354</th>\n",
       "      <td>Fáilte chuig an Vicipéid.</td>\n",
       "      <td>Fáilte go dtí Wikipedia.</td>\n",
       "    </tr>\n",
       "    <tr>\n",
       "      <th>890</th>\n",
       "      <td>Bhí Tomás ag labhairt le Máire.</td>\n",
       "      <td>Bhí Tom ag labhairt le Mary.</td>\n",
       "    </tr>\n",
       "    <tr>\n",
       "      <th>1211</th>\n",
       "      <td>Is mian liom gol.</td>\n",
       "      <td>Ba mhaith liom caoin.</td>\n",
       "    </tr>\n",
       "    <tr>\n",
       "      <th>1088</th>\n",
       "      <td>Is altra mé.</td>\n",
       "      <td>Is altra mé.</td>\n",
       "    </tr>\n",
       "    <tr>\n",
       "      <th>1134</th>\n",
       "      <td>Bhí stoirm ann.</td>\n",
       "      <td>Bhí stoirm ann. Stoirm.</td>\n",
       "    </tr>\n",
       "    <tr>\n",
       "      <th>786</th>\n",
       "      <td>Róstfaidh mé feoil.</td>\n",
       "      <td>Beidh mé xxunk feoil.</td>\n",
       "    </tr>\n",
       "    <tr>\n",
       "      <th>1293</th>\n",
       "      <td>Táim ag foghlaim Gaeilge go mall.</td>\n",
       "      <td>Tá mé ag foghlaim go mall. Tá sé mall.</td>\n",
       "    </tr>\n",
       "    <tr>\n",
       "      <th>1893</th>\n",
       "      <td>Níl ocras orm.</td>\n",
       "      <td>Nach bhfuil mé ocras.</td>\n",
       "    </tr>\n",
       "  </tbody>\n",
       "</table>\n",
       "</div>"
      ],
      "text/plain": [
       "                                                                       ga  \\\n",
       "688                                              Tá an focal faire gearr.   \n",
       "654                                                     Tá sibh ag léamh.   \n",
       "894                                                         Oibreoidh sí.   \n",
       "133   Ghearr sé é leis an scian a fuair sé mar bronntanas óna dheartháir.   \n",
       "1341                                    B'fhearr liom colscaradh a fháil.   \n",
       "302                                                 Rugadh i Meiriceá mé.   \n",
       "1842                                                           Gan dabht.   \n",
       "1014                                                     Tá trucail agam.   \n",
       "345                                     Beidh sé ag cur sneachta amárach.   \n",
       "1796                                  Tá mé ábalta é sin a dhéanamh anois   \n",
       "144                           Is é Colm an duine a cheap mé a chonaic mé.   \n",
       "200                                     Cheannaigh mé carr i nDoire inné.   \n",
       "1354                                            Fáilte chuig an Vicipéid.   \n",
       "890                                       Bhí Tomás ag labhairt le Máire.   \n",
       "1211                                                    Is mian liom gol.   \n",
       "1088                                                         Is altra mé.   \n",
       "1134                                                      Bhí stoirm ann.   \n",
       "786                                                   Róstfaidh mé feoil.   \n",
       "1293                                    Táim ag foghlaim Gaeilge go mall.   \n",
       "1893                                                       Níl ocras orm.   \n",
       "\n",
       "                                                                   translation  \n",
       "688                          Is é an pasfhocal gearr. Is é an pasfhocal xxunk.  \n",
       "654                                                            Tá tú ag léamh.  \n",
       "894                                            Oibreoidh sí í. Oibreoidh sí í.  \n",
       "133   Ghearradh sé leis an scian go bhfuair sé mar bhronntanas óna dheartháir.  \n",
       "1341                             Ba mhaith liom a fearr le colscaradh a fháil.  \n",
       "302                                   Rugadh i Meiriceá. Rugadh mé i Meiriceá.  \n",
       "1842                                                   Níl amhras. gan amhras.  \n",
       "1014                                                            Tá mé trucail.  \n",
       "345                                                 Beidh sé sneachta amárach.  \n",
       "1796                                         Tá mé in ann a dhéanamh go anois   \n",
       "144                                    Is Xxunk an duine a cheap mé. Xxunk mé.  \n",
       "200                                          Cheannaigh mé carr i ndoire inné.  \n",
       "1354                                                  Fáilte go dtí Wikipedia.  \n",
       "890                                               Bhí Tom ag labhairt le Mary.  \n",
       "1211                                                     Ba mhaith liom caoin.  \n",
       "1088                                                              Is altra mé.  \n",
       "1134                                                   Bhí stoirm ann. Stoirm.  \n",
       "786                                                      Beidh mé xxunk feoil.  \n",
       "1293                                    Tá mé ag foghlaim go mall. Tá sé mall.  \n",
       "1893                                                     Nach bhfuil mé ocras.  "
      ]
     },
     "execution_count": 58,
     "metadata": {},
     "output_type": "execute_result"
    }
   ],
   "source": [
    "t_df[['ga','translation']].sample(20)"
   ]
  },
  {
   "cell_type": "markdown",
   "metadata": {},
   "source": [
    "## SacreBLEU"
   ]
  },
  {
   "cell_type": "code",
   "execution_count": 59,
   "metadata": {
    "scrolled": true
   },
   "outputs": [
    {
     "name": "stdout",
     "output_type": "stream",
     "text": [
      "21.25902031648537\n"
     ]
    }
   ],
   "source": [
    "import sacrebleu\n",
    "\n",
    "refs = [t_df.ga.values.tolist()]\n",
    "sys = t_df.translation.values.tolist()\n",
    "\n",
    "bleu = sacrebleu.corpus_bleu(sys, refs)\n",
    "print(bleu.score)"
   ]
  },
  {
   "cell_type": "markdown",
   "metadata": {},
   "source": [
    "## 5e results"
   ]
  },
  {
   "cell_type": "code",
   "execution_count": 63,
   "metadata": {
    "scrolled": true
   },
   "outputs": [
    {
     "data": {
      "text/plain": [
       "'xxbos xxmaj an xxmaj chéad xxmaj lch. xxmaj lch. xxmaj roimhe xxmaj seo ( cuid xxup ii . xxmaj custaim agus xxmaj mál . ) xxeos'"
      ]
     },
     "execution_count": 63,
     "metadata": {},
     "output_type": "execute_result"
    }
   ],
   "source": [
    "generate(learn.model, \"hello, how are you?\", dls.vocab[1])"
   ]
  },
  {
   "cell_type": "code",
   "execution_count": 64,
   "metadata": {},
   "outputs": [
    {
     "data": {
      "text/plain": [
       "'xxbos xxmaj an xxmaj chéad xxmaj lch. xxmaj lch. xxmaj roimhe xxmaj seo ( cuid xxup ii . xxmaj custaim agus xxmaj mál . ) xxeos'"
      ]
     },
     "execution_count": 64,
     "metadata": {},
     "output_type": "execute_result"
    }
   ],
   "source": [
    "generate(learn.model, \"Can you tell we where the bus station is please?\", dls.vocab[1])"
   ]
  },
  {
   "cell_type": "code",
   "execution_count": 65,
   "metadata": {},
   "outputs": [
    {
     "data": {
      "text/plain": [
       "'xxbos xxmaj an xxmaj chéad xxmaj lch. xxmaj lch. xxmaj roimhe xxmaj seo ( cuid xxup ii . xxmaj custaim agus xxmaj mál . ) xxeos'"
      ]
     },
     "execution_count": 65,
     "metadata": {},
     "output_type": "execute_result"
    }
   ],
   "source": [
    "generate(learn.model, \"Yesterday it rained, but tomorrow will be very sunny\", dls.vocab[1])"
   ]
  },
  {
   "cell_type": "code",
   "execution_count": 66,
   "metadata": {},
   "outputs": [
    {
     "data": {
      "text/plain": [
       "'xxbos xxmaj an xxmaj chéad xxmaj lch. xxmaj lch. xxmaj roimhe xxmaj seo ( cuid xxup ii . xxmaj custaim agus xxmaj mál . ) xxeos'"
      ]
     },
     "execution_count": 66,
     "metadata": {},
     "output_type": "execute_result"
    }
   ],
   "source": [
    "generate(learn.model, \"I had a great day, my translator is working\", dls.vocab[1])"
   ]
  },
  {
   "cell_type": "code",
   "execution_count": 67,
   "metadata": {},
   "outputs": [
    {
     "data": {
      "text/plain": [
       "'xxbos xxmaj an xxmaj chéad xxmaj lch. xxmaj lch. xxmaj roimhe xxmaj seo ( cuid xxup ii . xxmaj custaim agus xxmaj mál . ) xxeos'"
      ]
     },
     "execution_count": 67,
     "metadata": {},
     "output_type": "execute_result"
    }
   ],
   "source": [
    "generate(learn.model, \"So this is a story all about how my lift got flip turned \\\n",
    "upside down, so I'd like to take a minute just sit right there, I'll you all about how I became the fresh prince\\\n",
    "of belair\", dls.vocab[1])"
   ]
  },
  {
   "cell_type": "code",
   "execution_count": 68,
   "metadata": {},
   "outputs": [
    {
     "data": {
      "text/plain": [
       "'xxbos xxmaj an xxmaj chéad xxmaj lch. xxmaj lch. xxmaj roimhe xxmaj seo ( cuid xxup ii . xxmaj custaim agus xxmaj mál . ) xxeos'"
      ]
     },
     "execution_count": 68,
     "metadata": {},
     "output_type": "execute_result"
    }
   ],
   "source": [
    "generate(learn.model, \"dog\", dls.vocab[1])"
   ]
  },
  {
   "cell_type": "code",
   "execution_count": 69,
   "metadata": {},
   "outputs": [
    {
     "data": {
      "text/plain": [
       "'xxbos xxmaj an xxmaj chéad xxmaj lch. xxmaj lch. xxmaj roimhe xxmaj seo ( cuid xxup ii . xxmaj custaim agus xxmaj mál . ) xxeos'"
      ]
     },
     "execution_count": 69,
     "metadata": {},
     "output_type": "execute_result"
    }
   ],
   "source": [
    "generate(learn.model, \"cat\", dls.vocab[1])"
   ]
  },
  {
   "cell_type": "code",
   "execution_count": 70,
   "metadata": {},
   "outputs": [
    {
     "data": {
      "text/plain": [
       "'xxbos xxmaj an xxmaj chéad xxmaj lch. xxmaj lch. xxmaj roimhe xxmaj seo ( cuid xxup ii . xxmaj custaim agus xxmaj mál . ) xxeos'"
      ]
     },
     "execution_count": 70,
     "metadata": {},
     "output_type": "execute_result"
    }
   ],
   "source": [
    "generate(learn.model, \"tree\", dls.vocab[1])"
   ]
  },
  {
   "cell_type": "code",
   "execution_count": 71,
   "metadata": {},
   "outputs": [
    {
     "data": {
      "text/plain": [
       "'xxbos xxmaj an xxmaj chéad xxmaj lch. xxmaj lch. xxmaj roimhe xxmaj seo ( cuid xxup ii . xxmaj custaim agus xxmaj mál . ) xxeos'"
      ]
     },
     "execution_count": 71,
     "metadata": {},
     "output_type": "execute_result"
    }
   ],
   "source": [
    "generate(learn.model, \"building\", dls.vocab[1])"
   ]
  },
  {
   "cell_type": "code",
   "execution_count": 72,
   "metadata": {},
   "outputs": [
    {
     "data": {
      "text/plain": [
       "'xxbos xxmaj an xxmaj chéad xxmaj lch. xxmaj lch. xxmaj roimhe xxmaj seo ( cuid xxup ii . xxmaj custaim agus xxmaj mál . ) xxeos'"
      ]
     },
     "execution_count": 72,
     "metadata": {},
     "output_type": "execute_result"
    }
   ],
   "source": [
    "generate(learn.model, \"city\", dls.vocab[1])"
   ]
  },
  {
   "cell_type": "code",
   "execution_count": 73,
   "metadata": {},
   "outputs": [
    {
     "data": {
      "text/plain": [
       "'xxbos xxmaj an xxmaj chéad xxmaj lch. xxmaj lch. xxmaj roimhe xxmaj seo ( cuid xxup ii . xxmaj custaim agus xxmaj mál . ) xxeos'"
      ]
     },
     "execution_count": 73,
     "metadata": {},
     "output_type": "execute_result"
    }
   ],
   "source": [
    "generate(learn.model, \"woman\", dls.vocab[1])"
   ]
  },
  {
   "cell_type": "code",
   "execution_count": 74,
   "metadata": {},
   "outputs": [
    {
     "data": {
      "text/plain": [
       "'xxbos xxmaj an xxmaj chéad xxmaj lch. xxmaj lch. xxmaj roimhe xxmaj seo ( cuid xxup ii . xxmaj custaim agus xxmaj mál . ) xxeos'"
      ]
     },
     "execution_count": 74,
     "metadata": {},
     "output_type": "execute_result"
    }
   ],
   "source": [
    "generate(learn.model, \"man\", dls.vocab[1])"
   ]
  },
  {
   "cell_type": "code",
   "execution_count": 75,
   "metadata": {},
   "outputs": [
    {
     "data": {
      "text/plain": [
       "'xxbos xxmaj an xxmaj chéad xxmaj lch. xxmaj lch. xxmaj roimhe xxmaj seo ( cuid xxup ii . xxmaj custaim agus xxmaj mál . ) xxeos'"
      ]
     },
     "execution_count": 75,
     "metadata": {},
     "output_type": "execute_result"
    }
   ],
   "source": [
    "generate(learn.model, \"chocolate\", dls.vocab[1])"
   ]
  },
  {
   "cell_type": "code",
   "execution_count": 76,
   "metadata": {},
   "outputs": [
    {
     "data": {
      "text/plain": [
       "'xxbos xxmaj an xxmaj chéad xxmaj lch. xxmaj lch. xxmaj roimhe xxmaj seo ( cuid xxup ii . xxmaj custaim agus xxmaj mál . ) xxeos'"
      ]
     },
     "execution_count": 76,
     "metadata": {},
     "output_type": "execute_result"
    }
   ],
   "source": [
    "generate(learn.model, \"spaceship\", dls.vocab[1])"
   ]
  },
  {
   "cell_type": "code",
   "execution_count": null,
   "metadata": {},
   "outputs": [],
   "source": []
  },
  {
   "cell_type": "code",
   "execution_count": null,
   "metadata": {},
   "outputs": [],
   "source": [
    "# https://forums.fast.ai/t/fastai-v2-text/53529/334\n",
    "from fastai2.text.all import *\n",
    "\n",
    "defaults.device = torch.device('cpu')\n",
    "path = Path('.')\n",
    "learner = load_learner(\"./export.pkl\")\n",
    "\n",
    "f = open(\"/tmp/test.txt\", \"r\")\n",
    "test_file_contents = f.read()\n",
    "\n",
    "_, _, losses = learner.predict(test_file_contents)\n",
    "cats = [learner.dls.categorize.decode(i) for i in range(len(losses))]\n",
    "\n",
    "predictions = sorted(\n",
    "    zip(cats, map(float, losses)),\n",
    "    key=lambda p: p[1],\n",
    "    reverse=True\n",
    ")\n",
    "print(predictions)\n",
    "\n",
    "# OR\n",
    "\n",
    "items = pd.read_csv(\"/tmp/test.txt\", sep = '\\t')\n",
    "test_dl = learner.dls.test_dl(items.values)\n",
    "\n",
    "learner.get_preds(dl=test_dl, with_decoded=False)"
   ]
  },
  {
   "cell_type": "code",
   "execution_count": null,
   "metadata": {},
   "outputs": [],
   "source": []
  }
 ],
 "metadata": {
  "kernelspec": {
   "display_name": "Python 3",
   "language": "python",
   "name": "python3"
  },
  "language_info": {
   "codemirror_mode": {
    "name": "ipython",
    "version": 3
   },
   "file_extension": ".py",
   "mimetype": "text/x-python",
   "name": "python",
   "nbconvert_exporter": "python",
   "pygments_lexer": "ipython3",
   "version": "3.7.6"
  }
 },
 "nbformat": 4,
 "nbformat_minor": 2
}
